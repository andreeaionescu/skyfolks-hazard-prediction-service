{
 "cells": [
  {
   "cell_type": "markdown",
   "metadata": {},
   "source": [
    "# Hazard Predictions\n",
    "\n",
    "## The Challenge \n",
    "\n",
    "### Automatic Hazard Detection  on Transverse Cirrus Bands (TCB)\n",
    "#### Hurricanes | Tunderstorms | Atmospheric jets\n",
    "\n",
    "TCBs are bands of clouds oriented perpendicular to the atmospheric flow in which they are embedded. TCBs are often an indicator of strong turbulence and often associated with severe weather such as hurricanes and thunderstorms or atmospheric jets.\n",
    "\n",
    "Transverse Cirrus Bands Data: s3://impact-datashare/transverse_bands/\n",
    "        \n",
    "        "
   ]
  },
  {
   "cell_type": "markdown",
   "metadata": {},
   "source": [
    "### Imports"
   ]
  },
  {
   "cell_type": "code",
   "execution_count": 14,
   "metadata": {},
   "outputs": [
    {
     "ename": "ModuleNotFoundError",
     "evalue": "No module named 'rasterio'",
     "output_type": "error",
     "traceback": [
      "\u001b[1;31m---------------------------------------------------------------------------\u001b[0m",
      "\u001b[1;31mModuleNotFoundError\u001b[0m                       Traceback (most recent call last)",
      "\u001b[1;32m<ipython-input-14-d0699749349a>\u001b[0m in \u001b[0;36m<module>\u001b[1;34m()\u001b[0m\n\u001b[0;32m      1\u001b[0m \u001b[1;32mimport\u001b[0m \u001b[0mnumpy\u001b[0m \u001b[1;32mas\u001b[0m \u001b[0mnp\u001b[0m\u001b[1;33m\u001b[0m\u001b[0m\n\u001b[0;32m      2\u001b[0m \u001b[1;32mimport\u001b[0m \u001b[0mnumpy\u001b[0m\u001b[1;33m.\u001b[0m\u001b[0mma\u001b[0m \u001b[1;32mas\u001b[0m \u001b[0mma\u001b[0m\u001b[1;33m\u001b[0m\u001b[0m\n\u001b[1;32m----> 3\u001b[1;33m \u001b[1;32mimport\u001b[0m \u001b[0mrasterio\u001b[0m\u001b[1;33m\u001b[0m\u001b[0m\n\u001b[0m\u001b[0;32m      4\u001b[0m \u001b[1;32mimport\u001b[0m \u001b[0mcv2\u001b[0m\u001b[1;33m\u001b[0m\u001b[0m\n\u001b[0;32m      5\u001b[0m \u001b[1;32mimport\u001b[0m \u001b[0mtensorflow\u001b[0m \u001b[1;32mas\u001b[0m \u001b[0mtf\u001b[0m\u001b[1;33m\u001b[0m\u001b[0m\n",
      "\u001b[1;31mModuleNotFoundError\u001b[0m: No module named 'rasterio'"
     ]
    }
   ],
   "source": [
    "import numpy as np\n",
    "import numpy.ma as ma\n",
    "import rasterio\n",
    "import cv2\n",
    "import tensorflow as tf\n",
    "import tensorflow.keras.backend as K\n",
    "import imgaug as ia\n",
    "import matplotlib.pyplot as plt\n",
    "\n",
    "from PIL import Image\n",
    "from glob import glob\n",
    "from imgaug import augmenters as iaa\n",
    "\n",
    "from tensorflow.keras.preprocessing.image import ImageDataGenerator\n",
    "from IPython.display import clear_output\n",
    "from tensorflow.keras.optimizers import Adam\n",
    "from tensorflow.keras.models import Model, load_model\n",
    "from tensorflow.keras.callbacks import (\n",
    "    EarlyStopping,\n",
    "    ModelCheckpoint,\n",
    ")\n",
    "from tensorflow.keras.layers import (\n",
    "    Input,\n",
    "    Dense,\n",
    "    Conv2D,\n",
    "    UpSampling2D,\n",
    "    MaxPooling2D,\n",
    "    Dropout,\n",
    "    concatenate,\n",
    "    Conv2DTranspose,\n",
    "    BatchNormalization,\n",
    "    Flatten\n",
    ")\n",
    "\n",
    "ia.seed(2)"
   ]
  },
  {
   "cell_type": "markdown",
   "metadata": {},
   "source": [
    "##### Install rasterio package Journey\n",
    "\n",
    "1.Pre-required\n",
    "```\n",
    "pip install wheel\n",
    "pip install pipwin\n",
    "\n",
    "pipwin install numpy\n",
    "pipwin install pandas\n",
    "pipwin install shapely\n",
    "pipwin install gdal\n",
    "pipwin install fiona\n",
    "pipwin install pyproj\n",
    "pipwin install six\n",
    "pipwin install rtree\n",
    "\n",
    "pip install --user geopandas\n",
    "```\n",
    "\n",
    "2.Second install Fiona\n",
    "Download Fiona distribution https://www.lfd.uci.edu/~gohlke/pythonlibs/#fiona\n",
    "```\n",
    "pip install C:\\Users\\libs\\Fiona-1.8.17-cp39-cp39-win_amd64.whl\n",
    "```\n",
    "\n",
    "3.And finally\n",
    "\n",
    "<code>pip install --user rasterio</code>\n",
    "\n",
    "\n",
    "4.Still errors.....\n",
    "\n",
    "\n",
    "<code>ERROR: A GDAL API version must be specified. Provide a path to gdal-config using a GDAL_CONFIG environment variable or use a GDAL_VERSION environment variable.\n",
    "</code>\n",
    "\n",
    "\n",
    "5.Try Removing gdal and instal geopandas.\n",
    "\n",
    "<code>conda remove gdal</code>\n",
    "\n",
    "<code>conda install geopandas</code>\n",
    "\n",
    "\n",
    "\n",
    "Stuck at installing numba -> \n",
    "\n",
    "<code>defaults/win-64::numba==0.36.2=np114py36h12cb543_0</code>\n",
    "\n",
    "\n",
    "\n",
    "\n",
    "6.Create new conda environment\n",
    "\n",
    "<code>conda create --name skyfolks-env</code>\n",
    "\n",
    "<code>conda activate myenv</code>\n",
    "\n",
    "<code>conda install -c conda-forge geopandas</code>\n",
    "\n",
    "Still failing....\n",
    "\n",
    "\n",
    "\n",
    "\n",
    "7. Reboot and Clean everything \n",
    "\n",
    "<code>conda clean --all</code> \n",
    "\n",
    "<code>conda update --all</code>"
   ]
  },
  {
   "cell_type": "code",
   "execution_count": 15,
   "metadata": {},
   "outputs": [
    {
     "name": "stdout",
     "output_type": "stream",
     "text": [
      "Collecting rasterio\n",
      "  Using cached rasterio-1.1.7.tar.gz (2.1 MB)\n",
      "  Installing build dependencies: started\n",
      "  Installing build dependencies: finished with status 'done'\n",
      "  Getting requirements to build wheel: started\n",
      "  Getting requirements to build wheel: finished with status 'error'\n"
     ]
    },
    {
     "name": "stderr",
     "output_type": "stream",
     "text": [
      "  ERROR: Command errored out with exit status 1:\n",
      "   command: 'c:\\programdata\\anaconda3\\python.exe' 'c:\\programdata\\anaconda3\\lib\\site-packages\\pip\\_vendor\\pep517\\_in_process.py' get_requires_for_build_wheel 'C:\\Users\\vlada\\AppData\\Local\\Temp\\tmp4cp6zdb6'\n",
      "       cwd: C:\\Users\\vlada\\AppData\\Local\\Temp\\pip-install-d1xhx94j\\rasterio\n",
      "  Complete output (2 lines):\n",
      "  INFO:root:Building on Windows requires extra options to setup.py to locate needed GDAL files. More information is available in the README.\n",
      "  ERROR: A GDAL API version must be specified. Provide a path to gdal-config using a GDAL_CONFIG environment variable or use a GDAL_VERSION environment variable.\n",
      "  ----------------------------------------\n",
      "ERROR: Command errored out with exit status 1: 'c:\\programdata\\anaconda3\\python.exe' 'c:\\programdata\\anaconda3\\lib\\site-packages\\pip\\_vendor\\pep517\\_in_process.py' get_requires_for_build_wheel 'C:\\Users\\vlada\\AppData\\Local\\Temp\\tmp4cp6zdb6' Check the logs for full command output.\n"
     ]
    }
   ],
   "source": [
    "!pip install --user rasterio"
   ]
  },
  {
   "cell_type": "code",
   "execution_count": null,
   "metadata": {},
   "outputs": [],
   "source": [
    "input_size = 256\n",
    "n_channels = 3\n",
    "model_save_path = 'test_model.h5'"
   ]
  },
  {
   "cell_type": "markdown",
   "metadata": {},
   "source": [
    "###  Reading Data"
   ]
  },
  {
   "cell_type": "markdown",
   "metadata": {},
   "source": [
    "REUSE dataset generator and augmentations from Examples\n",
    "Link: https://github.com/nasa/spaceapps-phenomena_detection/blob/dev/examples/ml_model_demo_1.ipynb\n",
    "\n",
    "Apply the logic to the Hurricane Dataset | Transverse Cirrus Bands (TCB)\n",
    "\n",
    "\n",
    "This is used to push subsets of input images in memory for Keras so that there is no out of memory error during Training phase"
   ]
  },
  {
   "cell_type": "code",
   "execution_count": 5,
   "metadata": {},
   "outputs": [
    {
     "ename": "ModuleNotFoundError",
     "evalue": "No module named 'rasterio'",
     "output_type": "error",
     "traceback": [
      "\u001b[1;31m---------------------------------------------------------------------------\u001b[0m",
      "\u001b[1;31mModuleNotFoundError\u001b[0m                       Traceback (most recent call last)",
      "\u001b[1;32m<ipython-input-5-d0699749349a>\u001b[0m in \u001b[0;36m<module>\u001b[1;34m()\u001b[0m\n\u001b[0;32m      1\u001b[0m \u001b[1;32mimport\u001b[0m \u001b[0mnumpy\u001b[0m \u001b[1;32mas\u001b[0m \u001b[0mnp\u001b[0m\u001b[1;33m\u001b[0m\u001b[0m\n\u001b[0;32m      2\u001b[0m \u001b[1;32mimport\u001b[0m \u001b[0mnumpy\u001b[0m\u001b[1;33m.\u001b[0m\u001b[0mma\u001b[0m \u001b[1;32mas\u001b[0m \u001b[0mma\u001b[0m\u001b[1;33m\u001b[0m\u001b[0m\n\u001b[1;32m----> 3\u001b[1;33m \u001b[1;32mimport\u001b[0m \u001b[0mrasterio\u001b[0m\u001b[1;33m\u001b[0m\u001b[0m\n\u001b[0m\u001b[0;32m      4\u001b[0m \u001b[1;32mimport\u001b[0m \u001b[0mcv2\u001b[0m\u001b[1;33m\u001b[0m\u001b[0m\n\u001b[0;32m      5\u001b[0m \u001b[1;32mimport\u001b[0m \u001b[0mtensorflow\u001b[0m \u001b[1;32mas\u001b[0m \u001b[0mtf\u001b[0m\u001b[1;33m\u001b[0m\u001b[0m\n",
      "\u001b[1;31mModuleNotFoundError\u001b[0m: No module named 'rasterio'"
     ]
    }
   ],
   "source": [
    "\n",
    "\n",
    "class UnetGenerator(tf.keras.utils.Sequence):\n",
    "    'Generates data for Keras'\n",
    "\n",
    "    def __init__(self, data_path,\n",
    "                 to_fit=True, batch_size=1, dim=(256, 256),\n",
    "                 n_channels=3, shuffle=True, augment=True):\n",
    "        'Initialization'\n",
    "        self.data_path = data_path\n",
    "        self.tif_list = []\n",
    "        self.mask_list = []\n",
    "        for filename in glob(f'{data_path}*.tif*'):\n",
    "            self.tif_list.append(filename)\n",
    "\n",
    "        self.to_fit = to_fit\n",
    "        self.augment = augment\n",
    "        self.batch_size = batch_size\n",
    "        self.dim = dim\n",
    "        self.n_channels = n_channels\n",
    "        self.shuffle = shuffle\n",
    "        self.n = 0\n",
    "        self.max = self.__len__()\n",
    "        self.on_epoch_end()\n",
    "\n",
    "    def __len__(self):\n",
    "        'Denotes the number of batches per epoch'\n",
    "        return int(np.floor(len(self.tif_list) / self.batch_size))\n",
    "\n",
    "    def on_epoch_end(self):\n",
    "        'Updates indexes after each epoch'\n",
    "        self.indexes = np.arange(len(self.tif_list))\n",
    "        if self.shuffle is True:\n",
    "            np.random.shuffle(self.indexes)\n",
    "\n",
    "    def __getitem__(self, index):\n",
    "        'Generate one batch of data'\n",
    "        # Generate indexes of the batch\n",
    "        indexes = self.indexes[index *\n",
    "                               self.batch_size: (index + 1) * self.batch_size]\n",
    "\n",
    "        # Find list of IDs\n",
    "        tif_list_temp = [self.tif_list[k] for k in indexes]\n",
    "\n",
    "        # Generate data\n",
    "        X = self._generate_X(tif_list_temp)\n",
    "\n",
    "        #  preprocess and augment data\n",
    "\n",
    "        if self.to_fit:\n",
    "            y = self._generate_y(tif_list_temp)\n",
    "\n",
    "            if self.augment:\n",
    "                seq = make_augmentations()\n",
    "                images_aug = list()\n",
    "                labels_aug = list()\n",
    "                for i in range(len(X)):\n",
    "                    image, label = seq(\n",
    "                        image=X[i].astype('float32'),\n",
    "                        segmentation_maps=np.expand_dims(\n",
    "                            y[i], 0).astype('uint8')\n",
    "                    )\n",
    "                    images_aug.append(image)\n",
    "                    labels_aug.append(label[0, :, :, :])\n",
    "\n",
    "                return np.array(images_aug), np.array(labels_aug)\n",
    "            else:\n",
    "                # import ipdb; ipdb.set_trace()\n",
    "                return X, y[:,:,:,0]\n",
    "\n",
    "        else:\n",
    "            return X\n",
    "\n",
    "    def _generate_X(self, tif_list_temp):\n",
    "        'Generates data containing batch_size images'\n",
    "        # Initialization\n",
    "        X = np.empty((self.batch_size, *self.dim, self.n_channels))\n",
    "\n",
    "        # Generate data\n",
    "        for i, ID in enumerate(tif_list_temp):\n",
    "            # Store sample\n",
    "            X[i, ] = _load_tif_image(ID, self.dim)\n",
    "\n",
    "        return X\n",
    "\n",
    "    def _generate_y(self, tif_list_temp):\n",
    "        'Generates data containing batch_size masks'\n",
    "        y = np.empty((self.batch_size, *self.dim, 1), dtype='float32')\n",
    "\n",
    "        # Generate data\n",
    "        for i, ID in enumerate(tif_list_temp):\n",
    "            # replace tif/tiff with the _bitmap.png or .bmp, depending on the dataset\n",
    "            # to look for corresponding masks for the imput images\n",
    "            y[i, ] = _load_grayscale_image(ID.replace(\n",
    "                '.tiff', '_bitmap.png'), self.dim\n",
    "            )\n",
    "\n",
    "        return y\n",
    "\n",
    "    def __next__(self):\n",
    "        if self.n >= self.max:\n",
    "            self.n = 0\n",
    "        result = self.__getitem__(self.n)\n",
    "        self.n += 1\n",
    "        return result\n",
    "\n",
    "\n",
    "def _load_grayscale_image(image_path, dim):\n",
    "    'Load grayscale image'\n",
    "    img = cv2.imread(image_path)\n",
    "    img = cv2.cvtColor(img, cv2.COLOR_BGR2GRAY)\n",
    "    img = img / 255\n",
    "\n",
    "    return np.expand_dims(cv2.resize(img, dim), -1)\n",
    "\n",
    "\n",
    "def _load_tif_image(image_path, dim):\n",
    "    'load tif image'\n",
    "\n",
    "    with rasterio.open(image_path, 'r') as data:\n",
    "        return cv2.resize(\n",
    "            np.moveaxis(data.read(), 0, -1), dim\n",
    "        )\n",
    "\n",
    "\n",
    "def sometimes(aug):\n",
    "    return iaa.Sometimes(0.5, aug)\n",
    "\n",
    "def make_augmentations():\n",
    "\n",
    "    return iaa.Sequential([\n",
    "        sometimes(iaa.CoarseDropout(0.1, size_percent=0.2)),\n",
    "        sometimes(\n",
    "            iaa.Affine(\n",
    "                scale={\"x\": (0.9, 1.1), \"y\": (0.9, 1.1)},\n",
    "                # scale images to 80-120% of their size,\n",
    "                # individually per axis\n",
    "                translate_percent={\n",
    "                    \"x\": (-0.1, 0.1), \"y\": (-0.1, 0.1)},\n",
    "                # translate by -20 to +20 percent (per axis)\n",
    "                # rotate by -45 to +45 degrees\n",
    "                rotate=(-10, 10),\n",
    "                shear=(-5, 5),  # shear by -16 to +16 degrees\n",
    "            ),\n",
    "        ),\n",
    "        sometimes(iaa.ElasticTransformation(alpha=10, sigma=1))\n",
    "    ],\n",
    "        random_order=True\n",
    "    )"
   ]
  },
  {
   "cell_type": "markdown",
   "metadata": {},
   "source": [
    "###  Build Model"
   ]
  },
  {
   "cell_type": "code",
   "execution_count": null,
   "metadata": {},
   "outputs": [],
   "source": []
  },
  {
   "cell_type": "markdown",
   "metadata": {},
   "source": [
    "###  Test and Predict"
   ]
  },
  {
   "cell_type": "code",
   "execution_count": null,
   "metadata": {},
   "outputs": [],
   "source": []
  },
  {
   "cell_type": "markdown",
   "metadata": {},
   "source": [
    "###  Save Model"
   ]
  },
  {
   "cell_type": "code",
   "execution_count": null,
   "metadata": {},
   "outputs": [],
   "source": []
  },
  {
   "cell_type": "markdown",
   "metadata": {},
   "source": [
    "### Reload model"
   ]
  },
  {
   "cell_type": "code",
   "execution_count": null,
   "metadata": {},
   "outputs": [],
   "source": []
  },
  {
   "cell_type": "markdown",
   "metadata": {},
   "source": [
    "# HAZAR-PREDICTION-SERVICE\n",
    "\n",
    "##### Logic steps\n",
    "\n",
    "1. Expose Endpoint using Flask\n",
    "\n",
    "2. Receive Request in JSON\n",
    "\n",
    "3. Call MODIS to retrieve image for X,Y\n",
    "\n",
    "4. Run Image by previous Model\n",
    "\n",
    "5. Return Results in JSON\n"
   ]
  },
  {
   "cell_type": "code",
   "execution_count": null,
   "metadata": {},
   "outputs": [],
   "source": []
  }
 ],
 "metadata": {
  "kernelspec": {
   "display_name": "Python 3",
   "language": "python",
   "name": "python3"
  },
  "language_info": {
   "codemirror_mode": {
    "name": "ipython",
    "version": 3
   },
   "file_extension": ".py",
   "mimetype": "text/x-python",
   "name": "python",
   "nbconvert_exporter": "python",
   "pygments_lexer": "ipython3",
   "version": "3.6.4"
  }
 },
 "nbformat": 4,
 "nbformat_minor": 2
}
