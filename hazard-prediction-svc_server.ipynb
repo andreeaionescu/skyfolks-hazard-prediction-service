{
 "cells": [
  {
   "cell_type": "markdown",
   "metadata": {},
   "source": [
    "# Hazard Predictions\n",
    "\n",
    "## The Challenge \n",
    "\n",
    "### Automatic Hazard Detection  on Transverse Cirrus Bands (TCB)\n",
    "#### Hurricanes | Tunderstorms | Atmospheric jets\n",
    "\n",
    "TCBs are bands of clouds oriented perpendicular to the atmospheric flow in which they are embedded. TCBs are often an indicator of strong turbulence and often associated with severe weather such as hurricanes and thunderstorms or atmospheric jets.\n",
    "\n",
    "Transverse Cirrus Bands Data: s3://impact-datashare/transverse_bands/\n",
    "        \n",
    "        "
   ]
  },
  {
   "cell_type": "markdown",
   "metadata": {},
   "source": [
    "### Imports"
   ]
  },
  {
   "cell_type": "code",
   "execution_count": null,
   "metadata": {},
   "outputs": [],
   "source": [
    "!conda activate skyfolks-env"
   ]
  },
  {
   "cell_type": "code",
   "execution_count": null,
   "metadata": {},
   "outputs": [],
   "source": [
    "%matplotlib inline\n",
    "import matplotlib.pyplot as plt\n",
    "import seaborn as sns\n",
    "plt.rcParams[\"figure.figsize\"] = (15, 10)\n",
    "plt.rcParams[\"figure.dpi\"] = 125\n",
    "plt.rcParams[\"font.size\"] = 14\n",
    "plt.rcParams['font.family'] = ['sans-serif']\n",
    "plt.rcParams['font.sans-serif'] = ['DejaVu Sans']\n",
    "plt.style.use('ggplot')\n",
    "sns.set_style(\"whitegrid\", {'axes.grid': False})\n",
    "plt.rcParams['image.cmap'] = 'gray' # grayscale looks better"
   ]
  },
  {
   "cell_type": "code",
   "execution_count": null,
   "metadata": {},
   "outputs": [],
   "source": [
    "from pathlib import Path\n",
    "import numpy as np\n",
    "import pandas as pd\n",
    "import os\n",
    "from skimage.io import imread as imread\n",
    "from skimage.util import montage\n",
    "from PIL import Image\n",
    "montage_rgb = lambda x: np.stack([montage(x[:, :, :, i]) for i in range(x.shape[3])], -1)\n",
    "from skimage.color import label2rgb"
   ]
  },
  {
   "cell_type": "markdown",
   "metadata": {},
   "source": [
    "###  Reading Data"
   ]
  },
  {
   "cell_type": "markdown",
   "metadata": {},
   "source": [
    "REUSE dataset generator and augmentations from Examples\n",
    "Link: https://github.com/nasa/spaceapps-phenomena_detection/blob/dev/examples/ml_model_demo_1.ipynb\n",
    "\n",
    "Apply the logic to the Hurricane Dataset | Transverse Cirrus Bands (TCB)\n",
    "\n",
    "\n",
    "This is used to push subsets of input images in memory for Keras so that there is no out of memory error during Training phase"
   ]
  },
  {
   "cell_type": "code",
   "execution_count": null,
   "metadata": {},
   "outputs": [],
   "source": [
    "montage_rgb = lambda x: np.stack([montage(x[:, :, :, i]) for i in range(x.shape[3])], -1)\n",
    "\n",
    "image_dir = Path('.') / 'data' / 'transverse_bands'\n",
    "mapping_file = Path('.') / 'data' / 'list_of_images.json'\n",
    "image_df = pd.read_json(mapping_file)\n",
    "\n",
    "image_df['is_hurricane'] = image_df['path'].map(lambda x: \"yes\" in x) \n",
    "\n",
    "image_df.sample(3)\n"
   ]
  },
  {
   "cell_type": "code",
   "execution_count": null,
   "metadata": {},
   "outputs": [],
   "source": [
    "image_df.describe()"
   ]
  },
  {
   "cell_type": "code",
   "execution_count": null,
   "metadata": {},
   "outputs": [],
   "source": [
    "image_df.head()"
   ]
  },
  {
   "cell_type": "code",
   "execution_count": null,
   "metadata": {},
   "outputs": [],
   "source": [
    "print(image_df['path'].map(lambda x: Path(x).exists()).value_counts()) # make sure everything is found"
   ]
  },
  {
   "cell_type": "code",
   "execution_count": null,
   "metadata": {},
   "outputs": [],
   "source": [
    "image_df['is_hurricane'].value_counts()"
   ]
  },
  {
   "cell_type": "code",
   "execution_count": null,
   "metadata": {},
   "outputs": [],
   "source": [
    "from sklearn.model_selection import train_test_split\n",
    "train_df = image_df\n",
    "train_df.reset_index(inplace=True)\n",
    "print(train_df.shape[0], 'training images')"
   ]
  },
  {
   "cell_type": "code",
   "execution_count": null,
   "metadata": {},
   "outputs": [],
   "source": [
    "image_df.index"
   ]
  },
  {
   "cell_type": "code",
   "execution_count": null,
   "metadata": {},
   "outputs": [],
   "source": [
    "image_df.insert(0, 'id', image_df.index)"
   ]
  },
  {
   "cell_type": "code",
   "execution_count": null,
   "metadata": {},
   "outputs": [],
   "source": [
    "train_x_vec = np.stack(train_df[['id', 'path']], 0)\n",
    "train_y_vec = np.stack(train_df['is_hurricane'], 0)\n",
    "print(train_x_vec.shape, '->', train_y_vec.shape)"
   ]
  },
  {
   "cell_type": "code",
   "execution_count": null,
   "metadata": {},
   "outputs": [],
   "source": []
  },
  {
   "cell_type": "code",
   "execution_count": null,
   "metadata": {},
   "outputs": [],
   "source": [
    "image_df"
   ]
  },
  {
   "cell_type": "code",
   "execution_count": null,
   "metadata": {},
   "outputs": [],
   "source": [
    "from PIL import Image\n",
    "\n",
    "def get_image_pixels(imagePath):\n",
    "    im = Image.open(imagePath, 'r')\n",
    "    width, height = im.size\n",
    "    pixel_values = list(im.getdata())\n",
    "\n",
    "    return pixel_values"
   ]
  },
  {
   "cell_type": "code",
   "execution_count": null,
   "metadata": {},
   "outputs": [],
   "source": [
    "image_df['image_rgb'] = [ get_image_pixels(x) for x in image_df['path'] ]"
   ]
  },
  {
   "cell_type": "code",
   "execution_count": null,
   "metadata": {},
   "outputs": [],
   "source": [
    "image_df.head()"
   ]
  },
  {
   "cell_type": "markdown",
   "metadata": {},
   "source": [
    "### Data Cleaning\n",
    "\n",
    "- Extract color features \n",
    "- reduce color noise\n",
    "- run PCA to sample the data\n"
   ]
  },
  {
   "cell_type": "code",
   "execution_count": null,
   "metadata": {},
   "outputs": [],
   "source": [
    "%matplotlib inline\n",
    "import matplotlib.pyplot as plt\n",
    "import seaborn as sns\n",
    "from matplotlib.offsetbox import OffsetImage, AnnotationBbox\n",
    "plt.rcParams[\"figure.figsize\"] = (6, 6)\n",
    "plt.rcParams[\"figure.dpi\"] = 200\n",
    "plt.rcParams[\"font.size\"] = 14\n",
    "plt.rcParams['font.family'] = ['sans-serif']\n",
    "plt.rcParams['font.sans-serif'] = ['DejaVu Sans']\n",
    "plt.style.use('ggplot')\n",
    "sns.set_style(\"whitegrid\", {'axes.grid': False})\n",
    "plt.rcParams['image.cmap'] = 'viridis'"
   ]
  },
  {
   "cell_type": "code",
   "execution_count": null,
   "metadata": {},
   "outputs": [],
   "source": [
    "from pathlib import Path\n",
    "import pandas as pd\n",
    "import numpy as np\n",
    "from PIL import Image\n",
    "from skimage.io import imread\n",
    "from skimage.util import montage\n",
    "from tqdm import tqdm\n",
    "tqdm.pandas() # hack progressbars into pandas\n",
    "montage_rgb = lambda x, **kwargs: np.stack([montage(x[:, :, :, i], **kwargs) for i in range(x.shape[3])], -1)"
   ]
  },
  {
   "cell_type": "code",
   "execution_count": null,
   "metadata": {},
   "outputs": [],
   "source": [
    "satellite_dir = Path('data/transverse_bands')\n",
    "image_df = pd.DataFrame({'path': list(satellite_dir.glob('**/*.jp*g'))})\n",
    "image_df.sample(3)"
   ]
  },
  {
   "cell_type": "code",
   "execution_count": null,
   "metadata": {},
   "outputs": [],
   "source": [
    "image_df['path'][0].__str__()"
   ]
  },
  {
   "cell_type": "code",
   "execution_count": null,
   "metadata": {},
   "outputs": [],
   "source": []
  },
  {
   "cell_type": "markdown",
   "metadata": {},
   "source": [
    "#### Generate the variable is_hurricane if \"yes\" string is in the path"
   ]
  },
  {
   "cell_type": "code",
   "execution_count": null,
   "metadata": {},
   "outputs": [],
   "source": [
    "image_df['is_hurricane'] = image_df['path'].map(lambda x: \"yes\" in x.__str__()) \n",
    "image_df.sample(3)"
   ]
  },
  {
   "cell_type": "code",
   "execution_count": null,
   "metadata": {},
   "outputs": [],
   "source": []
  },
  {
   "cell_type": "code",
   "execution_count": null,
   "metadata": {},
   "outputs": [],
   "source": []
  },
  {
   "cell_type": "markdown",
   "metadata": {},
   "source": [
    "### Downgrading the IMAGE color spectrum\n",
    "\n",
    "- Currently have 2^8 | 8-bit  and 3 channel| Red, Green, Blue\n",
    "- Convert it to a 8-bit format to reduce the colors"
   ]
  },
  {
   "cell_type": "code",
   "execution_count": null,
   "metadata": {},
   "outputs": [],
   "source": [
    "test_image = Image.open(image_df['path'].iloc[2739]) # normal image\n",
    "# convert to 8bit color (animated GIF) and then back\n",
    "web_image = test_image.convert('P', palette='WEB', dither=None)\n",
    "few_color_image = web_image.convert('RGB')\n",
    "fig, (ax1, ax2) = plt.subplots(1, 2, figsize=(12, 6))\n",
    "ax1.imshow(test_image)\n",
    "ax2.imshow(few_color_image)"
   ]
  },
  {
   "cell_type": "code",
   "execution_count": null,
   "metadata": {},
   "outputs": [],
   "source": [
    "print('Unique colors before', len(set([tuple(rgb) for rgb in np.array(test_image).reshape((-1, 3))])))\n",
    "print('Unique colors after', len(set([tuple(rgb) for rgb in np.array(few_color_image).reshape((-1, 3))])))"
   ]
  },
  {
   "cell_type": "markdown",
   "metadata": {},
   "source": [
    "### Take a look at the RGBs patterns"
   ]
  },
  {
   "cell_type": "code",
   "execution_count": null,
   "metadata": {},
   "outputs": [],
   "source": [
    "fig, (ax1, ax2) = plt.subplots(2, 1, figsize=(12, 6))\n",
    "for c_channel, c_name in enumerate(['red', 'green', 'blue']):\n",
    "    ax1.hist(np.array(test_image)[:, :, c_channel].ravel(), \n",
    "             color=c_name[0], \n",
    "             label=c_name, \n",
    "             bins=np.arange(256), \n",
    "             alpha=0.5)\n",
    "    ax2.hist(np.array(few_color_image)[:, :, c_channel].ravel(), \n",
    "             color=c_name[0], \n",
    "             label=c_name, \n",
    "             bins=np.arange(256), \n",
    "             alpha=0.5)"
   ]
  },
  {
   "cell_type": "code",
   "execution_count": null,
   "metadata": {},
   "outputs": [],
   "source": [
    "idx_to_color = np.array(web_image.getpalette()).reshape((-1, 3))/255.0"
   ]
  },
  {
   "cell_type": "code",
   "execution_count": null,
   "metadata": {},
   "outputs": [],
   "source": [
    "fig, (ax1, ax2) = plt.subplots(2, 1, figsize=(12, 6))\n",
    "ax1.imshow(few_color_image)\n",
    "counts, bins = np.histogram(web_image, bins=np.arange(256))\n",
    "for i in range(counts.shape[0]):\n",
    "    ax2.bar(bins[i], counts[i], color=idx_to_color[i])\n",
    "ax2.set_yscale('log')\n",
    "ax2.set_xlabel('Color Id')\n",
    "ax2.set_ylabel('Pixel Count')"
   ]
  },
  {
   "cell_type": "code",
   "execution_count": 16,
   "metadata": {},
   "outputs": [],
   "source": [
    "def color_count_feature(in_path):\n",
    "    raw_image = Image.open(in_path) \n",
    "    web_image = raw_image.convert('P', palette='WEB', dither=None)\n",
    "    counts, bins = np.histogram(np.array(web_image).ravel(), bins=np.arange(256))\n",
    "    return counts*1.0/np.prod(web_image.size) # normalize output"
   ]
  },
  {
   "cell_type": "markdown",
   "metadata": {},
   "source": [
    "### Process the images and extract color features"
   ]
  },
  {
   "cell_type": "code",
   "execution_count": null,
   "metadata": {},
   "outputs": [],
   "source": [
    "%%time\n",
    "image_df['color_features'] = image_df['path'].progress_map(color_count_feature)"
   ]
  },
  {
   "cell_type": "code",
   "execution_count": null,
   "metadata": {},
   "outputs": [],
   "source": [
    "fig, (ax1, ax2) = plt.subplots(2, 1, figsize=(20, 10))\n",
    "combined_features = np.stack(image_df['color_features'].values, 0)\n",
    "ax1.imshow(combined_features)\n",
    "ax1.set_title('Raw Color Counts')\n",
    "ax1.set_xlabel('Color')\n",
    "ax1.set_ylabel('Frequency')\n",
    "ax1.set_aspect(0.01)\n",
    "color_wise_average = np.tile(np.mean(combined_features, 0, keepdims=True), (combined_features.shape[0], 1)).clip(1/(128*128), 1)\n",
    "ax2.imshow(combined_features/color_wise_average, vmin=0.05, vmax=20)\n",
    "ax2.set_title('Normalized Color Counts')\n",
    "ax2.set_xlabel('Color')\n",
    "ax2.set_ylabel('Frequency')\n",
    "ax2.set_aspect(0.01)\n"
   ]
  },
  {
   "cell_type": "markdown",
   "metadata": {},
   "source": [
    "# Run PCA on the combined features\n",
    "- Helps visualize the data\n",
    "- Dimension reduction"
   ]
  },
  {
   "cell_type": "code",
   "execution_count": null,
   "metadata": {},
   "outputs": [],
   "source": [
    "from sklearn.decomposition import PCA\n",
    "xy_pca = PCA(n_components=2)\n",
    "xy_coords = xy_pca.fit_transform(combined_features)\n",
    "image_df['x'] = xy_coords[:, 0]\n",
    "image_df['y'] = xy_coords[:, 1]"
   ]
  },
  {
   "cell_type": "code",
   "execution_count": null,
   "metadata": {},
   "outputs": [],
   "source": [
    "fig, ax1 = plt.subplots(1,1, figsize=(15, 15))\n",
    "for c_group, c_row in image_df.groupby('is_hurricane'):\n",
    "    ax1.plot(c_row['x'], c_row['y'], '*', label=c_group)\n",
    "ax1.legend()"
   ]
  },
  {
   "cell_type": "markdown",
   "metadata": {},
   "source": [
    "#### Show images grouped by color similarity\n",
    "- based on the principal components return by PCA"
   ]
  },
  {
   "cell_type": "code",
   "execution_count": null,
   "metadata": {},
   "outputs": [],
   "source": [
    "def show_xy_images(in_df, image_zoom=1):\n",
    "    fig, ax1 = plt.subplots(1,1, figsize=(10, 10))\n",
    "    artists = []\n",
    "    for _, c_row in in_df.iterrows():\n",
    "        c_img = Image.open(c_row['path']).resize((64, 64))\n",
    "        img = OffsetImage(c_img, zoom=image_zoom)\n",
    "        ab = AnnotationBbox(img, (c_row['x'], c_row['y']), xycoords='data', frameon=False)\n",
    "        artists.append(ax1.add_artist(ab))\n",
    "    ax1.update_datalim(in_df[['x', 'y']])\n",
    "    ax1.autoscale()\n",
    "    ax1.axis('off')\n",
    "show_xy_images(image_df.sample(200))"
   ]
  },
  {
   "cell_type": "markdown",
   "metadata": {},
   "source": [
    "#### Save Extracted Features"
   ]
  },
  {
   "cell_type": "code",
   "execution_count": null,
   "metadata": {},
   "outputs": [],
   "source": [
    "image_df['path'] = image_df['path'].map(str) # saving pathlib objects causes problems\n",
    "image_df.to_json('color_features.json')"
   ]
  },
  {
   "cell_type": "code",
   "execution_count": null,
   "metadata": {},
   "outputs": [],
   "source": [
    "image_df.sample(3)"
   ]
  },
  {
   "cell_type": "code",
   "execution_count": null,
   "metadata": {},
   "outputs": [],
   "source": [
    "image_df['data_split'] = 'train_another'\n",
    "image_df['data_split'].value_counts()"
   ]
  },
  {
   "cell_type": "markdown",
   "metadata": {},
   "source": [
    "### Split data into test/train"
   ]
  },
  {
   "cell_type": "code",
   "execution_count": null,
   "metadata": {},
   "outputs": [],
   "source": [
    "from sklearn.model_selection import train_test_split\n",
    "train_df = image_df.query('data_split==\"train_another\"')\n",
    "train_df.reset_index(inplace=True)\n",
    "print(train_df.shape[0], 'training images')"
   ]
  },
  {
   "cell_type": "code",
   "execution_count": null,
   "metadata": {},
   "outputs": [],
   "source": [
    "train_x_vec = np.stack(train_df['color_features'].values, 0)\n",
    "train_y_vec = np.stack(train_df['is_hurricane'], 0)\n",
    "print(train_x_vec.shape, '->', train_y_vec.shape)"
   ]
  },
  {
   "cell_type": "code",
   "execution_count": null,
   "metadata": {},
   "outputs": [],
   "source": []
  },
  {
   "cell_type": "markdown",
   "metadata": {},
   "source": [
    "#### Helper function to show model results"
   ]
  },
  {
   "cell_type": "code",
   "execution_count": null,
   "metadata": {},
   "outputs": [],
   "source": [
    "from sklearn.metrics import roc_auc_score, roc_curve, accuracy_score\n",
    "\n",
    "def show_model_results(in_model, use_split=None, plot_type='swarm'):\n",
    "    fig, m_axs = plt.subplots(4, 2, figsize=(15, 30))\n",
    "    m_axs = m_axs.flatten()\n",
    "    all_rows = []\n",
    "    ax1 = m_axs[0]\n",
    "    \n",
    "    if use_split is None:\n",
    "        cur_df = image_df.copy()\n",
    "    else:\n",
    "        cur_df = image_df.query('data_split==\"{}\"'.format(use_split)) \n",
    "    \n",
    "    for c_split, example_df in cur_df.groupby('data_split'):\n",
    "        example_df = example_df.reset_index()\n",
    "        x_vec = np.stack(example_df['color_features'].values, 0)\n",
    "        y_vec = np.stack(example_df['is_hurricane'], 0)\n",
    "\n",
    "        valid_pred = in_model.predict(x_vec)\n",
    "        tpr, fpr, _ = roc_curve(y_vec[:], valid_pred[:])\n",
    "        auc = roc_auc_score(y_vec[:], valid_pred[:])\n",
    "        acc = accuracy_score(y_vec[:], valid_pred[:]>0.5)\n",
    "        ax1.plot(tpr, fpr, '.-', label='{}, AUC {:0.2f}, Accuracy: {:2.0%}'.format(c_split, auc, acc))\n",
    "        all_rows += [pd.DataFrame({'class': y_vec[:], 'prediction': np.clip(valid_pred[:], 0, 1), 'type': 'is_hurricane', \n",
    "                                  'split': c_split})]\n",
    "    \n",
    "    c_all_df = pd.concat(all_rows)\n",
    "        \n",
    "    # show example images\n",
    "    ax1.legend()\n",
    "    for (_, c_row), (c_ax) in zip(\n",
    "        example_df.sample(m_axs.shape[0]).iterrows(), \n",
    "                               m_axs[1:-1]):\n",
    "        \n",
    "        c_ax.imshow(imread(c_row['path']))\n",
    "        t_yp = in_model.predict(np.expand_dims(c_row['color_features'], 0))\n",
    "        c_ax.set_title('Class: {}\\n Is Hurricane Prediction: {:2.2%}'.format(c_row['is_hurricane'], t_yp[0]))\n",
    "        c_ax.axis('off')\n",
    "        \n",
    "        t_y = np.array(c_row['is_hurricane'])\n",
    "    \n",
    "    # nice dataframe of output\n",
    "    \n",
    "    ax1 = m_axs[-1]\n",
    "    if plot_type=='swarm':\n",
    "        # prevent overplotting\n",
    "        sns.swarmplot(data=c_all_df.sample(500) if c_all_df.shape[0]>1000 else c_all_df,\n",
    "                      hue='class', \n",
    "                      y='prediction', \n",
    "                      x='type', \n",
    "                      size=2.0, \n",
    "                      ax=ax1)\n",
    "    elif plot_type=='box':\n",
    "        sns.boxplot(data=c_all_df, hue='class', y='prediction', x='type', ax=ax1)\n",
    "    elif plot_type=='violin':\n",
    "        sns.violinplot(data=c_all_df, hue='class', y='prediction', x='type', ax=ax1)\n",
    "    ax1.set_ylim(-0.05, 1.05)\n",
    "    return c_all_df"
   ]
  },
  {
   "cell_type": "markdown",
   "metadata": {},
   "source": [
    "# Train Model\n"
   ]
  },
  {
   "cell_type": "markdown",
   "metadata": {},
   "source": [
    "#### KNeighbors Regressor \n",
    "Nearest Neighbor works by finding the most similar case from the training data using the feature vector. We can directly visualize this by showing which training image was being looked at."
   ]
  },
  {
   "cell_type": "code",
   "execution_count": null,
   "metadata": {},
   "outputs": [],
   "source": [
    "from sklearn.neighbors import KNeighborsRegressor\n",
    "knn = KNeighborsRegressor(n_neighbors=1)\n",
    "knn.fit(train_x_vec, train_y_vec)"
   ]
  },
  {
   "cell_type": "code",
   "execution_count": null,
   "metadata": {},
   "outputs": [],
   "source": [
    "show_model_results(knn, None, plot_type='box');"
   ]
  },
  {
   "cell_type": "markdown",
   "metadata": {},
   "source": [
    "## Dig deeper"
   ]
  },
  {
   "cell_type": "code",
   "execution_count": null,
   "metadata": {},
   "outputs": [],
   "source": [
    "fig, m_axs = plt.subplots(6, 4, figsize=(30, 40))\n",
    "dummy_web_image = Image.new(size=(1,1), mode='RGB').convert('P', palette='web')\n",
    "\n",
    "for (c_ax, c_feat_ax, d_ax, d_feat_ax), (_, c_row) in zip(m_axs, \n",
    "                            image_df.sample(m_axs.shape[0], random_state=2018).iterrows()):\n",
    "    \n",
    "    query_img = Image.open(c_row['path'])\n",
    "    idx_to_color = np.array(query_img.convert('P', palette='web').getpalette()).reshape((-1, 3))/255.0\n",
    "    c_ax.imshow(query_img)\n",
    "    c_ax.set_title(c_row['path'][:25])\n",
    "    c_ax.axis('off')\n",
    "    counts, bins = np.histogram(np.ravel(query_img.convert('P', palette='web')), \n",
    "                                bins=np.arange(256))\n",
    "    \n",
    "    for i in range(counts.shape[0]):\n",
    "        c_feat_ax.bar(bins[i], counts[i], color=idx_to_color[i], edgecolor='k', linewidth=0.1)\n",
    "    c_feat_ax.set_yscale('log')\n",
    "    c_feat_ax.set_xlabel('Color Id')\n",
    "    c_feat_ax.set_ylabel('Pixel Count')\n",
    "    c_feat_ax.set_title('Feature Vector')\n",
    "    \n",
    "    dist, idx = knn.kneighbors(np.expand_dims(c_row['color_features'], 0))\n",
    "    m_row = train_df.iloc[idx[0][0]]\n",
    "    matched_img = Image.open(m_row['path'])\n",
    "    \n",
    "    d_ax.imshow(matched_img)\n",
    "    d_ax.set_title('Closest Match\\n{}\\nDistance: {:2.1%}'.format(m_row['path'][:25], dist[0][0]))\n",
    "    d_ax.axis('off')\n",
    "    \n",
    "    counts, bins = np.histogram(np.ravel(matched_img.convert('P', palette='web')), \n",
    "                                bins=np.arange(256))\n",
    "    \n",
    "    for i in range(counts.shape[0]):\n",
    "        d_feat_ax.bar(bins[i], counts[i], color=idx_to_color[i], edgecolor='k', linewidth=0.1)\n",
    "    d_feat_ax.set_yscale('log')\n",
    "    d_feat_ax.set_xlabel('Color Id')\n",
    "    d_feat_ax.set_ylabel('Pixel Count')\n",
    "    c_feat_ax.set_title('Matched Feature')"
   ]
  },
  {
   "cell_type": "code",
   "execution_count": null,
   "metadata": {},
   "outputs": [],
   "source": [
    "show_model_results(knn);"
   ]
  },
  {
   "cell_type": "code",
   "execution_count": null,
   "metadata": {},
   "outputs": [],
   "source": []
  },
  {
   "cell_type": "code",
   "execution_count": null,
   "metadata": {},
   "outputs": [],
   "source": []
  },
  {
   "cell_type": "code",
   "execution_count": null,
   "metadata": {},
   "outputs": [],
   "source": []
  },
  {
   "cell_type": "markdown",
   "metadata": {},
   "source": [
    "#  Try other Model\n",
    "\n",
    "- RandomForest\n",
    "- XGBoost"
   ]
  },
  {
   "cell_type": "markdown",
   "metadata": {},
   "source": [
    "#### Random Forest"
   ]
  },
  {
   "cell_type": "code",
   "execution_count": null,
   "metadata": {},
   "outputs": [],
   "source": [
    "from sklearn.pipeline import make_pipeline\n",
    "from sklearn.preprocessing import RobustScaler\n",
    "from sklearn.feature_selection import VarianceThreshold\n",
    "from sklearn.ensemble import RandomForestRegressor\n",
    "\n",
    "rf_pipe = make_pipeline(RobustScaler(), RandomForestRegressor(n_estimators=200))\n",
    "rf_pipe.fit(train_x_vec, train_y_vec)\n",
    "show_model_results(rf_pipe);"
   ]
  },
  {
   "cell_type": "code",
   "execution_count": null,
   "metadata": {},
   "outputs": [],
   "source": []
  },
  {
   "cell_type": "code",
   "execution_count": null,
   "metadata": {},
   "outputs": [],
   "source": []
  },
  {
   "cell_type": "markdown",
   "metadata": {},
   "source": [
    "#### XGBoost"
   ]
  },
  {
   "cell_type": "code",
   "execution_count": null,
   "metadata": {},
   "outputs": [],
   "source": [
    "from xgboost import XGBRegressor\n",
    "\n",
    "xg_pipe = make_pipeline(RobustScaler(), \n",
    "                        XGBRegressor(objective='reg:linear'))\n",
    "xg_pipe.fit(train_x_vec, train_y_vec)"
   ]
  },
  {
   "cell_type": "code",
   "execution_count": null,
   "metadata": {},
   "outputs": [],
   "source": [
    "show_model_results(xg_pipe);"
   ]
  },
  {
   "cell_type": "code",
   "execution_count": null,
   "metadata": {},
   "outputs": [],
   "source": []
  },
  {
   "cell_type": "markdown",
   "metadata": {},
   "source": [
    "###  Test and Predict"
   ]
  },
  {
   "cell_type": "code",
   "execution_count": null,
   "metadata": {},
   "outputs": [],
   "source": [
    "train_x_vec = np.stack(train_df['color_features'].values, 0)"
   ]
  },
  {
   "cell_type": "code",
   "execution_count": null,
   "metadata": {},
   "outputs": [],
   "source": [
    "train_df.head()"
   ]
  },
  {
   "cell_type": "code",
   "execution_count": null,
   "metadata": {},
   "outputs": [],
   "source": [
    "## Get first Element\n",
    "\n",
    "predictInput = train_df[train_df.index == 5002]\n",
    "predictInput.head()"
   ]
  },
  {
   "cell_type": "code",
   "execution_count": null,
   "metadata": {},
   "outputs": [],
   "source": []
  },
  {
   "cell_type": "code",
   "execution_count": null,
   "metadata": {},
   "outputs": [],
   "source": [
    "predict_x_vec = np.stack(predictInput['color_features'].values, 0)"
   ]
  },
  {
   "cell_type": "markdown",
   "metadata": {},
   "source": [
    "### Predict\n"
   ]
  },
  {
   "cell_type": "code",
   "execution_count": null,
   "metadata": {},
   "outputs": [],
   "source": [
    "print(knn.predict(predict_x_vec));"
   ]
  },
  {
   "cell_type": "code",
   "execution_count": null,
   "metadata": {},
   "outputs": [],
   "source": [
    "print(rf_pipe.predict(predict_x_vec));"
   ]
  },
  {
   "cell_type": "code",
   "execution_count": null,
   "metadata": {},
   "outputs": [],
   "source": [
    "print(xg_pipe.predict(predict_x_vec));"
   ]
  },
  {
   "cell_type": "markdown",
   "metadata": {},
   "source": [
    "###  Save Model"
   ]
  },
  {
   "cell_type": "code",
   "execution_count": null,
   "metadata": {},
   "outputs": [],
   "source": [
    "import pickle\n",
    "\n",
    "model_filename = \"knn_hurricane.model\"\n",
    "\n",
    "models = {'knn': knn, 'rf_pipe': rf_pipe, 'xg_pipe': xg_pipe}\n",
    "\n",
    "pickle._dump(models, open(model_filename, 'wb'))"
   ]
  },
  {
   "cell_type": "markdown",
   "metadata": {},
   "source": [
    "### Reload model"
   ]
  },
  {
   "cell_type": "code",
   "execution_count": null,
   "metadata": {},
   "outputs": [],
   "source": [
    "import pickle \n",
    "loaded_classifiers = pickle.load(open(model_filename, 'rb'))\n",
    "\n",
    "# print(loaded_classifiers['rf_pipe'].predict(predict_x_vec));"
   ]
  },
  {
   "cell_type": "markdown",
   "metadata": {},
   "source": [
    "# HAZAR-PREDICTION-SERVICE\n",
    "\n",
    "##### Logic steps\n",
    "\n",
    "1. Expose Endpoint using Flask\n",
    "\n",
    "2. Receive Request in JSON\n",
    "\n",
    "3. Call MODIS to retrieve image for X,Y\n",
    "\n",
    "4. Run Image by previous Model\n",
    "\n",
    "5. Return Results in JSON\n",
    "\n",
    "\n",
    "Contract Request Body:\n",
    "```json\n",
    "{\n",
    "    latitude: 14.021,\n",
    "    longitude: -124.034,\n",
    "    predict: [ \"hurricane\" ]\n",
    "}\n",
    "```\n"
   ]
  },
  {
   "cell_type": "markdown",
   "metadata": {},
   "source": [
    "#### Flask Endpoint"
   ]
  },
  {
   "cell_type": "code",
   "execution_count": 3,
   "metadata": {},
   "outputs": [],
   "source": [
    "## Imports\n",
    "from flask import Flask\n",
    "from flask import request"
   ]
  },
  {
   "cell_type": "code",
   "execution_count": 17,
   "metadata": {},
   "outputs": [],
   "source": [
    "def color_count_feature(in_path):\n",
    "    raw_image = Image.open(in_path) \n",
    "    web_image = raw_image.convert('P', palette='WEB', dither=None)\n",
    "    counts, bins = np.histogram(np.array(web_image).ravel(), bins=np.arange(256))\n",
    "    return counts*1.0/np.prod(web_image.size) # normalize output"
   ]
  },
  {
   "cell_type": "code",
   "execution_count": 25,
   "metadata": {},
   "outputs": [],
   "source": [
    "app = Flask(__name__)\n",
    "\n",
    "@app.after_request\n",
    "def after_request(response):\n",
    "    response.headers.add('Access-Control-Allow-Origin', '*')\n",
    "    response.headers.add('Access-Control-Allow-Headers', 'Content-Type,Authorization')\n",
    "    response.headers.add('Access-Control-Allow-Methods', 'GET,PUT,POST,DELETE')\n",
    "    return response\n",
    "\n",
    "@app.route('/hazard/predict', methods=['POST'])\n",
    "def power():\n",
    "    if request.headers['Content-Type'] == 'application/json':\n",
    "        return process_request(request.json)\n",
    "    else:\n",
    "        return response(\"Json record not found in request\", 415)"
   ]
  },
  {
   "cell_type": "markdown",
   "metadata": {},
   "source": [
    "### Start Service\n",
    "\n"
   ]
  },
  {
   "cell_type": "code",
   "execution_count": null,
   "metadata": {},
   "outputs": [
    {
     "name": "stdout",
     "output_type": "stream",
     "text": [
      " * Serving Flask app \"__main__\" (lazy loading)\n",
      " * Environment: production\n",
      "   WARNING: This is a development server. Do not use it in a production deployment.\n",
      "   Use a production WSGI server instead.\n",
      " * Debug mode: off\n"
     ]
    },
    {
     "name": "stderr",
     "output_type": "stream",
     "text": [
      " * Running on http://0.0.0.0:8777/ (Press CTRL+C to quit)\n",
      "192.168.1.112 - - [04/Oct/2020 14:04:28] \"\u001b[37mOPTIONS /hazard/predict HTTP/1.1\u001b[0m\" 200 -\n"
     ]
    },
    {
     "name": "stdout",
     "output_type": "stream",
     "text": [
      "Request received: \n",
      "{'latitude': 51.67030573742217, 'longitude': -50.87328749999999, 'predict': ['hurricane']}\n",
      "Calculating Square Shape...\n",
      "Shape:  {'lower_latitude': 46.67030573742217, 'left_longitude': -55.87328749999999, 'higher_latitude': 56.67030573742217, 'right_longitude': -45.87328749999999}\n",
      "Retrieve & download the MODIS image based on (X,Y,Z,K) parameters\n",
      "1376 2220\n",
      "Image PATH:  img/modis_hazard_c84abb3c598b408dbc26d548b1d77e6b.png  \n",
      "\n",
      "Predict if in the image is an Hurricane\n",
      "img/modis_hazard_c84abb3c598b408dbc26d548b1d77e6b.png\n",
      "0    img/modis_hazard_c84abb3c598b408dbc26d548b1d77...\n",
      "Name: path, dtype: object\n"
     ]
    },
    {
     "name": "stderr",
     "output_type": "stream",
     "text": [
      "\r",
      "progress-bar:   0%|                                                                                                                                                    | 0/1 [00:00<?, ?it/s]"
     ]
    },
    {
     "name": "stdout",
     "output_type": "stream",
     "text": [
      "[5.74029698e-03 0.00000000e+00 0.00000000e+00 0.00000000e+00\n",
      " 0.00000000e+00 0.00000000e+00 0.00000000e+00 0.00000000e+00\n",
      " 0.00000000e+00 0.00000000e+00 0.00000000e+00 5.14286088e-03\n",
      " 0.00000000e+00 0.00000000e+00 0.00000000e+00 0.00000000e+00\n",
      " 1.06301069e-02 3.88448041e-03 5.23779594e-06 0.00000000e+00\n",
      " 0.00000000e+00 0.00000000e+00 0.00000000e+00 3.27362246e-07\n",
      " 0.00000000e+00 0.00000000e+00 0.00000000e+00 0.00000000e+00\n",
      " 0.00000000e+00 0.00000000e+00 0.00000000e+00 0.00000000e+00\n",
      " 0.00000000e+00 0.00000000e+00 0.00000000e+00 0.00000000e+00\n",
      " 0.00000000e+00 0.00000000e+00 0.00000000e+00 0.00000000e+00\n",
      " 0.00000000e+00 0.00000000e+00 0.00000000e+00 0.00000000e+00\n",
      " 0.00000000e+00 0.00000000e+00 1.48331107e-02 3.37117641e-03\n",
      " 0.00000000e+00 0.00000000e+00 0.00000000e+00 0.00000000e+00\n",
      " 1.04222318e-02 1.28067384e-02 2.12785460e-05 0.00000000e+00\n",
      " 0.00000000e+00 0.00000000e+00 2.94626021e-06 8.21679237e-05\n",
      " 8.46886130e-04 0.00000000e+00 0.00000000e+00 0.00000000e+00\n",
      " 0.00000000e+00 0.00000000e+00 0.00000000e+00 0.00000000e+00\n",
      " 0.00000000e+00 0.00000000e+00 0.00000000e+00 0.00000000e+00\n",
      " 0.00000000e+00 0.00000000e+00 0.00000000e+00 0.00000000e+00\n",
      " 0.00000000e+00 0.00000000e+00 0.00000000e+00 0.00000000e+00\n",
      " 0.00000000e+00 0.00000000e+00 3.60098471e-06 3.92834695e-06\n",
      " 0.00000000e+00 0.00000000e+00 0.00000000e+00 0.00000000e+00\n",
      " 1.16540960e-04 1.07964069e-03 5.79103813e-04 0.00000000e+00\n",
      " 0.00000000e+00 0.00000000e+00 0.00000000e+00 3.00584014e-03\n",
      " 1.24970537e-02 9.78485753e-04 0.00000000e+00 0.00000000e+00\n",
      " 0.00000000e+00 6.54724492e-07 1.71341400e-03 1.27016551e-03\n",
      " 0.00000000e+00 0.00000000e+00 0.00000000e+00 0.00000000e+00\n",
      " 0.00000000e+00 0.00000000e+00 0.00000000e+00 0.00000000e+00\n",
      " 0.00000000e+00 0.00000000e+00 0.00000000e+00 0.00000000e+00\n",
      " 0.00000000e+00 0.00000000e+00 0.00000000e+00 0.00000000e+00\n",
      " 0.00000000e+00 0.00000000e+00 0.00000000e+00 0.00000000e+00\n",
      " 0.00000000e+00 0.00000000e+00 0.00000000e+00 0.00000000e+00\n",
      " 0.00000000e+00 0.00000000e+00 0.00000000e+00 1.34218521e-05\n",
      " 2.52330819e-03 1.12285250e-03 0.00000000e+00 0.00000000e+00\n",
      " 0.00000000e+00 0.00000000e+00 2.61496962e-03 4.46129269e-02\n",
      " 4.32936570e-03 0.00000000e+00 0.00000000e+00 0.00000000e+00\n",
      " 0.00000000e+00 5.70526922e-03 8.48195579e-04 9.82086738e-07\n",
      " 0.00000000e+00 0.00000000e+00 0.00000000e+00 0.00000000e+00\n",
      " 0.00000000e+00 0.00000000e+00 0.00000000e+00 0.00000000e+00\n",
      " 0.00000000e+00 0.00000000e+00 0.00000000e+00 0.00000000e+00\n",
      " 0.00000000e+00 0.00000000e+00 0.00000000e+00 0.00000000e+00\n",
      " 0.00000000e+00 0.00000000e+00 0.00000000e+00 0.00000000e+00\n",
      " 0.00000000e+00 0.00000000e+00 0.00000000e+00 0.00000000e+00\n",
      " 0.00000000e+00 0.00000000e+00 3.27362246e-07 5.54224282e-03\n",
      " 5.70265032e-04 3.27362246e-07 0.00000000e+00 0.00000000e+00\n",
      " 0.00000000e+00 7.92543997e-04 1.53210442e-01 5.22473418e-02\n",
      " 0.00000000e+00 0.00000000e+00 0.00000000e+00 0.00000000e+00\n",
      " 5.52148806e-02 1.49491279e-01 0.00000000e+00 0.00000000e+00\n",
      " 0.00000000e+00 0.00000000e+00 0.00000000e+00 0.00000000e+00\n",
      " 0.00000000e+00 0.00000000e+00 0.00000000e+00 0.00000000e+00\n",
      " 0.00000000e+00 0.00000000e+00 0.00000000e+00 0.00000000e+00\n",
      " 0.00000000e+00 0.00000000e+00 0.00000000e+00 0.00000000e+00\n",
      " 0.00000000e+00 0.00000000e+00 0.00000000e+00 0.00000000e+00\n",
      " 0.00000000e+00 0.00000000e+00 0.00000000e+00 0.00000000e+00\n",
      " 0.00000000e+00 6.54724492e-07 5.18957548e-02 1.25949023e-01\n",
      " 0.00000000e+00 0.00000000e+00 0.00000000e+00 0.00000000e+00\n",
      " 1.14558454e-01 1.39716897e-01 0.00000000e+00 0.00000000e+00\n",
      " 0.00000000e+00 0.00000000e+00 0.00000000e+00 0.00000000e+00\n",
      " 0.00000000e+00 0.00000000e+00 0.00000000e+00 0.00000000e+00\n",
      " 0.00000000e+00 0.00000000e+00 0.00000000e+00 0.00000000e+00\n",
      " 0.00000000e+00 0.00000000e+00 0.00000000e+00 0.00000000e+00\n",
      " 0.00000000e+00 0.00000000e+00 0.00000000e+00 0.00000000e+00\n",
      " 0.00000000e+00 0.00000000e+00 0.00000000e+00 0.00000000e+00\n",
      " 0.00000000e+00 0.00000000e+00 0.00000000e+00]\n"
     ]
    },
    {
     "name": "stderr",
     "output_type": "stream",
     "text": [
      "progress-bar: 100%|████████████████████████████████████████████████████████████████████████████████████████████████████████████████████████████████████████████| 1/1 [00:00<00:00,  3.38it/s]\n",
      "192.168.1.112 - - [04/Oct/2020 14:04:37] \"\u001b[37mPOST /hazard/predict HTTP/1.1\u001b[0m\" 200 -\n"
     ]
    },
    {
     "name": "stdout",
     "output_type": "stream",
     "text": [
      "  index                                               path is_hurricane  \\\n",
      "0   123  img/modis_hazard_c84abb3c598b408dbc26d548b1d77...        False   \n",
      "\n",
      "                                      color_features data_split  \n",
      "0  [0.005740296983029541, 0.0, 0.0, 0.0, 0.0, 0.0...    predict  \n",
      "Probability of hurricane:\n",
      "[0.11]\n",
      "Response:  {'latitude': 51.67030573742217, 'longitude': -50.87328749999999, 'predicted': [{'hazardType': 'hurricane', 'probability': 0.11}]}\n"
     ]
    },
    {
     "name": "stderr",
     "output_type": "stream",
     "text": [
      "192.168.1.112 - - [04/Oct/2020 14:05:19] \"\u001b[37mOPTIONS /hazard/predict HTTP/1.1\u001b[0m\" 200 -\n"
     ]
    },
    {
     "name": "stdout",
     "output_type": "stream",
     "text": [
      "Request received: \n",
      "{'latitude': 38.47655521834354, 'longitude': -69.85766249999999, 'predict': ['hurricane']}\n",
      "Calculating Square Shape...\n",
      "Shape:  {'lower_latitude': 33.47655521834354, 'left_longitude': -74.85766249999999, 'higher_latitude': 43.47655521834354, 'right_longitude': -64.85766249999999}\n",
      "Retrieve & download the MODIS image based on (X,Y,Z,K) parameters\n",
      "1737 2220\n",
      "Image PATH:  img/modis_hazard_9c9ed86ecb4e40a8a7cfd3d70f8546f1.png  \n",
      "\n",
      "Predict if in the image is an Hurricane\n",
      "img/modis_hazard_9c9ed86ecb4e40a8a7cfd3d70f8546f1.png\n",
      "0    img/modis_hazard_9c9ed86ecb4e40a8a7cfd3d70f854...\n",
      "Name: path, dtype: object\n"
     ]
    },
    {
     "name": "stderr",
     "output_type": "stream",
     "text": [
      "\r",
      "progress-bar:   0%|                                                                                                                                                    | 0/1 [00:00<?, ?it/s]"
     ]
    },
    {
     "name": "stdout",
     "output_type": "stream",
     "text": [
      "[2.25168173e-02 0.00000000e+00 0.00000000e+00 0.00000000e+00\n",
      " 0.00000000e+00 0.00000000e+00 0.00000000e+00 0.00000000e+00\n",
      " 0.00000000e+00 0.00000000e+00 0.00000000e+00 2.15492695e-02\n",
      " 0.00000000e+00 0.00000000e+00 0.00000000e+00 0.00000000e+00\n",
      " 4.78252864e-02 1.65779769e-02 2.35987283e-05 0.00000000e+00\n",
      " 0.00000000e+00 0.00000000e+00 1.81528679e-06 1.07620574e-04\n",
      " 2.59326684e-07 0.00000000e+00 0.00000000e+00 0.00000000e+00\n",
      " 0.00000000e+00 0.00000000e+00 0.00000000e+00 0.00000000e+00\n",
      " 0.00000000e+00 0.00000000e+00 0.00000000e+00 0.00000000e+00\n",
      " 0.00000000e+00 0.00000000e+00 0.00000000e+00 0.00000000e+00\n",
      " 0.00000000e+00 0.00000000e+00 0.00000000e+00 0.00000000e+00\n",
      " 0.00000000e+00 0.00000000e+00 8.82600217e-02 2.22657891e-02\n",
      " 0.00000000e+00 0.00000000e+00 0.00000000e+00 0.00000000e+00\n",
      " 6.11632358e-02 5.87297142e-02 5.73111972e-05 0.00000000e+00\n",
      " 0.00000000e+00 0.00000000e+00 2.15241148e-05 2.08109664e-03\n",
      " 6.12918618e-03 1.14103741e-05 0.00000000e+00 0.00000000e+00\n",
      " 0.00000000e+00 0.00000000e+00 4.40855363e-06 1.29663342e-06\n",
      " 0.00000000e+00 0.00000000e+00 0.00000000e+00 0.00000000e+00\n",
      " 0.00000000e+00 0.00000000e+00 0.00000000e+00 0.00000000e+00\n",
      " 0.00000000e+00 0.00000000e+00 0.00000000e+00 0.00000000e+00\n",
      " 0.00000000e+00 0.00000000e+00 1.73748878e-05 2.98225687e-05\n",
      " 0.00000000e+00 0.00000000e+00 0.00000000e+00 0.00000000e+00\n",
      " 4.03512321e-04 3.82040071e-03 2.03130592e-03 0.00000000e+00\n",
      " 0.00000000e+00 0.00000000e+00 2.59326684e-07 9.87101091e-03\n",
      " 2.97878189e-02 1.64620579e-03 0.00000000e+00 0.00000000e+00\n",
      " 0.00000000e+00 5.44586037e-06 3.17208400e-03 2.51131961e-03\n",
      " 2.59326684e-07 0.00000000e+00 0.00000000e+00 0.00000000e+00\n",
      " 0.00000000e+00 2.59326684e-07 0.00000000e+00 0.00000000e+00\n",
      " 0.00000000e+00 0.00000000e+00 0.00000000e+00 0.00000000e+00\n",
      " 0.00000000e+00 0.00000000e+00 0.00000000e+00 0.00000000e+00\n",
      " 0.00000000e+00 0.00000000e+00 0.00000000e+00 0.00000000e+00\n",
      " 0.00000000e+00 5.18653368e-07 1.16697008e-05 0.00000000e+00\n",
      " 0.00000000e+00 0.00000000e+00 0.00000000e+00 1.27329402e-04\n",
      " 4.58308049e-03 1.78753883e-03 0.00000000e+00 0.00000000e+00\n",
      " 0.00000000e+00 1.81528679e-06 4.24362186e-03 5.44954281e-02\n",
      " 5.79076486e-03 0.00000000e+00 0.00000000e+00 0.00000000e+00\n",
      " 0.00000000e+00 6.50858112e-03 1.28989093e-03 5.18653368e-07\n",
      " 0.00000000e+00 0.00000000e+00 0.00000000e+00 0.00000000e+00\n",
      " 1.03730674e-06 0.00000000e+00 0.00000000e+00 0.00000000e+00\n",
      " 0.00000000e+00 0.00000000e+00 0.00000000e+00 0.00000000e+00\n",
      " 0.00000000e+00 0.00000000e+00 0.00000000e+00 0.00000000e+00\n",
      " 0.00000000e+00 0.00000000e+00 0.00000000e+00 0.00000000e+00\n",
      " 0.00000000e+00 0.00000000e+00 0.00000000e+00 0.00000000e+00\n",
      " 0.00000000e+00 0.00000000e+00 2.59326684e-07 5.32605144e-03\n",
      " 5.80891773e-04 0.00000000e+00 0.00000000e+00 0.00000000e+00\n",
      " 0.00000000e+00 8.22324916e-04 1.33405167e-01 4.26089302e-02\n",
      " 0.00000000e+00 0.00000000e+00 0.00000000e+00 5.18653368e-07\n",
      " 4.26854315e-02 8.48114954e-02 0.00000000e+00 0.00000000e+00\n",
      " 0.00000000e+00 0.00000000e+00 0.00000000e+00 0.00000000e+00\n",
      " 0.00000000e+00 0.00000000e+00 0.00000000e+00 0.00000000e+00\n",
      " 0.00000000e+00 0.00000000e+00 0.00000000e+00 0.00000000e+00\n",
      " 0.00000000e+00 0.00000000e+00 0.00000000e+00 0.00000000e+00\n",
      " 0.00000000e+00 0.00000000e+00 0.00000000e+00 0.00000000e+00\n",
      " 0.00000000e+00 0.00000000e+00 0.00000000e+00 0.00000000e+00\n",
      " 0.00000000e+00 0.00000000e+00 3.66726830e-02 6.86248425e-02\n",
      " 0.00000000e+00 0.00000000e+00 0.00000000e+00 0.00000000e+00\n",
      " 6.01440819e-02 4.48508094e-02 0.00000000e+00 0.00000000e+00\n",
      " 0.00000000e+00 0.00000000e+00 0.00000000e+00 0.00000000e+00\n",
      " 0.00000000e+00 0.00000000e+00 0.00000000e+00 0.00000000e+00\n",
      " 0.00000000e+00 0.00000000e+00 0.00000000e+00 0.00000000e+00\n",
      " 0.00000000e+00 0.00000000e+00 0.00000000e+00 0.00000000e+00\n",
      " 0.00000000e+00 0.00000000e+00 0.00000000e+00 0.00000000e+00\n",
      " 0.00000000e+00 0.00000000e+00 0.00000000e+00 0.00000000e+00\n",
      " 0.00000000e+00 0.00000000e+00 0.00000000e+00]\n"
     ]
    },
    {
     "name": "stderr",
     "output_type": "stream",
     "text": [
      "progress-bar: 100%|████████████████████████████████████████████████████████████████████████████████████████████████████████████████████████████████████████████| 1/1 [00:00<00:00,  1.85it/s]\n",
      "192.168.1.112 - - [04/Oct/2020 14:05:29] \"\u001b[37mPOST /hazard/predict HTTP/1.1\u001b[0m\" 200 -\n"
     ]
    },
    {
     "name": "stdout",
     "output_type": "stream",
     "text": [
      "  index                                               path is_hurricane  \\\n",
      "0   123  img/modis_hazard_9c9ed86ecb4e40a8a7cfd3d70f854...        False   \n",
      "\n",
      "                                      color_features data_split  \n",
      "0  [0.022516817335470184, 0.0, 0.0, 0.0, 0.0, 0.0...    predict  \n",
      "Probability of hurricane:\n",
      "[0.235]\n",
      "Response:  {'latitude': 38.47655521834354, 'longitude': -69.85766249999999, 'predicted': [{'hazardType': 'hurricane', 'probability': 0.235}]}\n"
     ]
    },
    {
     "name": "stderr",
     "output_type": "stream",
     "text": [
      "192.168.1.112 - - [04/Oct/2020 14:05:44] \"\u001b[37mOPTIONS /hazard/predict HTTP/1.1\u001b[0m\" 200 -\n"
     ]
    },
    {
     "name": "stdout",
     "output_type": "stream",
     "text": [
      "Request received: \n",
      "{'latitude': 38.47655521834354, 'longitude': -70.20922499999999, 'predict': ['hurricane']}\n",
      "Calculating Square Shape...\n",
      "Shape:  {'lower_latitude': 33.47655521834354, 'left_longitude': -75.20922499999999, 'higher_latitude': 43.47655521834354, 'right_longitude': -65.20922499999999}\n",
      "Retrieve & download the MODIS image based on (X,Y,Z,K) parameters\n",
      "1737 2220\n",
      "Image PATH:  img/modis_hazard_a791903899c34969a1ec79aa825f824b.png  \n",
      "\n",
      "Predict if in the image is an Hurricane\n",
      "img/modis_hazard_a791903899c34969a1ec79aa825f824b.png\n",
      "0    img/modis_hazard_a791903899c34969a1ec79aa825f8...\n",
      "Name: path, dtype: object\n"
     ]
    },
    {
     "name": "stderr",
     "output_type": "stream",
     "text": [
      "\r",
      "progress-bar:   0%|                                                                                                                                                    | 0/1 [00:00<?, ?it/s]"
     ]
    },
    {
     "name": "stdout",
     "output_type": "stream",
     "text": [
      "[2.32470813e-02 0.00000000e+00 0.00000000e+00 0.00000000e+00\n",
      " 0.00000000e+00 0.00000000e+00 0.00000000e+00 0.00000000e+00\n",
      " 0.00000000e+00 0.00000000e+00 0.00000000e+00 2.23936372e-02\n",
      " 0.00000000e+00 0.00000000e+00 0.00000000e+00 0.00000000e+00\n",
      " 5.05464013e-02 1.86396241e-02 4.07142894e-05 0.00000000e+00\n",
      " 0.00000000e+00 0.00000000e+00 1.55596011e-06 1.30181995e-04\n",
      " 1.03730674e-06 0.00000000e+00 0.00000000e+00 0.00000000e+00\n",
      " 0.00000000e+00 0.00000000e+00 0.00000000e+00 0.00000000e+00\n",
      " 0.00000000e+00 0.00000000e+00 0.00000000e+00 0.00000000e+00\n",
      " 0.00000000e+00 0.00000000e+00 0.00000000e+00 0.00000000e+00\n",
      " 0.00000000e+00 0.00000000e+00 0.00000000e+00 0.00000000e+00\n",
      " 0.00000000e+00 0.00000000e+00 9.02635796e-02 2.28339739e-02\n",
      " 0.00000000e+00 0.00000000e+00 0.00000000e+00 0.00000000e+00\n",
      " 6.23639183e-02 6.22970120e-02 6.92402247e-05 0.00000000e+00\n",
      " 0.00000000e+00 0.00000000e+00 2.04868081e-05 2.21387190e-03\n",
      " 7.04901793e-03 1.03730674e-05 0.00000000e+00 0.00000000e+00\n",
      " 0.00000000e+00 0.00000000e+00 5.70518705e-06 2.33394016e-06\n",
      " 0.00000000e+00 0.00000000e+00 0.00000000e+00 0.00000000e+00\n",
      " 0.00000000e+00 0.00000000e+00 0.00000000e+00 0.00000000e+00\n",
      " 0.00000000e+00 0.00000000e+00 0.00000000e+00 0.00000000e+00\n",
      " 0.00000000e+00 0.00000000e+00 1.68562345e-05 2.30800749e-05\n",
      " 0.00000000e+00 0.00000000e+00 0.00000000e+00 0.00000000e+00\n",
      " 3.58908131e-04 3.66117413e-03 2.02741602e-03 0.00000000e+00\n",
      " 0.00000000e+00 0.00000000e+00 0.00000000e+00 9.87593811e-03\n",
      " 3.12317499e-02 1.74111936e-03 0.00000000e+00 0.00000000e+00\n",
      " 0.00000000e+00 6.48316710e-06 3.25818046e-03 2.63164719e-03\n",
      " 0.00000000e+00 0.00000000e+00 0.00000000e+00 0.00000000e+00\n",
      " 0.00000000e+00 0.00000000e+00 0.00000000e+00 0.00000000e+00\n",
      " 0.00000000e+00 0.00000000e+00 0.00000000e+00 0.00000000e+00\n",
      " 0.00000000e+00 0.00000000e+00 0.00000000e+00 0.00000000e+00\n",
      " 0.00000000e+00 0.00000000e+00 0.00000000e+00 0.00000000e+00\n",
      " 0.00000000e+00 0.00000000e+00 1.19290275e-05 0.00000000e+00\n",
      " 0.00000000e+00 0.00000000e+00 0.00000000e+00 1.32515936e-04\n",
      " 4.59475019e-03 1.78079634e-03 0.00000000e+00 0.00000000e+00\n",
      " 0.00000000e+00 2.59326684e-06 4.24154725e-03 5.48486310e-02\n",
      " 5.76223892e-03 0.00000000e+00 0.00000000e+00 0.00000000e+00\n",
      " 0.00000000e+00 6.37736182e-03 1.25540048e-03 0.00000000e+00\n",
      " 0.00000000e+00 0.00000000e+00 0.00000000e+00 0.00000000e+00\n",
      " 2.59326684e-07 0.00000000e+00 0.00000000e+00 0.00000000e+00\n",
      " 0.00000000e+00 0.00000000e+00 0.00000000e+00 0.00000000e+00\n",
      " 0.00000000e+00 0.00000000e+00 0.00000000e+00 0.00000000e+00\n",
      " 0.00000000e+00 0.00000000e+00 0.00000000e+00 0.00000000e+00\n",
      " 0.00000000e+00 0.00000000e+00 0.00000000e+00 0.00000000e+00\n",
      " 0.00000000e+00 0.00000000e+00 5.18653368e-07 4.87975022e-03\n",
      " 5.64035538e-04 2.59326684e-07 0.00000000e+00 0.00000000e+00\n",
      " 0.00000000e+00 7.66051025e-04 1.27400717e-01 4.07534477e-02\n",
      " 0.00000000e+00 0.00000000e+00 0.00000000e+00 2.59326684e-07\n",
      " 4.08151675e-02 8.31868138e-02 0.00000000e+00 0.00000000e+00\n",
      " 0.00000000e+00 0.00000000e+00 0.00000000e+00 0.00000000e+00\n",
      " 0.00000000e+00 0.00000000e+00 0.00000000e+00 0.00000000e+00\n",
      " 0.00000000e+00 0.00000000e+00 0.00000000e+00 0.00000000e+00\n",
      " 0.00000000e+00 0.00000000e+00 0.00000000e+00 0.00000000e+00\n",
      " 0.00000000e+00 0.00000000e+00 0.00000000e+00 0.00000000e+00\n",
      " 0.00000000e+00 0.00000000e+00 0.00000000e+00 0.00000000e+00\n",
      " 0.00000000e+00 2.59326684e-07 3.52912498e-02 6.67867349e-02\n",
      " 0.00000000e+00 0.00000000e+00 0.00000000e+00 0.00000000e+00\n",
      " 5.83938861e-02 4.51905273e-02 0.00000000e+00 0.00000000e+00\n",
      " 0.00000000e+00 0.00000000e+00 0.00000000e+00 0.00000000e+00\n",
      " 0.00000000e+00 0.00000000e+00 0.00000000e+00 0.00000000e+00\n",
      " 0.00000000e+00 0.00000000e+00 0.00000000e+00 0.00000000e+00\n",
      " 0.00000000e+00 0.00000000e+00 0.00000000e+00 0.00000000e+00\n",
      " 0.00000000e+00 0.00000000e+00 0.00000000e+00 0.00000000e+00\n",
      " 0.00000000e+00 0.00000000e+00 0.00000000e+00 0.00000000e+00\n",
      " 0.00000000e+00 0.00000000e+00 0.00000000e+00]\n"
     ]
    },
    {
     "name": "stderr",
     "output_type": "stream",
     "text": [
      "progress-bar: 100%|████████████████████████████████████████████████████████████████████████████████████████████████████████████████████████████████████████████| 1/1 [00:00<00:00,  2.55it/s]\n",
      "192.168.1.112 - - [04/Oct/2020 14:05:54] \"\u001b[37mPOST /hazard/predict HTTP/1.1\u001b[0m\" 200 -\n"
     ]
    },
    {
     "name": "stdout",
     "output_type": "stream",
     "text": [
      "  index                                               path is_hurricane  \\\n",
      "0   123  img/modis_hazard_a791903899c34969a1ec79aa825f8...        False   \n",
      "\n",
      "                                      color_features data_split  \n",
      "0  [0.023247081278169362, 0.0, 0.0, 0.0, 0.0, 0.0...    predict  \n",
      "Probability of hurricane:\n",
      "[0.165]\n",
      "Response:  {'latitude': 38.47655521834354, 'longitude': -70.20922499999999, 'predicted': [{'hazardType': 'hurricane', 'probability': 0.165}]}\n"
     ]
    },
    {
     "name": "stderr",
     "output_type": "stream",
     "text": [
      "192.168.1.112 - - [04/Oct/2020 14:06:45] \"\u001b[37mOPTIONS /hazard/predict HTTP/1.1\u001b[0m\" 200 -\n"
     ]
    },
    {
     "name": "stdout",
     "output_type": "stream",
     "text": [
      "Request received: \n",
      "{'latitude': 37.646162158282145, 'longitude': -71.79125624999999, 'predict': ['hurricane']}\n",
      "Calculating Square Shape...\n",
      "Shape:  {'lower_latitude': 32.646162158282145, 'left_longitude': -76.79125624999999, 'higher_latitude': 42.646162158282145, 'right_longitude': -66.79125624999999}\n",
      "Retrieve & download the MODIS image based on (X,Y,Z,K) parameters\n",
      "1757 2220\n",
      "Image PATH:  img/modis_hazard_01b6b27a546d4f20919a6656bb8ca89e.png  \n",
      "\n",
      "Predict if in the image is an Hurricane\n",
      "img/modis_hazard_01b6b27a546d4f20919a6656bb8ca89e.png\n",
      "0    img/modis_hazard_01b6b27a546d4f20919a6656bb8ca...\n",
      "Name: path, dtype: object\n"
     ]
    },
    {
     "name": "stderr",
     "output_type": "stream",
     "text": [
      "\r",
      "progress-bar:   0%|                                                                                                                                                    | 0/1 [00:00<?, ?it/s]"
     ]
    },
    {
     "name": "stdout",
     "output_type": "stream",
     "text": [
      "[2.56882380e-02 0.00000000e+00 0.00000000e+00 0.00000000e+00\n",
      " 0.00000000e+00 0.00000000e+00 0.00000000e+00 0.00000000e+00\n",
      " 0.00000000e+00 0.00000000e+00 0.00000000e+00 2.50616581e-02\n",
      " 0.00000000e+00 0.00000000e+00 0.00000000e+00 0.00000000e+00\n",
      " 5.65119189e-02 3.13889872e-02 2.04587057e-04 0.00000000e+00\n",
      " 0.00000000e+00 0.00000000e+00 4.61474565e-06 2.54836510e-04\n",
      " 5.89661944e-06 0.00000000e+00 0.00000000e+00 0.00000000e+00\n",
      " 0.00000000e+00 0.00000000e+00 0.00000000e+00 0.00000000e+00\n",
      " 0.00000000e+00 0.00000000e+00 0.00000000e+00 0.00000000e+00\n",
      " 0.00000000e+00 0.00000000e+00 0.00000000e+00 0.00000000e+00\n",
      " 0.00000000e+00 0.00000000e+00 0.00000000e+00 0.00000000e+00\n",
      " 0.00000000e+00 0.00000000e+00 8.57158240e-02 2.10281141e-02\n",
      " 0.00000000e+00 0.00000000e+00 0.00000000e+00 0.00000000e+00\n",
      " 5.84754931e-02 7.55997887e-02 3.35594559e-04 0.00000000e+00\n",
      " 0.00000000e+00 0.00000000e+00 2.43556020e-05 2.55349259e-03\n",
      " 1.22675322e-02 4.87112041e-05 0.00000000e+00 0.00000000e+00\n",
      " 0.00000000e+00 0.00000000e+00 1.20496136e-05 3.84562138e-06\n",
      " 0.00000000e+00 0.00000000e+00 0.00000000e+00 0.00000000e+00\n",
      " 0.00000000e+00 0.00000000e+00 0.00000000e+00 0.00000000e+00\n",
      " 0.00000000e+00 0.00000000e+00 0.00000000e+00 0.00000000e+00\n",
      " 0.00000000e+00 0.00000000e+00 3.25595943e-05 4.43528332e-05\n",
      " 0.00000000e+00 0.00000000e+00 0.00000000e+00 0.00000000e+00\n",
      " 2.74064617e-04 2.86934630e-03 1.74078461e-03 0.00000000e+00\n",
      " 0.00000000e+00 0.00000000e+00 0.00000000e+00 6.76521712e-03\n",
      " 3.03988678e-02 1.79052131e-03 0.00000000e+00 0.00000000e+00\n",
      " 0.00000000e+00 2.56374758e-07 2.92523599e-03 2.81755859e-03\n",
      " 0.00000000e+00 0.00000000e+00 0.00000000e+00 0.00000000e+00\n",
      " 0.00000000e+00 0.00000000e+00 0.00000000e+00 0.00000000e+00\n",
      " 0.00000000e+00 0.00000000e+00 0.00000000e+00 0.00000000e+00\n",
      " 0.00000000e+00 0.00000000e+00 0.00000000e+00 0.00000000e+00\n",
      " 0.00000000e+00 0.00000000e+00 0.00000000e+00 0.00000000e+00\n",
      " 0.00000000e+00 0.00000000e+00 5.12749517e-06 0.00000000e+00\n",
      " 0.00000000e+00 0.00000000e+00 0.00000000e+00 3.23032196e-05\n",
      " 3.94355653e-03 1.59824024e-03 0.00000000e+00 0.00000000e+00\n",
      " 0.00000000e+00 2.56374758e-07 3.40158029e-03 5.05012127e-02\n",
      " 5.08057859e-03 0.00000000e+00 0.00000000e+00 0.00000000e+00\n",
      " 0.00000000e+00 5.16928425e-03 1.04575264e-03 2.56374758e-06\n",
      " 0.00000000e+00 0.00000000e+00 0.00000000e+00 0.00000000e+00\n",
      " 2.56374758e-07 0.00000000e+00 0.00000000e+00 0.00000000e+00\n",
      " 0.00000000e+00 0.00000000e+00 0.00000000e+00 0.00000000e+00\n",
      " 0.00000000e+00 0.00000000e+00 0.00000000e+00 0.00000000e+00\n",
      " 0.00000000e+00 0.00000000e+00 0.00000000e+00 0.00000000e+00\n",
      " 0.00000000e+00 0.00000000e+00 0.00000000e+00 0.00000000e+00\n",
      " 0.00000000e+00 0.00000000e+00 0.00000000e+00 4.12788998e-03\n",
      " 4.77882550e-04 2.56374758e-07 0.00000000e+00 0.00000000e+00\n",
      " 0.00000000e+00 5.92994816e-04 1.12271121e-01 3.65100730e-02\n",
      " 0.00000000e+00 0.00000000e+00 0.00000000e+00 2.56374758e-07\n",
      " 3.63390710e-02 8.41734734e-02 0.00000000e+00 0.00000000e+00\n",
      " 0.00000000e+00 0.00000000e+00 0.00000000e+00 0.00000000e+00\n",
      " 0.00000000e+00 0.00000000e+00 0.00000000e+00 0.00000000e+00\n",
      " 0.00000000e+00 0.00000000e+00 0.00000000e+00 0.00000000e+00\n",
      " 0.00000000e+00 0.00000000e+00 0.00000000e+00 0.00000000e+00\n",
      " 0.00000000e+00 0.00000000e+00 0.00000000e+00 0.00000000e+00\n",
      " 0.00000000e+00 0.00000000e+00 0.00000000e+00 0.00000000e+00\n",
      " 0.00000000e+00 2.56374758e-07 3.21360632e-02 6.87722726e-02\n",
      " 0.00000000e+00 0.00000000e+00 0.00000000e+00 0.00000000e+00\n",
      " 6.07000569e-02 4.82733160e-02 0.00000000e+00 0.00000000e+00\n",
      " 0.00000000e+00 0.00000000e+00 0.00000000e+00 0.00000000e+00\n",
      " 0.00000000e+00 0.00000000e+00 0.00000000e+00 0.00000000e+00\n",
      " 0.00000000e+00 0.00000000e+00 0.00000000e+00 0.00000000e+00\n",
      " 0.00000000e+00 0.00000000e+00 0.00000000e+00 0.00000000e+00\n",
      " 0.00000000e+00 0.00000000e+00 0.00000000e+00 0.00000000e+00\n",
      " 0.00000000e+00 0.00000000e+00 0.00000000e+00 0.00000000e+00\n",
      " 0.00000000e+00 0.00000000e+00 0.00000000e+00]\n"
     ]
    },
    {
     "name": "stderr",
     "output_type": "stream",
     "text": [
      "progress-bar: 100%|████████████████████████████████████████████████████████████████████████████████████████████████████████████████████████████████████████████| 1/1 [00:00<00:00,  2.69it/s]\n",
      "192.168.1.112 - - [04/Oct/2020 14:06:54] \"\u001b[37mPOST /hazard/predict HTTP/1.1\u001b[0m\" 200 -\n"
     ]
    },
    {
     "name": "stdout",
     "output_type": "stream",
     "text": [
      "  index                                               path is_hurricane  \\\n",
      "0   123  img/modis_hazard_01b6b27a546d4f20919a6656bb8ca...        False   \n",
      "\n",
      "                                      color_features data_split  \n",
      "0  [0.02568823803883565, 0.0, 0.0, 0.0, 0.0, 0.0,...    predict  \n",
      "Probability of hurricane:\n",
      "[0.125]\n",
      "Response:  {'latitude': 37.646162158282145, 'longitude': -71.79125624999999, 'predicted': [{'hazardType': 'hurricane', 'probability': 0.125}]}\n"
     ]
    },
    {
     "name": "stderr",
     "output_type": "stream",
     "text": [
      "192.168.1.112 - - [04/Oct/2020 14:07:40] \"\u001b[37mOPTIONS /hazard/predict HTTP/1.1\u001b[0m\" 200 -\n"
     ]
    },
    {
     "name": "stdout",
     "output_type": "stream",
     "text": [
      "Request received: \n",
      "{'latitude': 35.24265685080267, 'longitude': -72.31859999999999, 'predict': ['hurricane']}\n",
      "Calculating Square Shape...\n",
      "Shape:  {'lower_latitude': 30.242656850802668, 'left_longitude': -77.31859999999999, 'higher_latitude': 40.24265685080267, 'right_longitude': -67.31859999999999}\n",
      "Retrieve & download the MODIS image based on (X,Y,Z,K) parameters\n",
      "1813 2220\n",
      "Image PATH:  img/modis_hazard_48a574acdaa243e99c043b11193f793e.png  \n",
      "\n",
      "Predict if in the image is an Hurricane\n",
      "img/modis_hazard_48a574acdaa243e99c043b11193f793e.png\n",
      "0    img/modis_hazard_48a574acdaa243e99c043b11193f7...\n",
      "Name: path, dtype: object\n"
     ]
    },
    {
     "name": "stderr",
     "output_type": "stream",
     "text": [
      "\r",
      "progress-bar:   0%|                                                                                                                                                    | 0/1 [00:00<?, ?it/s]"
     ]
    },
    {
     "name": "stdout",
     "output_type": "stream",
     "text": [
      "[2.00469085e-02 0.00000000e+00 0.00000000e+00 0.00000000e+00\n",
      " 0.00000000e+00 0.00000000e+00 0.00000000e+00 0.00000000e+00\n",
      " 0.00000000e+00 0.00000000e+00 0.00000000e+00 1.77750282e-02\n",
      " 0.00000000e+00 0.00000000e+00 0.00000000e+00 0.00000000e+00\n",
      " 3.71560750e-02 2.27389276e-02 2.15659675e-04 0.00000000e+00\n",
      " 0.00000000e+00 0.00000000e+00 2.73301432e-06 1.38886818e-04\n",
      " 4.72066109e-06 0.00000000e+00 0.00000000e+00 0.00000000e+00\n",
      " 0.00000000e+00 0.00000000e+00 0.00000000e+00 0.00000000e+00\n",
      " 0.00000000e+00 0.00000000e+00 0.00000000e+00 0.00000000e+00\n",
      " 0.00000000e+00 0.00000000e+00 0.00000000e+00 0.00000000e+00\n",
      " 0.00000000e+00 0.00000000e+00 0.00000000e+00 0.00000000e+00\n",
      " 0.00000000e+00 0.00000000e+00 5.82517156e-02 1.44934234e-02\n",
      " 0.00000000e+00 0.00000000e+00 0.00000000e+00 0.00000000e+00\n",
      " 3.75640395e-02 6.07432308e-02 3.38396863e-04 2.48455847e-07\n",
      " 0.00000000e+00 0.00000000e+00 1.26712482e-05 6.24121087e-04\n",
      " 6.67253022e-03 3.95044797e-05 0.00000000e+00 0.00000000e+00\n",
      " 0.00000000e+00 0.00000000e+00 5.96294033e-06 4.22374940e-06\n",
      " 0.00000000e+00 0.00000000e+00 0.00000000e+00 0.00000000e+00\n",
      " 0.00000000e+00 0.00000000e+00 0.00000000e+00 0.00000000e+00\n",
      " 0.00000000e+00 0.00000000e+00 0.00000000e+00 0.00000000e+00\n",
      " 0.00000000e+00 0.00000000e+00 2.53176508e-04 4.09206780e-04\n",
      " 0.00000000e+00 0.00000000e+00 0.00000000e+00 0.00000000e+00\n",
      " 2.10094264e-03 1.63876508e-02 4.35095879e-03 0.00000000e+00\n",
      " 0.00000000e+00 0.00000000e+00 2.48455847e-07 1.17176747e-02\n",
      " 2.91990280e-02 1.69571116e-03 0.00000000e+00 0.00000000e+00\n",
      " 0.00000000e+00 2.48455847e-07 2.65499918e-03 1.87609010e-03\n",
      " 2.48455847e-07 0.00000000e+00 0.00000000e+00 0.00000000e+00\n",
      " 0.00000000e+00 0.00000000e+00 0.00000000e+00 0.00000000e+00\n",
      " 0.00000000e+00 0.00000000e+00 0.00000000e+00 0.00000000e+00\n",
      " 0.00000000e+00 0.00000000e+00 0.00000000e+00 0.00000000e+00\n",
      " 0.00000000e+00 0.00000000e+00 0.00000000e+00 0.00000000e+00\n",
      " 0.00000000e+00 1.49073508e-06 4.64612434e-05 0.00000000e+00\n",
      " 0.00000000e+00 0.00000000e+00 0.00000000e+00 1.83111959e-04\n",
      " 9.16330009e-03 3.00730957e-03 0.00000000e+00 0.00000000e+00\n",
      " 0.00000000e+00 0.00000000e+00 5.47944525e-03 5.84268770e-02\n",
      " 4.68289580e-03 0.00000000e+00 0.00000000e+00 0.00000000e+00\n",
      " 0.00000000e+00 4.93060628e-03 8.90217299e-04 2.48455847e-07\n",
      " 0.00000000e+00 0.00000000e+00 0.00000000e+00 0.00000000e+00\n",
      " 0.00000000e+00 0.00000000e+00 0.00000000e+00 0.00000000e+00\n",
      " 0.00000000e+00 0.00000000e+00 0.00000000e+00 0.00000000e+00\n",
      " 0.00000000e+00 0.00000000e+00 0.00000000e+00 0.00000000e+00\n",
      " 0.00000000e+00 0.00000000e+00 0.00000000e+00 0.00000000e+00\n",
      " 0.00000000e+00 0.00000000e+00 0.00000000e+00 0.00000000e+00\n",
      " 0.00000000e+00 0.00000000e+00 9.93823388e-07 6.71526463e-03\n",
      " 6.67352405e-04 0.00000000e+00 0.00000000e+00 0.00000000e+00\n",
      " 0.00000000e+00 7.67231655e-04 1.28401733e-01 4.02851279e-02\n",
      " 0.00000000e+00 0.00000000e+00 0.00000000e+00 0.00000000e+00\n",
      " 4.09412998e-02 9.87393350e-02 0.00000000e+00 0.00000000e+00\n",
      " 0.00000000e+00 0.00000000e+00 0.00000000e+00 0.00000000e+00\n",
      " 0.00000000e+00 0.00000000e+00 0.00000000e+00 0.00000000e+00\n",
      " 0.00000000e+00 0.00000000e+00 0.00000000e+00 0.00000000e+00\n",
      " 0.00000000e+00 0.00000000e+00 0.00000000e+00 0.00000000e+00\n",
      " 0.00000000e+00 0.00000000e+00 0.00000000e+00 0.00000000e+00\n",
      " 7.45367541e-07 0.00000000e+00 0.00000000e+00 0.00000000e+00\n",
      " 0.00000000e+00 0.00000000e+00 3.83583528e-02 8.24883350e-02\n",
      " 0.00000000e+00 0.00000000e+00 0.00000000e+00 0.00000000e+00\n",
      " 7.31863965e-02 5.51606764e-02 0.00000000e+00 0.00000000e+00\n",
      " 0.00000000e+00 0.00000000e+00 0.00000000e+00 0.00000000e+00\n",
      " 0.00000000e+00 0.00000000e+00 0.00000000e+00 0.00000000e+00\n",
      " 0.00000000e+00 0.00000000e+00 0.00000000e+00 0.00000000e+00\n",
      " 0.00000000e+00 0.00000000e+00 0.00000000e+00 0.00000000e+00\n",
      " 0.00000000e+00 0.00000000e+00 0.00000000e+00 0.00000000e+00\n",
      " 0.00000000e+00 0.00000000e+00 0.00000000e+00 0.00000000e+00\n",
      " 0.00000000e+00 0.00000000e+00 0.00000000e+00]\n"
     ]
    },
    {
     "name": "stderr",
     "output_type": "stream",
     "text": [
      "progress-bar: 100%|████████████████████████████████████████████████████████████████████████████████████████████████████████████████████████████████████████████| 1/1 [00:00<00:00,  2.63it/s]\n",
      "192.168.1.112 - - [04/Oct/2020 14:07:49] \"\u001b[37mPOST /hazard/predict HTTP/1.1\u001b[0m\" 200 -\n"
     ]
    },
    {
     "name": "stdout",
     "output_type": "stream",
     "text": [
      "  index                                               path is_hurricane  \\\n",
      "0   123  img/modis_hazard_48a574acdaa243e99c043b11193f7...        False   \n",
      "\n",
      "                                      color_features data_split  \n",
      "0  [0.02004690846389688, 0.0, 0.0, 0.0, 0.0, 0.0,...    predict  \n",
      "Probability of hurricane:\n",
      "[0.235]\n",
      "Response:  {'latitude': 35.24265685080267, 'longitude': -72.31859999999999, 'predicted': [{'hazardType': 'hurricane', 'probability': 0.235}]}\n"
     ]
    },
    {
     "name": "stderr",
     "output_type": "stream",
     "text": [
      "192.168.1.112 - - [04/Oct/2020 14:08:43] \"\u001b[37mOPTIONS /hazard/predict HTTP/1.1\u001b[0m\" 200 -\n"
     ]
    },
    {
     "name": "stdout",
     "output_type": "stream",
     "text": [
      "Request received: \n",
      "{'latitude': 33.64818896432872, 'longitude': -74.25219374999999, 'predict': ['hurricane']}\n",
      "Calculating Square Shape...\n",
      "Shape:  {'lower_latitude': 28.648188964328718, 'left_longitude': -79.25219374999999, 'higher_latitude': 38.64818896432872, 'right_longitude': -69.25219374999999}\n",
      "Retrieve & download the MODIS image based on (X,Y,Z,K) parameters\n",
      "1848 2220\n",
      "Image PATH:  img/modis_hazard_79dbeb9835cb4b6780532f9d755297b5.png  \n",
      "\n",
      "Predict if in the image is an Hurricane\n",
      "img/modis_hazard_79dbeb9835cb4b6780532f9d755297b5.png\n",
      "0    img/modis_hazard_79dbeb9835cb4b6780532f9d75529...\n",
      "Name: path, dtype: object\n"
     ]
    },
    {
     "name": "stderr",
     "output_type": "stream",
     "text": [
      "\r",
      "progress-bar:   0%|                                                                                                                                                    | 0/1 [00:00<?, ?it/s]"
     ]
    },
    {
     "name": "stdout",
     "output_type": "stream",
     "text": [
      "[1.47707773e-02 0.00000000e+00 0.00000000e+00 0.00000000e+00\n",
      " 0.00000000e+00 0.00000000e+00 0.00000000e+00 0.00000000e+00\n",
      " 0.00000000e+00 0.00000000e+00 0.00000000e+00 1.12381050e-02\n",
      " 0.00000000e+00 0.00000000e+00 0.00000000e+00 0.00000000e+00\n",
      " 2.53475878e-02 1.63987851e-02 6.02063102e-05 0.00000000e+00\n",
      " 0.00000000e+00 0.00000000e+00 1.95000195e-06 5.21625522e-05\n",
      " 1.46250146e-06 0.00000000e+00 0.00000000e+00 0.00000000e+00\n",
      " 0.00000000e+00 0.00000000e+00 0.00000000e+00 0.00000000e+00\n",
      " 0.00000000e+00 0.00000000e+00 0.00000000e+00 0.00000000e+00\n",
      " 0.00000000e+00 0.00000000e+00 0.00000000e+00 0.00000000e+00\n",
      " 0.00000000e+00 0.00000000e+00 0.00000000e+00 0.00000000e+00\n",
      " 0.00000000e+00 0.00000000e+00 3.14830252e-02 1.28432003e-02\n",
      " 2.43750244e-07 0.00000000e+00 0.00000000e+00 0.00000000e+00\n",
      " 3.25228638e-02 7.95079170e-02 1.13831364e-04 0.00000000e+00\n",
      " 0.00000000e+00 0.00000000e+00 1.48687649e-05 5.55994306e-04\n",
      " 5.19553645e-03 2.24250224e-05 0.00000000e+00 0.00000000e+00\n",
      " 0.00000000e+00 0.00000000e+00 1.95000195e-06 3.16875317e-06\n",
      " 0.00000000e+00 0.00000000e+00 0.00000000e+00 0.00000000e+00\n",
      " 0.00000000e+00 0.00000000e+00 0.00000000e+00 0.00000000e+00\n",
      " 0.00000000e+00 0.00000000e+00 0.00000000e+00 0.00000000e+00\n",
      " 0.00000000e+00 0.00000000e+00 6.95663196e-04 1.33770134e-03\n",
      " 0.00000000e+00 0.00000000e+00 0.00000000e+00 0.00000000e+00\n",
      " 4.28244803e-03 2.95315608e-02 6.44500020e-03 0.00000000e+00\n",
      " 0.00000000e+00 0.00000000e+00 4.87500488e-07 1.54749717e-02\n",
      " 3.63865489e-02 2.06163956e-03 0.00000000e+00 0.00000000e+00\n",
      " 0.00000000e+00 0.00000000e+00 3.31085956e-03 2.55133380e-03\n",
      " 2.43750244e-07 0.00000000e+00 0.00000000e+00 0.00000000e+00\n",
      " 0.00000000e+00 2.43750244e-07 0.00000000e+00 0.00000000e+00\n",
      " 0.00000000e+00 0.00000000e+00 0.00000000e+00 0.00000000e+00\n",
      " 0.00000000e+00 0.00000000e+00 0.00000000e+00 0.00000000e+00\n",
      " 0.00000000e+00 0.00000000e+00 0.00000000e+00 0.00000000e+00\n",
      " 0.00000000e+00 7.31250731e-07 5.33813034e-05 0.00000000e+00\n",
      " 0.00000000e+00 0.00000000e+00 0.00000000e+00 1.67700168e-04\n",
      " 1.05872918e-02 3.40762841e-03 0.00000000e+00 0.00000000e+00\n",
      " 0.00000000e+00 2.43750244e-07 6.15225615e-03 6.73757361e-02\n",
      " 4.80797356e-03 0.00000000e+00 0.00000000e+00 0.00000000e+00\n",
      " 0.00000000e+00 5.63574939e-03 8.87007137e-04 2.43750244e-07\n",
      " 0.00000000e+00 0.00000000e+00 0.00000000e+00 0.00000000e+00\n",
      " 0.00000000e+00 0.00000000e+00 0.00000000e+00 0.00000000e+00\n",
      " 0.00000000e+00 0.00000000e+00 0.00000000e+00 0.00000000e+00\n",
      " 0.00000000e+00 0.00000000e+00 0.00000000e+00 0.00000000e+00\n",
      " 0.00000000e+00 0.00000000e+00 0.00000000e+00 0.00000000e+00\n",
      " 0.00000000e+00 2.43750244e-07 0.00000000e+00 0.00000000e+00\n",
      " 0.00000000e+00 0.00000000e+00 1.21875122e-06 8.26508327e-03\n",
      " 7.48800749e-04 0.00000000e+00 0.00000000e+00 0.00000000e+00\n",
      " 0.00000000e+00 8.26800827e-04 1.31591494e-01 3.67048867e-02\n",
      " 0.00000000e+00 0.00000000e+00 0.00000000e+00 0.00000000e+00\n",
      " 3.77379002e-02 9.75673726e-02 0.00000000e+00 0.00000000e+00\n",
      " 0.00000000e+00 0.00000000e+00 0.00000000e+00 0.00000000e+00\n",
      " 0.00000000e+00 0.00000000e+00 0.00000000e+00 0.00000000e+00\n",
      " 0.00000000e+00 0.00000000e+00 0.00000000e+00 0.00000000e+00\n",
      " 0.00000000e+00 0.00000000e+00 0.00000000e+00 0.00000000e+00\n",
      " 0.00000000e+00 0.00000000e+00 0.00000000e+00 0.00000000e+00\n",
      " 4.87500488e-07 0.00000000e+00 0.00000000e+00 0.00000000e+00\n",
      " 0.00000000e+00 7.31250731e-07 3.72096935e-02 8.27266390e-02\n",
      " 0.00000000e+00 0.00000000e+00 0.00000000e+00 0.00000000e+00\n",
      " 7.44788620e-02 6.08490796e-02 0.00000000e+00 0.00000000e+00\n",
      " 0.00000000e+00 0.00000000e+00 0.00000000e+00 0.00000000e+00\n",
      " 0.00000000e+00 0.00000000e+00 0.00000000e+00 0.00000000e+00\n",
      " 0.00000000e+00 0.00000000e+00 0.00000000e+00 0.00000000e+00\n",
      " 0.00000000e+00 0.00000000e+00 0.00000000e+00 0.00000000e+00\n",
      " 0.00000000e+00 0.00000000e+00 0.00000000e+00 0.00000000e+00\n",
      " 0.00000000e+00 0.00000000e+00 0.00000000e+00 0.00000000e+00\n",
      " 0.00000000e+00 0.00000000e+00 0.00000000e+00]\n"
     ]
    },
    {
     "name": "stderr",
     "output_type": "stream",
     "text": [
      "progress-bar: 100%|████████████████████████████████████████████████████████████████████████████████████████████████████████████████████████████████████████████| 1/1 [00:00<00:00,  2.63it/s]\n",
      "192.168.1.112 - - [04/Oct/2020 14:08:58] \"\u001b[37mPOST /hazard/predict HTTP/1.1\u001b[0m\" 200 -\n"
     ]
    },
    {
     "name": "stdout",
     "output_type": "stream",
     "text": [
      "  index                                               path is_hurricane  \\\n",
      "0   123  img/modis_hazard_79dbeb9835cb4b6780532f9d75529...        False   \n",
      "\n",
      "                                      color_features data_split  \n",
      "0  [0.014770777270777271, 0.0, 0.0, 0.0, 0.0, 0.0...    predict  \n",
      "Probability of hurricane:\n",
      "[0.28]\n",
      "Response:  {'latitude': 33.64818896432872, 'longitude': -74.25219374999999, 'predicted': [{'hazardType': 'hurricane', 'probability': 0.28}]}\n"
     ]
    },
    {
     "name": "stderr",
     "output_type": "stream",
     "text": [
      "192.168.1.112 - - [04/Oct/2020 14:10:01] \"\u001b[37mOPTIONS /hazard/predict HTTP/1.1\u001b[0m\" 200 -\n"
     ]
    },
    {
     "name": "stdout",
     "output_type": "stream",
     "text": [
      "Request received: \n",
      "{'latitude': 41.17592395187159, 'longitude': -65.81469374999999, 'predict': ['hurricane']}\n",
      "Calculating Square Shape...\n",
      "Shape:  {'lower_latitude': 36.17592395187159, 'left_longitude': -70.81469374999999, 'higher_latitude': 46.17592395187159, 'right_longitude': -60.81469374999999}\n",
      "Retrieve & download the MODIS image based on (X,Y,Z,K) parameters\n",
      "1670 2220\n",
      "Image PATH:  img/modis_hazard_572e680e52ab41289dd8bfc83a768cf1.png  \n",
      "\n",
      "Predict if in the image is an Hurricane\n",
      "img/modis_hazard_572e680e52ab41289dd8bfc83a768cf1.png\n",
      "0    img/modis_hazard_572e680e52ab41289dd8bfc83a768...\n",
      "Name: path, dtype: object\n"
     ]
    },
    {
     "name": "stderr",
     "output_type": "stream",
     "text": [
      "\r",
      "progress-bar:   0%|                                                                                                                                                    | 0/1 [00:00<?, ?it/s]"
     ]
    },
    {
     "name": "stdout",
     "output_type": "stream",
     "text": [
      "[4.80471489e-03 0.00000000e+00 0.00000000e+00 0.00000000e+00\n",
      " 0.00000000e+00 0.00000000e+00 0.00000000e+00 0.00000000e+00\n",
      " 0.00000000e+00 0.00000000e+00 0.00000000e+00 9.58919998e-03\n",
      " 0.00000000e+00 0.00000000e+00 0.00000000e+00 0.00000000e+00\n",
      " 2.26371581e-02 8.06063549e-03 5.39461617e-07 0.00000000e+00\n",
      " 0.00000000e+00 0.00000000e+00 0.00000000e+00 6.47353941e-06\n",
      " 0.00000000e+00 0.00000000e+00 0.00000000e+00 0.00000000e+00\n",
      " 0.00000000e+00 0.00000000e+00 0.00000000e+00 0.00000000e+00\n",
      " 0.00000000e+00 0.00000000e+00 0.00000000e+00 0.00000000e+00\n",
      " 0.00000000e+00 0.00000000e+00 0.00000000e+00 0.00000000e+00\n",
      " 0.00000000e+00 0.00000000e+00 0.00000000e+00 0.00000000e+00\n",
      " 0.00000000e+00 0.00000000e+00 4.73490856e-02 1.75732319e-02\n",
      " 0.00000000e+00 0.00000000e+00 0.00000000e+00 0.00000000e+00\n",
      " 5.29535524e-02 4.37654421e-02 7.82219345e-06 0.00000000e+00\n",
      " 0.00000000e+00 0.00000000e+00 8.17284350e-05 4.41549334e-04\n",
      " 1.36807466e-03 8.09192426e-07 0.00000000e+00 0.00000000e+00\n",
      " 0.00000000e+00 0.00000000e+00 2.69730809e-07 0.00000000e+00\n",
      " 0.00000000e+00 0.00000000e+00 0.00000000e+00 0.00000000e+00\n",
      " 0.00000000e+00 0.00000000e+00 0.00000000e+00 0.00000000e+00\n",
      " 0.00000000e+00 0.00000000e+00 0.00000000e+00 0.00000000e+00\n",
      " 0.00000000e+00 0.00000000e+00 2.94006581e-05 3.77623132e-05\n",
      " 0.00000000e+00 0.00000000e+00 0.00000000e+00 0.00000000e+00\n",
      " 8.14587042e-04 4.16410422e-03 1.99762637e-03 0.00000000e+00\n",
      " 0.00000000e+00 0.00000000e+00 8.09192426e-07 1.40993688e-02\n",
      " 3.20229811e-02 1.87570804e-03 0.00000000e+00 0.00000000e+00\n",
      " 0.00000000e+00 3.04795814e-05 4.42331553e-03 2.58456061e-03\n",
      " 0.00000000e+00 0.00000000e+00 0.00000000e+00 0.00000000e+00\n",
      " 0.00000000e+00 0.00000000e+00 0.00000000e+00 0.00000000e+00\n",
      " 0.00000000e+00 0.00000000e+00 0.00000000e+00 0.00000000e+00\n",
      " 0.00000000e+00 0.00000000e+00 0.00000000e+00 0.00000000e+00\n",
      " 0.00000000e+00 0.00000000e+00 0.00000000e+00 0.00000000e+00\n",
      " 0.00000000e+00 1.34865404e-06 2.34665804e-05 0.00000000e+00\n",
      " 0.00000000e+00 0.00000000e+00 0.00000000e+00 3.35275395e-04\n",
      " 7.00706695e-03 2.48799698e-03 0.00000000e+00 0.00000000e+00\n",
      " 0.00000000e+00 1.26773480e-05 7.06910503e-03 7.13731995e-02\n",
      " 7.41463020e-03 0.00000000e+00 0.00000000e+00 0.00000000e+00\n",
      " 2.69730809e-07 8.77245509e-03 1.69417921e-03 5.39461617e-07\n",
      " 0.00000000e+00 0.00000000e+00 0.00000000e+00 0.00000000e+00\n",
      " 0.00000000e+00 0.00000000e+00 0.00000000e+00 0.00000000e+00\n",
      " 0.00000000e+00 0.00000000e+00 0.00000000e+00 0.00000000e+00\n",
      " 0.00000000e+00 0.00000000e+00 0.00000000e+00 0.00000000e+00\n",
      " 0.00000000e+00 0.00000000e+00 0.00000000e+00 0.00000000e+00\n",
      " 0.00000000e+00 0.00000000e+00 0.00000000e+00 0.00000000e+00\n",
      " 0.00000000e+00 0.00000000e+00 3.50650051e-06 8.87360414e-03\n",
      " 8.67993742e-04 8.09192426e-07 0.00000000e+00 0.00000000e+00\n",
      " 0.00000000e+00 1.22673572e-03 1.82148136e-01 4.67635000e-02\n",
      " 0.00000000e+00 0.00000000e+00 0.00000000e+00 0.00000000e+00\n",
      " 4.65728003e-02 8.87894481e-02 0.00000000e+00 0.00000000e+00\n",
      " 0.00000000e+00 0.00000000e+00 0.00000000e+00 0.00000000e+00\n",
      " 0.00000000e+00 0.00000000e+00 0.00000000e+00 0.00000000e+00\n",
      " 0.00000000e+00 0.00000000e+00 0.00000000e+00 0.00000000e+00\n",
      " 0.00000000e+00 0.00000000e+00 0.00000000e+00 0.00000000e+00\n",
      " 0.00000000e+00 0.00000000e+00 0.00000000e+00 0.00000000e+00\n",
      " 0.00000000e+00 0.00000000e+00 0.00000000e+00 0.00000000e+00\n",
      " 0.00000000e+00 2.69730809e-07 4.29608351e-02 7.38261315e-02\n",
      " 0.00000000e+00 0.00000000e+00 0.00000000e+00 0.00000000e+00\n",
      " 6.63206020e-02 6.47324270e-02 0.00000000e+00 0.00000000e+00\n",
      " 0.00000000e+00 0.00000000e+00 0.00000000e+00 0.00000000e+00\n",
      " 0.00000000e+00 0.00000000e+00 0.00000000e+00 0.00000000e+00\n",
      " 0.00000000e+00 0.00000000e+00 0.00000000e+00 0.00000000e+00\n",
      " 0.00000000e+00 0.00000000e+00 0.00000000e+00 0.00000000e+00\n",
      " 0.00000000e+00 0.00000000e+00 0.00000000e+00 0.00000000e+00\n",
      " 0.00000000e+00 0.00000000e+00 0.00000000e+00 0.00000000e+00\n",
      " 0.00000000e+00 0.00000000e+00 0.00000000e+00]\n"
     ]
    },
    {
     "name": "stderr",
     "output_type": "stream",
     "text": [
      "progress-bar: 100%|████████████████████████████████████████████████████████████████████████████████████████████████████████████████████████████████████████████| 1/1 [00:00<00:00,  2.89it/s]\n",
      "192.168.1.112 - - [04/Oct/2020 14:10:10] \"\u001b[37mPOST /hazard/predict HTTP/1.1\u001b[0m\" 200 -\n"
     ]
    },
    {
     "name": "stdout",
     "output_type": "stream",
     "text": [
      "  index                                               path is_hurricane  \\\n",
      "0   123  img/modis_hazard_572e680e52ab41289dd8bfc83a768...        False   \n",
      "\n",
      "                                      color_features data_split  \n",
      "0  [0.004804714894535254, 0.0, 0.0, 0.0, 0.0, 0.0...    predict  \n",
      "Probability of hurricane:\n",
      "[0.19]\n",
      "Response:  {'latitude': 41.17592395187159, 'longitude': -65.81469374999999, 'predicted': [{'hazardType': 'hurricane', 'probability': 0.19}]}\n"
     ]
    },
    {
     "name": "stderr",
     "output_type": "stream",
     "text": [
      "192.168.1.112 - - [04/Oct/2020 14:10:54] \"\u001b[37mOPTIONS /hazard/predict HTTP/1.1\u001b[0m\" 200 -\n"
     ]
    },
    {
     "name": "stdout",
     "output_type": "stream",
     "text": [
      "Request received: \n",
      "{'latitude': 28.533088015821686, 'longitude': -76.18578749999999, 'predict': ['hurricane']}\n",
      "Calculating Square Shape...\n",
      "Shape:  {'lower_latitude': 23.533088015821686, 'left_longitude': -81.18578749999999, 'higher_latitude': 33.53308801582169, 'right_longitude': -71.18578749999999}\n",
      "Retrieve & download the MODIS image based on (X,Y,Z,K) parameters\n",
      "1950 2220\n",
      "Image PATH:  img/modis_hazard_335c0477e57149258aff1bc934c76a48.png  \n",
      "\n",
      "Predict if in the image is an Hurricane\n",
      "img/modis_hazard_335c0477e57149258aff1bc934c76a48.png\n",
      "0    img/modis_hazard_335c0477e57149258aff1bc934c76...\n",
      "Name: path, dtype: object\n"
     ]
    },
    {
     "name": "stderr",
     "output_type": "stream",
     "text": [
      "\r",
      "progress-bar:   0%|                                                                                                                                                    | 0/1 [00:00<?, ?it/s]"
     ]
    },
    {
     "name": "stdout",
     "output_type": "stream",
     "text": [
      "[6.29706630e-04 0.00000000e+00 0.00000000e+00 0.00000000e+00\n",
      " 0.00000000e+00 0.00000000e+00 0.00000000e+00 0.00000000e+00\n",
      " 0.00000000e+00 0.00000000e+00 0.00000000e+00 6.29706630e-04\n",
      " 0.00000000e+00 0.00000000e+00 0.00000000e+00 0.00000000e+00\n",
      " 9.73203973e-04 4.32663433e-04 0.00000000e+00 0.00000000e+00\n",
      " 0.00000000e+00 0.00000000e+00 2.31000231e-07 2.31000231e-07\n",
      " 0.00000000e+00 0.00000000e+00 0.00000000e+00 0.00000000e+00\n",
      " 0.00000000e+00 0.00000000e+00 0.00000000e+00 0.00000000e+00\n",
      " 0.00000000e+00 0.00000000e+00 0.00000000e+00 0.00000000e+00\n",
      " 0.00000000e+00 0.00000000e+00 0.00000000e+00 0.00000000e+00\n",
      " 0.00000000e+00 0.00000000e+00 0.00000000e+00 0.00000000e+00\n",
      " 0.00000000e+00 0.00000000e+00 2.89683530e-02 2.23746824e-02\n",
      " 0.00000000e+00 0.00000000e+00 0.00000000e+00 0.00000000e+00\n",
      " 4.39974590e-02 1.05209517e-01 2.07900208e-06 0.00000000e+00\n",
      " 0.00000000e+00 0.00000000e+00 1.77870178e-05 2.23839224e-04\n",
      " 4.21575422e-04 0.00000000e+00 0.00000000e+00 0.00000000e+00\n",
      " 0.00000000e+00 0.00000000e+00 1.38600139e-06 6.93000693e-07\n",
      " 0.00000000e+00 0.00000000e+00 0.00000000e+00 0.00000000e+00\n",
      " 0.00000000e+00 0.00000000e+00 0.00000000e+00 0.00000000e+00\n",
      " 0.00000000e+00 0.00000000e+00 0.00000000e+00 0.00000000e+00\n",
      " 0.00000000e+00 0.00000000e+00 1.56340956e-03 2.75698776e-03\n",
      " 0.00000000e+00 0.00000000e+00 0.00000000e+00 0.00000000e+00\n",
      " 7.07438207e-03 5.00568261e-02 1.22069762e-02 0.00000000e+00\n",
      " 0.00000000e+00 0.00000000e+00 1.40910141e-05 2.81155001e-02\n",
      " 4.47057057e-02 1.85932086e-03 0.00000000e+00 0.00000000e+00\n",
      " 2.31000231e-07 3.70986371e-04 4.83275583e-03 1.75444675e-03\n",
      " 0.00000000e+00 0.00000000e+00 0.00000000e+00 0.00000000e+00\n",
      " 0.00000000e+00 0.00000000e+00 0.00000000e+00 0.00000000e+00\n",
      " 0.00000000e+00 0.00000000e+00 0.00000000e+00 0.00000000e+00\n",
      " 0.00000000e+00 0.00000000e+00 0.00000000e+00 0.00000000e+00\n",
      " 0.00000000e+00 0.00000000e+00 0.00000000e+00 0.00000000e+00\n",
      " 2.31000231e-07 5.77500578e-06 1.06953107e-04 0.00000000e+00\n",
      " 0.00000000e+00 0.00000000e+00 3.00300300e-06 9.94455994e-04\n",
      " 1.79969970e-02 4.65673366e-03 0.00000000e+00 0.00000000e+00\n",
      " 0.00000000e+00 6.32709633e-04 1.35770386e-02 7.82813583e-02\n",
      " 4.08454608e-03 0.00000000e+00 0.00000000e+00 0.00000000e+00\n",
      " 1.21044121e-04 7.56109956e-03 7.96719797e-04 0.00000000e+00\n",
      " 0.00000000e+00 0.00000000e+00 0.00000000e+00 0.00000000e+00\n",
      " 0.00000000e+00 0.00000000e+00 0.00000000e+00 0.00000000e+00\n",
      " 0.00000000e+00 0.00000000e+00 0.00000000e+00 0.00000000e+00\n",
      " 0.00000000e+00 0.00000000e+00 0.00000000e+00 0.00000000e+00\n",
      " 0.00000000e+00 0.00000000e+00 0.00000000e+00 4.62000462e-07\n",
      " 3.46500347e-06 9.24000924e-07 0.00000000e+00 0.00000000e+00\n",
      " 0.00000000e+00 6.00600601e-06 1.79025179e-04 1.64606145e-02\n",
      " 9.42711943e-04 0.00000000e+00 0.00000000e+00 5.54400554e-06\n",
      " 4.62000462e-06 2.42989143e-03 1.35946408e-01 2.91559252e-02\n",
      " 0.00000000e+00 0.00000000e+00 0.00000000e+00 1.84800185e-06\n",
      " 3.11741742e-02 7.69900670e-02 0.00000000e+00 0.00000000e+00\n",
      " 0.00000000e+00 0.00000000e+00 0.00000000e+00 0.00000000e+00\n",
      " 0.00000000e+00 0.00000000e+00 0.00000000e+00 0.00000000e+00\n",
      " 0.00000000e+00 0.00000000e+00 0.00000000e+00 0.00000000e+00\n",
      " 0.00000000e+00 0.00000000e+00 0.00000000e+00 0.00000000e+00\n",
      " 0.00000000e+00 0.00000000e+00 0.00000000e+00 0.00000000e+00\n",
      " 2.31000231e-06 0.00000000e+00 0.00000000e+00 0.00000000e+00\n",
      " 0.00000000e+00 1.45530146e-05 3.49260799e-02 6.73421113e-02\n",
      " 0.00000000e+00 0.00000000e+00 0.00000000e+00 2.31000231e-07\n",
      " 6.26015246e-02 5.37981058e-02 0.00000000e+00 0.00000000e+00\n",
      " 0.00000000e+00 0.00000000e+00 0.00000000e+00 0.00000000e+00\n",
      " 0.00000000e+00 0.00000000e+00 0.00000000e+00 0.00000000e+00\n",
      " 0.00000000e+00 0.00000000e+00 0.00000000e+00 0.00000000e+00\n",
      " 0.00000000e+00 0.00000000e+00 0.00000000e+00 0.00000000e+00\n",
      " 0.00000000e+00 0.00000000e+00 0.00000000e+00 0.00000000e+00\n",
      " 0.00000000e+00 0.00000000e+00 0.00000000e+00 0.00000000e+00\n",
      " 0.00000000e+00 0.00000000e+00 0.00000000e+00]\n"
     ]
    },
    {
     "name": "stderr",
     "output_type": "stream",
     "text": [
      "progress-bar: 100%|████████████████████████████████████████████████████████████████████████████████████████████████████████████████████████████████████████████| 1/1 [00:00<00:00,  2.46it/s]\n",
      "192.168.1.112 - - [04/Oct/2020 14:11:06] \"\u001b[37mPOST /hazard/predict HTTP/1.1\u001b[0m\" 200 -\n"
     ]
    },
    {
     "name": "stdout",
     "output_type": "stream",
     "text": [
      "  index                                               path is_hurricane  \\\n",
      "0   123  img/modis_hazard_335c0477e57149258aff1bc934c76...        False   \n",
      "\n",
      "                                      color_features data_split  \n",
      "0  [0.0006297066297066297, 0.0, 0.0, 0.0, 0.0, 0....    predict  \n",
      "Probability of hurricane:\n",
      "[0.265]\n",
      "Response:  {'latitude': 28.533088015821686, 'longitude': -76.18578749999999, 'predicted': [{'hazardType': 'hurricane', 'probability': 0.265}]}\n"
     ]
    },
    {
     "name": "stderr",
     "output_type": "stream",
     "text": [
      "192.168.1.112 - - [04/Oct/2020 14:11:32] \"\u001b[37mOPTIONS /hazard/predict HTTP/1.1\u001b[0m\" 200 -\n"
     ]
    },
    {
     "name": "stdout",
     "output_type": "stream",
     "text": [
      "Request received: \n",
      "{'latitude': 53.06544717287108, 'longitude': -5.258053124999993, 'predict': ['hurricane']}\n",
      "Calculating Square Shape...\n",
      "Shape:  {'lower_latitude': 48.06544717287108, 'left_longitude': -10.258053124999993, 'higher_latitude': 58.06544717287108, 'right_longitude': -0.2580531249999929}\n",
      "Retrieve & download the MODIS image based on (X,Y,Z,K) parameters\n",
      "1334 2220\n",
      "Image PATH:  img/modis_hazard_90012854db214fc7a3a5fd817bfc92a6.png  \n",
      "\n",
      "Predict if in the image is an Hurricane\n",
      "img/modis_hazard_90012854db214fc7a3a5fd817bfc92a6.png\n",
      "0    img/modis_hazard_90012854db214fc7a3a5fd817bfc9...\n",
      "Name: path, dtype: object\n"
     ]
    },
    {
     "name": "stderr",
     "output_type": "stream",
     "text": [
      "\r",
      "progress-bar:   0%|                                                                                                                                                    | 0/1 [00:00<?, ?it/s]"
     ]
    },
    {
     "name": "stdout",
     "output_type": "stream",
     "text": [
      "[1.21766819e-02 0.00000000e+00 0.00000000e+00 0.00000000e+00\n",
      " 0.00000000e+00 0.00000000e+00 0.00000000e+00 0.00000000e+00\n",
      " 0.00000000e+00 0.00000000e+00 0.00000000e+00 9.62289126e-03\n",
      " 0.00000000e+00 0.00000000e+00 0.00000000e+00 0.00000000e+00\n",
      " 1.97830139e-02 7.22138931e-03 5.74037306e-06 0.00000000e+00\n",
      " 0.00000000e+00 0.00000000e+00 5.74037306e-06 1.31353242e-04\n",
      " 0.00000000e+00 0.00000000e+00 0.00000000e+00 0.00000000e+00\n",
      " 0.00000000e+00 0.00000000e+00 0.00000000e+00 0.00000000e+00\n",
      " 0.00000000e+00 0.00000000e+00 0.00000000e+00 0.00000000e+00\n",
      " 0.00000000e+00 0.00000000e+00 0.00000000e+00 0.00000000e+00\n",
      " 0.00000000e+00 0.00000000e+00 0.00000000e+00 0.00000000e+00\n",
      " 0.00000000e+00 0.00000000e+00 3.64263814e-02 1.13048206e-02\n",
      " 0.00000000e+00 0.00000000e+00 0.00000000e+00 0.00000000e+00\n",
      " 2.87305671e-02 4.93449221e-02 2.76888583e-05 0.00000000e+00\n",
      " 0.00000000e+00 0.00000000e+00 9.15082999e-05 2.69122196e-03\n",
      " 4.62741602e-03 7.42871807e-06 0.00000000e+00 0.00000000e+00\n",
      " 0.00000000e+00 0.00000000e+00 7.09104907e-06 1.01300701e-06\n",
      " 0.00000000e+00 0.00000000e+00 0.00000000e+00 0.00000000e+00\n",
      " 0.00000000e+00 0.00000000e+00 0.00000000e+00 0.00000000e+00\n",
      " 0.00000000e+00 0.00000000e+00 0.00000000e+00 0.00000000e+00\n",
      " 0.00000000e+00 0.00000000e+00 0.00000000e+00 3.37669003e-07\n",
      " 0.00000000e+00 0.00000000e+00 0.00000000e+00 0.00000000e+00\n",
      " 6.01050826e-05 1.48506828e-03 2.46734741e-03 0.00000000e+00\n",
      " 0.00000000e+00 0.00000000e+00 6.75338007e-07 9.38348393e-03\n",
      " 4.42863028e-02 1.35776706e-03 0.00000000e+00 0.00000000e+00\n",
      " 0.00000000e+00 8.77939409e-06 4.09795102e-03 2.78239259e-03\n",
      " 3.37669003e-07 0.00000000e+00 0.00000000e+00 0.00000000e+00\n",
      " 0.00000000e+00 6.75338007e-07 0.00000000e+00 0.00000000e+00\n",
      " 0.00000000e+00 0.00000000e+00 0.00000000e+00 0.00000000e+00\n",
      " 0.00000000e+00 0.00000000e+00 0.00000000e+00 0.00000000e+00\n",
      " 0.00000000e+00 0.00000000e+00 0.00000000e+00 0.00000000e+00\n",
      " 0.00000000e+00 0.00000000e+00 0.00000000e+00 0.00000000e+00\n",
      " 0.00000000e+00 0.00000000e+00 0.00000000e+00 4.72736605e-06\n",
      " 5.32504018e-03 1.90040115e-03 0.00000000e+00 0.00000000e+00\n",
      " 0.00000000e+00 0.00000000e+00 4.87492740e-03 7.57459108e-02\n",
      " 4.73479476e-03 0.00000000e+00 0.00000000e+00 0.00000000e+00\n",
      " 3.37669003e-07 6.26376001e-03 9.54927941e-04 3.37669003e-07\n",
      " 0.00000000e+00 0.00000000e+00 0.00000000e+00 0.00000000e+00\n",
      " 1.68834502e-06 0.00000000e+00 0.00000000e+00 0.00000000e+00\n",
      " 0.00000000e+00 0.00000000e+00 0.00000000e+00 0.00000000e+00\n",
      " 0.00000000e+00 0.00000000e+00 0.00000000e+00 0.00000000e+00\n",
      " 0.00000000e+00 0.00000000e+00 0.00000000e+00 0.00000000e+00\n",
      " 0.00000000e+00 0.00000000e+00 0.00000000e+00 0.00000000e+00\n",
      " 0.00000000e+00 0.00000000e+00 6.75338007e-07 6.02671637e-03\n",
      " 4.44710077e-04 0.00000000e+00 0.00000000e+00 0.00000000e+00\n",
      " 0.00000000e+00 7.22949336e-04 8.43156125e-02 2.59606683e-02\n",
      " 0.00000000e+00 0.00000000e+00 0.00000000e+00 3.37669003e-07\n",
      " 2.67504761e-02 1.29771938e-01 0.00000000e+00 0.00000000e+00\n",
      " 0.00000000e+00 0.00000000e+00 0.00000000e+00 0.00000000e+00\n",
      " 0.00000000e+00 0.00000000e+00 0.00000000e+00 0.00000000e+00\n",
      " 0.00000000e+00 0.00000000e+00 0.00000000e+00 0.00000000e+00\n",
      " 0.00000000e+00 0.00000000e+00 0.00000000e+00 0.00000000e+00\n",
      " 0.00000000e+00 0.00000000e+00 0.00000000e+00 0.00000000e+00\n",
      " 6.75338007e-07 0.00000000e+00 0.00000000e+00 0.00000000e+00\n",
      " 0.00000000e+00 1.01300701e-06 2.82942988e-02 1.13382836e-01\n",
      " 0.00000000e+00 0.00000000e+00 0.00000000e+00 0.00000000e+00\n",
      " 1.03153153e-01 1.33228994e-01 0.00000000e+00 0.00000000e+00\n",
      " 0.00000000e+00 0.00000000e+00 0.00000000e+00 0.00000000e+00\n",
      " 0.00000000e+00 0.00000000e+00 0.00000000e+00 0.00000000e+00\n",
      " 0.00000000e+00 0.00000000e+00 0.00000000e+00 0.00000000e+00\n",
      " 0.00000000e+00 0.00000000e+00 0.00000000e+00 0.00000000e+00\n",
      " 0.00000000e+00 0.00000000e+00 0.00000000e+00 0.00000000e+00\n",
      " 0.00000000e+00 0.00000000e+00 0.00000000e+00 0.00000000e+00\n",
      " 0.00000000e+00 0.00000000e+00 0.00000000e+00]\n"
     ]
    },
    {
     "name": "stderr",
     "output_type": "stream",
     "text": [
      "progress-bar: 100%|████████████████████████████████████████████████████████████████████████████████████████████████████████████████████████████████████████████| 1/1 [00:00<00:00,  3.55it/s]\n",
      "192.168.1.112 - - [04/Oct/2020 14:11:39] \"\u001b[37mPOST /hazard/predict HTTP/1.1\u001b[0m\" 200 -\n"
     ]
    },
    {
     "name": "stdout",
     "output_type": "stream",
     "text": [
      "  index                                               path is_hurricane  \\\n",
      "0   123  img/modis_hazard_90012854db214fc7a3a5fd817bfc9...        False   \n",
      "\n",
      "                                      color_features data_split  \n",
      "0  [0.012176681929305617, 0.0, 0.0, 0.0, 0.0, 0.0...    predict  \n",
      "Probability of hurricane:\n",
      "[0.065]\n",
      "Response:  {'latitude': 53.06544717287108, 'longitude': -5.258053124999993, 'predicted': [{'hazardType': 'hurricane', 'probability': 0.065}]}\n"
     ]
    },
    {
     "name": "stderr",
     "output_type": "stream",
     "text": [
      "192.168.1.112 - - [04/Oct/2020 14:11:46] \"\u001b[37mOPTIONS /hazard/predict HTTP/1.1\u001b[0m\" 200 -\n"
     ]
    },
    {
     "name": "stdout",
     "output_type": "stream",
     "text": [
      "Request received: \n",
      "{'latitude': 35.0989665741585, 'longitude': -71.70336562499999, 'predict': ['hurricane']}\n",
      "Calculating Square Shape...\n",
      "Shape:  {'lower_latitude': 30.098966574158503, 'left_longitude': -76.70336562499999, 'higher_latitude': 40.0989665741585, 'right_longitude': -66.70336562499999}\n",
      "Retrieve & download the MODIS image based on (X,Y,Z,K) parameters\n",
      "1816 2220\n",
      "Image PATH:  img/modis_hazard_03c0f1324f5b44768f4a502677f218c7.png  \n",
      "\n",
      "Predict if in the image is an Hurricane\n",
      "img/modis_hazard_03c0f1324f5b44768f4a502677f218c7.png\n",
      "0    img/modis_hazard_03c0f1324f5b44768f4a502677f21...\n",
      "Name: path, dtype: object\n"
     ]
    },
    {
     "name": "stderr",
     "output_type": "stream",
     "text": [
      "\r",
      "progress-bar:   0%|                                                                                                                                                    | 0/1 [00:00<?, ?it/s]"
     ]
    },
    {
     "name": "stdout",
     "output_type": "stream",
     "text": [
      "[1.79187999e-02 0.00000000e+00 0.00000000e+00 0.00000000e+00\n",
      " 0.00000000e+00 0.00000000e+00 0.00000000e+00 0.00000000e+00\n",
      " 0.00000000e+00 0.00000000e+00 0.00000000e+00 1.50779359e-02\n",
      " 0.00000000e+00 0.00000000e+00 0.00000000e+00 0.00000000e+00\n",
      " 3.15612970e-02 1.64144045e-02 1.43370242e-04 0.00000000e+00\n",
      " 0.00000000e+00 0.00000000e+00 1.98436322e-06 1.02690797e-04\n",
      " 6.44918046e-06 0.00000000e+00 0.00000000e+00 0.00000000e+00\n",
      " 0.00000000e+00 0.00000000e+00 0.00000000e+00 0.00000000e+00\n",
      " 0.00000000e+00 0.00000000e+00 0.00000000e+00 0.00000000e+00\n",
      " 0.00000000e+00 0.00000000e+00 0.00000000e+00 0.00000000e+00\n",
      " 0.00000000e+00 0.00000000e+00 0.00000000e+00 0.00000000e+00\n",
      " 0.00000000e+00 0.00000000e+00 5.48100964e-02 1.34477815e-02\n",
      " 2.48045402e-07 0.00000000e+00 0.00000000e+00 0.00000000e+00\n",
      " 3.49714252e-02 5.38104735e-02 1.73383736e-04 0.00000000e+00\n",
      " 0.00000000e+00 0.00000000e+00 1.33944517e-05 4.59876176e-04\n",
      " 4.52633250e-03 3.99353098e-05 0.00000000e+00 0.00000000e+00\n",
      " 0.00000000e+00 0.00000000e+00 5.95308965e-06 5.70504425e-06\n",
      " 0.00000000e+00 0.00000000e+00 0.00000000e+00 0.00000000e+00\n",
      " 0.00000000e+00 0.00000000e+00 0.00000000e+00 0.00000000e+00\n",
      " 0.00000000e+00 0.00000000e+00 0.00000000e+00 0.00000000e+00\n",
      " 0.00000000e+00 0.00000000e+00 2.69625352e-04 4.71782355e-04\n",
      " 0.00000000e+00 0.00000000e+00 0.00000000e+00 0.00000000e+00\n",
      " 2.38371632e-03 1.95923622e-02 5.28733579e-03 0.00000000e+00\n",
      " 0.00000000e+00 0.00000000e+00 2.48045402e-07 1.39753741e-02\n",
      " 3.04716335e-02 1.74896813e-03 0.00000000e+00 0.00000000e+00\n",
      " 0.00000000e+00 0.00000000e+00 2.77116323e-03 1.80552248e-03\n",
      " 2.48045402e-07 0.00000000e+00 0.00000000e+00 0.00000000e+00\n",
      " 0.00000000e+00 0.00000000e+00 0.00000000e+00 0.00000000e+00\n",
      " 0.00000000e+00 0.00000000e+00 0.00000000e+00 0.00000000e+00\n",
      " 0.00000000e+00 0.00000000e+00 0.00000000e+00 0.00000000e+00\n",
      " 0.00000000e+00 0.00000000e+00 0.00000000e+00 0.00000000e+00\n",
      " 0.00000000e+00 3.47263563e-06 8.68158908e-05 0.00000000e+00\n",
      " 0.00000000e+00 0.00000000e+00 0.00000000e+00 2.73842124e-04\n",
      " 1.06344505e-02 3.38457951e-03 0.00000000e+00 0.00000000e+00\n",
      " 0.00000000e+00 2.48045402e-07 6.09298726e-03 6.12074354e-02\n",
      " 5.04896416e-03 0.00000000e+00 0.00000000e+00 0.00000000e+00\n",
      " 0.00000000e+00 5.23995912e-03 1.00855261e-03 2.48045402e-07\n",
      " 0.00000000e+00 0.00000000e+00 0.00000000e+00 0.00000000e+00\n",
      " 0.00000000e+00 0.00000000e+00 0.00000000e+00 0.00000000e+00\n",
      " 0.00000000e+00 0.00000000e+00 0.00000000e+00 0.00000000e+00\n",
      " 0.00000000e+00 0.00000000e+00 0.00000000e+00 0.00000000e+00\n",
      " 0.00000000e+00 0.00000000e+00 0.00000000e+00 0.00000000e+00\n",
      " 0.00000000e+00 0.00000000e+00 0.00000000e+00 0.00000000e+00\n",
      " 0.00000000e+00 0.00000000e+00 1.24022701e-06 7.06011628e-03\n",
      " 7.21564075e-04 0.00000000e+00 0.00000000e+00 0.00000000e+00\n",
      " 0.00000000e+00 8.22270508e-04 1.36578511e-01 4.24961305e-02\n",
      " 0.00000000e+00 0.00000000e+00 0.00000000e+00 0.00000000e+00\n",
      " 4.29698972e-02 1.00385463e-01 0.00000000e+00 0.00000000e+00\n",
      " 0.00000000e+00 0.00000000e+00 0.00000000e+00 0.00000000e+00\n",
      " 0.00000000e+00 0.00000000e+00 0.00000000e+00 0.00000000e+00\n",
      " 0.00000000e+00 0.00000000e+00 0.00000000e+00 0.00000000e+00\n",
      " 0.00000000e+00 0.00000000e+00 0.00000000e+00 0.00000000e+00\n",
      " 0.00000000e+00 0.00000000e+00 0.00000000e+00 0.00000000e+00\n",
      " 2.48045402e-07 0.00000000e+00 0.00000000e+00 0.00000000e+00\n",
      " 0.00000000e+00 4.96090804e-07 3.92427670e-02 8.38733282e-02\n",
      " 0.00000000e+00 0.00000000e+00 0.00000000e+00 0.00000000e+00\n",
      " 7.43193634e-02 5.62775330e-02 0.00000000e+00 0.00000000e+00\n",
      " 0.00000000e+00 0.00000000e+00 0.00000000e+00 0.00000000e+00\n",
      " 0.00000000e+00 0.00000000e+00 0.00000000e+00 0.00000000e+00\n",
      " 0.00000000e+00 0.00000000e+00 0.00000000e+00 0.00000000e+00\n",
      " 0.00000000e+00 0.00000000e+00 0.00000000e+00 0.00000000e+00\n",
      " 0.00000000e+00 0.00000000e+00 0.00000000e+00 0.00000000e+00\n",
      " 0.00000000e+00 0.00000000e+00 0.00000000e+00 0.00000000e+00\n",
      " 0.00000000e+00 0.00000000e+00 0.00000000e+00]\n"
     ]
    },
    {
     "name": "stderr",
     "output_type": "stream",
     "text": [
      "progress-bar: 100%|████████████████████████████████████████████████████████████████████████████████████████████████████████████████████████████████████████████| 1/1 [00:00<00:00,  2.59it/s]\n",
      "192.168.1.112 - - [04/Oct/2020 14:11:55] \"\u001b[37mPOST /hazard/predict HTTP/1.1\u001b[0m\" 200 -\n"
     ]
    },
    {
     "name": "stdout",
     "output_type": "stream",
     "text": [
      "  index                                               path is_hurricane  \\\n",
      "0   123  img/modis_hazard_03c0f1324f5b44768f4a502677f21...        False   \n",
      "\n",
      "                                      color_features data_split  \n",
      "0  [0.01791879985712585, 0.0, 0.0, 0.0, 0.0, 0.0,...    predict  \n",
      "Probability of hurricane:\n",
      "[0.27]\n",
      "Response:  {'latitude': 35.0989665741585, 'longitude': -71.70336562499999, 'predicted': [{'hazardType': 'hurricane', 'probability': 0.27}]}\n"
     ]
    },
    {
     "name": "stderr",
     "output_type": "stream",
     "text": [
      "192.168.1.112 - - [04/Oct/2020 14:36:49] \"\u001b[37mOPTIONS /hazard/predict HTTP/1.1\u001b[0m\" 200 -\n"
     ]
    },
    {
     "name": "stdout",
     "output_type": "stream",
     "text": [
      "Request received: \n",
      "{'latitude': 57.889569416664486, 'longitude': -143.86156874999998, 'predict': ['hurricane']}\n",
      "Calculating Square Shape...\n",
      "Shape:  {'lower_latitude': 52.889569416664486, 'left_longitude': -148.86156874999998, 'higher_latitude': 62.889569416664486, 'right_longitude': -138.86156874999998}\n",
      "Retrieve & download the MODIS image based on (X,Y,Z,K) parameters\n",
      "1180 2220\n",
      "Image PATH:  img/modis_hazard_9cb9b93eacda47ea96407d117ab2ec70.png  \n",
      "\n",
      "Predict if in the image is an Hurricane\n",
      "img/modis_hazard_9cb9b93eacda47ea96407d117ab2ec70.png\n",
      "0    img/modis_hazard_9cb9b93eacda47ea96407d117ab2e...\n",
      "Name: path, dtype: object\n"
     ]
    },
    {
     "name": "stderr",
     "output_type": "stream",
     "text": [
      "\r",
      "progress-bar:   0%|                                                                                                                                                    | 0/1 [00:00<?, ?it/s]"
     ]
    },
    {
     "name": "stdout",
     "output_type": "stream",
     "text": [
      "[1.07802718e-03 0.00000000e+00 0.00000000e+00 0.00000000e+00\n",
      " 0.00000000e+00 0.00000000e+00 0.00000000e+00 0.00000000e+00\n",
      " 0.00000000e+00 0.00000000e+00 0.00000000e+00 4.46518552e-03\n",
      " 3.81737670e-07 0.00000000e+00 0.00000000e+00 0.00000000e+00\n",
      " 4.26820889e-03 6.89609101e-03 1.06886548e-05 0.00000000e+00\n",
      " 0.00000000e+00 0.00000000e+00 0.00000000e+00 3.81737670e-07\n",
      " 0.00000000e+00 0.00000000e+00 0.00000000e+00 0.00000000e+00\n",
      " 0.00000000e+00 0.00000000e+00 0.00000000e+00 0.00000000e+00\n",
      " 0.00000000e+00 0.00000000e+00 0.00000000e+00 0.00000000e+00\n",
      " 0.00000000e+00 0.00000000e+00 0.00000000e+00 0.00000000e+00\n",
      " 0.00000000e+00 0.00000000e+00 0.00000000e+00 0.00000000e+00\n",
      " 0.00000000e+00 0.00000000e+00 9.08153917e-03 1.02114827e-02\n",
      " 3.81737670e-07 0.00000000e+00 0.00000000e+00 0.00000000e+00\n",
      " 2.07516415e-02 5.67540846e-02 5.17636280e-04 0.00000000e+00\n",
      " 0.00000000e+00 0.00000000e+00 7.25301573e-06 2.63398992e-05\n",
      " 2.03389831e-03 4.96258971e-06 0.00000000e+00 0.00000000e+00\n",
      " 0.00000000e+00 0.00000000e+00 0.00000000e+00 0.00000000e+00\n",
      " 0.00000000e+00 0.00000000e+00 0.00000000e+00 0.00000000e+00\n",
      " 0.00000000e+00 0.00000000e+00 0.00000000e+00 0.00000000e+00\n",
      " 0.00000000e+00 0.00000000e+00 0.00000000e+00 0.00000000e+00\n",
      " 0.00000000e+00 0.00000000e+00 5.38250115e-05 9.46709421e-05\n",
      " 0.00000000e+00 0.00000000e+00 0.00000000e+00 0.00000000e+00\n",
      " 7.15376393e-04 6.73003512e-03 3.96243701e-03 0.00000000e+00\n",
      " 0.00000000e+00 0.00000000e+00 1.52695068e-06 9.98358528e-03\n",
      " 3.71541457e-02 2.25377920e-03 0.00000000e+00 0.00000000e+00\n",
      " 0.00000000e+00 1.25973431e-05 2.20338983e-03 2.01786532e-03\n",
      " 0.00000000e+00 0.00000000e+00 0.00000000e+00 0.00000000e+00\n",
      " 0.00000000e+00 0.00000000e+00 0.00000000e+00 0.00000000e+00\n",
      " 0.00000000e+00 0.00000000e+00 0.00000000e+00 0.00000000e+00\n",
      " 0.00000000e+00 0.00000000e+00 0.00000000e+00 0.00000000e+00\n",
      " 0.00000000e+00 0.00000000e+00 0.00000000e+00 0.00000000e+00\n",
      " 0.00000000e+00 0.00000000e+00 1.14521301e-06 0.00000000e+00\n",
      " 0.00000000e+00 0.00000000e+00 0.00000000e+00 6.83310429e-05\n",
      " 8.08520385e-03 3.09207513e-03 0.00000000e+00 0.00000000e+00\n",
      " 0.00000000e+00 7.25301573e-06 5.94976332e-03 7.82157581e-02\n",
      " 5.87608795e-03 0.00000000e+00 0.00000000e+00 0.00000000e+00\n",
      " 3.81737670e-07 5.86310887e-03 9.21132997e-04 0.00000000e+00\n",
      " 0.00000000e+00 0.00000000e+00 0.00000000e+00 0.00000000e+00\n",
      " 0.00000000e+00 0.00000000e+00 0.00000000e+00 0.00000000e+00\n",
      " 0.00000000e+00 0.00000000e+00 0.00000000e+00 0.00000000e+00\n",
      " 0.00000000e+00 0.00000000e+00 0.00000000e+00 0.00000000e+00\n",
      " 0.00000000e+00 0.00000000e+00 0.00000000e+00 0.00000000e+00\n",
      " 0.00000000e+00 0.00000000e+00 0.00000000e+00 0.00000000e+00\n",
      " 0.00000000e+00 0.00000000e+00 1.52695068e-06 1.35127500e-02\n",
      " 9.52817224e-04 0.00000000e+00 0.00000000e+00 0.00000000e+00\n",
      " 0.00000000e+00 1.41090243e-03 1.91797221e-01 4.99698427e-02\n",
      " 0.00000000e+00 0.00000000e+00 0.00000000e+00 0.00000000e+00\n",
      " 5.03344022e-02 9.47854634e-02 0.00000000e+00 0.00000000e+00\n",
      " 0.00000000e+00 0.00000000e+00 0.00000000e+00 0.00000000e+00\n",
      " 0.00000000e+00 0.00000000e+00 0.00000000e+00 0.00000000e+00\n",
      " 0.00000000e+00 0.00000000e+00 0.00000000e+00 0.00000000e+00\n",
      " 0.00000000e+00 0.00000000e+00 0.00000000e+00 0.00000000e+00\n",
      " 0.00000000e+00 0.00000000e+00 0.00000000e+00 0.00000000e+00\n",
      " 3.81737670e-07 0.00000000e+00 0.00000000e+00 0.00000000e+00\n",
      " 0.00000000e+00 3.05390136e-06 5.83825775e-02 9.01633837e-02\n",
      " 0.00000000e+00 0.00000000e+00 0.00000000e+00 0.00000000e+00\n",
      " 8.06275767e-02 7.86864407e-02 0.00000000e+00 0.00000000e+00\n",
      " 0.00000000e+00 0.00000000e+00 0.00000000e+00 0.00000000e+00\n",
      " 0.00000000e+00 0.00000000e+00 0.00000000e+00 0.00000000e+00\n",
      " 0.00000000e+00 0.00000000e+00 0.00000000e+00 0.00000000e+00\n",
      " 0.00000000e+00 0.00000000e+00 0.00000000e+00 0.00000000e+00\n",
      " 0.00000000e+00 0.00000000e+00 0.00000000e+00 0.00000000e+00\n",
      " 0.00000000e+00 0.00000000e+00 0.00000000e+00 0.00000000e+00\n",
      " 0.00000000e+00 0.00000000e+00 0.00000000e+00]\n"
     ]
    },
    {
     "name": "stderr",
     "output_type": "stream",
     "text": [
      "progress-bar: 100%|████████████████████████████████████████████████████████████████████████████████████████████████████████████████████████████████████████████| 1/1 [00:00<00:00,  4.26it/s]\n",
      "192.168.1.112 - - [04/Oct/2020 14:36:55] \"\u001b[37mPOST /hazard/predict HTTP/1.1\u001b[0m\" 200 -\n"
     ]
    },
    {
     "name": "stdout",
     "output_type": "stream",
     "text": [
      "  index                                               path is_hurricane  \\\n",
      "0   123  img/modis_hazard_9cb9b93eacda47ea96407d117ab2e...        False   \n",
      "\n",
      "                                      color_features data_split  \n",
      "0  [0.001078027179722095, 0.0, 0.0, 0.0, 0.0, 0.0...    predict  \n",
      "Probability of hurricane:\n",
      "[0.205]\n",
      "Response:  {'latitude': 57.889569416664486, 'longitude': -143.86156874999998, 'predicted': [{'hazardType': 'hurricane', 'probability': 0.205}]}\n"
     ]
    },
    {
     "name": "stderr",
     "output_type": "stream",
     "text": [
      "192.168.1.112 - - [04/Oct/2020 14:36:59] \"\u001b[37mOPTIONS /hazard/predict HTTP/1.1\u001b[0m\" 200 -\n"
     ]
    },
    {
     "name": "stdout",
     "output_type": "stream",
     "text": [
      "Request received: \n",
      "{'latitude': 53.590351990907294, 'longitude': 2.388431250000007, 'predict': ['hurricane']}\n",
      "Calculating Square Shape...\n",
      "Shape:  {'lower_latitude': 48.590351990907294, 'left_longitude': -2.611568749999993, 'higher_latitude': 58.590351990907294, 'right_longitude': 7.388431250000007}\n",
      "Retrieve & download the MODIS image based on (X,Y,Z,K) parameters\n",
      "1317 2220\n",
      "Image PATH:  img/modis_hazard_c2ef1791a2884505a0c47fd5c5f47d5b.png  \n",
      "\n",
      "Predict if in the image is an Hurricane\n",
      "img/modis_hazard_c2ef1791a2884505a0c47fd5c5f47d5b.png\n",
      "0    img/modis_hazard_c2ef1791a2884505a0c47fd5c5f47...\n",
      "Name: path, dtype: object\n"
     ]
    },
    {
     "name": "stderr",
     "output_type": "stream",
     "text": [
      "\r",
      "progress-bar:   0%|                                                                                                                                                    | 0/1 [00:00<?, ?it/s]"
     ]
    },
    {
     "name": "stdout",
     "output_type": "stream",
     "text": [
      "[9.74094824e-04 0.00000000e+00 0.00000000e+00 0.00000000e+00\n",
      " 0.00000000e+00 0.00000000e+00 0.00000000e+00 0.00000000e+00\n",
      " 0.00000000e+00 0.00000000e+00 0.00000000e+00 9.85381737e-04\n",
      " 0.00000000e+00 0.00000000e+00 0.00000000e+00 0.00000000e+00\n",
      " 3.11587214e-03 1.40094536e-03 6.49852586e-06 0.00000000e+00\n",
      " 0.00000000e+00 0.00000000e+00 3.42027677e-07 4.00172382e-05\n",
      " 0.00000000e+00 0.00000000e+00 0.00000000e+00 0.00000000e+00\n",
      " 0.00000000e+00 0.00000000e+00 0.00000000e+00 0.00000000e+00\n",
      " 0.00000000e+00 0.00000000e+00 0.00000000e+00 0.00000000e+00\n",
      " 0.00000000e+00 0.00000000e+00 0.00000000e+00 0.00000000e+00\n",
      " 0.00000000e+00 0.00000000e+00 0.00000000e+00 0.00000000e+00\n",
      " 0.00000000e+00 0.00000000e+00 4.10364807e-03 1.24566480e-03\n",
      " 0.00000000e+00 0.00000000e+00 0.00000000e+00 0.00000000e+00\n",
      " 6.36274087e-03 1.01982392e-02 1.88115222e-05 0.00000000e+00\n",
      " 0.00000000e+00 0.00000000e+00 8.55069192e-05 8.83799517e-04\n",
      " 2.77863285e-03 1.29970517e-05 0.00000000e+00 0.00000000e+00\n",
      " 0.00000000e+00 0.00000000e+00 1.33390794e-05 3.76230445e-06\n",
      " 0.00000000e+00 0.00000000e+00 0.00000000e+00 0.00000000e+00\n",
      " 0.00000000e+00 0.00000000e+00 0.00000000e+00 0.00000000e+00\n",
      " 0.00000000e+00 0.00000000e+00 0.00000000e+00 0.00000000e+00\n",
      " 0.00000000e+00 0.00000000e+00 0.00000000e+00 3.42027677e-07\n",
      " 0.00000000e+00 0.00000000e+00 0.00000000e+00 0.00000000e+00\n",
      " 3.52288507e-05 7.00472682e-04 8.18472231e-04 0.00000000e+00\n",
      " 0.00000000e+00 0.00000000e+00 1.71013838e-06 5.18582364e-03\n",
      " 1.80669280e-02 1.05686552e-03 0.00000000e+00 0.00000000e+00\n",
      " 0.00000000e+00 1.64173285e-05 2.74374602e-03 2.14280340e-03\n",
      " 0.00000000e+00 0.00000000e+00 0.00000000e+00 0.00000000e+00\n",
      " 0.00000000e+00 0.00000000e+00 0.00000000e+00 0.00000000e+00\n",
      " 0.00000000e+00 0.00000000e+00 0.00000000e+00 0.00000000e+00\n",
      " 0.00000000e+00 0.00000000e+00 0.00000000e+00 0.00000000e+00\n",
      " 0.00000000e+00 0.00000000e+00 0.00000000e+00 0.00000000e+00\n",
      " 0.00000000e+00 0.00000000e+00 1.06028580e-05 0.00000000e+00\n",
      " 0.00000000e+00 0.00000000e+00 0.00000000e+00 1.17999549e-04\n",
      " 4.44978008e-03 1.38350195e-03 0.00000000e+00 0.00000000e+00\n",
      " 0.00000000e+00 1.71013838e-06 4.18676079e-03 5.02028224e-02\n",
      " 5.46662836e-03 0.00000000e+00 0.00000000e+00 0.00000000e+00\n",
      " 0.00000000e+00 6.33708880e-03 1.42728150e-03 6.84055354e-07\n",
      " 0.00000000e+00 0.00000000e+00 0.00000000e+00 0.00000000e+00\n",
      " 6.84055354e-07 0.00000000e+00 0.00000000e+00 0.00000000e+00\n",
      " 0.00000000e+00 0.00000000e+00 0.00000000e+00 0.00000000e+00\n",
      " 0.00000000e+00 0.00000000e+00 0.00000000e+00 0.00000000e+00\n",
      " 0.00000000e+00 0.00000000e+00 0.00000000e+00 0.00000000e+00\n",
      " 0.00000000e+00 0.00000000e+00 0.00000000e+00 0.00000000e+00\n",
      " 0.00000000e+00 0.00000000e+00 3.42027677e-07 5.71801870e-03\n",
      " 4.42925842e-04 0.00000000e+00 0.00000000e+00 0.00000000e+00\n",
      " 0.00000000e+00 7.67510107e-04 1.26827283e-01 3.92469919e-02\n",
      " 0.00000000e+00 0.00000000e+00 0.00000000e+00 0.00000000e+00\n",
      " 4.01667043e-02 1.56584033e-01 0.00000000e+00 0.00000000e+00\n",
      " 0.00000000e+00 0.00000000e+00 0.00000000e+00 0.00000000e+00\n",
      " 0.00000000e+00 0.00000000e+00 0.00000000e+00 0.00000000e+00\n",
      " 0.00000000e+00 0.00000000e+00 0.00000000e+00 0.00000000e+00\n",
      " 0.00000000e+00 0.00000000e+00 0.00000000e+00 0.00000000e+00\n",
      " 0.00000000e+00 0.00000000e+00 0.00000000e+00 0.00000000e+00\n",
      " 0.00000000e+00 0.00000000e+00 0.00000000e+00 0.00000000e+00\n",
      " 0.00000000e+00 1.02608303e-06 3.97750826e-02 1.35518548e-01\n",
      " 0.00000000e+00 0.00000000e+00 0.00000000e+00 0.00000000e+00\n",
      " 1.22753733e-01 1.95613153e-01 0.00000000e+00 0.00000000e+00\n",
      " 0.00000000e+00 0.00000000e+00 0.00000000e+00 0.00000000e+00\n",
      " 0.00000000e+00 0.00000000e+00 0.00000000e+00 0.00000000e+00\n",
      " 0.00000000e+00 0.00000000e+00 0.00000000e+00 0.00000000e+00\n",
      " 0.00000000e+00 0.00000000e+00 0.00000000e+00 0.00000000e+00\n",
      " 0.00000000e+00 0.00000000e+00 0.00000000e+00 0.00000000e+00\n",
      " 0.00000000e+00 0.00000000e+00 0.00000000e+00 0.00000000e+00\n",
      " 0.00000000e+00 0.00000000e+00 0.00000000e+00]\n"
     ]
    },
    {
     "name": "stderr",
     "output_type": "stream",
     "text": [
      "progress-bar: 100%|████████████████████████████████████████████████████████████████████████████████████████████████████████████████████████████████████████████| 1/1 [00:00<00:00,  3.94it/s]\n",
      "192.168.1.112 - - [04/Oct/2020 14:37:07] \"\u001b[37mPOST /hazard/predict HTTP/1.1\u001b[0m\" 200 -\n"
     ]
    },
    {
     "name": "stdout",
     "output_type": "stream",
     "text": [
      "  index                                               path is_hurricane  \\\n",
      "0   123  img/modis_hazard_c2ef1791a2884505a0c47fd5c5f47...        False   \n",
      "\n",
      "                                      color_features data_split  \n",
      "0  [0.0009740948237531381, 0.0, 0.0, 0.0, 0.0, 0....    predict  \n",
      "Probability of hurricane:\n",
      "[0.165]\n",
      "Response:  {'latitude': 53.590351990907294, 'longitude': 2.388431250000007, 'predicted': [{'hazardType': 'hurricane', 'probability': 0.165}]}\n"
     ]
    },
    {
     "name": "stderr",
     "output_type": "stream",
     "text": [
      "192.168.1.112 - - [04/Oct/2020 14:37:12] \"\u001b[37mOPTIONS /hazard/predict HTTP/1.1\u001b[0m\" 200 -\n"
     ]
    },
    {
     "name": "stdout",
     "output_type": "stream",
     "text": [
      "Request received: \n",
      "{'latitude': -5.182094359878293, 'longitude': 56.704837500000004, 'predict': ['hurricane']}\n",
      "Calculating Square Shape...\n",
      "Shape:  {'lower_latitude': -10.182094359878292, 'left_longitude': 51.704837500000004, 'higher_latitude': -0.1820943598782927, 'right_longitude': 61.704837500000004}\n",
      "Retrieve & download the MODIS image based on (X,Y,Z,K) parameters\n",
      "2210 2220\n",
      "Image PATH:  img/modis_hazard_5822213231d84638a64dc27d4fd989d3.png  \n",
      "\n",
      "Predict if in the image is an Hurricane\n",
      "img/modis_hazard_5822213231d84638a64dc27d4fd989d3.png\n",
      "0    img/modis_hazard_5822213231d84638a64dc27d4fd98...\n",
      "Name: path, dtype: object\n"
     ]
    },
    {
     "name": "stderr",
     "output_type": "stream",
     "text": [
      "\r",
      "progress-bar:   0%|                                                                                                                                                    | 0/1 [00:00<?, ?it/s]"
     ]
    },
    {
     "name": "stdout",
     "output_type": "stream",
     "text": [
      "[2.42466675e-02 0.00000000e+00 0.00000000e+00 0.00000000e+00\n",
      " 0.00000000e+00 0.00000000e+00 0.00000000e+00 0.00000000e+00\n",
      " 0.00000000e+00 0.00000000e+00 0.00000000e+00 1.51222942e-02\n",
      " 0.00000000e+00 0.00000000e+00 0.00000000e+00 0.00000000e+00\n",
      " 2.80027312e-02 5.77432636e-03 0.00000000e+00 0.00000000e+00\n",
      " 0.00000000e+00 0.00000000e+00 0.00000000e+00 0.00000000e+00\n",
      " 0.00000000e+00 0.00000000e+00 0.00000000e+00 0.00000000e+00\n",
      " 0.00000000e+00 0.00000000e+00 0.00000000e+00 0.00000000e+00\n",
      " 0.00000000e+00 0.00000000e+00 0.00000000e+00 0.00000000e+00\n",
      " 0.00000000e+00 0.00000000e+00 0.00000000e+00 0.00000000e+00\n",
      " 0.00000000e+00 0.00000000e+00 0.00000000e+00 0.00000000e+00\n",
      " 0.00000000e+00 0.00000000e+00 1.12825608e-01 2.96677673e-02\n",
      " 2.03823733e-07 0.00000000e+00 0.00000000e+00 0.00000000e+00\n",
      " 6.19171660e-02 1.13514940e-01 5.29941706e-05 0.00000000e+00\n",
      " 0.00000000e+00 0.00000000e+00 1.36561901e-05 1.10472463e-04\n",
      " 1.02360279e-03 0.00000000e+00 0.00000000e+00 0.00000000e+00\n",
      " 0.00000000e+00 0.00000000e+00 0.00000000e+00 0.00000000e+00\n",
      " 0.00000000e+00 0.00000000e+00 0.00000000e+00 0.00000000e+00\n",
      " 0.00000000e+00 0.00000000e+00 0.00000000e+00 0.00000000e+00\n",
      " 0.00000000e+00 0.00000000e+00 0.00000000e+00 0.00000000e+00\n",
      " 0.00000000e+00 0.00000000e+00 4.93253434e-05 1.01708043e-04\n",
      " 0.00000000e+00 0.00000000e+00 0.00000000e+00 0.00000000e+00\n",
      " 5.19342872e-04 1.40974685e-02 1.66621825e-02 0.00000000e+00\n",
      " 0.00000000e+00 0.00000000e+00 0.00000000e+00 3.45416004e-02\n",
      " 1.70944112e-01 1.50275162e-02 0.00000000e+00 0.00000000e+00\n",
      " 0.00000000e+00 4.07647466e-07 1.88210835e-02 1.54708328e-02\n",
      " 2.03823733e-07 0.00000000e+00 0.00000000e+00 0.00000000e+00\n",
      " 0.00000000e+00 0.00000000e+00 0.00000000e+00 0.00000000e+00\n",
      " 0.00000000e+00 0.00000000e+00 0.00000000e+00 0.00000000e+00\n",
      " 0.00000000e+00 0.00000000e+00 0.00000000e+00 0.00000000e+00\n",
      " 0.00000000e+00 0.00000000e+00 0.00000000e+00 0.00000000e+00\n",
      " 0.00000000e+00 0.00000000e+00 7.33765440e-06 0.00000000e+00\n",
      " 0.00000000e+00 0.00000000e+00 0.00000000e+00 5.93127064e-05\n",
      " 3.48192083e-02 1.58709388e-02 0.00000000e+00 0.00000000e+00\n",
      " 0.00000000e+00 0.00000000e+00 2.20492438e-02 1.43912600e-01\n",
      " 7.82010517e-03 0.00000000e+00 0.00000000e+00 0.00000000e+00\n",
      " 0.00000000e+00 7.01153642e-03 1.46977294e-03 1.01911867e-06\n",
      " 0.00000000e+00 0.00000000e+00 0.00000000e+00 0.00000000e+00\n",
      " 2.03823733e-07 0.00000000e+00 0.00000000e+00 0.00000000e+00\n",
      " 0.00000000e+00 0.00000000e+00 0.00000000e+00 0.00000000e+00\n",
      " 0.00000000e+00 0.00000000e+00 0.00000000e+00 0.00000000e+00\n",
      " 0.00000000e+00 0.00000000e+00 0.00000000e+00 0.00000000e+00\n",
      " 0.00000000e+00 0.00000000e+00 0.00000000e+00 0.00000000e+00\n",
      " 0.00000000e+00 0.00000000e+00 2.03823733e-07 7.26040520e-03\n",
      " 6.22885329e-04 0.00000000e+00 0.00000000e+00 0.00000000e+00\n",
      " 0.00000000e+00 7.66173413e-04 4.98159472e-02 4.66369084e-03\n",
      " 0.00000000e+00 0.00000000e+00 0.00000000e+00 0.00000000e+00\n",
      " 4.10256410e-03 6.46426970e-03 0.00000000e+00 0.00000000e+00\n",
      " 0.00000000e+00 0.00000000e+00 0.00000000e+00 0.00000000e+00\n",
      " 0.00000000e+00 0.00000000e+00 0.00000000e+00 0.00000000e+00\n",
      " 0.00000000e+00 0.00000000e+00 0.00000000e+00 0.00000000e+00\n",
      " 0.00000000e+00 0.00000000e+00 0.00000000e+00 0.00000000e+00\n",
      " 0.00000000e+00 0.00000000e+00 0.00000000e+00 0.00000000e+00\n",
      " 6.11471200e-07 0.00000000e+00 0.00000000e+00 0.00000000e+00\n",
      " 0.00000000e+00 4.07647466e-07 3.61583303e-03 4.24136806e-03\n",
      " 0.00000000e+00 0.00000000e+00 0.00000000e+00 0.00000000e+00\n",
      " 3.71978313e-03 3.19636378e-03 0.00000000e+00 0.00000000e+00\n",
      " 0.00000000e+00 0.00000000e+00 0.00000000e+00 0.00000000e+00\n",
      " 0.00000000e+00 0.00000000e+00 0.00000000e+00 0.00000000e+00\n",
      " 0.00000000e+00 0.00000000e+00 0.00000000e+00 0.00000000e+00\n",
      " 0.00000000e+00 0.00000000e+00 0.00000000e+00 0.00000000e+00\n",
      " 0.00000000e+00 0.00000000e+00 0.00000000e+00 0.00000000e+00\n",
      " 0.00000000e+00 0.00000000e+00 0.00000000e+00 0.00000000e+00\n",
      " 0.00000000e+00 0.00000000e+00 0.00000000e+00]\n"
     ]
    },
    {
     "name": "stderr",
     "output_type": "stream",
     "text": [
      "progress-bar: 100%|████████████████████████████████████████████████████████████████████████████████████████████████████████████████████████████████████████████| 1/1 [00:00<00:00,  2.13it/s]\n",
      "192.168.1.112 - - [04/Oct/2020 14:37:23] \"\u001b[37mPOST /hazard/predict HTTP/1.1\u001b[0m\" 200 -\n"
     ]
    },
    {
     "name": "stdout",
     "output_type": "stream",
     "text": [
      "  index                                               path is_hurricane  \\\n",
      "0   123  img/modis_hazard_5822213231d84638a64dc27d4fd98...        False   \n",
      "\n",
      "                                      color_features data_split  \n",
      "0  [0.0242466674819616, 0.0, 0.0, 0.0, 0.0, 0.0, ...    predict  \n",
      "Probability of hurricane:\n",
      "[0.2]\n",
      "Response:  {'latitude': -5.182094359878293, 'longitude': 56.704837500000004, 'predicted': [{'hazardType': 'hurricane', 'probability': 0.2}]}\n"
     ]
    },
    {
     "name": "stderr",
     "output_type": "stream",
     "text": [
      "192.168.1.112 - - [04/Oct/2020 14:37:30] \"\u001b[37mOPTIONS /hazard/predict HTTP/1.1\u001b[0m\" 200 -\n"
     ]
    },
    {
     "name": "stdout",
     "output_type": "stream",
     "text": [
      "Request received: \n",
      "{'latitude': 58.76631945814227, 'longitude': -145.35570937499998, 'predict': ['hurricane']}\n",
      "Calculating Square Shape...\n",
      "Shape:  {'lower_latitude': 53.76631945814227, 'left_longitude': -150.35570937499998, 'higher_latitude': 63.76631945814227, 'right_longitude': -140.35570937499998}\n",
      "Retrieve & download the MODIS image based on (X,Y,Z,K) parameters\n",
      "1151 2220\n",
      "Request received: \n",
      "{'latitude': 9.011720036656294, 'longitude': 87.02710312500001, 'predict': ['hurricane']}\n",
      "Calculating Square Shape...\n",
      "Shape:  {'lower_latitude': 4.011720036656294, 'left_longitude': 82.02710312500001, 'higher_latitude': 14.011720036656294, 'right_longitude': 92.02710312500001}\n",
      "Retrieve & download the MODIS image based on (X,Y,Z,K) parameters\n",
      "2192 2220\n",
      "Image PATH:  img/modis_hazard_383e8dedc419463f8be1188b869c4df8.png  \n",
      "\n",
      "Predict if in the image is an Hurricane\n",
      "img/modis_hazard_383e8dedc419463f8be1188b869c4df8.png\n",
      "0    img/modis_hazard_383e8dedc419463f8be1188b869c4...\n",
      "Name: path, dtype: object\n"
     ]
    },
    {
     "name": "stderr",
     "output_type": "stream",
     "text": [
      "\r",
      "progress-bar:   0%|                                                                                                                                                    | 0/1 [00:00<?, ?it/s]"
     ]
    },
    {
     "name": "stdout",
     "output_type": "stream",
     "text": [
      "[1.21829040e-03 0.00000000e+00 0.00000000e+00 0.00000000e+00\n",
      " 0.00000000e+00 0.00000000e+00 0.00000000e+00 0.00000000e+00\n",
      " 0.00000000e+00 0.00000000e+00 0.00000000e+00 5.07040490e-03\n",
      " 0.00000000e+00 0.00000000e+00 0.00000000e+00 0.00000000e+00\n",
      " 5.92277769e-03 7.63221953e-03 1.01752491e-05 0.00000000e+00\n",
      " 0.00000000e+00 0.00000000e+00 0.00000000e+00 0.00000000e+00\n",
      " 0.00000000e+00 0.00000000e+00 0.00000000e+00 0.00000000e+00\n",
      " 0.00000000e+00 0.00000000e+00 0.00000000e+00 0.00000000e+00\n",
      " 0.00000000e+00 0.00000000e+00 0.00000000e+00 0.00000000e+00\n",
      " 0.00000000e+00 0.00000000e+00 0.00000000e+00 0.00000000e+00\n",
      " 0.00000000e+00 0.00000000e+00 0.00000000e+00 0.00000000e+00\n",
      " 0.00000000e+00 0.00000000e+00 1.54518985e-02 1.44946423e-02\n",
      " 7.82711469e-07 0.00000000e+00 0.00000000e+00 0.00000000e+00\n",
      " 3.12110112e-02 7.15233913e-02 5.41244981e-04 0.00000000e+00\n",
      " 0.00000000e+00 0.00000000e+00 1.17406720e-05 3.09171030e-05\n",
      " 2.52541855e-03 1.56542294e-06 0.00000000e+00 0.00000000e+00\n",
      " 0.00000000e+00 0.00000000e+00 0.00000000e+00 0.00000000e+00\n",
      " 0.00000000e+00 0.00000000e+00 0.00000000e+00 0.00000000e+00\n",
      " 0.00000000e+00 0.00000000e+00 0.00000000e+00 0.00000000e+00\n",
      " 0.00000000e+00 0.00000000e+00 0.00000000e+00 0.00000000e+00\n",
      " 0.00000000e+00 0.00000000e+00 6.53564077e-05 1.02926558e-04\n",
      " 0.00000000e+00 0.00000000e+00 0.00000000e+00 0.00000000e+00\n",
      " 8.24195177e-04 7.39231847e-03 4.81719774e-03 0.00000000e+00\n",
      " 0.00000000e+00 0.00000000e+00 1.17406720e-06 1.13317053e-02\n",
      " 4.54254428e-02 3.00678611e-03 0.00000000e+00 0.00000000e+00\n",
      " 0.00000000e+00 1.33060950e-05 2.91990514e-03 2.78371334e-03\n",
      " 0.00000000e+00 0.00000000e+00 0.00000000e+00 0.00000000e+00\n",
      " 0.00000000e+00 0.00000000e+00 0.00000000e+00 0.00000000e+00\n",
      " 0.00000000e+00 0.00000000e+00 0.00000000e+00 0.00000000e+00\n",
      " 0.00000000e+00 0.00000000e+00 0.00000000e+00 0.00000000e+00\n",
      " 0.00000000e+00 0.00000000e+00 0.00000000e+00 0.00000000e+00\n",
      " 0.00000000e+00 0.00000000e+00 1.17406720e-06 0.00000000e+00\n",
      " 0.00000000e+00 0.00000000e+00 0.00000000e+00 6.57477634e-05\n",
      " 8.80472132e-03 3.80867401e-03 0.00000000e+00 0.00000000e+00\n",
      " 0.00000000e+00 4.30491308e-06 6.49611384e-03 8.86072432e-02\n",
      " 6.86242281e-03 0.00000000e+00 0.00000000e+00 0.00000000e+00\n",
      " 0.00000000e+00 6.41823405e-03 9.76823913e-04 0.00000000e+00\n",
      " 0.00000000e+00 0.00000000e+00 0.00000000e+00 0.00000000e+00\n",
      " 0.00000000e+00 0.00000000e+00 0.00000000e+00 0.00000000e+00\n",
      " 0.00000000e+00 0.00000000e+00 0.00000000e+00 0.00000000e+00\n",
      " 0.00000000e+00 0.00000000e+00 0.00000000e+00 0.00000000e+00\n",
      " 0.00000000e+00 0.00000000e+00 0.00000000e+00 0.00000000e+00\n",
      " 0.00000000e+00 0.00000000e+00 0.00000000e+00 0.00000000e+00\n",
      " 0.00000000e+00 0.00000000e+00 1.95677867e-06 1.31174615e-02\n",
      " 9.53733925e-04 0.00000000e+00 0.00000000e+00 0.00000000e+00\n",
      " 0.00000000e+00 1.40144489e-03 1.78691463e-01 4.26515134e-02\n",
      " 0.00000000e+00 0.00000000e+00 0.00000000e+00 0.00000000e+00\n",
      " 4.22077160e-02 8.41234806e-02 0.00000000e+00 0.00000000e+00\n",
      " 0.00000000e+00 0.00000000e+00 0.00000000e+00 0.00000000e+00\n",
      " 0.00000000e+00 0.00000000e+00 0.00000000e+00 0.00000000e+00\n",
      " 0.00000000e+00 0.00000000e+00 0.00000000e+00 0.00000000e+00\n",
      " 0.00000000e+00 0.00000000e+00 0.00000000e+00 0.00000000e+00\n",
      " 0.00000000e+00 0.00000000e+00 0.00000000e+00 0.00000000e+00\n",
      " 7.82711469e-07 0.00000000e+00 0.00000000e+00 0.00000000e+00\n",
      " 0.00000000e+00 3.52220161e-06 4.96196022e-02 7.89540627e-02\n",
      " 0.00000000e+00 0.00000000e+00 0.00000000e+00 0.00000000e+00\n",
      " 7.02370050e-02 8.16602876e-02 0.00000000e+00 0.00000000e+00\n",
      " 0.00000000e+00 0.00000000e+00 0.00000000e+00 0.00000000e+00\n",
      " 0.00000000e+00 0.00000000e+00 0.00000000e+00 0.00000000e+00\n",
      " 0.00000000e+00 0.00000000e+00 0.00000000e+00 0.00000000e+00\n",
      " 0.00000000e+00 0.00000000e+00 0.00000000e+00 0.00000000e+00\n",
      " 0.00000000e+00 0.00000000e+00 0.00000000e+00 0.00000000e+00\n",
      " 0.00000000e+00 0.00000000e+00 0.00000000e+00 0.00000000e+00\n",
      " 0.00000000e+00 0.00000000e+00 0.00000000e+00]\n"
     ]
    },
    {
     "name": "stderr",
     "output_type": "stream",
     "text": [
      "progress-bar: 100%|████████████████████████████████████████████████████████████████████████████████████████████████████████████████████████████████████████████| 1/1 [00:00<00:00,  4.06it/s]\n",
      "192.168.1.112 - - [04/Oct/2020 14:37:37] \"\u001b[37mPOST /hazard/predict HTTP/1.1\u001b[0m\" 200 -\n"
     ]
    },
    {
     "name": "stdout",
     "output_type": "stream",
     "text": [
      "  index                                               path is_hurricane  \\\n",
      "0   123  img/modis_hazard_383e8dedc419463f8be1188b869c4...        False   \n",
      "\n",
      "                                      color_features data_split  \n",
      "0  [0.0012182904016092549, 0.0, 0.0, 0.0, 0.0, 0....    predict  \n",
      "Probability of hurricane:\n",
      "[0.18]\n",
      "Response:  {'latitude': 58.76631945814227, 'longitude': -145.35570937499998, 'predicted': [{'hazardType': 'hurricane', 'probability': 0.18}]}\n",
      "Image PATH:  img/modis_hazard_f29c3f995df64aa788c8997f79ab650a.png  \n",
      "\n",
      "Predict if in the image is an Hurricane\n",
      "img/modis_hazard_f29c3f995df64aa788c8997f79ab650a.png\n",
      "0    img/modis_hazard_f29c3f995df64aa788c8997f79ab6...\n",
      "Name: path, dtype: object\n"
     ]
    },
    {
     "name": "stderr",
     "output_type": "stream",
     "text": [
      "\r",
      "progress-bar:   0%|                                                                                                                                                    | 0/1 [00:00<?, ?it/s]"
     ]
    },
    {
     "name": "stdout",
     "output_type": "stream",
     "text": [
      "[2.89739511e-01 0.00000000e+00 0.00000000e+00 0.00000000e+00\n",
      " 0.00000000e+00 0.00000000e+00 0.00000000e+00 0.00000000e+00\n",
      " 0.00000000e+00 0.00000000e+00 0.00000000e+00 3.97021109e-04\n",
      " 0.00000000e+00 0.00000000e+00 0.00000000e+00 0.00000000e+00\n",
      " 6.03751562e-04 5.20730585e-04 0.00000000e+00 0.00000000e+00\n",
      " 0.00000000e+00 0.00000000e+00 0.00000000e+00 0.00000000e+00\n",
      " 0.00000000e+00 0.00000000e+00 0.00000000e+00 0.00000000e+00\n",
      " 0.00000000e+00 0.00000000e+00 0.00000000e+00 0.00000000e+00\n",
      " 0.00000000e+00 0.00000000e+00 0.00000000e+00 0.00000000e+00\n",
      " 0.00000000e+00 0.00000000e+00 0.00000000e+00 0.00000000e+00\n",
      " 0.00000000e+00 0.00000000e+00 0.00000000e+00 0.00000000e+00\n",
      " 0.00000000e+00 0.00000000e+00 2.02291708e-03 2.57138982e-03\n",
      " 0.00000000e+00 0.00000000e+00 0.00000000e+00 0.00000000e+00\n",
      " 8.54252976e-03 3.80542267e-02 5.95942658e-06 0.00000000e+00\n",
      " 0.00000000e+00 0.00000000e+00 7.60340633e-06 2.77421582e-05\n",
      " 1.02954232e-04 0.00000000e+00 0.00000000e+00 0.00000000e+00\n",
      " 0.00000000e+00 0.00000000e+00 0.00000000e+00 0.00000000e+00\n",
      " 0.00000000e+00 0.00000000e+00 0.00000000e+00 0.00000000e+00\n",
      " 0.00000000e+00 0.00000000e+00 0.00000000e+00 0.00000000e+00\n",
      " 0.00000000e+00 0.00000000e+00 0.00000000e+00 0.00000000e+00\n",
      " 0.00000000e+00 0.00000000e+00 4.74699152e-05 9.94607746e-05\n",
      " 0.00000000e+00 0.00000000e+00 0.00000000e+00 0.00000000e+00\n",
      " 1.09201355e-03 1.26189830e-02 7.40880022e-03 0.00000000e+00\n",
      " 0.00000000e+00 0.00000000e+00 0.00000000e+00 2.27452818e-02\n",
      " 5.32873430e-02 6.41295949e-03 0.00000000e+00 0.00000000e+00\n",
      " 0.00000000e+00 7.80890379e-06 1.07164875e-02 7.24275827e-03\n",
      " 0.00000000e+00 0.00000000e+00 0.00000000e+00 0.00000000e+00\n",
      " 0.00000000e+00 0.00000000e+00 0.00000000e+00 0.00000000e+00\n",
      " 0.00000000e+00 0.00000000e+00 0.00000000e+00 0.00000000e+00\n",
      " 0.00000000e+00 0.00000000e+00 0.00000000e+00 0.00000000e+00\n",
      " 0.00000000e+00 0.00000000e+00 0.00000000e+00 0.00000000e+00\n",
      " 0.00000000e+00 1.43848228e-06 7.48010785e-05 0.00000000e+00\n",
      " 0.00000000e+00 0.00000000e+00 0.00000000e+00 5.24635036e-04\n",
      " 1.98549599e-02 9.80099625e-03 0.00000000e+00 0.00000000e+00\n",
      " 0.00000000e+00 4.93193924e-06 1.66588578e-02 1.28610385e-01\n",
      " 1.34812504e-02 0.00000000e+00 0.00000000e+00 0.00000000e+00\n",
      " 0.00000000e+00 1.45942247e-02 3.41372394e-03 2.26047215e-06\n",
      " 0.00000000e+00 0.00000000e+00 0.00000000e+00 0.00000000e+00\n",
      " 1.02748734e-06 0.00000000e+00 0.00000000e+00 0.00000000e+00\n",
      " 0.00000000e+00 0.00000000e+00 0.00000000e+00 0.00000000e+00\n",
      " 0.00000000e+00 0.00000000e+00 0.00000000e+00 0.00000000e+00\n",
      " 0.00000000e+00 0.00000000e+00 0.00000000e+00 0.00000000e+00\n",
      " 0.00000000e+00 0.00000000e+00 0.00000000e+00 0.00000000e+00\n",
      " 0.00000000e+00 0.00000000e+00 8.21989873e-07 9.20073815e-03\n",
      " 1.48718518e-03 0.00000000e+00 0.00000000e+00 0.00000000e+00\n",
      " 0.00000000e+00 1.55972578e-03 1.23707421e-01 1.56303429e-02\n",
      " 0.00000000e+00 0.00000000e+00 0.00000000e+00 0.00000000e+00\n",
      " 1.52688729e-02 4.42181232e-02 0.00000000e+00 0.00000000e+00\n",
      " 0.00000000e+00 0.00000000e+00 0.00000000e+00 0.00000000e+00\n",
      " 0.00000000e+00 0.00000000e+00 0.00000000e+00 0.00000000e+00\n",
      " 0.00000000e+00 0.00000000e+00 0.00000000e+00 0.00000000e+00\n",
      " 0.00000000e+00 0.00000000e+00 0.00000000e+00 0.00000000e+00\n",
      " 0.00000000e+00 0.00000000e+00 0.00000000e+00 0.00000000e+00\n",
      " 0.00000000e+00 0.00000000e+00 0.00000000e+00 0.00000000e+00\n",
      " 0.00000000e+00 0.00000000e+00 1.17445913e-02 3.73791675e-02\n",
      " 0.00000000e+00 0.00000000e+00 0.00000000e+00 0.00000000e+00\n",
      " 3.38754357e-02 3.46283784e-02 0.00000000e+00 0.00000000e+00\n",
      " 0.00000000e+00 0.00000000e+00 0.00000000e+00 0.00000000e+00\n",
      " 0.00000000e+00 0.00000000e+00 0.00000000e+00 0.00000000e+00\n",
      " 0.00000000e+00 0.00000000e+00 0.00000000e+00 0.00000000e+00\n",
      " 0.00000000e+00 0.00000000e+00 0.00000000e+00 0.00000000e+00\n",
      " 0.00000000e+00 0.00000000e+00 0.00000000e+00 0.00000000e+00\n",
      " 0.00000000e+00 0.00000000e+00 0.00000000e+00 0.00000000e+00\n",
      " 0.00000000e+00 0.00000000e+00 0.00000000e+00]\n"
     ]
    },
    {
     "name": "stderr",
     "output_type": "stream",
     "text": [
      "progress-bar: 100%|████████████████████████████████████████████████████████████████████████████████████████████████████████████████████████████████████████████| 1/1 [00:00<00:00,  2.73it/s]\n",
      "192.168.1.112 - - [04/Oct/2020 14:37:45] \"\u001b[37mPOST /hazard/predict HTTP/1.1\u001b[0m\" 200 -\n"
     ]
    },
    {
     "name": "stdout",
     "output_type": "stream",
     "text": [
      "  index                                               path is_hurricane  \\\n",
      "0   123  img/modis_hazard_f29c3f995df64aa788c8997f79ab6...        False   \n",
      "\n",
      "                                      color_features data_split  \n",
      "0  [0.28973951140921944, 0.0, 0.0, 0.0, 0.0, 0.0,...    predict  \n",
      "Probability of hurricane:\n",
      "[0.28]\n",
      "Response:  {'latitude': 9.011720036656294, 'longitude': 87.02710312500001, 'predicted': [{'hazardType': 'hurricane', 'probability': 0.28}]}\n"
     ]
    },
    {
     "name": "stderr",
     "output_type": "stream",
     "text": [
      "192.168.1.112 - - [04/Oct/2020 14:37:47] \"\u001b[37mOPTIONS /hazard/predict HTTP/1.1\u001b[0m\" 200 -\n"
     ]
    },
    {
     "name": "stdout",
     "output_type": "stream",
     "text": [
      "Request received: \n",
      "{'latitude': 40.777794884087754, 'longitude': 143.452884375, 'predict': ['hurricane']}\n",
      "Calculating Square Shape...\n",
      "Shape:  {'lower_latitude': 35.777794884087754, 'left_longitude': 138.452884375, 'higher_latitude': 45.777794884087754, 'right_longitude': 148.452884375}\n",
      "Retrieve & download the MODIS image based on (X,Y,Z,K) parameters\n",
      "1681 2220\n",
      "Image PATH:  img/modis_hazard_7dbeb99453164f0aa5ef3aab116037b3.png  \n",
      "\n",
      "Predict if in the image is an Hurricane\n",
      "img/modis_hazard_7dbeb99453164f0aa5ef3aab116037b3.png\n",
      "0    img/modis_hazard_7dbeb99453164f0aa5ef3aab11603...\n",
      "Name: path, dtype: object\n"
     ]
    },
    {
     "name": "stderr",
     "output_type": "stream",
     "text": [
      "\r",
      "progress-bar:   0%|                                                                                                                                                    | 0/1 [00:00<?, ?it/s]"
     ]
    },
    {
     "name": "stdout",
     "output_type": "stream",
     "text": [
      "[2.92163073e-03 0.00000000e+00 0.00000000e+00 0.00000000e+00\n",
      " 0.00000000e+00 0.00000000e+00 0.00000000e+00 0.00000000e+00\n",
      " 0.00000000e+00 0.00000000e+00 0.00000000e+00 4.35203198e-03\n",
      " 0.00000000e+00 0.00000000e+00 0.00000000e+00 0.00000000e+00\n",
      " 7.55824236e-03 3.10813490e-03 5.35931529e-07 0.00000000e+00\n",
      " 0.00000000e+00 0.00000000e+00 2.67965765e-07 1.33982882e-06\n",
      " 0.00000000e+00 0.00000000e+00 0.00000000e+00 0.00000000e+00\n",
      " 0.00000000e+00 0.00000000e+00 0.00000000e+00 0.00000000e+00\n",
      " 0.00000000e+00 0.00000000e+00 0.00000000e+00 0.00000000e+00\n",
      " 0.00000000e+00 0.00000000e+00 0.00000000e+00 0.00000000e+00\n",
      " 0.00000000e+00 0.00000000e+00 0.00000000e+00 0.00000000e+00\n",
      " 0.00000000e+00 0.00000000e+00 2.56703164e-02 1.31758766e-02\n",
      " 0.00000000e+00 0.00000000e+00 0.00000000e+00 0.00000000e+00\n",
      " 3.16371100e-02 6.58686646e-02 2.22411585e-05 0.00000000e+00\n",
      " 0.00000000e+00 0.00000000e+00 2.19731927e-05 3.85334770e-04\n",
      " 1.07266696e-03 6.43117835e-06 0.00000000e+00 0.00000000e+00\n",
      " 0.00000000e+00 0.00000000e+00 5.35931529e-07 5.35931529e-07\n",
      " 0.00000000e+00 0.00000000e+00 0.00000000e+00 0.00000000e+00\n",
      " 0.00000000e+00 0.00000000e+00 0.00000000e+00 0.00000000e+00\n",
      " 0.00000000e+00 0.00000000e+00 0.00000000e+00 0.00000000e+00\n",
      " 0.00000000e+00 0.00000000e+00 6.19000916e-05 1.20852560e-04\n",
      " 0.00000000e+00 0.00000000e+00 0.00000000e+00 0.00000000e+00\n",
      " 9.38148142e-04 1.20000429e-02 7.00221340e-03 0.00000000e+00\n",
      " 0.00000000e+00 0.00000000e+00 0.00000000e+00 2.07560922e-02\n",
      " 5.70834070e-02 2.95351866e-03 0.00000000e+00 0.00000000e+00\n",
      " 0.00000000e+00 1.07186306e-06 5.16423622e-03 2.89429822e-03\n",
      " 0.00000000e+00 0.00000000e+00 0.00000000e+00 0.00000000e+00\n",
      " 0.00000000e+00 0.00000000e+00 0.00000000e+00 0.00000000e+00\n",
      " 0.00000000e+00 0.00000000e+00 0.00000000e+00 0.00000000e+00\n",
      " 0.00000000e+00 0.00000000e+00 0.00000000e+00 0.00000000e+00\n",
      " 0.00000000e+00 0.00000000e+00 0.00000000e+00 0.00000000e+00\n",
      " 0.00000000e+00 0.00000000e+00 6.96710988e-06 0.00000000e+00\n",
      " 0.00000000e+00 0.00000000e+00 0.00000000e+00 8.52131132e-05\n",
      " 1.60187254e-02 5.91373646e-03 0.00000000e+00 0.00000000e+00\n",
      " 0.00000000e+00 0.00000000e+00 1.15908592e-02 1.26580864e-01\n",
      " 8.76408830e-03 0.00000000e+00 0.00000000e+00 0.00000000e+00\n",
      " 0.00000000e+00 1.09255002e-02 1.62869592e-03 5.35931529e-07\n",
      " 0.00000000e+00 0.00000000e+00 0.00000000e+00 0.00000000e+00\n",
      " 0.00000000e+00 0.00000000e+00 0.00000000e+00 0.00000000e+00\n",
      " 0.00000000e+00 0.00000000e+00 0.00000000e+00 0.00000000e+00\n",
      " 0.00000000e+00 0.00000000e+00 0.00000000e+00 0.00000000e+00\n",
      " 0.00000000e+00 0.00000000e+00 0.00000000e+00 0.00000000e+00\n",
      " 0.00000000e+00 0.00000000e+00 0.00000000e+00 0.00000000e+00\n",
      " 0.00000000e+00 0.00000000e+00 1.60779459e-06 1.88996254e-02\n",
      " 1.65066911e-03 0.00000000e+00 0.00000000e+00 0.00000000e+00\n",
      " 0.00000000e+00 1.94328773e-03 2.08095514e-01 3.48532352e-02\n",
      " 0.00000000e+00 0.00000000e+00 0.00000000e+00 0.00000000e+00\n",
      " 3.55807622e-02 6.79869340e-02 0.00000000e+00 0.00000000e+00\n",
      " 0.00000000e+00 0.00000000e+00 0.00000000e+00 0.00000000e+00\n",
      " 0.00000000e+00 0.00000000e+00 0.00000000e+00 0.00000000e+00\n",
      " 0.00000000e+00 0.00000000e+00 0.00000000e+00 0.00000000e+00\n",
      " 0.00000000e+00 0.00000000e+00 0.00000000e+00 0.00000000e+00\n",
      " 0.00000000e+00 0.00000000e+00 0.00000000e+00 0.00000000e+00\n",
      " 5.35931529e-07 0.00000000e+00 0.00000000e+00 0.00000000e+00\n",
      " 0.00000000e+00 8.03897294e-07 3.82762298e-02 5.86772674e-02\n",
      " 0.00000000e+00 0.00000000e+00 0.00000000e+00 0.00000000e+00\n",
      " 5.39039932e-02 3.38346973e-02 0.00000000e+00 0.00000000e+00\n",
      " 0.00000000e+00 0.00000000e+00 0.00000000e+00 0.00000000e+00\n",
      " 0.00000000e+00 0.00000000e+00 0.00000000e+00 0.00000000e+00\n",
      " 0.00000000e+00 0.00000000e+00 0.00000000e+00 0.00000000e+00\n",
      " 0.00000000e+00 0.00000000e+00 0.00000000e+00 0.00000000e+00\n",
      " 0.00000000e+00 0.00000000e+00 0.00000000e+00 0.00000000e+00\n",
      " 0.00000000e+00 0.00000000e+00 0.00000000e+00 0.00000000e+00\n",
      " 0.00000000e+00 0.00000000e+00 0.00000000e+00]\n"
     ]
    },
    {
     "name": "stderr",
     "output_type": "stream",
     "text": [
      "progress-bar: 100%|████████████████████████████████████████████████████████████████████████████████████████████████████████████████████████████████████████████| 1/1 [00:00<00:00,  2.92it/s]\n",
      "192.168.1.112 - - [04/Oct/2020 14:37:56] \"\u001b[37mPOST /hazard/predict HTTP/1.1\u001b[0m\" 200 -\n"
     ]
    },
    {
     "name": "stdout",
     "output_type": "stream",
     "text": [
      "  index                                               path is_hurricane  \\\n",
      "0   123  img/modis_hazard_7dbeb99453164f0aa5ef3aab11603...        False   \n",
      "\n",
      "                                      color_features data_split  \n",
      "0  [0.002921630732457621, 0.0, 0.0, 0.0, 0.0, 0.0...    predict  \n",
      "Probability of hurricane:\n",
      "[0.225]\n",
      "Response:  {'latitude': 40.777794884087754, 'longitude': 143.452884375, 'predicted': [{'hazardType': 'hurricane', 'probability': 0.225}]}\n"
     ]
    },
    {
     "name": "stderr",
     "output_type": "stream",
     "text": [
      "192.168.1.112 - - [04/Oct/2020 14:38:01] \"\u001b[37mOPTIONS /hazard/predict HTTP/1.1\u001b[0m\" 200 -\n"
     ]
    },
    {
     "name": "stdout",
     "output_type": "stream",
     "text": [
      "Request received: \n",
      "{'latitude': -13.329014291933552, 'longitude': -34.96508437499999, 'predict': ['hurricane']}\n",
      "Calculating Square Shape...\n",
      "Shape:  {'lower_latitude': -18.329014291933554, 'left_longitude': -39.96508437499999, 'higher_latitude': -8.329014291933552, 'right_longitude': -29.96508437499999}\n",
      "Retrieve & download the MODIS image based on (X,Y,Z,K) parameters\n",
      "2160 2220\n",
      "Image PATH:  img/modis_hazard_814c938e1c744f10bbefb32ed76d24a7.png  \n",
      "\n",
      "Predict if in the image is an Hurricane\n",
      "img/modis_hazard_814c938e1c744f10bbefb32ed76d24a7.png\n",
      "0    img/modis_hazard_814c938e1c744f10bbefb32ed76d2...\n",
      "Name: path, dtype: object\n"
     ]
    },
    {
     "name": "stderr",
     "output_type": "stream",
     "text": [
      "\r",
      "progress-bar:   0%|                                                                                                                                                    | 0/1 [00:00<?, ?it/s]"
     ]
    },
    {
     "name": "stdout",
     "output_type": "stream",
     "text": [
      "[2.80949700e-02 0.00000000e+00 0.00000000e+00 0.00000000e+00\n",
      " 0.00000000e+00 0.00000000e+00 0.00000000e+00 0.00000000e+00\n",
      " 0.00000000e+00 0.00000000e+00 0.00000000e+00 7.59300968e-03\n",
      " 0.00000000e+00 0.00000000e+00 0.00000000e+00 0.00000000e+00\n",
      " 1.40033784e-02 1.49355606e-02 7.56172840e-04 0.00000000e+00\n",
      " 0.00000000e+00 0.00000000e+00 3.96229563e-06 5.05088422e-04\n",
      " 3.23239907e-05 0.00000000e+00 0.00000000e+00 0.00000000e+00\n",
      " 0.00000000e+00 0.00000000e+00 0.00000000e+00 0.00000000e+00\n",
      " 0.00000000e+00 0.00000000e+00 0.00000000e+00 0.00000000e+00\n",
      " 0.00000000e+00 0.00000000e+00 0.00000000e+00 0.00000000e+00\n",
      " 0.00000000e+00 0.00000000e+00 0.00000000e+00 0.00000000e+00\n",
      " 0.00000000e+00 0.00000000e+00 1.32283742e-01 6.40048382e-02\n",
      " 0.00000000e+00 0.00000000e+00 0.00000000e+00 0.00000000e+00\n",
      " 1.43035118e-01 1.38786912e-01 8.19944945e-03 1.09067401e-04\n",
      " 0.00000000e+00 0.00000000e+00 2.77360694e-04 3.29892392e-03\n",
      " 5.63699116e-02 8.75375375e-03 0.00000000e+00 0.00000000e+00\n",
      " 0.00000000e+00 2.91958625e-06 4.40648982e-04 6.37721054e-04\n",
      " 0.00000000e+00 0.00000000e+00 0.00000000e+00 0.00000000e+00\n",
      " 0.00000000e+00 0.00000000e+00 0.00000000e+00 0.00000000e+00\n",
      " 0.00000000e+00 0.00000000e+00 0.00000000e+00 0.00000000e+00\n",
      " 0.00000000e+00 0.00000000e+00 8.70453787e-03 7.51021855e-03\n",
      " 0.00000000e+00 0.00000000e+00 0.00000000e+00 0.00000000e+00\n",
      " 2.42188021e-02 5.16666667e-02 8.29141642e-03 4.17292292e-04\n",
      " 0.00000000e+00 0.00000000e+00 1.25125125e-05 1.89706373e-02\n",
      " 5.05463797e-02 1.26630797e-02 1.04270938e-05 0.00000000e+00\n",
      " 0.00000000e+00 1.87687688e-05 4.71471471e-03 7.60802469e-03\n",
      " 2.85702369e-05 0.00000000e+00 0.00000000e+00 0.00000000e+00\n",
      " 0.00000000e+00 2.71104438e-06 8.34167501e-07 0.00000000e+00\n",
      " 0.00000000e+00 0.00000000e+00 0.00000000e+00 0.00000000e+00\n",
      " 0.00000000e+00 0.00000000e+00 0.00000000e+00 0.00000000e+00\n",
      " 0.00000000e+00 0.00000000e+00 0.00000000e+00 0.00000000e+00\n",
      " 0.00000000e+00 9.38438438e-06 6.06856857e-05 0.00000000e+00\n",
      " 0.00000000e+00 0.00000000e+00 2.08541875e-07 3.18443443e-04\n",
      " 1.18222389e-02 3.20466300e-03 4.17083750e-07 0.00000000e+00\n",
      " 0.00000000e+00 1.04270938e-06 5.93301635e-03 6.78616116e-02\n",
      " 8.19736403e-03 0.00000000e+00 0.00000000e+00 0.00000000e+00\n",
      " 0.00000000e+00 6.45165999e-03 2.02139640e-03 3.75375375e-06\n",
      " 0.00000000e+00 0.00000000e+00 0.00000000e+00 0.00000000e+00\n",
      " 1.04270938e-06 0.00000000e+00 0.00000000e+00 0.00000000e+00\n",
      " 0.00000000e+00 0.00000000e+00 0.00000000e+00 0.00000000e+00\n",
      " 0.00000000e+00 0.00000000e+00 0.00000000e+00 0.00000000e+00\n",
      " 0.00000000e+00 0.00000000e+00 0.00000000e+00 0.00000000e+00\n",
      " 0.00000000e+00 4.17083750e-07 0.00000000e+00 0.00000000e+00\n",
      " 0.00000000e+00 0.00000000e+00 2.71104438e-06 4.49949950e-03\n",
      " 5.63271605e-04 0.00000000e+00 0.00000000e+00 0.00000000e+00\n",
      " 0.00000000e+00 5.99557891e-04 5.05586837e-02 4.99144978e-03\n",
      " 0.00000000e+00 0.00000000e+00 0.00000000e+00 0.00000000e+00\n",
      " 3.85468802e-03 4.51451451e-03 0.00000000e+00 0.00000000e+00\n",
      " 0.00000000e+00 0.00000000e+00 0.00000000e+00 0.00000000e+00\n",
      " 0.00000000e+00 0.00000000e+00 0.00000000e+00 0.00000000e+00\n",
      " 0.00000000e+00 0.00000000e+00 0.00000000e+00 0.00000000e+00\n",
      " 0.00000000e+00 0.00000000e+00 0.00000000e+00 0.00000000e+00\n",
      " 0.00000000e+00 0.00000000e+00 0.00000000e+00 0.00000000e+00\n",
      " 2.08541875e-07 0.00000000e+00 0.00000000e+00 0.00000000e+00\n",
      " 0.00000000e+00 4.17083750e-07 2.01597431e-03 2.31106106e-03\n",
      " 0.00000000e+00 0.00000000e+00 0.00000000e+00 0.00000000e+00\n",
      " 1.74841508e-03 9.41775108e-04 0.00000000e+00 0.00000000e+00\n",
      " 0.00000000e+00 0.00000000e+00 0.00000000e+00 0.00000000e+00\n",
      " 0.00000000e+00 0.00000000e+00 0.00000000e+00 0.00000000e+00\n",
      " 0.00000000e+00 0.00000000e+00 0.00000000e+00 0.00000000e+00\n",
      " 0.00000000e+00 0.00000000e+00 0.00000000e+00 0.00000000e+00\n",
      " 0.00000000e+00 0.00000000e+00 0.00000000e+00 0.00000000e+00\n",
      " 0.00000000e+00 0.00000000e+00 0.00000000e+00 0.00000000e+00\n",
      " 0.00000000e+00 0.00000000e+00 0.00000000e+00]\n"
     ]
    },
    {
     "name": "stderr",
     "output_type": "stream",
     "text": [
      "progress-bar: 100%|████████████████████████████████████████████████████████████████████████████████████████████████████████████████████████████████████████████| 1/1 [00:00<00:00,  2.11it/s]\n",
      "192.168.1.112 - - [04/Oct/2020 14:38:12] \"\u001b[37mPOST /hazard/predict HTTP/1.1\u001b[0m\" 200 -\n"
     ]
    },
    {
     "name": "stdout",
     "output_type": "stream",
     "text": [
      "  index                                               path is_hurricane  \\\n",
      "0   123  img/modis_hazard_814c938e1c744f10bbefb32ed76d2...        False   \n",
      "\n",
      "                                      color_features data_split  \n",
      "0  [0.02809496996996997, 0.0, 0.0, 0.0, 0.0, 0.0,...    predict  \n",
      "Probability of hurricane:\n",
      "[0.215]\n",
      "Response:  {'latitude': -13.329014291933552, 'longitude': -34.96508437499999, 'predicted': [{'hazardType': 'hurricane', 'probability': 0.215}]}\n"
     ]
    },
    {
     "name": "stderr",
     "output_type": "stream",
     "text": [
      "192.168.1.112 - - [04/Oct/2020 14:38:20] \"\u001b[37mOPTIONS /hazard/predict HTTP/1.1\u001b[0m\" 200 -\n"
     ]
    },
    {
     "name": "stdout",
     "output_type": "stream",
     "text": [
      "Request received: \n",
      "{'latitude': 64.0513913406767, 'longitude': -68.18774062499999, 'predict': ['hurricane']}\n",
      "Calculating Square Shape...\n",
      "Shape:  {'lower_latitude': 59.0513913406767, 'left_longitude': -73.18774062499999, 'higher_latitude': 69.0513913406767, 'right_longitude': -63.18774062499999}\n",
      "Retrieve & download the MODIS image based on (X,Y,Z,K) parameters\n",
      "971 2220\n",
      "Image PATH:  img/modis_hazard_0e5164d34e3845549817076bc373b6ad.png  \n",
      "\n",
      "Predict if in the image is an Hurricane\n",
      "img/modis_hazard_0e5164d34e3845549817076bc373b6ad.png\n",
      "0    img/modis_hazard_0e5164d34e3845549817076bc373b...\n",
      "Name: path, dtype: object\n"
     ]
    },
    {
     "name": "stderr",
     "output_type": "stream",
     "text": [
      "\r",
      "progress-bar:   0%|                                                                                                                                                    | 0/1 [00:00<?, ?it/s]"
     ]
    },
    {
     "name": "stdout",
     "output_type": "stream",
     "text": [
      "[5.05654986e-05 0.00000000e+00 0.00000000e+00 0.00000000e+00\n",
      " 0.00000000e+00 0.00000000e+00 0.00000000e+00 0.00000000e+00\n",
      " 0.00000000e+00 0.00000000e+00 0.00000000e+00 1.84169752e-04\n",
      " 0.00000000e+00 0.00000000e+00 0.00000000e+00 0.00000000e+00\n",
      " 3.34474536e-04 2.24065466e-04 0.00000000e+00 0.00000000e+00\n",
      " 0.00000000e+00 0.00000000e+00 0.00000000e+00 0.00000000e+00\n",
      " 0.00000000e+00 0.00000000e+00 0.00000000e+00 0.00000000e+00\n",
      " 0.00000000e+00 0.00000000e+00 0.00000000e+00 0.00000000e+00\n",
      " 0.00000000e+00 0.00000000e+00 0.00000000e+00 0.00000000e+00\n",
      " 0.00000000e+00 0.00000000e+00 0.00000000e+00 0.00000000e+00\n",
      " 0.00000000e+00 0.00000000e+00 0.00000000e+00 0.00000000e+00\n",
      " 0.00000000e+00 0.00000000e+00 3.76504208e-03 3.38232156e-03\n",
      " 0.00000000e+00 0.00000000e+00 0.00000000e+00 0.00000000e+00\n",
      " 8.53165215e-03 1.38401017e-02 6.03074753e-06 0.00000000e+00\n",
      " 0.00000000e+00 0.00000000e+00 4.63903656e-06 4.63903656e-06\n",
      " 1.25253987e-04 0.00000000e+00 0.00000000e+00 0.00000000e+00\n",
      " 0.00000000e+00 0.00000000e+00 0.00000000e+00 0.00000000e+00\n",
      " 0.00000000e+00 0.00000000e+00 0.00000000e+00 0.00000000e+00\n",
      " 0.00000000e+00 0.00000000e+00 0.00000000e+00 0.00000000e+00\n",
      " 0.00000000e+00 0.00000000e+00 0.00000000e+00 0.00000000e+00\n",
      " 0.00000000e+00 0.00000000e+00 5.84518607e-05 7.09772594e-05\n",
      " 0.00000000e+00 0.00000000e+00 0.00000000e+00 0.00000000e+00\n",
      " 5.01015949e-04 2.90682031e-03 1.42047300e-03 0.00000000e+00\n",
      " 0.00000000e+00 0.00000000e+00 4.63903656e-07 3.91302734e-03\n",
      " 1.65400210e-02 1.10965755e-03 0.00000000e+00 0.00000000e+00\n",
      " 0.00000000e+00 0.00000000e+00 1.40841150e-03 1.11893562e-03\n",
      " 0.00000000e+00 0.00000000e+00 0.00000000e+00 0.00000000e+00\n",
      " 0.00000000e+00 0.00000000e+00 0.00000000e+00 0.00000000e+00\n",
      " 0.00000000e+00 0.00000000e+00 0.00000000e+00 0.00000000e+00\n",
      " 0.00000000e+00 0.00000000e+00 0.00000000e+00 0.00000000e+00\n",
      " 0.00000000e+00 0.00000000e+00 0.00000000e+00 0.00000000e+00\n",
      " 0.00000000e+00 4.63903656e-07 1.39171097e-06 0.00000000e+00\n",
      " 0.00000000e+00 0.00000000e+00 0.00000000e+00 3.06176413e-05\n",
      " 5.48566074e-03 2.29957043e-03 0.00000000e+00 0.00000000e+00\n",
      " 0.00000000e+00 4.63903656e-07 3.86756478e-03 7.29632310e-02\n",
      " 5.87997885e-03 0.00000000e+00 0.00000000e+00 0.00000000e+00\n",
      " 0.00000000e+00 5.85771147e-03 8.54510535e-04 0.00000000e+00\n",
      " 0.00000000e+00 0.00000000e+00 0.00000000e+00 0.00000000e+00\n",
      " 0.00000000e+00 0.00000000e+00 0.00000000e+00 0.00000000e+00\n",
      " 0.00000000e+00 0.00000000e+00 0.00000000e+00 0.00000000e+00\n",
      " 0.00000000e+00 0.00000000e+00 0.00000000e+00 0.00000000e+00\n",
      " 0.00000000e+00 0.00000000e+00 0.00000000e+00 0.00000000e+00\n",
      " 0.00000000e+00 0.00000000e+00 0.00000000e+00 0.00000000e+00\n",
      " 0.00000000e+00 0.00000000e+00 4.17513291e-06 1.89152077e-02\n",
      " 1.14491422e-03 0.00000000e+00 0.00000000e+00 0.00000000e+00\n",
      " 0.00000000e+00 2.10658650e-03 2.61691764e-01 6.91286034e-02\n",
      " 0.00000000e+00 0.00000000e+00 0.00000000e+00 0.00000000e+00\n",
      " 7.31520398e-02 9.45472764e-02 0.00000000e+00 0.00000000e+00\n",
      " 0.00000000e+00 0.00000000e+00 0.00000000e+00 0.00000000e+00\n",
      " 0.00000000e+00 0.00000000e+00 0.00000000e+00 0.00000000e+00\n",
      " 0.00000000e+00 0.00000000e+00 0.00000000e+00 0.00000000e+00\n",
      " 0.00000000e+00 0.00000000e+00 0.00000000e+00 0.00000000e+00\n",
      " 0.00000000e+00 0.00000000e+00 0.00000000e+00 0.00000000e+00\n",
      " 4.63903656e-06 0.00000000e+00 0.00000000e+00 0.00000000e+00\n",
      " 0.00000000e+00 2.08756645e-05 9.82469081e-02 9.86542155e-02\n",
      " 0.00000000e+00 0.00000000e+00 0.00000000e+00 0.00000000e+00\n",
      " 9.38059584e-02 3.18344606e-02 0.00000000e+00 0.00000000e+00\n",
      " 0.00000000e+00 0.00000000e+00 0.00000000e+00 0.00000000e+00\n",
      " 0.00000000e+00 0.00000000e+00 0.00000000e+00 0.00000000e+00\n",
      " 0.00000000e+00 0.00000000e+00 0.00000000e+00 0.00000000e+00\n",
      " 0.00000000e+00 0.00000000e+00 0.00000000e+00 0.00000000e+00\n",
      " 0.00000000e+00 0.00000000e+00 0.00000000e+00 0.00000000e+00\n",
      " 0.00000000e+00 0.00000000e+00 0.00000000e+00 0.00000000e+00\n",
      " 0.00000000e+00 0.00000000e+00 0.00000000e+00]\n"
     ]
    },
    {
     "name": "stderr",
     "output_type": "stream",
     "text": [
      "progress-bar: 100%|████████████████████████████████████████████████████████████████████████████████████████████████████████████████████████████████████████████| 1/1 [00:00<00:00,  4.57it/s]\n",
      "192.168.1.112 - - [04/Oct/2020 14:38:25] \"\u001b[37mPOST /hazard/predict HTTP/1.1\u001b[0m\" 200 -\n"
     ]
    },
    {
     "name": "stdout",
     "output_type": "stream",
     "text": [
      "  index                                               path is_hurricane  \\\n",
      "0   123  img/modis_hazard_0e5164d34e3845549817076bc373b...        False   \n",
      "\n",
      "                                      color_features data_split  \n",
      "0  [5.0565498557259625e-05, 0.0, 0.0, 0.0, 0.0, 0...    predict  \n",
      "Probability of hurricane:\n",
      "[0.075]\n",
      "Response:  {'latitude': 64.0513913406767, 'longitude': -68.18774062499999, 'predicted': [{'hazardType': 'hurricane', 'probability': 0.075}]}\n"
     ]
    },
    {
     "name": "stderr",
     "output_type": "stream",
     "text": [
      "192.168.1.112 - - [04/Oct/2020 14:38:49] \"\u001b[37mOPTIONS /hazard/predict HTTP/1.1\u001b[0m\" 200 -\n"
     ]
    },
    {
     "name": "stdout",
     "output_type": "stream",
     "text": [
      "Request received: \n",
      "{'latitude': 28.68740583513602, 'longitude': -12.992428124999993, 'predict': ['hurricane']}\n",
      "Calculating Square Shape...\n",
      "Shape:  {'lower_latitude': 23.68740583513602, 'left_longitude': -17.992428124999993, 'higher_latitude': 33.68740583513602, 'right_longitude': -7.992428124999993}\n",
      "Retrieve & download the MODIS image based on (X,Y,Z,K) parameters\n",
      "1947 2220\n",
      "Image PATH:  img/modis_hazard_3657a387206c455da4f0daa07eac2278.png  \n",
      "\n",
      "Predict if in the image is an Hurricane\n",
      "img/modis_hazard_3657a387206c455da4f0daa07eac2278.png\n",
      "0    img/modis_hazard_3657a387206c455da4f0daa07eac2...\n",
      "Name: path, dtype: object\n"
     ]
    },
    {
     "name": "stderr",
     "output_type": "stream",
     "text": [
      "\r",
      "progress-bar:   0%|                                                                                                                                                    | 0/1 [00:00<?, ?it/s]"
     ]
    },
    {
     "name": "stdout",
     "output_type": "stream",
     "text": [
      "[4.95264139e-02 0.00000000e+00 0.00000000e+00 0.00000000e+00\n",
      " 0.00000000e+00 0.00000000e+00 0.00000000e+00 0.00000000e+00\n",
      " 0.00000000e+00 0.00000000e+00 0.00000000e+00 8.65387730e-03\n",
      " 1.15678082e-06 0.00000000e+00 0.00000000e+00 0.00000000e+00\n",
      " 1.57932971e-02 6.55593961e-03 2.32975657e-04 0.00000000e+00\n",
      " 0.00000000e+00 0.00000000e+00 0.00000000e+00 1.38813698e-06\n",
      " 4.39576711e-06 2.31356164e-07 0.00000000e+00 0.00000000e+00\n",
      " 0.00000000e+00 0.00000000e+00 0.00000000e+00 0.00000000e+00\n",
      " 0.00000000e+00 0.00000000e+00 0.00000000e+00 0.00000000e+00\n",
      " 0.00000000e+00 0.00000000e+00 0.00000000e+00 0.00000000e+00\n",
      " 0.00000000e+00 0.00000000e+00 0.00000000e+00 0.00000000e+00\n",
      " 0.00000000e+00 0.00000000e+00 8.40095874e-02 3.87047294e-02\n",
      " 2.77627396e-06 0.00000000e+00 0.00000000e+00 0.00000000e+00\n",
      " 9.62416191e-02 8.52424844e-02 4.46471124e-03 2.76239259e-04\n",
      " 0.00000000e+00 0.00000000e+00 1.17066219e-04 1.42746753e-04\n",
      " 1.59295659e-02 1.23106928e-02 4.62712327e-07 0.00000000e+00\n",
      " 0.00000000e+00 0.00000000e+00 5.03199656e-04 1.94524262e-03\n",
      " 0.00000000e+00 0.00000000e+00 0.00000000e+00 0.00000000e+00\n",
      " 0.00000000e+00 0.00000000e+00 0.00000000e+00 0.00000000e+00\n",
      " 0.00000000e+00 0.00000000e+00 0.00000000e+00 0.00000000e+00\n",
      " 0.00000000e+00 0.00000000e+00 2.41952276e-03 2.00794014e-03\n",
      " 0.00000000e+00 0.00000000e+00 0.00000000e+00 0.00000000e+00\n",
      " 9.59642231e-03 3.22596094e-02 7.10286558e-03 3.93999547e-04\n",
      " 0.00000000e+00 0.00000000e+00 7.86610956e-06 2.19295567e-02\n",
      " 4.39694702e-02 3.93705724e-02 4.09060833e-03 0.00000000e+00\n",
      " 0.00000000e+00 2.31356164e-06 3.85277419e-03 5.39786319e-02\n",
      " 3.70040302e-02 0.00000000e+00 0.00000000e+00 0.00000000e+00\n",
      " 0.00000000e+00 4.42838833e-03 2.13379790e-03 4.62712327e-07\n",
      " 0.00000000e+00 0.00000000e+00 0.00000000e+00 0.00000000e+00\n",
      " 0.00000000e+00 0.00000000e+00 0.00000000e+00 0.00000000e+00\n",
      " 0.00000000e+00 0.00000000e+00 0.00000000e+00 0.00000000e+00\n",
      " 0.00000000e+00 9.02289038e-06 5.08983560e-05 0.00000000e+00\n",
      " 0.00000000e+00 0.00000000e+00 0.00000000e+00 3.89141067e-04\n",
      " 1.41622362e-02 5.69413790e-03 9.96913709e-04 0.00000000e+00\n",
      " 0.00000000e+00 1.38813698e-06 8.63467474e-03 8.85150173e-02\n",
      " 6.09567966e-02 3.58602054e-05 0.00000000e+00 0.00000000e+00\n",
      " 0.00000000e+00 1.54807350e-02 1.54337697e-02 5.14998820e-04\n",
      " 0.00000000e+00 0.00000000e+00 0.00000000e+00 0.00000000e+00\n",
      " 5.78390409e-06 3.23898629e-06 0.00000000e+00 0.00000000e+00\n",
      " 0.00000000e+00 0.00000000e+00 0.00000000e+00 0.00000000e+00\n",
      " 0.00000000e+00 0.00000000e+00 0.00000000e+00 0.00000000e+00\n",
      " 0.00000000e+00 0.00000000e+00 0.00000000e+00 0.00000000e+00\n",
      " 0.00000000e+00 0.00000000e+00 0.00000000e+00 0.00000000e+00\n",
      " 0.00000000e+00 0.00000000e+00 3.47034245e-06 6.37872079e-03\n",
      " 4.81683533e-04 2.54491780e-06 0.00000000e+00 0.00000000e+00\n",
      " 0.00000000e+00 9.48328914e-04 6.44817391e-02 8.39707196e-03\n",
      " 0.00000000e+00 0.00000000e+00 0.00000000e+00 0.00000000e+00\n",
      " 6.30931394e-03 5.90351523e-03 0.00000000e+00 0.00000000e+00\n",
      " 0.00000000e+00 0.00000000e+00 0.00000000e+00 0.00000000e+00\n",
      " 0.00000000e+00 0.00000000e+00 0.00000000e+00 0.00000000e+00\n",
      " 0.00000000e+00 0.00000000e+00 0.00000000e+00 0.00000000e+00\n",
      " 0.00000000e+00 0.00000000e+00 0.00000000e+00 0.00000000e+00\n",
      " 0.00000000e+00 0.00000000e+00 0.00000000e+00 0.00000000e+00\n",
      " 0.00000000e+00 0.00000000e+00 0.00000000e+00 0.00000000e+00\n",
      " 0.00000000e+00 4.62712327e-07 3.92773359e-03 3.54645863e-03\n",
      " 0.00000000e+00 0.00000000e+00 0.00000000e+00 0.00000000e+00\n",
      " 2.94192498e-03 5.82786176e-04 0.00000000e+00 0.00000000e+00\n",
      " 0.00000000e+00 0.00000000e+00 0.00000000e+00 0.00000000e+00\n",
      " 0.00000000e+00 0.00000000e+00 0.00000000e+00 0.00000000e+00\n",
      " 0.00000000e+00 0.00000000e+00 0.00000000e+00 0.00000000e+00\n",
      " 0.00000000e+00 0.00000000e+00 0.00000000e+00 0.00000000e+00\n",
      " 0.00000000e+00 0.00000000e+00 0.00000000e+00 0.00000000e+00\n",
      " 0.00000000e+00 0.00000000e+00 0.00000000e+00 0.00000000e+00\n",
      " 0.00000000e+00 0.00000000e+00 0.00000000e+00]\n"
     ]
    },
    {
     "name": "stderr",
     "output_type": "stream",
     "text": [
      "progress-bar: 100%|████████████████████████████████████████████████████████████████████████████████████████████████████████████████████████████████████████████| 1/1 [00:00<00:00,  2.49it/s]\n",
      "192.168.1.112 - - [04/Oct/2020 14:38:59] \"\u001b[37mPOST /hazard/predict HTTP/1.1\u001b[0m\" 200 -\n"
     ]
    },
    {
     "name": "stdout",
     "output_type": "stream",
     "text": [
      "  index                                               path is_hurricane  \\\n",
      "0   123  img/modis_hazard_3657a387206c455da4f0daa07eac2...        False   \n",
      "\n",
      "                                      color_features data_split  \n",
      "0  [0.0495264139331936, 0.0, 0.0, 0.0, 0.0, 0.0, ...    predict  \n",
      "Probability of hurricane:\n",
      "[0.11]\n",
      "Response:  {'latitude': 28.68740583513602, 'longitude': -12.992428124999993, 'predicted': [{'hazardType': 'hurricane', 'probability': 0.11}]}\n"
     ]
    },
    {
     "name": "stderr",
     "output_type": "stream",
     "text": [
      "192.168.1.112 - - [04/Oct/2020 14:39:04] \"\u001b[37mOPTIONS /hazard/predict HTTP/1.1\u001b[0m\" 200 -\n"
     ]
    },
    {
     "name": "stdout",
     "output_type": "stream",
     "text": [
      "Request received: \n",
      "{'latitude': 43.51405820972537, 'longitude': -38.48070937499999, 'predict': ['hurricane']}\n",
      "Calculating Square Shape...\n",
      "Shape:  {'lower_latitude': 38.51405820972537, 'left_longitude': -43.48070937499999, 'higher_latitude': 48.51405820972537, 'right_longitude': -33.48070937499999}\n",
      "Retrieve & download the MODIS image based on (X,Y,Z,K) parameters\n",
      "1609 2220\n",
      "Image PATH:  img/modis_hazard_26dda14fa5784213aef34c8edb4f9280.png  \n",
      "\n",
      "Predict if in the image is an Hurricane\n",
      "img/modis_hazard_26dda14fa5784213aef34c8edb4f9280.png\n",
      "0    img/modis_hazard_26dda14fa5784213aef34c8edb4f9...\n",
      "Name: path, dtype: object\n"
     ]
    },
    {
     "name": "stderr",
     "output_type": "stream",
     "text": [
      "\r",
      "progress-bar:   0%|                                                                                                                                                    | 0/1 [00:00<?, ?it/s]"
     ]
    },
    {
     "name": "stdout",
     "output_type": "stream",
     "text": [
      "[3.80741214e-05 0.00000000e+00 0.00000000e+00 0.00000000e+00\n",
      " 0.00000000e+00 0.00000000e+00 0.00000000e+00 0.00000000e+00\n",
      " 0.00000000e+00 0.00000000e+00 0.00000000e+00 1.70493676e-04\n",
      " 0.00000000e+00 0.00000000e+00 0.00000000e+00 0.00000000e+00\n",
      " 2.88355478e-04 1.32699511e-04 0.00000000e+00 0.00000000e+00\n",
      " 0.00000000e+00 0.00000000e+00 0.00000000e+00 0.00000000e+00\n",
      " 0.00000000e+00 0.00000000e+00 0.00000000e+00 0.00000000e+00\n",
      " 0.00000000e+00 0.00000000e+00 0.00000000e+00 0.00000000e+00\n",
      " 0.00000000e+00 0.00000000e+00 0.00000000e+00 0.00000000e+00\n",
      " 0.00000000e+00 0.00000000e+00 0.00000000e+00 0.00000000e+00\n",
      " 0.00000000e+00 0.00000000e+00 0.00000000e+00 0.00000000e+00\n",
      " 0.00000000e+00 0.00000000e+00 1.66428703e-02 1.21072906e-02\n",
      " 0.00000000e+00 0.00000000e+00 0.00000000e+00 0.00000000e+00\n",
      " 5.56257314e-02 1.17537052e-01 0.00000000e+00 0.00000000e+00\n",
      " 0.00000000e+00 0.00000000e+00 8.65066434e-05 5.59913549e-07\n",
      " 1.23180981e-05 0.00000000e+00 0.00000000e+00 0.00000000e+00\n",
      " 0.00000000e+00 0.00000000e+00 0.00000000e+00 0.00000000e+00\n",
      " 0.00000000e+00 0.00000000e+00 0.00000000e+00 0.00000000e+00\n",
      " 0.00000000e+00 0.00000000e+00 0.00000000e+00 0.00000000e+00\n",
      " 0.00000000e+00 0.00000000e+00 0.00000000e+00 0.00000000e+00\n",
      " 0.00000000e+00 0.00000000e+00 1.85611342e-03 1.86955134e-03\n",
      " 0.00000000e+00 0.00000000e+00 0.00000000e+00 0.00000000e+00\n",
      " 2.47571375e-02 1.29476929e-01 1.92649455e-02 0.00000000e+00\n",
      " 0.00000000e+00 0.00000000e+00 1.67974065e-05 1.05454958e-01\n",
      " 5.09210578e-02 1.41630132e-03 0.00000000e+00 0.00000000e+00\n",
      " 0.00000000e+00 2.09967581e-05 4.16015767e-03 1.31943628e-03\n",
      " 0.00000000e+00 0.00000000e+00 0.00000000e+00 0.00000000e+00\n",
      " 0.00000000e+00 0.00000000e+00 0.00000000e+00 0.00000000e+00\n",
      " 0.00000000e+00 0.00000000e+00 0.00000000e+00 0.00000000e+00\n",
      " 0.00000000e+00 0.00000000e+00 0.00000000e+00 0.00000000e+00\n",
      " 0.00000000e+00 0.00000000e+00 0.00000000e+00 0.00000000e+00\n",
      " 0.00000000e+00 4.22454773e-04 1.31831645e-03 0.00000000e+00\n",
      " 0.00000000e+00 0.00000000e+00 0.00000000e+00 5.22679298e-03\n",
      " 2.81787692e-02 4.68199710e-03 0.00000000e+00 0.00000000e+00\n",
      " 0.00000000e+00 2.15566716e-05 1.60641997e-02 9.82306732e-02\n",
      " 5.58289800e-03 0.00000000e+00 0.00000000e+00 0.00000000e+00\n",
      " 0.00000000e+00 9.67138674e-03 1.14446329e-03 0.00000000e+00\n",
      " 0.00000000e+00 0.00000000e+00 0.00000000e+00 0.00000000e+00\n",
      " 0.00000000e+00 0.00000000e+00 0.00000000e+00 0.00000000e+00\n",
      " 0.00000000e+00 0.00000000e+00 0.00000000e+00 0.00000000e+00\n",
      " 0.00000000e+00 0.00000000e+00 0.00000000e+00 0.00000000e+00\n",
      " 0.00000000e+00 0.00000000e+00 0.00000000e+00 0.00000000e+00\n",
      " 0.00000000e+00 0.00000000e+00 0.00000000e+00 0.00000000e+00\n",
      " 0.00000000e+00 0.00000000e+00 8.67866001e-06 1.60692389e-02\n",
      " 1.05655687e-03 0.00000000e+00 0.00000000e+00 0.00000000e+00\n",
      " 0.00000000e+00 1.85975285e-03 1.60436509e-01 1.91518430e-02\n",
      " 0.00000000e+00 0.00000000e+00 0.00000000e+00 0.00000000e+00\n",
      " 2.09567243e-02 1.72780923e-02 0.00000000e+00 0.00000000e+00\n",
      " 0.00000000e+00 0.00000000e+00 0.00000000e+00 0.00000000e+00\n",
      " 0.00000000e+00 0.00000000e+00 0.00000000e+00 0.00000000e+00\n",
      " 0.00000000e+00 0.00000000e+00 0.00000000e+00 0.00000000e+00\n",
      " 0.00000000e+00 0.00000000e+00 0.00000000e+00 0.00000000e+00\n",
      " 0.00000000e+00 0.00000000e+00 0.00000000e+00 0.00000000e+00\n",
      " 5.59913549e-07 0.00000000e+00 0.00000000e+00 0.00000000e+00\n",
      " 0.00000000e+00 2.79956775e-07 2.03556571e-02 1.37397186e-02\n",
      " 0.00000000e+00 0.00000000e+00 0.00000000e+00 0.00000000e+00\n",
      " 1.29981131e-02 2.36843431e-03 0.00000000e+00 0.00000000e+00\n",
      " 0.00000000e+00 0.00000000e+00 0.00000000e+00 0.00000000e+00\n",
      " 0.00000000e+00 0.00000000e+00 0.00000000e+00 0.00000000e+00\n",
      " 0.00000000e+00 0.00000000e+00 0.00000000e+00 0.00000000e+00\n",
      " 0.00000000e+00 0.00000000e+00 0.00000000e+00 0.00000000e+00\n",
      " 0.00000000e+00 0.00000000e+00 0.00000000e+00 0.00000000e+00\n",
      " 0.00000000e+00 0.00000000e+00 0.00000000e+00 0.00000000e+00\n",
      " 0.00000000e+00 0.00000000e+00 0.00000000e+00]\n"
     ]
    },
    {
     "name": "stderr",
     "output_type": "stream",
     "text": [
      "progress-bar: 100%|████████████████████████████████████████████████████████████████████████████████████████████████████████████████████████████████████████████| 1/1 [00:00<00:00,  3.14it/s]\n",
      "192.168.1.112 - - [04/Oct/2020 14:39:13] \"\u001b[37mPOST /hazard/predict HTTP/1.1\u001b[0m\" 200 -\n"
     ]
    },
    {
     "name": "stdout",
     "output_type": "stream",
     "text": [
      "  index                                               path is_hurricane  \\\n",
      "0   123  img/modis_hazard_26dda14fa5784213aef34c8edb4f9...        False   \n",
      "\n",
      "                                      color_features data_split  \n",
      "0  [3.807412135566268e-05, 0.0, 0.0, 0.0, 0.0, 0....    predict  \n",
      "Probability of hurricane:\n",
      "[0.435]\n",
      "Response:  {'latitude': 43.51405820972537, 'longitude': -38.48070937499999, 'predicted': [{'hazardType': 'hurricane', 'probability': 0.435}]}\n"
     ]
    },
    {
     "name": "stderr",
     "output_type": "stream",
     "text": [
      "192.168.1.87 - - [04/Oct/2020 14:46:03] \"\u001b[31m\u001b[1mGET /hazard/predict HTTP/1.1\u001b[0m\" 405 -\n",
      "192.168.1.112 - - [04/Oct/2020 15:35:46] \"\u001b[37mOPTIONS /hazard/predict HTTP/1.1\u001b[0m\" 200 -\n"
     ]
    },
    {
     "name": "stdout",
     "output_type": "stream",
     "text": [
      "Request received: \n",
      "{'latitude': 39.3246950243538, 'longitude': -67.66039687499999, 'predict': ['hurricane']}\n",
      "Calculating Square Shape...\n",
      "Shape:  {'lower_latitude': 34.3246950243538, 'left_longitude': -72.66039687499999, 'higher_latitude': 44.3246950243538, 'right_longitude': -62.66039687499999}\n",
      "Retrieve & download the MODIS image based on (X,Y,Z,K) parameters\n",
      "1717 2220\n",
      "Image PATH:  img/modis_hazard_94349b81d61642af843bfeba963120a2.png  \n",
      "\n",
      "Predict if in the image is an Hurricane\n",
      "img/modis_hazard_94349b81d61642af843bfeba963120a2.png\n",
      "0    img/modis_hazard_94349b81d61642af843bfeba96312...\n",
      "Name: path, dtype: object\n"
     ]
    },
    {
     "name": "stderr",
     "output_type": "stream",
     "text": [
      "\r",
      "progress-bar:   0%|                                                                                                                                                    | 0/1 [00:00<?, ?it/s]"
     ]
    },
    {
     "name": "stdout",
     "output_type": "stream",
     "text": [
      "[8.93345296e-03 0.00000000e+00 0.00000000e+00 0.00000000e+00\n",
      " 0.00000000e+00 0.00000000e+00 0.00000000e+00 0.00000000e+00\n",
      " 0.00000000e+00 0.00000000e+00 0.00000000e+00 1.42357558e-02\n",
      " 0.00000000e+00 0.00000000e+00 0.00000000e+00 0.00000000e+00\n",
      " 3.27149806e-02 1.05057008e-02 2.62347379e-06 0.00000000e+00\n",
      " 0.00000000e+00 0.00000000e+00 1.04938952e-06 2.43983063e-05\n",
      " 2.62347379e-07 0.00000000e+00 0.00000000e+00 0.00000000e+00\n",
      " 0.00000000e+00 0.00000000e+00 0.00000000e+00 0.00000000e+00\n",
      " 0.00000000e+00 0.00000000e+00 0.00000000e+00 0.00000000e+00\n",
      " 0.00000000e+00 0.00000000e+00 0.00000000e+00 0.00000000e+00\n",
      " 0.00000000e+00 0.00000000e+00 0.00000000e+00 0.00000000e+00\n",
      " 0.00000000e+00 0.00000000e+00 6.75854072e-02 2.20594794e-02\n",
      " 2.62347379e-07 0.00000000e+00 0.00000000e+00 0.00000000e+00\n",
      " 6.24903587e-02 5.39509515e-02 2.33489168e-05 0.00000000e+00\n",
      " 0.00000000e+00 0.00000000e+00 3.96144543e-05 1.19131945e-03\n",
      " 3.15708836e-03 1.57408428e-06 0.00000000e+00 0.00000000e+00\n",
      " 0.00000000e+00 0.00000000e+00 7.87042138e-07 2.62347379e-07\n",
      " 0.00000000e+00 0.00000000e+00 0.00000000e+00 0.00000000e+00\n",
      " 0.00000000e+00 0.00000000e+00 0.00000000e+00 0.00000000e+00\n",
      " 0.00000000e+00 0.00000000e+00 0.00000000e+00 0.00000000e+00\n",
      " 0.00000000e+00 0.00000000e+00 3.72533279e-05 4.69601809e-05\n",
      " 0.00000000e+00 0.00000000e+00 0.00000000e+00 0.00000000e+00\n",
      " 7.96486644e-04 5.52424877e-03 2.51407494e-03 2.62347379e-07\n",
      " 0.00000000e+00 0.00000000e+00 5.24694759e-07 1.42265737e-02\n",
      " 3.26331282e-02 1.72729515e-03 0.00000000e+00 0.00000000e+00\n",
      " 0.00000000e+00 1.73149270e-05 3.52516174e-03 2.27481413e-03\n",
      " 0.00000000e+00 0.00000000e+00 0.00000000e+00 0.00000000e+00\n",
      " 0.00000000e+00 0.00000000e+00 0.00000000e+00 0.00000000e+00\n",
      " 0.00000000e+00 0.00000000e+00 0.00000000e+00 0.00000000e+00\n",
      " 0.00000000e+00 0.00000000e+00 0.00000000e+00 0.00000000e+00\n",
      " 0.00000000e+00 0.00000000e+00 0.00000000e+00 0.00000000e+00\n",
      " 0.00000000e+00 1.04938952e-06 2.93829065e-05 0.00000000e+00\n",
      " 0.00000000e+00 0.00000000e+00 0.00000000e+00 2.90680896e-04\n",
      " 6.36664620e-03 2.31206745e-03 0.00000000e+00 0.00000000e+00\n",
      " 0.00000000e+00 9.18215828e-06 5.70736724e-03 6.32049930e-02\n",
      " 6.43170835e-03 0.00000000e+00 0.00000000e+00 0.00000000e+00\n",
      " 0.00000000e+00 7.52044998e-03 1.43845068e-03 1.04938952e-06\n",
      " 0.00000000e+00 0.00000000e+00 0.00000000e+00 0.00000000e+00\n",
      " 2.62347379e-07 0.00000000e+00 0.00000000e+00 0.00000000e+00\n",
      " 0.00000000e+00 0.00000000e+00 0.00000000e+00 0.00000000e+00\n",
      " 0.00000000e+00 0.00000000e+00 0.00000000e+00 0.00000000e+00\n",
      " 0.00000000e+00 0.00000000e+00 0.00000000e+00 0.00000000e+00\n",
      " 2.62347379e-07 0.00000000e+00 0.00000000e+00 0.00000000e+00\n",
      " 0.00000000e+00 0.00000000e+00 1.57408428e-06 8.26472949e-03\n",
      " 8.33739972e-04 5.24694759e-07 0.00000000e+00 0.00000000e+00\n",
      " 0.00000000e+00 1.14094875e-03 1.56428035e-01 4.56773022e-02\n",
      " 0.00000000e+00 0.00000000e+00 0.00000000e+00 5.24694759e-07\n",
      " 4.63205780e-02 8.65022273e-02 0.00000000e+00 0.00000000e+00\n",
      " 0.00000000e+00 0.00000000e+00 0.00000000e+00 0.00000000e+00\n",
      " 0.00000000e+00 0.00000000e+00 0.00000000e+00 0.00000000e+00\n",
      " 0.00000000e+00 0.00000000e+00 0.00000000e+00 0.00000000e+00\n",
      " 0.00000000e+00 0.00000000e+00 0.00000000e+00 0.00000000e+00\n",
      " 0.00000000e+00 0.00000000e+00 0.00000000e+00 0.00000000e+00\n",
      " 0.00000000e+00 0.00000000e+00 0.00000000e+00 0.00000000e+00\n",
      " 0.00000000e+00 0.00000000e+00 4.14424908e-02 7.17024246e-02\n",
      " 0.00000000e+00 0.00000000e+00 0.00000000e+00 0.00000000e+00\n",
      " 6.33681731e-02 4.47603981e-02 0.00000000e+00 0.00000000e+00\n",
      " 0.00000000e+00 0.00000000e+00 0.00000000e+00 0.00000000e+00\n",
      " 0.00000000e+00 0.00000000e+00 0.00000000e+00 0.00000000e+00\n",
      " 0.00000000e+00 0.00000000e+00 0.00000000e+00 0.00000000e+00\n",
      " 0.00000000e+00 0.00000000e+00 0.00000000e+00 0.00000000e+00\n",
      " 0.00000000e+00 0.00000000e+00 0.00000000e+00 0.00000000e+00\n",
      " 0.00000000e+00 0.00000000e+00 0.00000000e+00 0.00000000e+00\n",
      " 0.00000000e+00 0.00000000e+00 0.00000000e+00]\n"
     ]
    },
    {
     "name": "stderr",
     "output_type": "stream",
     "text": [
      "progress-bar: 100%|████████████████████████████████████████████████████████████████████████████████████████████████████████████████████████████████████████████| 1/1 [00:00<00:00,  2.41it/s]\n",
      "192.168.1.112 - - [04/Oct/2020 15:35:56] \"\u001b[37mPOST /hazard/predict HTTP/1.1\u001b[0m\" 200 -\n"
     ]
    },
    {
     "name": "stdout",
     "output_type": "stream",
     "text": [
      "  index                                               path is_hurricane  \\\n",
      "0   123  img/modis_hazard_94349b81d61642af843bfeba96312...        False   \n",
      "\n",
      "                                      color_features data_split  \n",
      "0  [0.008933452963738346, 0.0, 0.0, 0.0, 0.0, 0.0...    predict  \n",
      "Probability of hurricane:\n",
      "[0.295]\n",
      "Response:  {'latitude': 39.3246950243538, 'longitude': -67.66039687499999, 'predicted': [{'hazardType': 'hurricane', 'probability': 0.295}]}\n"
     ]
    },
    {
     "name": "stderr",
     "output_type": "stream",
     "text": [
      "192.168.1.112 - - [04/Oct/2020 15:36:02] \"\u001b[37mOPTIONS /hazard/predict HTTP/1.1\u001b[0m\" 200 -\n"
     ]
    },
    {
     "name": "stdout",
     "output_type": "stream",
     "text": [
      "Request received: \n",
      "{'latitude': 11.123106526616066, 'longitude': 66.28491562500001, 'predict': ['hurricane']}\n",
      "Calculating Square Shape...\n",
      "Shape:  {'lower_latitude': 6.123106526616066, 'left_longitude': 61.28491562500001, 'higher_latitude': 16.123106526616066, 'right_longitude': 71.28491562500001}\n",
      "Retrieve & download the MODIS image based on (X,Y,Z,K) parameters\n",
      "2178 2220\n"
     ]
    },
    {
     "name": "stderr",
     "output_type": "stream",
     "text": [
      "192.168.1.112 - - [04/Oct/2020 15:36:13] \"\u001b[37mOPTIONS /hazard/predict HTTP/1.1\u001b[0m\" 200 -\n"
     ]
    },
    {
     "name": "stdout",
     "output_type": "stream",
     "text": [
      "Request received: \n",
      "{'latitude': 15.738014297243087, 'longitude': 86.14819687500001, 'predict': ['hurricane']}\n",
      "Calculating Square Shape...\n",
      "Shape:  {'lower_latitude': 10.738014297243087, 'left_longitude': 81.14819687500001, 'higher_latitude': 20.738014297243087, 'right_longitude': 91.14819687500001}\n",
      "Retrieve & download the MODIS image based on (X,Y,Z,K) parameters\n",
      "2136 2220\n",
      "Image PATH:  img/modis_hazard_7b19852d30c249c8a9653943e81db0c7.png  \n",
      "\n",
      "Predict if in the image is an Hurricane\n",
      "img/modis_hazard_7b19852d30c249c8a9653943e81db0c7.png\n",
      "0    img/modis_hazard_7b19852d30c249c8a9653943e81db...\n",
      "Name: path, dtype: object\n"
     ]
    },
    {
     "name": "stderr",
     "output_type": "stream",
     "text": [
      "\r",
      "progress-bar:   0%|                                                                                                                                                    | 0/1 [00:00<?, ?it/s]"
     ]
    },
    {
     "name": "stdout",
     "output_type": "stream",
     "text": [
      "[2.98696631e-01 0.00000000e+00 0.00000000e+00 0.00000000e+00\n",
      " 0.00000000e+00 0.00000000e+00 0.00000000e+00 0.00000000e+00\n",
      " 0.00000000e+00 0.00000000e+00 0.00000000e+00 4.38661802e-04\n",
      " 0.00000000e+00 0.00000000e+00 0.00000000e+00 0.00000000e+00\n",
      " 9.05450905e-04 4.49416359e-04 0.00000000e+00 0.00000000e+00\n",
      " 0.00000000e+00 0.00000000e+00 0.00000000e+00 0.00000000e+00\n",
      " 0.00000000e+00 0.00000000e+00 0.00000000e+00 0.00000000e+00\n",
      " 0.00000000e+00 0.00000000e+00 0.00000000e+00 0.00000000e+00\n",
      " 0.00000000e+00 0.00000000e+00 0.00000000e+00 0.00000000e+00\n",
      " 0.00000000e+00 0.00000000e+00 0.00000000e+00 0.00000000e+00\n",
      " 0.00000000e+00 0.00000000e+00 0.00000000e+00 0.00000000e+00\n",
      " 0.00000000e+00 0.00000000e+00 1.71682013e-02 1.58776545e-02\n",
      " 0.00000000e+00 0.00000000e+00 0.00000000e+00 0.00000000e+00\n",
      " 5.17341722e-02 1.28704324e-01 1.44772872e-06 0.00000000e+00\n",
      " 0.00000000e+00 0.00000000e+00 4.07432226e-05 8.27273555e-06\n",
      " 4.26045881e-05 0.00000000e+00 0.00000000e+00 0.00000000e+00\n",
      " 0.00000000e+00 0.00000000e+00 0.00000000e+00 0.00000000e+00\n",
      " 0.00000000e+00 0.00000000e+00 0.00000000e+00 0.00000000e+00\n",
      " 0.00000000e+00 0.00000000e+00 0.00000000e+00 0.00000000e+00\n",
      " 0.00000000e+00 0.00000000e+00 0.00000000e+00 0.00000000e+00\n",
      " 0.00000000e+00 0.00000000e+00 8.47955393e-04 1.31805359e-03\n",
      " 0.00000000e+00 0.00000000e+00 0.00000000e+00 0.00000000e+00\n",
      " 9.53867090e-03 7.23932610e-02 2.16696035e-02 0.00000000e+00\n",
      " 0.00000000e+00 0.00000000e+00 2.06818389e-07 7.16875967e-02\n",
      " 8.87718297e-02 4.88897989e-03 0.00000000e+00 0.00000000e+00\n",
      " 0.00000000e+00 8.68637232e-06 1.03454694e-02 3.98745853e-03\n",
      " 0.00000000e+00 0.00000000e+00 0.00000000e+00 0.00000000e+00\n",
      " 0.00000000e+00 0.00000000e+00 0.00000000e+00 0.00000000e+00\n",
      " 0.00000000e+00 0.00000000e+00 0.00000000e+00 0.00000000e+00\n",
      " 0.00000000e+00 0.00000000e+00 0.00000000e+00 0.00000000e+00\n",
      " 0.00000000e+00 0.00000000e+00 0.00000000e+00 0.00000000e+00\n",
      " 0.00000000e+00 1.26159217e-05 5.00914137e-04 0.00000000e+00\n",
      " 0.00000000e+00 0.00000000e+00 0.00000000e+00 2.03695431e-03\n",
      " 3.77551105e-02 1.01806352e-02 0.00000000e+00 0.00000000e+00\n",
      " 0.00000000e+00 5.37727810e-06 2.05310683e-02 6.90043349e-02\n",
      " 2.85202558e-03 0.00000000e+00 0.00000000e+00 0.00000000e+00\n",
      " 0.00000000e+00 4.14898369e-03 5.70611934e-04 2.06818389e-07\n",
      " 0.00000000e+00 0.00000000e+00 0.00000000e+00 0.00000000e+00\n",
      " 0.00000000e+00 0.00000000e+00 0.00000000e+00 0.00000000e+00\n",
      " 0.00000000e+00 0.00000000e+00 0.00000000e+00 0.00000000e+00\n",
      " 0.00000000e+00 0.00000000e+00 0.00000000e+00 0.00000000e+00\n",
      " 0.00000000e+00 0.00000000e+00 0.00000000e+00 0.00000000e+00\n",
      " 6.20455166e-07 2.68863905e-06 0.00000000e+00 0.00000000e+00\n",
      " 0.00000000e+00 0.00000000e+00 1.65454711e-05 7.15136624e-03\n",
      " 4.47761811e-04 0.00000000e+00 0.00000000e+00 0.00000000e+00\n",
      " 0.00000000e+00 7.14971170e-04 2.98697458e-02 2.61356398e-03\n",
      " 0.00000000e+00 0.00000000e+00 0.00000000e+00 0.00000000e+00\n",
      " 2.63610718e-03 2.87188014e-03 0.00000000e+00 0.00000000e+00\n",
      " 0.00000000e+00 0.00000000e+00 0.00000000e+00 0.00000000e+00\n",
      " 0.00000000e+00 0.00000000e+00 0.00000000e+00 0.00000000e+00\n",
      " 0.00000000e+00 0.00000000e+00 0.00000000e+00 0.00000000e+00\n",
      " 0.00000000e+00 0.00000000e+00 0.00000000e+00 0.00000000e+00\n",
      " 0.00000000e+00 0.00000000e+00 0.00000000e+00 0.00000000e+00\n",
      " 0.00000000e+00 0.00000000e+00 0.00000000e+00 0.00000000e+00\n",
      " 0.00000000e+00 2.06818389e-07 1.99600427e-03 1.92651329e-03\n",
      " 0.00000000e+00 0.00000000e+00 0.00000000e+00 0.00000000e+00\n",
      " 1.73044946e-03 8.97384988e-04 0.00000000e+00 0.00000000e+00\n",
      " 0.00000000e+00 0.00000000e+00 0.00000000e+00 0.00000000e+00\n",
      " 0.00000000e+00 0.00000000e+00 0.00000000e+00 0.00000000e+00\n",
      " 0.00000000e+00 0.00000000e+00 0.00000000e+00 0.00000000e+00\n",
      " 0.00000000e+00 0.00000000e+00 0.00000000e+00 0.00000000e+00\n",
      " 0.00000000e+00 0.00000000e+00 0.00000000e+00 0.00000000e+00\n",
      " 0.00000000e+00 0.00000000e+00 0.00000000e+00 0.00000000e+00\n",
      " 0.00000000e+00 0.00000000e+00 0.00000000e+00]\n"
     ]
    },
    {
     "name": "stderr",
     "output_type": "stream",
     "text": [
      "progress-bar: 100%|████████████████████████████████████████████████████████████████████████████████████████████████████████████████████████████████████████████| 1/1 [00:00<00:00,  2.30it/s]\n",
      "192.168.1.112 - - [04/Oct/2020 15:36:15] \"\u001b[37mPOST /hazard/predict HTTP/1.1\u001b[0m\" 200 -\n"
     ]
    },
    {
     "name": "stdout",
     "output_type": "stream",
     "text": [
      "  index                                               path is_hurricane  \\\n",
      "0   123  img/modis_hazard_7b19852d30c249c8a9653943e81db...        False   \n",
      "\n",
      "                                      color_features data_split  \n",
      "0  [0.2986966305148123, 0.0, 0.0, 0.0, 0.0, 0.0, ...    predict  \n",
      "Probability of hurricane:\n",
      "[0.255]\n",
      "Response:  {'latitude': 11.123106526616066, 'longitude': 66.28491562500001, 'predicted': [{'hazardType': 'hurricane', 'probability': 0.255}]}\n",
      "Image PATH:  img/modis_hazard_ec0ddb0b833447f697594f4b8f7bba37.png  \n",
      "\n",
      "Predict if in the image is an Hurricane\n",
      "img/modis_hazard_ec0ddb0b833447f697594f4b8f7bba37.png\n",
      "0    img/modis_hazard_ec0ddb0b833447f697594f4b8f7bb...\n",
      "Name: path, dtype: object\n"
     ]
    },
    {
     "name": "stderr",
     "output_type": "stream",
     "text": [
      "\r",
      "progress-bar:   0%|                                                                                                                                                    | 0/1 [00:00<?, ?it/s]"
     ]
    },
    {
     "name": "stdout",
     "output_type": "stream",
     "text": [
      "[2.53160323e-01 0.00000000e+00 0.00000000e+00 0.00000000e+00\n",
      " 0.00000000e+00 0.00000000e+00 0.00000000e+00 0.00000000e+00\n",
      " 0.00000000e+00 0.00000000e+00 0.00000000e+00 2.82585957e-05\n",
      " 0.00000000e+00 0.00000000e+00 0.00000000e+00 0.00000000e+00\n",
      " 2.84694807e-05 3.58504572e-06 0.00000000e+00 0.00000000e+00\n",
      " 0.00000000e+00 0.00000000e+00 0.00000000e+00 0.00000000e+00\n",
      " 0.00000000e+00 0.00000000e+00 0.00000000e+00 0.00000000e+00\n",
      " 0.00000000e+00 0.00000000e+00 0.00000000e+00 0.00000000e+00\n",
      " 0.00000000e+00 0.00000000e+00 0.00000000e+00 0.00000000e+00\n",
      " 0.00000000e+00 0.00000000e+00 0.00000000e+00 0.00000000e+00\n",
      " 0.00000000e+00 0.00000000e+00 0.00000000e+00 0.00000000e+00\n",
      " 0.00000000e+00 0.00000000e+00 8.16125114e-05 9.99595101e-05\n",
      " 0.00000000e+00 0.00000000e+00 0.00000000e+00 0.00000000e+00\n",
      " 1.30094983e-03 8.96029456e-03 2.10885042e-07 0.00000000e+00\n",
      " 0.00000000e+00 0.00000000e+00 6.95920640e-06 8.28778216e-05\n",
      " 3.57028377e-04 6.32655127e-07 0.00000000e+00 0.00000000e+00\n",
      " 0.00000000e+00 0.00000000e+00 9.06805682e-06 0.00000000e+00\n",
      " 0.00000000e+00 0.00000000e+00 0.00000000e+00 0.00000000e+00\n",
      " 0.00000000e+00 0.00000000e+00 0.00000000e+00 0.00000000e+00\n",
      " 0.00000000e+00 0.00000000e+00 0.00000000e+00 0.00000000e+00\n",
      " 0.00000000e+00 0.00000000e+00 1.43401829e-05 2.76259405e-05\n",
      " 0.00000000e+00 0.00000000e+00 0.00000000e+00 0.00000000e+00\n",
      " 6.05029186e-04 9.39239802e-03 4.93618619e-03 0.00000000e+00\n",
      " 0.00000000e+00 0.00000000e+00 2.31973547e-06 2.61925549e-02\n",
      " 4.62629062e-02 3.72254277e-03 0.00000000e+00 0.00000000e+00\n",
      " 0.00000000e+00 3.03041806e-04 1.17600044e-02 4.19028579e-03\n",
      " 0.00000000e+00 0.00000000e+00 0.00000000e+00 0.00000000e+00\n",
      " 0.00000000e+00 0.00000000e+00 0.00000000e+00 0.00000000e+00\n",
      " 0.00000000e+00 0.00000000e+00 0.00000000e+00 0.00000000e+00\n",
      " 0.00000000e+00 0.00000000e+00 0.00000000e+00 0.00000000e+00\n",
      " 0.00000000e+00 0.00000000e+00 0.00000000e+00 0.00000000e+00\n",
      " 0.00000000e+00 3.41633769e-05 3.29824206e-04 0.00000000e+00\n",
      " 0.00000000e+00 0.00000000e+00 0.00000000e+00 3.27335763e-03\n",
      " 2.81624321e-02 7.74496407e-03 0.00000000e+00 0.00000000e+00\n",
      " 0.00000000e+00 1.49517495e-04 2.26562236e-02 1.13167240e-01\n",
      " 9.98329790e-03 0.00000000e+00 0.00000000e+00 0.00000000e+00\n",
      " 8.43540169e-07 1.55846155e-02 2.84758073e-03 2.53062051e-06\n",
      " 0.00000000e+00 0.00000000e+00 0.00000000e+00 0.00000000e+00\n",
      " 1.26531025e-06 0.00000000e+00 0.00000000e+00 0.00000000e+00\n",
      " 0.00000000e+00 0.00000000e+00 0.00000000e+00 0.00000000e+00\n",
      " 0.00000000e+00 0.00000000e+00 0.00000000e+00 0.00000000e+00\n",
      " 0.00000000e+00 0.00000000e+00 0.00000000e+00 0.00000000e+00\n",
      " 4.21770085e-07 1.05442521e-06 0.00000000e+00 0.00000000e+00\n",
      " 0.00000000e+00 0.00000000e+00 3.01565611e-05 1.40508486e-02\n",
      " 1.36611330e-03 0.00000000e+00 0.00000000e+00 0.00000000e+00\n",
      " 0.00000000e+00 2.14027229e-03 1.57508984e-01 2.55586345e-02\n",
      " 0.00000000e+00 0.00000000e+00 0.00000000e+00 2.10885042e-07\n",
      " 2.59869420e-02 5.23872187e-02 0.00000000e+00 0.00000000e+00\n",
      " 0.00000000e+00 0.00000000e+00 0.00000000e+00 0.00000000e+00\n",
      " 0.00000000e+00 0.00000000e+00 0.00000000e+00 0.00000000e+00\n",
      " 0.00000000e+00 0.00000000e+00 0.00000000e+00 0.00000000e+00\n",
      " 0.00000000e+00 0.00000000e+00 0.00000000e+00 0.00000000e+00\n",
      " 0.00000000e+00 0.00000000e+00 0.00000000e+00 0.00000000e+00\n",
      " 2.10885042e-07 0.00000000e+00 0.00000000e+00 0.00000000e+00\n",
      " 0.00000000e+00 0.00000000e+00 2.01384671e-02 4.23254715e-02\n",
      " 0.00000000e+00 0.00000000e+00 0.00000000e+00 0.00000000e+00\n",
      " 3.80525188e-02 4.49851537e-02 0.00000000e+00 0.00000000e+00\n",
      " 0.00000000e+00 0.00000000e+00 0.00000000e+00 0.00000000e+00\n",
      " 0.00000000e+00 0.00000000e+00 0.00000000e+00 0.00000000e+00\n",
      " 0.00000000e+00 0.00000000e+00 0.00000000e+00 0.00000000e+00\n",
      " 0.00000000e+00 0.00000000e+00 0.00000000e+00 0.00000000e+00\n",
      " 0.00000000e+00 0.00000000e+00 0.00000000e+00 0.00000000e+00\n",
      " 0.00000000e+00 0.00000000e+00 0.00000000e+00 0.00000000e+00\n",
      " 0.00000000e+00 0.00000000e+00 0.00000000e+00]\n"
     ]
    },
    {
     "name": "stderr",
     "output_type": "stream",
     "text": [
      "progress-bar: 100%|████████████████████████████████████████████████████████████████████████████████████████████████████████████████████████████████████████████| 1/1 [00:00<00:00,  2.46it/s]\n",
      "192.168.1.112 - - [04/Oct/2020 15:36:25] \"\u001b[37mPOST /hazard/predict HTTP/1.1\u001b[0m\" 200 -\n"
     ]
    },
    {
     "name": "stdout",
     "output_type": "stream",
     "text": [
      "  index                                               path is_hurricane  \\\n",
      "0   123  img/modis_hazard_ec0ddb0b833447f697594f4b8f7bb...        False   \n",
      "\n",
      "                                      color_features data_split  \n",
      "0  [0.2531603232445929, 0.0, 0.0, 0.0, 0.0, 0.0, ...    predict  \n",
      "Probability of hurricane:\n",
      "[0.65]\n",
      "Response:  {'latitude': 15.738014297243087, 'longitude': 86.14819687500001, 'predicted': [{'hazardType': 'hurricane', 'probability': 0.65}]}\n"
     ]
    },
    {
     "name": "stderr",
     "output_type": "stream",
     "text": [
      "192.168.1.112 - - [04/Oct/2020 15:36:40] \"\u001b[37mOPTIONS /hazard/predict HTTP/1.1\u001b[0m\" 200 -\n"
     ]
    },
    {
     "name": "stdout",
     "output_type": "stream",
     "text": [
      "Request received: \n",
      "{'latitude': -33.18473157262274, 'longitude': 11.265384375000007, 'predict': ['hurricane']}\n",
      "Calculating Square Shape...\n",
      "Shape:  {'lower_latitude': -38.18473157262274, 'left_longitude': 6.265384375000007, 'higher_latitude': -28.184731572622738, 'right_longitude': 16.265384375000007}\n",
      "Retrieve & download the MODIS image based on (X,Y,Z,K) parameters\n",
      "1857 2220\n",
      "Image PATH:  img/modis_hazard_38f62e4d4e564352a662815c9f8332b6.png  \n",
      "\n",
      "Predict if in the image is an Hurricane\n",
      "img/modis_hazard_38f62e4d4e564352a662815c9f8332b6.png\n",
      "0    img/modis_hazard_38f62e4d4e564352a662815c9f833...\n",
      "Name: path, dtype: object\n"
     ]
    },
    {
     "name": "stderr",
     "output_type": "stream",
     "text": [
      "\r",
      "progress-bar:   0%|                                                                                                                                                    | 0/1 [00:00<?, ?it/s]"
     ]
    },
    {
     "name": "stdout",
     "output_type": "stream",
     "text": [
      "[4.04095533e-02 0.00000000e+00 0.00000000e+00 0.00000000e+00\n",
      " 0.00000000e+00 0.00000000e+00 0.00000000e+00 0.00000000e+00\n",
      " 0.00000000e+00 0.00000000e+00 0.00000000e+00 3.99151979e-02\n",
      " 0.00000000e+00 0.00000000e+00 0.00000000e+00 0.00000000e+00\n",
      " 6.24401461e-02 1.70380397e-02 0.00000000e+00 0.00000000e+00\n",
      " 0.00000000e+00 0.00000000e+00 0.00000000e+00 0.00000000e+00\n",
      " 0.00000000e+00 0.00000000e+00 0.00000000e+00 0.00000000e+00\n",
      " 0.00000000e+00 0.00000000e+00 0.00000000e+00 0.00000000e+00\n",
      " 0.00000000e+00 0.00000000e+00 0.00000000e+00 0.00000000e+00\n",
      " 0.00000000e+00 0.00000000e+00 0.00000000e+00 0.00000000e+00\n",
      " 0.00000000e+00 0.00000000e+00 0.00000000e+00 0.00000000e+00\n",
      " 0.00000000e+00 0.00000000e+00 1.63919331e-01 6.88131589e-02\n",
      " 2.42568902e-07 0.00000000e+00 0.00000000e+00 0.00000000e+00\n",
      " 1.21432903e-01 1.74198674e-01 9.94532497e-06 0.00000000e+00\n",
      " 0.00000000e+00 0.00000000e+00 1.21284451e-05 2.03757877e-05\n",
      " 3.77437211e-04 5.33651584e-06 0.00000000e+00 0.00000000e+00\n",
      " 0.00000000e+00 0.00000000e+00 0.00000000e+00 8.00477376e-06\n",
      " 0.00000000e+00 0.00000000e+00 0.00000000e+00 0.00000000e+00\n",
      " 0.00000000e+00 0.00000000e+00 0.00000000e+00 0.00000000e+00\n",
      " 0.00000000e+00 0.00000000e+00 0.00000000e+00 0.00000000e+00\n",
      " 0.00000000e+00 0.00000000e+00 1.12309401e-04 3.00542869e-04\n",
      " 0.00000000e+00 0.00000000e+00 0.00000000e+00 0.00000000e+00\n",
      " 1.16966724e-03 1.64042071e-02 8.82417151e-03 0.00000000e+00\n",
      " 0.00000000e+00 0.00000000e+00 0.00000000e+00 1.84357217e-02\n",
      " 5.64334124e-02 2.10185953e-03 1.09156006e-05 0.00000000e+00\n",
      " 0.00000000e+00 0.00000000e+00 2.77959704e-03 1.92769506e-03\n",
      " 3.00785438e-05 0.00000000e+00 0.00000000e+00 0.00000000e+00\n",
      " 0.00000000e+00 2.42568902e-07 0.00000000e+00 0.00000000e+00\n",
      " 0.00000000e+00 0.00000000e+00 0.00000000e+00 0.00000000e+00\n",
      " 0.00000000e+00 0.00000000e+00 0.00000000e+00 0.00000000e+00\n",
      " 0.00000000e+00 0.00000000e+00 0.00000000e+00 0.00000000e+00\n",
      " 0.00000000e+00 0.00000000e+00 3.63853353e-06 0.00000000e+00\n",
      " 0.00000000e+00 0.00000000e+00 0.00000000e+00 4.00238688e-05\n",
      " 1.40624469e-02 4.62336327e-03 7.27706705e-07 0.00000000e+00\n",
      " 0.00000000e+00 0.00000000e+00 7.33382817e-03 7.39204471e-02\n",
      " 3.70912108e-03 0.00000000e+00 0.00000000e+00 0.00000000e+00\n",
      " 0.00000000e+00 3.18177628e-03 5.21523139e-04 2.42568902e-07\n",
      " 0.00000000e+00 0.00000000e+00 0.00000000e+00 0.00000000e+00\n",
      " 0.00000000e+00 0.00000000e+00 0.00000000e+00 0.00000000e+00\n",
      " 0.00000000e+00 0.00000000e+00 0.00000000e+00 0.00000000e+00\n",
      " 0.00000000e+00 0.00000000e+00 0.00000000e+00 0.00000000e+00\n",
      " 0.00000000e+00 0.00000000e+00 0.00000000e+00 0.00000000e+00\n",
      " 0.00000000e+00 0.00000000e+00 0.00000000e+00 0.00000000e+00\n",
      " 0.00000000e+00 0.00000000e+00 2.42568902e-07 6.68010498e-03\n",
      " 4.90716888e-04 0.00000000e+00 0.00000000e+00 0.00000000e+00\n",
      " 0.00000000e+00 5.61304439e-04 5.06039966e-02 5.79448592e-03\n",
      " 0.00000000e+00 0.00000000e+00 0.00000000e+00 0.00000000e+00\n",
      " 5.21959763e-03 7.71320594e-03 0.00000000e+00 0.00000000e+00\n",
      " 0.00000000e+00 0.00000000e+00 0.00000000e+00 0.00000000e+00\n",
      " 0.00000000e+00 0.00000000e+00 0.00000000e+00 0.00000000e+00\n",
      " 0.00000000e+00 0.00000000e+00 0.00000000e+00 0.00000000e+00\n",
      " 0.00000000e+00 0.00000000e+00 0.00000000e+00 0.00000000e+00\n",
      " 0.00000000e+00 0.00000000e+00 0.00000000e+00 0.00000000e+00\n",
      " 2.42568902e-07 0.00000000e+00 0.00000000e+00 0.00000000e+00\n",
      " 0.00000000e+00 4.85137803e-07 5.13105998e-03 5.86167751e-03\n",
      " 0.00000000e+00 0.00000000e+00 0.00000000e+00 0.00000000e+00\n",
      " 4.93385146e-03 2.48099473e-03 0.00000000e+00 0.00000000e+00\n",
      " 0.00000000e+00 0.00000000e+00 0.00000000e+00 0.00000000e+00\n",
      " 0.00000000e+00 0.00000000e+00 0.00000000e+00 0.00000000e+00\n",
      " 0.00000000e+00 0.00000000e+00 0.00000000e+00 0.00000000e+00\n",
      " 0.00000000e+00 0.00000000e+00 0.00000000e+00 0.00000000e+00\n",
      " 0.00000000e+00 0.00000000e+00 0.00000000e+00 0.00000000e+00\n",
      " 0.00000000e+00 0.00000000e+00 0.00000000e+00 0.00000000e+00\n",
      " 0.00000000e+00 0.00000000e+00 0.00000000e+00]\n"
     ]
    },
    {
     "name": "stderr",
     "output_type": "stream",
     "text": [
      "progress-bar: 100%|████████████████████████████████████████████████████████████████████████████████████████████████████████████████████████████████████████████| 1/1 [00:00<00:00,  2.56it/s]\n",
      "192.168.1.112 - - [04/Oct/2020 15:36:51] \"\u001b[37mPOST /hazard/predict HTTP/1.1\u001b[0m\" 200 -\n"
     ]
    },
    {
     "name": "stdout",
     "output_type": "stream",
     "text": [
      "  index                                               path is_hurricane  \\\n",
      "0   123  img/modis_hazard_38f62e4d4e564352a662815c9f833...        False   \n",
      "\n",
      "                                      color_features data_split  \n",
      "0  [0.040409553333624414, 0.0, 0.0, 0.0, 0.0, 0.0...    predict  \n",
      "Probability of hurricane:\n",
      "[0.07]\n",
      "Response:  {'latitude': -33.18473157262274, 'longitude': 11.265384375000007, 'predicted': [{'hazardType': 'hurricane', 'probability': 0.07}]}\n"
     ]
    },
    {
     "name": "stderr",
     "output_type": "stream",
     "text": [
      "192.168.1.112 - - [04/Oct/2020 15:36:58] \"\u001b[37mOPTIONS /hazard/predict HTTP/1.1\u001b[0m\" 200 -\n"
     ]
    },
    {
     "name": "stdout",
     "output_type": "stream",
     "text": [
      "Request received: \n",
      "{'latitude': 54.23229517946814, 'longitude': -5.609615624999993, 'predict': ['hurricane']}\n",
      "Calculating Square Shape...\n",
      "Shape:  {'lower_latitude': 49.23229517946814, 'left_longitude': -10.609615624999993, 'higher_latitude': 59.23229517946814, 'right_longitude': -0.6096156249999929}\n",
      "Retrieve & download the MODIS image based on (X,Y,Z,K) parameters\n",
      "1297 2220\n",
      "Image PATH:  img/modis_hazard_1df8f40192714b1a8e96ffd5ccf25930.png  \n",
      "\n",
      "Predict if in the image is an Hurricane\n",
      "img/modis_hazard_1df8f40192714b1a8e96ffd5ccf25930.png\n",
      "0    img/modis_hazard_1df8f40192714b1a8e96ffd5ccf25...\n",
      "Name: path, dtype: object\n"
     ]
    },
    {
     "name": "stderr",
     "output_type": "stream",
     "text": [
      "\r",
      "progress-bar:   0%|                                                                                                                                                    | 0/1 [00:00<?, ?it/s]"
     ]
    },
    {
     "name": "stdout",
     "output_type": "stream",
     "text": [
      "[1.25299548e-02 0.00000000e+00 0.00000000e+00 0.00000000e+00\n",
      " 0.00000000e+00 0.00000000e+00 0.00000000e+00 0.00000000e+00\n",
      " 0.00000000e+00 0.00000000e+00 0.00000000e+00 1.02207450e-02\n",
      " 0.00000000e+00 0.00000000e+00 0.00000000e+00 0.00000000e+00\n",
      " 2.07582293e-02 6.97798801e-03 4.16762175e-06 0.00000000e+00\n",
      " 0.00000000e+00 0.00000000e+00 4.16762175e-06 1.19471823e-04\n",
      " 0.00000000e+00 0.00000000e+00 0.00000000e+00 0.00000000e+00\n",
      " 0.00000000e+00 0.00000000e+00 0.00000000e+00 0.00000000e+00\n",
      " 0.00000000e+00 0.00000000e+00 0.00000000e+00 0.00000000e+00\n",
      " 0.00000000e+00 0.00000000e+00 0.00000000e+00 0.00000000e+00\n",
      " 0.00000000e+00 0.00000000e+00 0.00000000e+00 0.00000000e+00\n",
      " 0.00000000e+00 0.00000000e+00 3.80569853e-02 1.10087728e-02\n",
      " 0.00000000e+00 0.00000000e+00 0.00000000e+00 0.00000000e+00\n",
      " 2.63612495e-02 4.34380796e-02 2.01435051e-05 0.00000000e+00\n",
      " 0.00000000e+00 0.00000000e+00 4.79276501e-05 2.46653747e-03\n",
      " 3.82101454e-03 0.00000000e+00 0.00000000e+00 0.00000000e+00\n",
      " 0.00000000e+00 0.00000000e+00 4.16762175e-06 0.00000000e+00\n",
      " 0.00000000e+00 0.00000000e+00 0.00000000e+00 0.00000000e+00\n",
      " 0.00000000e+00 0.00000000e+00 0.00000000e+00 0.00000000e+00\n",
      " 0.00000000e+00 0.00000000e+00 0.00000000e+00 0.00000000e+00\n",
      " 0.00000000e+00 0.00000000e+00 1.04190544e-06 6.94603624e-07\n",
      " 0.00000000e+00 0.00000000e+00 0.00000000e+00 0.00000000e+00\n",
      " 4.68857446e-05 1.47464349e-03 2.24461161e-03 0.00000000e+00\n",
      " 0.00000000e+00 0.00000000e+00 3.47301812e-07 8.11748526e-03\n",
      " 3.84424903e-02 1.15200011e-03 0.00000000e+00 0.00000000e+00\n",
      " 0.00000000e+00 2.08381087e-06 3.58554391e-03 2.33143707e-03\n",
      " 0.00000000e+00 0.00000000e+00 0.00000000e+00 0.00000000e+00\n",
      " 0.00000000e+00 6.94603624e-07 0.00000000e+00 0.00000000e+00\n",
      " 0.00000000e+00 0.00000000e+00 0.00000000e+00 0.00000000e+00\n",
      " 0.00000000e+00 0.00000000e+00 0.00000000e+00 0.00000000e+00\n",
      " 0.00000000e+00 0.00000000e+00 0.00000000e+00 0.00000000e+00\n",
      " 0.00000000e+00 0.00000000e+00 0.00000000e+00 0.00000000e+00\n",
      " 0.00000000e+00 0.00000000e+00 0.00000000e+00 3.12571631e-06\n",
      " 4.75768753e-03 1.73164684e-03 0.00000000e+00 0.00000000e+00\n",
      " 0.00000000e+00 3.47301812e-07 4.30966819e-03 6.96996534e-02\n",
      " 4.34023075e-03 0.00000000e+00 0.00000000e+00 0.00000000e+00\n",
      " 0.00000000e+00 5.79611994e-03 8.50194836e-04 0.00000000e+00\n",
      " 0.00000000e+00 0.00000000e+00 0.00000000e+00 0.00000000e+00\n",
      " 1.04190544e-06 0.00000000e+00 0.00000000e+00 0.00000000e+00\n",
      " 0.00000000e+00 0.00000000e+00 0.00000000e+00 0.00000000e+00\n",
      " 0.00000000e+00 0.00000000e+00 0.00000000e+00 0.00000000e+00\n",
      " 0.00000000e+00 0.00000000e+00 0.00000000e+00 0.00000000e+00\n",
      " 0.00000000e+00 0.00000000e+00 0.00000000e+00 0.00000000e+00\n",
      " 0.00000000e+00 0.00000000e+00 0.00000000e+00 5.94441782e-03\n",
      " 4.66426334e-04 0.00000000e+00 0.00000000e+00 0.00000000e+00\n",
      " 0.00000000e+00 6.97729341e-04 8.44231664e-02 2.70780804e-02\n",
      " 0.00000000e+00 0.00000000e+00 0.00000000e+00 0.00000000e+00\n",
      " 2.87076205e-02 1.36362152e-01 0.00000000e+00 0.00000000e+00\n",
      " 0.00000000e+00 0.00000000e+00 0.00000000e+00 0.00000000e+00\n",
      " 0.00000000e+00 0.00000000e+00 0.00000000e+00 0.00000000e+00\n",
      " 0.00000000e+00 0.00000000e+00 0.00000000e+00 0.00000000e+00\n",
      " 0.00000000e+00 0.00000000e+00 0.00000000e+00 0.00000000e+00\n",
      " 0.00000000e+00 0.00000000e+00 0.00000000e+00 0.00000000e+00\n",
      " 0.00000000e+00 0.00000000e+00 0.00000000e+00 0.00000000e+00\n",
      " 0.00000000e+00 6.94603624e-07 3.03503581e-02 1.20420652e-01\n",
      " 0.00000000e+00 0.00000000e+00 0.00000000e+00 0.00000000e+00\n",
      " 1.08964902e-01 1.31854522e-01 0.00000000e+00 0.00000000e+00\n",
      " 0.00000000e+00 0.00000000e+00 0.00000000e+00 0.00000000e+00\n",
      " 0.00000000e+00 0.00000000e+00 0.00000000e+00 0.00000000e+00\n",
      " 0.00000000e+00 0.00000000e+00 0.00000000e+00 0.00000000e+00\n",
      " 0.00000000e+00 0.00000000e+00 0.00000000e+00 0.00000000e+00\n",
      " 0.00000000e+00 0.00000000e+00 0.00000000e+00 0.00000000e+00\n",
      " 0.00000000e+00 0.00000000e+00 0.00000000e+00 0.00000000e+00\n",
      " 0.00000000e+00 0.00000000e+00 0.00000000e+00]\n"
     ]
    },
    {
     "name": "stderr",
     "output_type": "stream",
     "text": [
      "progress-bar: 100%|████████████████████████████████████████████████████████████████████████████████████████████████████████████████████████████████████████████| 1/1 [00:00<00:00,  3.77it/s]\n",
      "192.168.1.112 - - [04/Oct/2020 15:37:05] \"\u001b[37mPOST /hazard/predict HTTP/1.1\u001b[0m\" 200 -\n"
     ]
    },
    {
     "name": "stdout",
     "output_type": "stream",
     "text": [
      "  index                                               path is_hurricane  \\\n",
      "0   123  img/modis_hazard_1df8f40192714b1a8e96ffd5ccf25...        False   \n",
      "\n",
      "                                      color_features data_split  \n",
      "0  [0.012529954781304049, 0.0, 0.0, 0.0, 0.0, 0.0...    predict  \n",
      "Probability of hurricane:\n",
      "[0.045]\n",
      "Response:  {'latitude': 54.23229517946814, 'longitude': -5.609615624999993, 'predicted': [{'hazardType': 'hurricane', 'probability': 0.045}]}\n"
     ]
    },
    {
     "name": "stderr",
     "output_type": "stream",
     "text": [
      "192.168.1.112 - - [04/Oct/2020 15:37:44] \"\u001b[37mOPTIONS /hazard/predict HTTP/1.1\u001b[0m\" 200 -\n"
     ]
    },
    {
     "name": "stdout",
     "output_type": "stream",
     "text": [
      "Request received: \n",
      "{'latitude': 2.0525765063090087, 'longitude': 1.7731968750000071, 'predict': ['hurricane']}\n",
      "Calculating Square Shape...\n",
      "Shape:  {'lower_latitude': -2.9474234936909913, 'left_longitude': -3.226803124999993, 'higher_latitude': 7.052576506309009, 'right_longitude': 6.773196875000007}\n",
      "Retrieve & download the MODIS image based on (X,Y,Z,K) parameters\n",
      "2218 2220\n",
      "Image PATH:  img/modis_hazard_b819a7581f5e498ba4f4f2bd968b7c5e.png  \n",
      "\n",
      "Predict if in the image is an Hurricane\n",
      "img/modis_hazard_b819a7581f5e498ba4f4f2bd968b7c5e.png\n",
      "0    img/modis_hazard_b819a7581f5e498ba4f4f2bd968b7...\n",
      "Name: path, dtype: object\n"
     ]
    },
    {
     "name": "stderr",
     "output_type": "stream",
     "text": [
      "\r",
      "progress-bar:   0%|                                                                                                                                                    | 0/1 [00:00<?, ?it/s]"
     ]
    },
    {
     "name": "stdout",
     "output_type": "stream",
     "text": [
      "[5.22343805e-04 0.00000000e+00 0.00000000e+00 0.00000000e+00\n",
      " 0.00000000e+00 0.00000000e+00 0.00000000e+00 0.00000000e+00\n",
      " 0.00000000e+00 0.00000000e+00 0.00000000e+00 5.14220262e-04\n",
      " 0.00000000e+00 0.00000000e+00 0.00000000e+00 0.00000000e+00\n",
      " 1.29245567e-03 1.14866896e-03 6.90501141e-06 0.00000000e+00\n",
      " 0.00000000e+00 0.00000000e+00 1.62470857e-06 1.72625285e-05\n",
      " 0.00000000e+00 0.00000000e+00 0.00000000e+00 0.00000000e+00\n",
      " 0.00000000e+00 0.00000000e+00 0.00000000e+00 0.00000000e+00\n",
      " 0.00000000e+00 0.00000000e+00 0.00000000e+00 0.00000000e+00\n",
      " 0.00000000e+00 0.00000000e+00 0.00000000e+00 0.00000000e+00\n",
      " 0.00000000e+00 0.00000000e+00 0.00000000e+00 0.00000000e+00\n",
      " 0.00000000e+00 0.00000000e+00 9.38939390e-03 9.30409670e-03\n",
      " 2.03088571e-07 0.00000000e+00 0.00000000e+00 0.00000000e+00\n",
      " 3.13755595e-02 1.12303715e-01 1.73640728e-04 0.00000000e+00\n",
      " 0.00000000e+00 0.00000000e+00 5.78802427e-05 1.39887408e-03\n",
      " 3.81298792e-03 6.01142170e-05 0.00000000e+00 0.00000000e+00\n",
      " 0.00000000e+00 2.03088571e-07 2.43706285e-05 1.19822257e-05\n",
      " 0.00000000e+00 0.00000000e+00 0.00000000e+00 0.00000000e+00\n",
      " 0.00000000e+00 0.00000000e+00 0.00000000e+00 0.00000000e+00\n",
      " 0.00000000e+00 0.00000000e+00 0.00000000e+00 0.00000000e+00\n",
      " 0.00000000e+00 0.00000000e+00 4.22424228e-04 6.79128181e-04\n",
      " 0.00000000e+00 0.00000000e+00 0.00000000e+00 0.00000000e+00\n",
      " 4.37554326e-03 3.47344414e-02 1.77984793e-02 2.43706285e-06\n",
      " 0.00000000e+00 0.00000000e+00 4.06177142e-07 4.56329865e-02\n",
      " 1.59016523e-01 1.94804588e-02 0.00000000e+00 0.00000000e+00\n",
      " 0.00000000e+00 9.95133998e-06 2.35913777e-02 2.28172040e-02\n",
      " 2.03088571e-06 0.00000000e+00 0.00000000e+00 0.00000000e+00\n",
      " 0.00000000e+00 0.00000000e+00 0.00000000e+00 0.00000000e+00\n",
      " 0.00000000e+00 0.00000000e+00 0.00000000e+00 0.00000000e+00\n",
      " 0.00000000e+00 0.00000000e+00 0.00000000e+00 0.00000000e+00\n",
      " 0.00000000e+00 0.00000000e+00 0.00000000e+00 0.00000000e+00\n",
      " 0.00000000e+00 0.00000000e+00 1.90903257e-05 0.00000000e+00\n",
      " 0.00000000e+00 0.00000000e+00 0.00000000e+00 1.40537291e-04\n",
      " 4.23545277e-02 2.48454496e-02 0.00000000e+00 0.00000000e+00\n",
      " 0.00000000e+00 4.06177142e-07 3.25758130e-02 1.91217435e-01\n",
      " 7.80855247e-03 0.00000000e+00 0.00000000e+00 0.00000000e+00\n",
      " 0.00000000e+00 9.61279133e-03 1.23234145e-03 4.06177142e-07\n",
      " 0.00000000e+00 0.00000000e+00 0.00000000e+00 0.00000000e+00\n",
      " 2.03088571e-07 0.00000000e+00 0.00000000e+00 0.00000000e+00\n",
      " 0.00000000e+00 0.00000000e+00 0.00000000e+00 0.00000000e+00\n",
      " 0.00000000e+00 0.00000000e+00 0.00000000e+00 0.00000000e+00\n",
      " 0.00000000e+00 0.00000000e+00 0.00000000e+00 0.00000000e+00\n",
      " 0.00000000e+00 0.00000000e+00 0.00000000e+00 0.00000000e+00\n",
      " 0.00000000e+00 0.00000000e+00 6.09265713e-07 1.29273999e-02\n",
      " 9.91275315e-04 0.00000000e+00 0.00000000e+00 0.00000000e+00\n",
      " 0.00000000e+00 1.51544692e-03 1.03230124e-01 9.88249295e-03\n",
      " 0.00000000e+00 0.00000000e+00 0.00000000e+00 4.06177142e-07\n",
      " 1.00768487e-02 1.48599907e-02 0.00000000e+00 0.00000000e+00\n",
      " 0.00000000e+00 0.00000000e+00 0.00000000e+00 0.00000000e+00\n",
      " 0.00000000e+00 0.00000000e+00 0.00000000e+00 0.00000000e+00\n",
      " 0.00000000e+00 0.00000000e+00 0.00000000e+00 0.00000000e+00\n",
      " 0.00000000e+00 0.00000000e+00 0.00000000e+00 0.00000000e+00\n",
      " 0.00000000e+00 0.00000000e+00 0.00000000e+00 0.00000000e+00\n",
      " 2.03088571e-07 0.00000000e+00 0.00000000e+00 0.00000000e+00\n",
      " 0.00000000e+00 2.03088571e-07 8.99194957e-03 1.09734848e-02\n",
      " 0.00000000e+00 0.00000000e+00 0.00000000e+00 0.00000000e+00\n",
      " 9.94443497e-03 6.81768333e-03 0.00000000e+00 0.00000000e+00\n",
      " 0.00000000e+00 0.00000000e+00 0.00000000e+00 0.00000000e+00\n",
      " 0.00000000e+00 0.00000000e+00 0.00000000e+00 0.00000000e+00\n",
      " 0.00000000e+00 0.00000000e+00 0.00000000e+00 0.00000000e+00\n",
      " 0.00000000e+00 0.00000000e+00 0.00000000e+00 0.00000000e+00\n",
      " 0.00000000e+00 0.00000000e+00 0.00000000e+00 0.00000000e+00\n",
      " 0.00000000e+00 0.00000000e+00 0.00000000e+00 0.00000000e+00\n",
      " 0.00000000e+00 0.00000000e+00 0.00000000e+00]\n"
     ]
    },
    {
     "name": "stderr",
     "output_type": "stream",
     "text": [
      "progress-bar: 100%|████████████████████████████████████████████████████████████████████████████████████████████████████████████████████████████████████████████| 1/1 [00:00<00:00,  2.03it/s]\n",
      "192.168.1.112 - - [04/Oct/2020 15:37:57] \"\u001b[37mPOST /hazard/predict HTTP/1.1\u001b[0m\" 200 -\n"
     ]
    },
    {
     "name": "stdout",
     "output_type": "stream",
     "text": [
      "  index                                               path is_hurricane  \\\n",
      "0   123  img/modis_hazard_b819a7581f5e498ba4f4f2bd968b7...        False   \n",
      "\n",
      "                                      color_features data_split  \n",
      "0  [0.0005223438045800535, 0.0, 0.0, 0.0, 0.0, 0....    predict  \n",
      "Probability of hurricane:\n",
      "[0.135]\n",
      "Response:  {'latitude': 2.0525765063090087, 'longitude': 1.7731968750000071, 'predicted': [{'hazardType': 'hurricane', 'probability': 0.135}]}\n"
     ]
    },
    {
     "name": "stderr",
     "output_type": "stream",
     "text": [
      "192.168.1.112 - - [04/Oct/2020 15:38:03] \"\u001b[37mOPTIONS /hazard/predict HTTP/1.1\u001b[0m\" 200 -\n"
     ]
    },
    {
     "name": "stdout",
     "output_type": "stream",
     "text": [
      "Request received: \n",
      "{'latitude': 22.622834339275443, 'longitude': 10.913821875000007, 'predict': ['hurricane']}\n",
      "Calculating Square Shape...\n",
      "Shape:  {'lower_latitude': 17.622834339275443, 'left_longitude': 5.913821875000007, 'higher_latitude': 27.622834339275443, 'right_longitude': 15.913821875000007}\n",
      "Retrieve & download the MODIS image based on (X,Y,Z,K) parameters\n",
      "2049 2220\n",
      "Image PATH:  img/modis_hazard_6c9a705bac3349e1a1d29334e6b4e664.png  \n",
      "\n",
      "Predict if in the image is an Hurricane\n",
      "img/modis_hazard_6c9a705bac3349e1a1d29334e6b4e664.png\n",
      "0    img/modis_hazard_6c9a705bac3349e1a1d29334e6b4e...\n",
      "Name: path, dtype: object\n"
     ]
    },
    {
     "name": "stderr",
     "output_type": "stream",
     "text": [
      "\r",
      "progress-bar:   0%|                                                                                                                                                    | 0/1 [00:00<?, ?it/s]"
     ]
    },
    {
     "name": "stdout",
     "output_type": "stream",
     "text": [
      "[1.57754387e-01 0.00000000e+00 0.00000000e+00 0.00000000e+00\n",
      " 0.00000000e+00 0.00000000e+00 0.00000000e+00 0.00000000e+00\n",
      " 0.00000000e+00 0.00000000e+00 0.00000000e+00 1.86863291e-04\n",
      " 0.00000000e+00 0.00000000e+00 0.00000000e+00 0.00000000e+00\n",
      " 3.45147490e-05 2.61608607e-05 8.13404913e-06 0.00000000e+00\n",
      " 0.00000000e+00 0.00000000e+00 0.00000000e+00 0.00000000e+00\n",
      " 0.00000000e+00 0.00000000e+00 0.00000000e+00 0.00000000e+00\n",
      " 0.00000000e+00 0.00000000e+00 0.00000000e+00 0.00000000e+00\n",
      " 0.00000000e+00 0.00000000e+00 0.00000000e+00 0.00000000e+00\n",
      " 0.00000000e+00 0.00000000e+00 0.00000000e+00 0.00000000e+00\n",
      " 0.00000000e+00 0.00000000e+00 0.00000000e+00 0.00000000e+00\n",
      " 0.00000000e+00 0.00000000e+00 9.10134146e-05 6.15549664e-06\n",
      " 4.39678331e-07 0.00000000e+00 0.00000000e+00 0.00000000e+00\n",
      " 5.27613998e-06 5.93565747e-05 1.53667577e-04 0.00000000e+00\n",
      " 0.00000000e+00 0.00000000e+00 0.00000000e+00 0.00000000e+00\n",
      " 7.30745387e-04 6.53362000e-04 2.02252032e-05 0.00000000e+00\n",
      " 0.00000000e+00 0.00000000e+00 2.33029516e-05 3.63833819e-04\n",
      " 4.04504065e-05 0.00000000e+00 0.00000000e+00 0.00000000e+00\n",
      " 0.00000000e+00 0.00000000e+00 0.00000000e+00 0.00000000e+00\n",
      " 0.00000000e+00 0.00000000e+00 0.00000000e+00 0.00000000e+00\n",
      " 0.00000000e+00 0.00000000e+00 0.00000000e+00 0.00000000e+00\n",
      " 0.00000000e+00 0.00000000e+00 0.00000000e+00 0.00000000e+00\n",
      " 0.00000000e+00 0.00000000e+00 3.69329798e-05 8.79356663e-07\n",
      " 0.00000000e+00 0.00000000e+00 0.00000000e+00 0.00000000e+00\n",
      " 1.60702430e-03 2.34271607e-02 4.46383426e-03 0.00000000e+00\n",
      " 0.00000000e+00 0.00000000e+00 4.62761444e-04 8.75208298e-02\n",
      " 1.73476844e-01 1.85917982e-03 0.00000000e+00 0.00000000e+00\n",
      " 0.00000000e+00 1.70968919e-02 3.08880623e-02 1.47775887e-03\n",
      " 0.00000000e+00 0.00000000e+00 0.00000000e+00 0.00000000e+00\n",
      " 0.00000000e+00 0.00000000e+00 0.00000000e+00 0.00000000e+00\n",
      " 0.00000000e+00 0.00000000e+00 0.00000000e+00 0.00000000e+00\n",
      " 0.00000000e+00 0.00000000e+00 0.00000000e+00 0.00000000e+00\n",
      " 0.00000000e+00 0.00000000e+00 0.00000000e+00 0.00000000e+00\n",
      " 3.91313715e-05 3.57568403e-03 9.50144874e-04 0.00000000e+00\n",
      " 0.00000000e+00 0.00000000e+00 3.49544273e-05 5.51090622e-02\n",
      " 2.22047450e-01 5.17127669e-03 0.00000000e+00 0.00000000e+00\n",
      " 0.00000000e+00 2.56024692e-02 1.01536456e-01 1.20757654e-02\n",
      " 0.00000000e+00 0.00000000e+00 0.00000000e+00 0.00000000e+00\n",
      " 9.89276245e-06 9.01340579e-06 0.00000000e+00 0.00000000e+00\n",
      " 0.00000000e+00 0.00000000e+00 0.00000000e+00 0.00000000e+00\n",
      " 0.00000000e+00 0.00000000e+00 0.00000000e+00 0.00000000e+00\n",
      " 0.00000000e+00 0.00000000e+00 0.00000000e+00 0.00000000e+00\n",
      " 0.00000000e+00 0.00000000e+00 0.00000000e+00 0.00000000e+00\n",
      " 0.00000000e+00 0.00000000e+00 0.00000000e+00 1.65319053e-04\n",
      " 1.08380709e-04 1.16514758e-05 0.00000000e+00 0.00000000e+00\n",
      " 0.00000000e+00 3.49544273e-05 3.47211780e-02 8.23737354e-03\n",
      " 0.00000000e+00 0.00000000e+00 0.00000000e+00 0.00000000e+00\n",
      " 3.47521753e-03 8.52953979e-03 0.00000000e+00 0.00000000e+00\n",
      " 0.00000000e+00 0.00000000e+00 0.00000000e+00 0.00000000e+00\n",
      " 0.00000000e+00 0.00000000e+00 0.00000000e+00 0.00000000e+00\n",
      " 0.00000000e+00 0.00000000e+00 0.00000000e+00 0.00000000e+00\n",
      " 0.00000000e+00 0.00000000e+00 0.00000000e+00 0.00000000e+00\n",
      " 0.00000000e+00 0.00000000e+00 0.00000000e+00 0.00000000e+00\n",
      " 0.00000000e+00 0.00000000e+00 0.00000000e+00 0.00000000e+00\n",
      " 0.00000000e+00 0.00000000e+00 1.94909404e-03 5.35242417e-03\n",
      " 0.00000000e+00 0.00000000e+00 0.00000000e+00 0.00000000e+00\n",
      " 3.79046689e-03 4.98705147e-03 0.00000000e+00 0.00000000e+00\n",
      " 0.00000000e+00 0.00000000e+00 0.00000000e+00 0.00000000e+00\n",
      " 0.00000000e+00 0.00000000e+00 0.00000000e+00 0.00000000e+00\n",
      " 0.00000000e+00 0.00000000e+00 0.00000000e+00 0.00000000e+00\n",
      " 0.00000000e+00 0.00000000e+00 0.00000000e+00 0.00000000e+00\n",
      " 0.00000000e+00 0.00000000e+00 0.00000000e+00 0.00000000e+00\n",
      " 0.00000000e+00 0.00000000e+00 0.00000000e+00 0.00000000e+00\n",
      " 0.00000000e+00 0.00000000e+00 0.00000000e+00]\n"
     ]
    },
    {
     "name": "stderr",
     "output_type": "stream",
     "text": [
      "progress-bar: 100%|████████████████████████████████████████████████████████████████████████████████████████████████████████████████████████████████████████████| 1/1 [00:00<00:00,  2.37it/s]\n",
      "192.168.1.112 - - [04/Oct/2020 15:38:14] \"\u001b[37mPOST /hazard/predict HTTP/1.1\u001b[0m\" 200 -\n"
     ]
    },
    {
     "name": "stdout",
     "output_type": "stream",
     "text": [
      "  index                                               path is_hurricane  \\\n",
      "0   123  img/modis_hazard_6c9a705bac3349e1a1d29334e6b4e...        False   \n",
      "\n",
      "                                      color_features data_split  \n",
      "0  [0.15775438689055088, 0.0, 0.0, 0.0, 0.0, 0.0,...    predict  \n",
      "Probability of hurricane:\n",
      "[0.145]\n",
      "Response:  {'latitude': 22.622834339275443, 'longitude': 10.913821875000007, 'predicted': [{'hazardType': 'hurricane', 'probability': 0.145}]}\n"
     ]
    },
    {
     "name": "stderr",
     "output_type": "stream",
     "text": [
      "192.168.1.112 - - [04/Oct/2020 16:38:54] \"\u001b[37mOPTIONS /hazard/predict HTTP/1.1\u001b[0m\" 200 -\n"
     ]
    },
    {
     "name": "stdout",
     "output_type": "stream",
     "text": [
      "Request received: \n",
      "{'latitude': 39.680574974529364, 'longitude': -66.10434135792669, 'predict': ['hurricane']}\n",
      "Calculating Square Shape...\n",
      "Shape:  {'lower_latitude': 34.680574974529364, 'left_longitude': -71.10434135792669, 'higher_latitude': 44.680574974529364, 'right_longitude': -61.104341357926685}\n",
      "Retrieve & download the MODIS image based on (X,Y,Z,K) parameters\n",
      "1708 2220\n",
      "Image PATH:  img/modis_hazard_feab1c6c11594d6aa7878570dd2d2037.png  \n",
      "\n",
      "Predict if in the image is an Hurricane\n",
      "img/modis_hazard_feab1c6c11594d6aa7878570dd2d2037.png\n",
      "0    img/modis_hazard_feab1c6c11594d6aa7878570dd2d2...\n",
      "Name: path, dtype: object\n"
     ]
    },
    {
     "name": "stderr",
     "output_type": "stream",
     "text": [
      "\r",
      "progress-bar:   0%|                                                                                                                                                    | 0/1 [00:00<?, ?it/s]"
     ]
    },
    {
     "name": "stdout",
     "output_type": "stream",
     "text": [
      "[5.08391881e-03 0.00000000e+00 0.00000000e+00 0.00000000e+00\n",
      " 0.00000000e+00 0.00000000e+00 0.00000000e+00 0.00000000e+00\n",
      " 0.00000000e+00 0.00000000e+00 0.00000000e+00 1.01198388e-02\n",
      " 0.00000000e+00 0.00000000e+00 0.00000000e+00 0.00000000e+00\n",
      " 2.37280313e-02 8.35443172e-03 0.00000000e+00 0.00000000e+00\n",
      " 0.00000000e+00 0.00000000e+00 2.63729772e-07 5.27459544e-06\n",
      " 0.00000000e+00 0.00000000e+00 0.00000000e+00 0.00000000e+00\n",
      " 0.00000000e+00 0.00000000e+00 0.00000000e+00 0.00000000e+00\n",
      " 0.00000000e+00 0.00000000e+00 0.00000000e+00 0.00000000e+00\n",
      " 0.00000000e+00 0.00000000e+00 0.00000000e+00 0.00000000e+00\n",
      " 0.00000000e+00 0.00000000e+00 0.00000000e+00 0.00000000e+00\n",
      " 0.00000000e+00 0.00000000e+00 5.08492099e-02 1.91955714e-02\n",
      " 0.00000000e+00 0.00000000e+00 0.00000000e+00 0.00000000e+00\n",
      " 5.61934300e-02 4.79584678e-02 6.32951453e-06 0.00000000e+00\n",
      " 0.00000000e+00 0.00000000e+00 4.79988185e-05 4.45175855e-04\n",
      " 1.19627825e-03 0.00000000e+00 0.00000000e+00 0.00000000e+00\n",
      " 0.00000000e+00 0.00000000e+00 7.91189316e-07 0.00000000e+00\n",
      " 0.00000000e+00 0.00000000e+00 0.00000000e+00 0.00000000e+00\n",
      " 0.00000000e+00 0.00000000e+00 0.00000000e+00 0.00000000e+00\n",
      " 0.00000000e+00 0.00000000e+00 0.00000000e+00 0.00000000e+00\n",
      " 0.00000000e+00 0.00000000e+00 1.97533599e-04 2.41049012e-04\n",
      " 0.00000000e+00 0.00000000e+00 0.00000000e+00 0.00000000e+00\n",
      " 1.53807203e-03 8.21834715e-03 2.75360255e-03 0.00000000e+00\n",
      " 0.00000000e+00 0.00000000e+00 1.05491909e-06 1.49482035e-02\n",
      " 2.87220183e-02 1.56391755e-03 0.00000000e+00 0.00000000e+00\n",
      " 0.00000000e+00 3.11201131e-05 3.57090111e-03 1.98192924e-03\n",
      " 0.00000000e+00 0.00000000e+00 0.00000000e+00 0.00000000e+00\n",
      " 0.00000000e+00 0.00000000e+00 0.00000000e+00 0.00000000e+00\n",
      " 0.00000000e+00 0.00000000e+00 0.00000000e+00 0.00000000e+00\n",
      " 0.00000000e+00 0.00000000e+00 0.00000000e+00 0.00000000e+00\n",
      " 0.00000000e+00 0.00000000e+00 0.00000000e+00 0.00000000e+00\n",
      " 0.00000000e+00 1.31864886e-06 4.03506551e-05 0.00000000e+00\n",
      " 0.00000000e+00 0.00000000e+00 0.00000000e+00 3.53925354e-04\n",
      " 6.98752031e-03 2.44266515e-03 0.00000000e+00 0.00000000e+00\n",
      " 0.00000000e+00 1.18678397e-05 6.12644260e-03 6.22135895e-02\n",
      " 6.36010718e-03 0.00000000e+00 0.00000000e+00 0.00000000e+00\n",
      " 0.00000000e+00 7.63866911e-03 1.42440450e-03 5.27459544e-07\n",
      " 0.00000000e+00 0.00000000e+00 0.00000000e+00 0.00000000e+00\n",
      " 0.00000000e+00 0.00000000e+00 0.00000000e+00 0.00000000e+00\n",
      " 0.00000000e+00 0.00000000e+00 0.00000000e+00 0.00000000e+00\n",
      " 0.00000000e+00 0.00000000e+00 0.00000000e+00 0.00000000e+00\n",
      " 0.00000000e+00 0.00000000e+00 0.00000000e+00 0.00000000e+00\n",
      " 0.00000000e+00 0.00000000e+00 0.00000000e+00 0.00000000e+00\n",
      " 0.00000000e+00 0.00000000e+00 1.84610840e-06 9.32653965e-03\n",
      " 9.18834525e-04 0.00000000e+00 0.00000000e+00 0.00000000e+00\n",
      " 0.00000000e+00 1.16568559e-03 1.66451199e-01 4.53035002e-02\n",
      " 0.00000000e+00 0.00000000e+00 0.00000000e+00 0.00000000e+00\n",
      " 4.58670907e-02 9.29323058e-02 0.00000000e+00 0.00000000e+00\n",
      " 0.00000000e+00 0.00000000e+00 0.00000000e+00 0.00000000e+00\n",
      " 0.00000000e+00 0.00000000e+00 0.00000000e+00 0.00000000e+00\n",
      " 0.00000000e+00 0.00000000e+00 0.00000000e+00 0.00000000e+00\n",
      " 0.00000000e+00 0.00000000e+00 0.00000000e+00 0.00000000e+00\n",
      " 0.00000000e+00 0.00000000e+00 0.00000000e+00 0.00000000e+00\n",
      " 0.00000000e+00 0.00000000e+00 0.00000000e+00 0.00000000e+00\n",
      " 0.00000000e+00 0.00000000e+00 4.29813596e-02 7.77032302e-02\n",
      " 0.00000000e+00 0.00000000e+00 0.00000000e+00 0.00000000e+00\n",
      " 6.98116442e-02 6.69826149e-02 0.00000000e+00 0.00000000e+00\n",
      " 0.00000000e+00 0.00000000e+00 0.00000000e+00 0.00000000e+00\n",
      " 0.00000000e+00 0.00000000e+00 0.00000000e+00 0.00000000e+00\n",
      " 0.00000000e+00 0.00000000e+00 0.00000000e+00 0.00000000e+00\n",
      " 0.00000000e+00 0.00000000e+00 0.00000000e+00 0.00000000e+00\n",
      " 0.00000000e+00 0.00000000e+00 0.00000000e+00 0.00000000e+00\n",
      " 0.00000000e+00 0.00000000e+00 0.00000000e+00 0.00000000e+00\n",
      " 0.00000000e+00 0.00000000e+00 0.00000000e+00]\n"
     ]
    },
    {
     "name": "stderr",
     "output_type": "stream",
     "text": [
      "progress-bar: 100%|████████████████████████████████████████████████████████████████████████████████████████████████████████████████████████████████████████████| 1/1 [00:00<00:00,  2.58it/s]\n",
      "192.168.1.112 - - [04/Oct/2020 16:39:04] \"\u001b[37mPOST /hazard/predict HTTP/1.1\u001b[0m\" 200 -\n"
     ]
    },
    {
     "name": "stdout",
     "output_type": "stream",
     "text": [
      "  index                                               path is_hurricane  \\\n",
      "0   123  img/modis_hazard_feab1c6c11594d6aa7878570dd2d2...        False   \n",
      "\n",
      "                                      color_features data_split  \n",
      "0  [0.00508391881342701, 0.0, 0.0, 0.0, 0.0, 0.0,...    predict  \n",
      "Probability of hurricane:\n",
      "[0.255]\n",
      "Response:  {'latitude': 39.680574974529364, 'longitude': -66.10434135792669, 'predicted': [{'hazardType': 'hurricane', 'probability': 0.255}]}\n"
     ]
    },
    {
     "name": "stderr",
     "output_type": "stream",
     "text": [
      "192.168.1.112 - - [04/Oct/2020 16:39:17] \"\u001b[37mOPTIONS /hazard/predict HTTP/1.1\u001b[0m\" 200 -\n"
     ]
    },
    {
     "name": "stdout",
     "output_type": "stream",
     "text": [
      "Request received: \n",
      "{'latitude': 56.10177679307074, 'longitude': -0.18637260792669252, 'predict': ['hurricane']}\n",
      "Calculating Square Shape...\n",
      "Shape:  {'lower_latitude': 51.10177679307074, 'left_longitude': -5.1863726079266925, 'higher_latitude': 61.10177679307074, 'right_longitude': 4.8136273920733075}\n",
      "Retrieve & download the MODIS image based on (X,Y,Z,K) parameters\n",
      "1238 2220\n",
      "Image PATH:  img/modis_hazard_7e40e9fcaa8446699a3660c6ed6c82f0.png  \n",
      "\n",
      "Predict if in the image is an Hurricane\n",
      "img/modis_hazard_7e40e9fcaa8446699a3660c6ed6c82f0.png\n",
      "0    img/modis_hazard_7e40e9fcaa8446699a3660c6ed6c8...\n",
      "Name: path, dtype: object\n"
     ]
    },
    {
     "name": "stderr",
     "output_type": "stream",
     "text": [
      "\r",
      "progress-bar:   0%|                                                                                                                                                    | 0/1 [00:00<?, ?it/s]"
     ]
    },
    {
     "name": "stdout",
     "output_type": "stream",
     "text": [
      "[4.00238688e-06 0.00000000e+00 0.00000000e+00 0.00000000e+00\n",
      " 0.00000000e+00 0.00000000e+00 0.00000000e+00 0.00000000e+00\n",
      " 0.00000000e+00 0.00000000e+00 0.00000000e+00 1.45541341e-05\n",
      " 0.00000000e+00 0.00000000e+00 0.00000000e+00 0.00000000e+00\n",
      " 1.89203743e-05 2.65612947e-05 0.00000000e+00 0.00000000e+00\n",
      " 0.00000000e+00 0.00000000e+00 0.00000000e+00 0.00000000e+00\n",
      " 0.00000000e+00 0.00000000e+00 0.00000000e+00 0.00000000e+00\n",
      " 0.00000000e+00 0.00000000e+00 0.00000000e+00 0.00000000e+00\n",
      " 0.00000000e+00 0.00000000e+00 0.00000000e+00 0.00000000e+00\n",
      " 0.00000000e+00 0.00000000e+00 0.00000000e+00 0.00000000e+00\n",
      " 0.00000000e+00 0.00000000e+00 0.00000000e+00 0.00000000e+00\n",
      " 0.00000000e+00 0.00000000e+00 7.53176440e-05 7.05875504e-05\n",
      " 0.00000000e+00 0.00000000e+00 0.00000000e+00 0.00000000e+00\n",
      " 3.24193337e-04 2.47929674e-03 4.00238688e-06 0.00000000e+00\n",
      " 0.00000000e+00 0.00000000e+00 0.00000000e+00 1.85565210e-05\n",
      " 1.37172714e-04 0.00000000e+00 0.00000000e+00 0.00000000e+00\n",
      " 0.00000000e+00 0.00000000e+00 0.00000000e+00 0.00000000e+00\n",
      " 0.00000000e+00 0.00000000e+00 0.00000000e+00 0.00000000e+00\n",
      " 0.00000000e+00 0.00000000e+00 0.00000000e+00 0.00000000e+00\n",
      " 0.00000000e+00 0.00000000e+00 0.00000000e+00 0.00000000e+00\n",
      " 0.00000000e+00 0.00000000e+00 7.27706705e-07 1.09156006e-06\n",
      " 0.00000000e+00 0.00000000e+00 0.00000000e+00 0.00000000e+00\n",
      " 3.78407487e-05 5.79982244e-04 5.95627938e-04 0.00000000e+00\n",
      " 0.00000000e+00 0.00000000e+00 0.00000000e+00 2.15583111e-03\n",
      " 7.91599354e-03 4.53725131e-04 0.00000000e+00 0.00000000e+00\n",
      " 0.00000000e+00 1.81926676e-06 9.40560916e-04 5.33772868e-04\n",
      " 0.00000000e+00 0.00000000e+00 0.00000000e+00 0.00000000e+00\n",
      " 0.00000000e+00 0.00000000e+00 0.00000000e+00 0.00000000e+00\n",
      " 0.00000000e+00 0.00000000e+00 0.00000000e+00 0.00000000e+00\n",
      " 0.00000000e+00 0.00000000e+00 0.00000000e+00 0.00000000e+00\n",
      " 0.00000000e+00 0.00000000e+00 0.00000000e+00 0.00000000e+00\n",
      " 0.00000000e+00 0.00000000e+00 4.36624023e-06 0.00000000e+00\n",
      " 0.00000000e+00 0.00000000e+00 0.00000000e+00 4.32985490e-05\n",
      " 2.38469487e-03 9.31464583e-04 0.00000000e+00 0.00000000e+00\n",
      " 0.00000000e+00 1.09156006e-06 2.18202856e-03 2.61450465e-02\n",
      " 2.38323946e-03 0.00000000e+00 0.00000000e+00 0.00000000e+00\n",
      " 0.00000000e+00 2.94575674e-03 5.06483867e-04 0.00000000e+00\n",
      " 0.00000000e+00 0.00000000e+00 0.00000000e+00 0.00000000e+00\n",
      " 0.00000000e+00 0.00000000e+00 0.00000000e+00 0.00000000e+00\n",
      " 0.00000000e+00 0.00000000e+00 0.00000000e+00 0.00000000e+00\n",
      " 0.00000000e+00 0.00000000e+00 0.00000000e+00 0.00000000e+00\n",
      " 0.00000000e+00 0.00000000e+00 0.00000000e+00 0.00000000e+00\n",
      " 0.00000000e+00 0.00000000e+00 0.00000000e+00 0.00000000e+00\n",
      " 0.00000000e+00 0.00000000e+00 7.27706705e-07 4.35787160e-03\n",
      " 3.30742697e-04 0.00000000e+00 0.00000000e+00 0.00000000e+00\n",
      " 0.00000000e+00 4.63185318e-04 9.47368613e-02 4.14530847e-02\n",
      " 0.00000000e+00 0.00000000e+00 0.00000000e+00 0.00000000e+00\n",
      " 4.32195928e-02 1.89590883e-01 0.00000000e+00 0.00000000e+00\n",
      " 0.00000000e+00 0.00000000e+00 0.00000000e+00 0.00000000e+00\n",
      " 0.00000000e+00 0.00000000e+00 0.00000000e+00 0.00000000e+00\n",
      " 0.00000000e+00 0.00000000e+00 0.00000000e+00 0.00000000e+00\n",
      " 0.00000000e+00 0.00000000e+00 0.00000000e+00 0.00000000e+00\n",
      " 0.00000000e+00 0.00000000e+00 0.00000000e+00 0.00000000e+00\n",
      " 0.00000000e+00 0.00000000e+00 0.00000000e+00 0.00000000e+00\n",
      " 0.00000000e+00 0.00000000e+00 4.48329185e-02 1.65471408e-01\n",
      " 0.00000000e+00 0.00000000e+00 0.00000000e+00 0.00000000e+00\n",
      " 1.49844998e-01 2.11780116e-01 0.00000000e+00 0.00000000e+00\n",
      " 0.00000000e+00 0.00000000e+00 0.00000000e+00 0.00000000e+00\n",
      " 0.00000000e+00 0.00000000e+00 0.00000000e+00 0.00000000e+00\n",
      " 0.00000000e+00 0.00000000e+00 0.00000000e+00 0.00000000e+00\n",
      " 0.00000000e+00 0.00000000e+00 0.00000000e+00 0.00000000e+00\n",
      " 0.00000000e+00 0.00000000e+00 0.00000000e+00 0.00000000e+00\n",
      " 0.00000000e+00 0.00000000e+00 0.00000000e+00 0.00000000e+00\n",
      " 0.00000000e+00 0.00000000e+00 0.00000000e+00]\n"
     ]
    },
    {
     "name": "stderr",
     "output_type": "stream",
     "text": [
      "progress-bar: 100%|████████████████████████████████████████████████████████████████████████████████████████████████████████████████████████████████████████████| 1/1 [00:00<00:00,  3.77it/s]\n",
      "192.168.1.112 - - [04/Oct/2020 16:39:25] \"\u001b[37mPOST /hazard/predict HTTP/1.1\u001b[0m\" 200 -\n"
     ]
    },
    {
     "name": "stdout",
     "output_type": "stream",
     "text": [
      "  index                                               path is_hurricane  \\\n",
      "0   123  img/modis_hazard_7e40e9fcaa8446699a3660c6ed6c8...        False   \n",
      "\n",
      "                                      color_features data_split  \n",
      "0  [4.0023868779926935e-06, 0.0, 0.0, 0.0, 0.0, 0...    predict  \n",
      "Probability of hurricane:\n",
      "[0.135]\n",
      "Response:  {'latitude': 56.10177679307074, 'longitude': -0.18637260792669252, 'predicted': [{'hazardType': 'hurricane', 'probability': 0.135}]}\n"
     ]
    },
    {
     "name": "stderr",
     "output_type": "stream",
     "text": [
      "192.168.1.112 - - [04/Oct/2020 16:44:52] \"\u001b[37mOPTIONS /hazard/predict HTTP/1.1\u001b[0m\" 200 -\n"
     ]
    },
    {
     "name": "stdout",
     "output_type": "stream",
     "text": [
      "Request received: \n",
      "{'latitude': 38.2008050347559, 'longitude': -70.47289687499999, 'predict': ['hurricane']}\n",
      "Calculating Square Shape...\n",
      "Shape:  {'lower_latitude': 33.2008050347559, 'left_longitude': -75.47289687499999, 'higher_latitude': 43.2008050347559, 'right_longitude': -65.47289687499999}\n",
      "Retrieve & download the MODIS image based on (X,Y,Z,K) parameters\n",
      "1744 2220\n",
      "Image PATH:  img/modis_hazard_fde1ceb87a0c4153818913dba7a87088.png  \n",
      "\n",
      "Predict if in the image is an Hurricane\n",
      "img/modis_hazard_fde1ceb87a0c4153818913dba7a87088.png\n",
      "0    img/modis_hazard_fde1ceb87a0c4153818913dba7a87...\n",
      "Name: path, dtype: object\n"
     ]
    },
    {
     "name": "stderr",
     "output_type": "stream",
     "text": [
      "\r",
      "progress-bar:   0%|                                                                                                                                                    | 0/1 [00:00<?, ?it/s]"
     ]
    },
    {
     "name": "stdout",
     "output_type": "stream",
     "text": [
      "[2.37070212e-02 0.00000000e+00 0.00000000e+00 0.00000000e+00\n",
      " 0.00000000e+00 0.00000000e+00 0.00000000e+00 0.00000000e+00\n",
      " 0.00000000e+00 0.00000000e+00 0.00000000e+00 2.24179168e-02\n",
      " 0.00000000e+00 0.00000000e+00 0.00000000e+00 0.00000000e+00\n",
      " 5.08280643e-02 2.03407823e-02 6.63794528e-05 0.00000000e+00\n",
      " 0.00000000e+00 0.00000000e+00 2.58285809e-06 1.56779486e-04\n",
      " 1.54971485e-06 0.00000000e+00 0.00000000e+00 0.00000000e+00\n",
      " 0.00000000e+00 0.00000000e+00 0.00000000e+00 0.00000000e+00\n",
      " 0.00000000e+00 0.00000000e+00 0.00000000e+00 0.00000000e+00\n",
      " 0.00000000e+00 0.00000000e+00 0.00000000e+00 0.00000000e+00\n",
      " 0.00000000e+00 0.00000000e+00 0.00000000e+00 0.00000000e+00\n",
      " 0.00000000e+00 0.00000000e+00 8.89177308e-02 2.19901955e-02\n",
      " 0.00000000e+00 0.00000000e+00 0.00000000e+00 0.00000000e+00\n",
      " 6.01015580e-02 6.26211360e-02 9.32411770e-05 0.00000000e+00\n",
      " 0.00000000e+00 0.00000000e+00 1.67885776e-05 2.26103397e-03\n",
      " 7.75864741e-03 1.83382924e-05 0.00000000e+00 0.00000000e+00\n",
      " 0.00000000e+00 0.00000000e+00 7.23200264e-06 3.09942970e-06\n",
      " 0.00000000e+00 0.00000000e+00 0.00000000e+00 0.00000000e+00\n",
      " 0.00000000e+00 0.00000000e+00 0.00000000e+00 0.00000000e+00\n",
      " 0.00000000e+00 0.00000000e+00 0.00000000e+00 0.00000000e+00\n",
      " 0.00000000e+00 0.00000000e+00 1.88548640e-05 3.17691545e-05\n",
      " 0.00000000e+00 0.00000000e+00 0.00000000e+00 0.00000000e+00\n",
      " 3.00128110e-04 3.21255889e-03 1.81833209e-03 0.00000000e+00\n",
      " 0.00000000e+00 0.00000000e+00 0.00000000e+00 8.48417225e-03\n",
      " 3.02429436e-02 1.71553434e-03 0.00000000e+00 0.00000000e+00\n",
      " 0.00000000e+00 5.68228779e-06 3.14617944e-03 2.64252211e-03\n",
      " 0.00000000e+00 0.00000000e+00 0.00000000e+00 0.00000000e+00\n",
      " 0.00000000e+00 0.00000000e+00 0.00000000e+00 0.00000000e+00\n",
      " 0.00000000e+00 0.00000000e+00 0.00000000e+00 0.00000000e+00\n",
      " 0.00000000e+00 0.00000000e+00 0.00000000e+00 0.00000000e+00\n",
      " 0.00000000e+00 0.00000000e+00 0.00000000e+00 0.00000000e+00\n",
      " 0.00000000e+00 0.00000000e+00 4.90743037e-06 0.00000000e+00\n",
      " 0.00000000e+00 0.00000000e+00 0.00000000e+00 8.65257459e-05\n",
      " 4.42107819e-03 1.78268865e-03 0.00000000e+00 0.00000000e+00\n",
      " 0.00000000e+00 2.32457228e-06 4.12095008e-03 5.34297773e-02\n",
      " 5.52834945e-03 0.00000000e+00 0.00000000e+00 0.00000000e+00\n",
      " 2.58285809e-07 6.06610050e-03 1.26947475e-03 7.74857426e-07\n",
      " 0.00000000e+00 0.00000000e+00 0.00000000e+00 0.00000000e+00\n",
      " 7.74857426e-07 0.00000000e+00 0.00000000e+00 0.00000000e+00\n",
      " 0.00000000e+00 0.00000000e+00 0.00000000e+00 0.00000000e+00\n",
      " 0.00000000e+00 0.00000000e+00 0.00000000e+00 0.00000000e+00\n",
      " 0.00000000e+00 0.00000000e+00 0.00000000e+00 0.00000000e+00\n",
      " 0.00000000e+00 0.00000000e+00 0.00000000e+00 0.00000000e+00\n",
      " 0.00000000e+00 0.00000000e+00 5.16571617e-07 4.55951938e-03\n",
      " 5.24320192e-04 5.16571617e-07 0.00000000e+00 0.00000000e+00\n",
      " 0.00000000e+00 6.64569386e-04 1.25384588e-01 4.10253430e-02\n",
      " 0.00000000e+00 0.00000000e+00 0.00000000e+00 2.58285809e-07\n",
      " 4.06944789e-02 8.51976403e-02 0.00000000e+00 0.00000000e+00\n",
      " 0.00000000e+00 0.00000000e+00 0.00000000e+00 0.00000000e+00\n",
      " 0.00000000e+00 0.00000000e+00 0.00000000e+00 0.00000000e+00\n",
      " 0.00000000e+00 0.00000000e+00 0.00000000e+00 0.00000000e+00\n",
      " 0.00000000e+00 0.00000000e+00 0.00000000e+00 0.00000000e+00\n",
      " 0.00000000e+00 0.00000000e+00 0.00000000e+00 0.00000000e+00\n",
      " 5.16571617e-07 0.00000000e+00 0.00000000e+00 0.00000000e+00\n",
      " 0.00000000e+00 0.00000000e+00 3.51248037e-02 6.88453075e-02\n",
      " 0.00000000e+00 0.00000000e+00 0.00000000e+00 0.00000000e+00\n",
      " 6.05656976e-02 4.77691855e-02 0.00000000e+00 0.00000000e+00\n",
      " 0.00000000e+00 0.00000000e+00 0.00000000e+00 0.00000000e+00\n",
      " 0.00000000e+00 0.00000000e+00 0.00000000e+00 0.00000000e+00\n",
      " 0.00000000e+00 0.00000000e+00 0.00000000e+00 0.00000000e+00\n",
      " 0.00000000e+00 0.00000000e+00 0.00000000e+00 0.00000000e+00\n",
      " 0.00000000e+00 0.00000000e+00 0.00000000e+00 0.00000000e+00\n",
      " 0.00000000e+00 0.00000000e+00 0.00000000e+00 0.00000000e+00\n",
      " 0.00000000e+00 0.00000000e+00 0.00000000e+00]\n"
     ]
    },
    {
     "name": "stderr",
     "output_type": "stream",
     "text": [
      "progress-bar: 100%|████████████████████████████████████████████████████████████████████████████████████████████████████████████████████████████████████████████| 1/1 [00:00<00:00,  2.85it/s]\n",
      "192.168.1.112 - - [04/Oct/2020 16:45:02] \"\u001b[37mPOST /hazard/predict HTTP/1.1\u001b[0m\" 200 -\n"
     ]
    },
    {
     "name": "stdout",
     "output_type": "stream",
     "text": [
      "  index                                               path is_hurricane  \\\n",
      "0   123  img/modis_hazard_fde1ceb87a0c4153818913dba7a87...        False   \n",
      "\n",
      "                                      color_features data_split  \n",
      "0  [0.02370702124142491, 0.0, 0.0, 0.0, 0.0, 0.0,...    predict  \n",
      "Probability of hurricane:\n",
      "[0.18]\n",
      "Response:  {'latitude': 38.2008050347559, 'longitude': -70.47289687499999, 'predicted': [{'hazardType': 'hurricane', 'probability': 0.18}]}\n"
     ]
    },
    {
     "name": "stderr",
     "output_type": "stream",
     "text": [
      "192.168.1.112 - - [04/Oct/2020 16:45:10] \"\u001b[37mOPTIONS /hazard/predict HTTP/1.1\u001b[0m\" 200 -\n"
     ]
    },
    {
     "name": "stdout",
     "output_type": "stream",
     "text": [
      "Request received: \n",
      "{'latitude': 2.1931028167701494, 'longitude': 5.025150000000007, 'predict': ['hurricane']}\n",
      "Calculating Square Shape...\n",
      "Shape:  {'lower_latitude': -2.8068971832298506, 'left_longitude': 0.02515000000000711, 'higher_latitude': 7.19310281677015, 'right_longitude': 10.025150000000007}\n",
      "Retrieve & download the MODIS image based on (X,Y,Z,K) parameters\n",
      "2218 2220\n",
      "Image PATH:  img/modis_hazard_210df4d4037d46648d382f7bb00d5af1.png  \n",
      "\n",
      "Predict if in the image is an Hurricane\n",
      "img/modis_hazard_210df4d4037d46648d382f7bb00d5af1.png\n",
      "0    img/modis_hazard_210df4d4037d46648d382f7bb00d5...\n",
      "Name: path, dtype: object\n"
     ]
    },
    {
     "name": "stderr",
     "output_type": "stream",
     "text": [
      "\r",
      "progress-bar:   0%|                                                                                                                                                    | 0/1 [00:00<?, ?it/s]"
     ]
    },
    {
     "name": "stdout",
     "output_type": "stream",
     "text": [
      "[1.78372692e-03 0.00000000e+00 0.00000000e+00 0.00000000e+00\n",
      " 0.00000000e+00 0.00000000e+00 0.00000000e+00 0.00000000e+00\n",
      " 0.00000000e+00 0.00000000e+00 0.00000000e+00 1.70330384e-03\n",
      " 0.00000000e+00 0.00000000e+00 0.00000000e+00 0.00000000e+00\n",
      " 3.49028018e-03 1.78575780e-03 6.70192284e-06 0.00000000e+00\n",
      " 0.00000000e+00 0.00000000e+00 9.54516284e-06 5.05690542e-05\n",
      " 6.09265713e-07 0.00000000e+00 0.00000000e+00 0.00000000e+00\n",
      " 0.00000000e+00 0.00000000e+00 0.00000000e+00 0.00000000e+00\n",
      " 0.00000000e+00 0.00000000e+00 0.00000000e+00 0.00000000e+00\n",
      " 0.00000000e+00 0.00000000e+00 0.00000000e+00 0.00000000e+00\n",
      " 0.00000000e+00 0.00000000e+00 0.00000000e+00 0.00000000e+00\n",
      " 0.00000000e+00 0.00000000e+00 1.21048912e-02 5.63489549e-03\n",
      " 0.00000000e+00 0.00000000e+00 0.00000000e+00 0.00000000e+00\n",
      " 1.46459354e-02 5.43505634e-02 1.23477851e-04 0.00000000e+00\n",
      " 0.00000000e+00 0.00000000e+00 8.06261627e-05 3.07476096e-03\n",
      " 5.35443017e-03 6.98624684e-05 0.00000000e+00 0.00000000e+00\n",
      " 0.00000000e+00 4.06177142e-07 5.70678884e-05 2.25428314e-05\n",
      " 0.00000000e+00 0.00000000e+00 0.00000000e+00 0.00000000e+00\n",
      " 0.00000000e+00 0.00000000e+00 0.00000000e+00 0.00000000e+00\n",
      " 0.00000000e+00 0.00000000e+00 0.00000000e+00 0.00000000e+00\n",
      " 0.00000000e+00 0.00000000e+00 2.03088571e-05 3.55404999e-05\n",
      " 0.00000000e+00 0.00000000e+00 0.00000000e+00 0.00000000e+00\n",
      " 2.29286997e-04 8.37821591e-03 1.20110643e-02 4.06177142e-07\n",
      " 0.00000000e+00 0.00000000e+00 2.03088571e-07 2.75095655e-02\n",
      " 1.48178296e-01 1.97178694e-02 0.00000000e+00 0.00000000e+00\n",
      " 0.00000000e+00 8.52971998e-06 2.51058091e-02 2.42595391e-02\n",
      " 2.03088571e-06 0.00000000e+00 0.00000000e+00 0.00000000e+00\n",
      " 0.00000000e+00 0.00000000e+00 0.00000000e+00 0.00000000e+00\n",
      " 0.00000000e+00 0.00000000e+00 0.00000000e+00 0.00000000e+00\n",
      " 0.00000000e+00 0.00000000e+00 0.00000000e+00 0.00000000e+00\n",
      " 0.00000000e+00 0.00000000e+00 0.00000000e+00 0.00000000e+00\n",
      " 0.00000000e+00 0.00000000e+00 7.51427713e-06 0.00000000e+00\n",
      " 0.00000000e+00 0.00000000e+00 0.00000000e+00 4.44763970e-05\n",
      " 3.70502604e-02 2.37199327e-02 0.00000000e+00 0.00000000e+00\n",
      " 0.00000000e+00 2.03088571e-07 2.96121414e-02 2.06673287e-01\n",
      " 1.13138612e-02 0.00000000e+00 0.00000000e+00 0.00000000e+00\n",
      " 4.06177142e-07 1.28256525e-02 1.97341164e-03 4.06177142e-07\n",
      " 0.00000000e+00 0.00000000e+00 0.00000000e+00 0.00000000e+00\n",
      " 6.09265713e-07 0.00000000e+00 0.00000000e+00 0.00000000e+00\n",
      " 0.00000000e+00 0.00000000e+00 0.00000000e+00 0.00000000e+00\n",
      " 0.00000000e+00 0.00000000e+00 0.00000000e+00 0.00000000e+00\n",
      " 0.00000000e+00 0.00000000e+00 0.00000000e+00 0.00000000e+00\n",
      " 0.00000000e+00 0.00000000e+00 0.00000000e+00 0.00000000e+00\n",
      " 0.00000000e+00 0.00000000e+00 6.09265713e-07 1.22628941e-02\n",
      " 1.14724734e-03 0.00000000e+00 0.00000000e+00 0.00000000e+00\n",
      " 0.00000000e+00 1.36373975e-03 1.55481970e-01 1.86583563e-02\n",
      " 0.00000000e+00 0.00000000e+00 0.00000000e+00 2.03088571e-07\n",
      " 1.80811786e-02 2.97378533e-02 0.00000000e+00 0.00000000e+00\n",
      " 0.00000000e+00 0.00000000e+00 0.00000000e+00 0.00000000e+00\n",
      " 0.00000000e+00 0.00000000e+00 0.00000000e+00 0.00000000e+00\n",
      " 0.00000000e+00 0.00000000e+00 0.00000000e+00 0.00000000e+00\n",
      " 0.00000000e+00 0.00000000e+00 0.00000000e+00 0.00000000e+00\n",
      " 0.00000000e+00 0.00000000e+00 0.00000000e+00 0.00000000e+00\n",
      " 6.09265713e-07 0.00000000e+00 0.00000000e+00 0.00000000e+00\n",
      " 0.00000000e+00 2.03088571e-07 1.49018270e-02 2.10824215e-02\n",
      " 0.00000000e+00 0.00000000e+00 0.00000000e+00 0.00000000e+00\n",
      " 1.83124964e-02 1.59396096e-02 0.00000000e+00 0.00000000e+00\n",
      " 0.00000000e+00 0.00000000e+00 0.00000000e+00 0.00000000e+00\n",
      " 0.00000000e+00 0.00000000e+00 0.00000000e+00 0.00000000e+00\n",
      " 0.00000000e+00 0.00000000e+00 0.00000000e+00 0.00000000e+00\n",
      " 0.00000000e+00 0.00000000e+00 0.00000000e+00 0.00000000e+00\n",
      " 0.00000000e+00 0.00000000e+00 0.00000000e+00 0.00000000e+00\n",
      " 0.00000000e+00 0.00000000e+00 0.00000000e+00 0.00000000e+00\n",
      " 0.00000000e+00 0.00000000e+00 0.00000000e+00]\n"
     ]
    },
    {
     "name": "stderr",
     "output_type": "stream",
     "text": [
      "progress-bar: 100%|████████████████████████████████████████████████████████████████████████████████████████████████████████████████████████████████████████████| 1/1 [00:00<00:00,  2.04it/s]\n",
      "192.168.1.112 - - [04/Oct/2020 16:45:23] \"\u001b[37mPOST /hazard/predict HTTP/1.1\u001b[0m\" 200 -\n"
     ]
    },
    {
     "name": "stdout",
     "output_type": "stream",
     "text": [
      "  index                                               path is_hurricane  \\\n",
      "0   123  img/modis_hazard_210df4d4037d46648d382f7bb00d5...        False   \n",
      "\n",
      "                                      color_features data_split  \n",
      "0  [0.0017837269189839072, 0.0, 0.0, 0.0, 0.0, 0....    predict  \n",
      "Probability of hurricane:\n",
      "[0.245]\n",
      "Response:  {'latitude': 2.1931028167701494, 'longitude': 5.025150000000007, 'predicted': [{'hazardType': 'hurricane', 'probability': 0.245}]}\n"
     ]
    },
    {
     "name": "stderr",
     "output_type": "stream",
     "text": [
      "192.168.1.112 - - [04/Oct/2020 16:45:27] \"\u001b[37mOPTIONS /hazard/predict HTTP/1.1\u001b[0m\" 200 -\n"
     ]
    },
    {
     "name": "stdout",
     "output_type": "stream",
     "text": [
      "Request received: \n",
      "{'latitude': 55.82393583656779, 'longitude': -0.07250624999999289, 'predict': ['hurricane']}\n",
      "Calculating Square Shape...\n",
      "Shape:  {'lower_latitude': 50.82393583656779, 'left_longitude': -5.072506249999993, 'higher_latitude': 60.82393583656779, 'right_longitude': 4.927493750000007}\n",
      "Retrieve & download the MODIS image based on (X,Y,Z,K) parameters\n",
      "1247 2220\n",
      "Image PATH:  img/modis_hazard_4d41cf0475e74c36957d5982d401958e.png  \n",
      "\n",
      "Predict if in the image is an Hurricane\n",
      "img/modis_hazard_4d41cf0475e74c36957d5982d401958e.png\n",
      "0    img/modis_hazard_4d41cf0475e74c36957d5982d4019...\n",
      "Name: path, dtype: object\n"
     ]
    },
    {
     "name": "stderr",
     "output_type": "stream",
     "text": [
      "\r",
      "progress-bar:   0%|                                                                                                                                                    | 0/1 [00:00<?, ?it/s]"
     ]
    },
    {
     "name": "stdout",
     "output_type": "stream",
     "text": [
      "[4.33472767e-06 0.00000000e+00 0.00000000e+00 0.00000000e+00\n",
      " 0.00000000e+00 0.00000000e+00 0.00000000e+00 0.00000000e+00\n",
      " 0.00000000e+00 0.00000000e+00 0.00000000e+00 1.73389107e-05\n",
      " 0.00000000e+00 0.00000000e+00 0.00000000e+00 0.00000000e+00\n",
      " 2.38410022e-05 3.21492302e-05 0.00000000e+00 0.00000000e+00\n",
      " 0.00000000e+00 0.00000000e+00 0.00000000e+00 0.00000000e+00\n",
      " 0.00000000e+00 0.00000000e+00 0.00000000e+00 0.00000000e+00\n",
      " 0.00000000e+00 0.00000000e+00 0.00000000e+00 0.00000000e+00\n",
      " 0.00000000e+00 0.00000000e+00 0.00000000e+00 0.00000000e+00\n",
      " 0.00000000e+00 0.00000000e+00 0.00000000e+00 0.00000000e+00\n",
      " 0.00000000e+00 0.00000000e+00 0.00000000e+00 0.00000000e+00\n",
      " 0.00000000e+00 0.00000000e+00 9.57252361e-05 9.60864634e-05\n",
      " 0.00000000e+00 0.00000000e+00 0.00000000e+00 0.00000000e+00\n",
      " 3.85068308e-04 2.33786312e-03 1.80613653e-06 0.00000000e+00\n",
      " 0.00000000e+00 0.00000000e+00 2.16736384e-06 1.77001380e-05\n",
      " 1.42323559e-04 0.00000000e+00 0.00000000e+00 0.00000000e+00\n",
      " 0.00000000e+00 0.00000000e+00 0.00000000e+00 0.00000000e+00\n",
      " 0.00000000e+00 0.00000000e+00 0.00000000e+00 0.00000000e+00\n",
      " 0.00000000e+00 0.00000000e+00 0.00000000e+00 0.00000000e+00\n",
      " 0.00000000e+00 0.00000000e+00 0.00000000e+00 0.00000000e+00\n",
      " 0.00000000e+00 0.00000000e+00 3.61227306e-07 1.08368192e-06\n",
      " 0.00000000e+00 0.00000000e+00 0.00000000e+00 0.00000000e+00\n",
      " 4.08186856e-05 5.57734960e-04 5.12942774e-04 0.00000000e+00\n",
      " 0.00000000e+00 0.00000000e+00 0.00000000e+00 1.92498031e-03\n",
      " 7.12882088e-03 4.93436500e-04 0.00000000e+00 0.00000000e+00\n",
      " 0.00000000e+00 3.25104575e-06 1.07176142e-03 6.85248199e-04\n",
      " 0.00000000e+00 0.00000000e+00 0.00000000e+00 0.00000000e+00\n",
      " 0.00000000e+00 0.00000000e+00 0.00000000e+00 0.00000000e+00\n",
      " 0.00000000e+00 0.00000000e+00 0.00000000e+00 0.00000000e+00\n",
      " 0.00000000e+00 0.00000000e+00 0.00000000e+00 0.00000000e+00\n",
      " 0.00000000e+00 0.00000000e+00 0.00000000e+00 0.00000000e+00\n",
      " 0.00000000e+00 3.61227306e-07 2.52859114e-06 0.00000000e+00\n",
      " 0.00000000e+00 0.00000000e+00 0.00000000e+00 5.77963689e-05\n",
      " 2.51811555e-03 9.41358359e-04 0.00000000e+00 0.00000000e+00\n",
      " 0.00000000e+00 1.44490922e-06 2.24647262e-03 2.76284705e-02\n",
      " 2.81757299e-03 0.00000000e+00 0.00000000e+00 0.00000000e+00\n",
      " 0.00000000e+00 3.40167754e-03 6.58878606e-04 0.00000000e+00\n",
      " 0.00000000e+00 0.00000000e+00 0.00000000e+00 0.00000000e+00\n",
      " 0.00000000e+00 0.00000000e+00 0.00000000e+00 0.00000000e+00\n",
      " 0.00000000e+00 0.00000000e+00 0.00000000e+00 0.00000000e+00\n",
      " 0.00000000e+00 0.00000000e+00 0.00000000e+00 0.00000000e+00\n",
      " 0.00000000e+00 0.00000000e+00 0.00000000e+00 0.00000000e+00\n",
      " 0.00000000e+00 0.00000000e+00 0.00000000e+00 0.00000000e+00\n",
      " 0.00000000e+00 0.00000000e+00 7.22454612e-07 4.34411958e-03\n",
      " 3.16073893e-04 0.00000000e+00 0.00000000e+00 0.00000000e+00\n",
      " 0.00000000e+00 4.86573181e-04 9.50739432e-02 4.10910510e-02\n",
      " 0.00000000e+00 0.00000000e+00 0.00000000e+00 0.00000000e+00\n",
      " 4.27570313e-02 1.88520557e-01 0.00000000e+00 0.00000000e+00\n",
      " 0.00000000e+00 0.00000000e+00 0.00000000e+00 0.00000000e+00\n",
      " 0.00000000e+00 0.00000000e+00 0.00000000e+00 0.00000000e+00\n",
      " 0.00000000e+00 0.00000000e+00 0.00000000e+00 0.00000000e+00\n",
      " 0.00000000e+00 0.00000000e+00 0.00000000e+00 0.00000000e+00\n",
      " 0.00000000e+00 0.00000000e+00 0.00000000e+00 0.00000000e+00\n",
      " 0.00000000e+00 0.00000000e+00 0.00000000e+00 0.00000000e+00\n",
      " 0.00000000e+00 0.00000000e+00 4.38779196e-02 1.64312187e-01\n",
      " 0.00000000e+00 0.00000000e+00 0.00000000e+00 0.00000000e+00\n",
      " 1.48678992e-01 2.14689308e-01 0.00000000e+00 0.00000000e+00\n",
      " 0.00000000e+00 0.00000000e+00 0.00000000e+00 0.00000000e+00\n",
      " 0.00000000e+00 0.00000000e+00 0.00000000e+00 0.00000000e+00\n",
      " 0.00000000e+00 0.00000000e+00 0.00000000e+00 0.00000000e+00\n",
      " 0.00000000e+00 0.00000000e+00 0.00000000e+00 0.00000000e+00\n",
      " 0.00000000e+00 0.00000000e+00 0.00000000e+00 0.00000000e+00\n",
      " 0.00000000e+00 0.00000000e+00 0.00000000e+00 0.00000000e+00\n",
      " 0.00000000e+00 0.00000000e+00 0.00000000e+00]\n"
     ]
    },
    {
     "name": "stderr",
     "output_type": "stream",
     "text": [
      "progress-bar: 100%|████████████████████████████████████████████████████████████████████████████████████████████████████████████████████████████████████████████| 1/1 [00:00<00:00,  4.13it/s]\n",
      "192.168.1.112 - - [04/Oct/2020 16:45:33] \"\u001b[37mPOST /hazard/predict HTTP/1.1\u001b[0m\" 200 -\n"
     ]
    },
    {
     "name": "stdout",
     "output_type": "stream",
     "text": [
      "  index                                               path is_hurricane  \\\n",
      "0   123  img/modis_hazard_4d41cf0475e74c36957d5982d4019...        False   \n",
      "\n",
      "                                      color_features data_split  \n",
      "0  [4.334727670734086e-06, 0.0, 0.0, 0.0, 0.0, 0....    predict  \n",
      "Probability of hurricane:\n",
      "[0.115]\n",
      "Response:  {'latitude': 55.82393583656779, 'longitude': -0.07250624999999289, 'predicted': [{'hazardType': 'hurricane', 'probability': 0.115}]}\n"
     ]
    },
    {
     "name": "stderr",
     "output_type": "stream",
     "text": [
      "192.168.1.112 - - [04/Oct/2020 16:45:34] \"\u001b[37mOPTIONS /hazard/predict HTTP/1.1\u001b[0m\" 200 -\n"
     ]
    },
    {
     "name": "stdout",
     "output_type": "stream",
     "text": [
      "Request received: \n",
      "{'latitude': 54.72252547363321, 'longitude': -144.03734999999998, 'predict': ['hurricane']}\n",
      "Calculating Square Shape...\n",
      "Shape:  {'lower_latitude': 49.72252547363321, 'left_longitude': -149.03734999999998, 'higher_latitude': 59.72252547363321, 'right_longitude': -139.03734999999998}\n",
      "Retrieve & download the MODIS image based on (X,Y,Z,K) parameters\n",
      "1282 2220\n",
      "Image PATH:  img/modis_hazard_50f727cfeecd4ffa87417d5e8112251e.png  \n",
      "\n",
      "Predict if in the image is an Hurricane\n",
      "img/modis_hazard_50f727cfeecd4ffa87417d5e8112251e.png\n",
      "0    img/modis_hazard_50f727cfeecd4ffa87417d5e81122...\n",
      "Name: path, dtype: object\n"
     ]
    },
    {
     "name": "stderr",
     "output_type": "stream",
     "text": [
      "\r",
      "progress-bar:   0%|                                                                                                                                                    | 0/1 [00:00<?, ?it/s]"
     ]
    },
    {
     "name": "stdout",
     "output_type": "stream",
     "text": [
      "[2.38577111e-04 0.00000000e+00 0.00000000e+00 0.00000000e+00\n",
      " 0.00000000e+00 0.00000000e+00 0.00000000e+00 0.00000000e+00\n",
      " 0.00000000e+00 0.00000000e+00 0.00000000e+00 8.53817937e-04\n",
      " 0.00000000e+00 0.00000000e+00 0.00000000e+00 0.00000000e+00\n",
      " 1.43638178e-03 1.00490506e-03 0.00000000e+00 0.00000000e+00\n",
      " 0.00000000e+00 0.00000000e+00 0.00000000e+00 0.00000000e+00\n",
      " 0.00000000e+00 0.00000000e+00 0.00000000e+00 0.00000000e+00\n",
      " 0.00000000e+00 0.00000000e+00 0.00000000e+00 0.00000000e+00\n",
      " 0.00000000e+00 0.00000000e+00 0.00000000e+00 0.00000000e+00\n",
      " 0.00000000e+00 0.00000000e+00 0.00000000e+00 0.00000000e+00\n",
      " 0.00000000e+00 0.00000000e+00 0.00000000e+00 0.00000000e+00\n",
      " 0.00000000e+00 0.00000000e+00 8.78764880e-03 8.01288808e-03\n",
      " 0.00000000e+00 0.00000000e+00 0.00000000e+00 0.00000000e+00\n",
      " 2.22653230e-02 4.31944035e-02 2.81092325e-06 0.00000000e+00\n",
      " 0.00000000e+00 0.00000000e+00 1.15950584e-05 4.21638487e-06\n",
      " 7.69490239e-05 0.00000000e+00 0.00000000e+00 0.00000000e+00\n",
      " 0.00000000e+00 0.00000000e+00 0.00000000e+00 0.00000000e+00\n",
      " 0.00000000e+00 0.00000000e+00 0.00000000e+00 0.00000000e+00\n",
      " 0.00000000e+00 0.00000000e+00 0.00000000e+00 0.00000000e+00\n",
      " 0.00000000e+00 0.00000000e+00 0.00000000e+00 0.00000000e+00\n",
      " 0.00000000e+00 0.00000000e+00 6.53539655e-05 9.48686596e-05\n",
      " 0.00000000e+00 0.00000000e+00 0.00000000e+00 0.00000000e+00\n",
      " 8.53817937e-04 7.65449537e-03 3.39559528e-03 0.00000000e+00\n",
      " 0.00000000e+00 0.00000000e+00 1.05409622e-06 1.08498124e-02\n",
      " 2.69690517e-02 1.08466501e-03 0.00000000e+00 0.00000000e+00\n",
      " 0.00000000e+00 2.10819244e-06 1.99435004e-03 1.09626007e-03\n",
      " 0.00000000e+00 0.00000000e+00 0.00000000e+00 0.00000000e+00\n",
      " 0.00000000e+00 0.00000000e+00 0.00000000e+00 0.00000000e+00\n",
      " 0.00000000e+00 0.00000000e+00 0.00000000e+00 0.00000000e+00\n",
      " 0.00000000e+00 0.00000000e+00 0.00000000e+00 0.00000000e+00\n",
      " 0.00000000e+00 0.00000000e+00 0.00000000e+00 0.00000000e+00\n",
      " 0.00000000e+00 0.00000000e+00 3.51365406e-07 0.00000000e+00\n",
      " 0.00000000e+00 0.00000000e+00 0.00000000e+00 6.11375806e-05\n",
      " 8.19665219e-03 2.72905511e-03 0.00000000e+00 0.00000000e+00\n",
      " 0.00000000e+00 2.81092325e-06 5.82739526e-03 6.32756391e-02\n",
      " 4.92333207e-03 0.00000000e+00 0.00000000e+00 0.00000000e+00\n",
      " 0.00000000e+00 5.67033492e-03 9.57470731e-04 1.05409622e-06\n",
      " 0.00000000e+00 0.00000000e+00 0.00000000e+00 0.00000000e+00\n",
      " 0.00000000e+00 0.00000000e+00 0.00000000e+00 0.00000000e+00\n",
      " 0.00000000e+00 0.00000000e+00 0.00000000e+00 0.00000000e+00\n",
      " 0.00000000e+00 0.00000000e+00 0.00000000e+00 0.00000000e+00\n",
      " 0.00000000e+00 0.00000000e+00 0.00000000e+00 0.00000000e+00\n",
      " 0.00000000e+00 0.00000000e+00 0.00000000e+00 0.00000000e+00\n",
      " 0.00000000e+00 0.00000000e+00 1.75682703e-06 1.22380571e-02\n",
      " 8.90008573e-04 0.00000000e+00 0.00000000e+00 0.00000000e+00\n",
      " 0.00000000e+00 1.21642704e-03 2.01396326e-01 6.16769265e-02\n",
      " 0.00000000e+00 0.00000000e+00 0.00000000e+00 0.00000000e+00\n",
      " 6.20402384e-02 1.14649478e-01 0.00000000e+00 0.00000000e+00\n",
      " 0.00000000e+00 0.00000000e+00 0.00000000e+00 0.00000000e+00\n",
      " 0.00000000e+00 0.00000000e+00 0.00000000e+00 0.00000000e+00\n",
      " 0.00000000e+00 0.00000000e+00 0.00000000e+00 0.00000000e+00\n",
      " 0.00000000e+00 0.00000000e+00 0.00000000e+00 0.00000000e+00\n",
      " 0.00000000e+00 0.00000000e+00 0.00000000e+00 0.00000000e+00\n",
      " 0.00000000e+00 0.00000000e+00 0.00000000e+00 0.00000000e+00\n",
      " 0.00000000e+00 1.05409622e-06 6.70556282e-02 1.02654214e-01\n",
      " 0.00000000e+00 0.00000000e+00 0.00000000e+00 0.00000000e+00\n",
      " 9.01080097e-02 5.44756925e-02 0.00000000e+00 0.00000000e+00\n",
      " 0.00000000e+00 0.00000000e+00 0.00000000e+00 0.00000000e+00\n",
      " 0.00000000e+00 0.00000000e+00 0.00000000e+00 0.00000000e+00\n",
      " 0.00000000e+00 0.00000000e+00 0.00000000e+00 0.00000000e+00\n",
      " 0.00000000e+00 0.00000000e+00 0.00000000e+00 0.00000000e+00\n",
      " 0.00000000e+00 0.00000000e+00 0.00000000e+00 0.00000000e+00\n",
      " 0.00000000e+00 0.00000000e+00 0.00000000e+00 0.00000000e+00\n",
      " 0.00000000e+00 0.00000000e+00 0.00000000e+00]\n"
     ]
    },
    {
     "name": "stderr",
     "output_type": "stream",
     "text": [
      "progress-bar: 100%|████████████████████████████████████████████████████████████████████████████████████████████████████████████████████████████████████████████| 1/1 [00:00<00:00,  1.77it/s]\n",
      "192.168.1.112 - - [04/Oct/2020 16:45:42] \"\u001b[37mPOST /hazard/predict HTTP/1.1\u001b[0m\" 200 -\n"
     ]
    },
    {
     "name": "stdout",
     "output_type": "stream",
     "text": [
      "  index                                               path is_hurricane  \\\n",
      "0   123  img/modis_hazard_50f727cfeecd4ffa87417d5e81122...        False   \n",
      "\n",
      "                                      color_features data_split  \n",
      "0  [0.00023857711065199366, 0.0, 0.0, 0.0, 0.0, 0...    predict  \n",
      "Probability of hurricane:\n",
      "[0.115]\n",
      "Response:  {'latitude': 54.72252547363321, 'longitude': -144.03734999999998, 'predicted': [{'hazardType': 'hurricane', 'probability': 0.115}]}\n"
     ]
    },
    {
     "name": "stderr",
     "output_type": "stream",
     "text": [
      "192.168.1.112 - - [04/Oct/2020 16:45:49] \"\u001b[37mOPTIONS /hazard/predict HTTP/1.1\u001b[0m\" 200 -\n"
     ]
    },
    {
     "name": "stdout",
     "output_type": "stream",
     "text": [
      "Request received: \n",
      "{'latitude': 25.24141522710591, 'longitude': 179.57593125000005, 'predict': ['hurricane']}\n",
      "Calculating Square Shape...\n",
      "Shape:  {'lower_latitude': 20.24141522710591, 'left_longitude': 174.57593125000005, 'higher_latitude': 30.24141522710591, 'right_longitude': 184.57593125000005}\n",
      "Retrieve & download the MODIS image based on (X,Y,Z,K) parameters\n",
      "2008 2220\n",
      "Image PATH:  img/modis_hazard_60c28b750e09493aa7bf6194406f4cfb.png  \n",
      "\n",
      "Predict if in the image is an Hurricane\n",
      "img/modis_hazard_60c28b750e09493aa7bf6194406f4cfb.png\n",
      "0    img/modis_hazard_60c28b750e09493aa7bf6194406f4...\n",
      "Name: path, dtype: object\n"
     ]
    },
    {
     "name": "stderr",
     "output_type": "stream",
     "text": [
      "\r",
      "progress-bar:   0%|                                                                                                                                                    | 0/1 [00:00<?, ?it/s]"
     ]
    },
    {
     "name": "stdout",
     "output_type": "stream",
     "text": [
      "[4.82702523e-01 0.00000000e+00 0.00000000e+00 0.00000000e+00\n",
      " 0.00000000e+00 0.00000000e+00 0.00000000e+00 0.00000000e+00\n",
      " 0.00000000e+00 0.00000000e+00 0.00000000e+00 1.06611841e-02\n",
      " 0.00000000e+00 0.00000000e+00 0.00000000e+00 0.00000000e+00\n",
      " 2.17275044e-02 1.21204372e-03 0.00000000e+00 0.00000000e+00\n",
      " 0.00000000e+00 0.00000000e+00 0.00000000e+00 0.00000000e+00\n",
      " 0.00000000e+00 0.00000000e+00 0.00000000e+00 0.00000000e+00\n",
      " 0.00000000e+00 0.00000000e+00 0.00000000e+00 0.00000000e+00\n",
      " 0.00000000e+00 0.00000000e+00 0.00000000e+00 0.00000000e+00\n",
      " 0.00000000e+00 0.00000000e+00 0.00000000e+00 0.00000000e+00\n",
      " 0.00000000e+00 0.00000000e+00 0.00000000e+00 0.00000000e+00\n",
      " 0.00000000e+00 0.00000000e+00 1.65598866e-01 1.97460159e-02\n",
      " 0.00000000e+00 0.00000000e+00 0.00000000e+00 0.00000000e+00\n",
      " 5.12385144e-02 3.96443505e-02 1.12163957e-06 0.00000000e+00\n",
      " 0.00000000e+00 0.00000000e+00 7.40282115e-06 6.05685367e-06\n",
      " 7.38038836e-05 0.00000000e+00 0.00000000e+00 0.00000000e+00\n",
      " 0.00000000e+00 0.00000000e+00 0.00000000e+00 0.00000000e+00\n",
      " 0.00000000e+00 0.00000000e+00 0.00000000e+00 0.00000000e+00\n",
      " 0.00000000e+00 0.00000000e+00 0.00000000e+00 0.00000000e+00\n",
      " 0.00000000e+00 0.00000000e+00 0.00000000e+00 0.00000000e+00\n",
      " 0.00000000e+00 0.00000000e+00 7.02146369e-04 5.47360109e-04\n",
      " 0.00000000e+00 0.00000000e+00 0.00000000e+00 0.00000000e+00\n",
      " 1.94312839e-03 1.40902606e-02 5.52676681e-03 0.00000000e+00\n",
      " 0.00000000e+00 0.00000000e+00 2.24327914e-07 1.24676968e-02\n",
      " 2.75005833e-02 6.13536844e-04 0.00000000e+00 0.00000000e+00\n",
      " 0.00000000e+00 0.00000000e+00 1.01463515e-03 5.00699903e-04\n",
      " 0.00000000e+00 0.00000000e+00 0.00000000e+00 0.00000000e+00\n",
      " 0.00000000e+00 0.00000000e+00 0.00000000e+00 0.00000000e+00\n",
      " 0.00000000e+00 0.00000000e+00 0.00000000e+00 0.00000000e+00\n",
      " 0.00000000e+00 0.00000000e+00 0.00000000e+00 0.00000000e+00\n",
      " 0.00000000e+00 0.00000000e+00 0.00000000e+00 0.00000000e+00\n",
      " 0.00000000e+00 1.79462331e-06 3.63411220e-05 0.00000000e+00\n",
      " 0.00000000e+00 0.00000000e+00 0.00000000e+00 1.52991637e-04\n",
      " 1.18979039e-02 2.48488030e-03 0.00000000e+00 0.00000000e+00\n",
      " 0.00000000e+00 0.00000000e+00 5.87739134e-03 4.93299325e-02\n",
      " 2.23228707e-03 0.00000000e+00 0.00000000e+00 0.00000000e+00\n",
      " 0.00000000e+00 2.92546032e-03 3.05983274e-04 2.24327914e-07\n",
      " 0.00000000e+00 0.00000000e+00 0.00000000e+00 0.00000000e+00\n",
      " 0.00000000e+00 0.00000000e+00 0.00000000e+00 0.00000000e+00\n",
      " 0.00000000e+00 0.00000000e+00 0.00000000e+00 0.00000000e+00\n",
      " 0.00000000e+00 0.00000000e+00 0.00000000e+00 0.00000000e+00\n",
      " 0.00000000e+00 0.00000000e+00 0.00000000e+00 0.00000000e+00\n",
      " 4.48655827e-07 6.72983741e-07 0.00000000e+00 0.00000000e+00\n",
      " 0.00000000e+00 0.00000000e+00 6.28118158e-06 6.54835613e-03\n",
      " 3.24378163e-04 0.00000000e+00 0.00000000e+00 0.00000000e+00\n",
      " 0.00000000e+00 7.28617063e-04 3.79749022e-02 3.60809016e-03\n",
      " 0.00000000e+00 0.00000000e+00 0.00000000e+00 0.00000000e+00\n",
      " 3.66394781e-03 4.15746922e-03 0.00000000e+00 0.00000000e+00\n",
      " 0.00000000e+00 0.00000000e+00 0.00000000e+00 0.00000000e+00\n",
      " 0.00000000e+00 0.00000000e+00 0.00000000e+00 0.00000000e+00\n",
      " 0.00000000e+00 0.00000000e+00 0.00000000e+00 0.00000000e+00\n",
      " 0.00000000e+00 0.00000000e+00 0.00000000e+00 0.00000000e+00\n",
      " 0.00000000e+00 0.00000000e+00 0.00000000e+00 2.24327914e-07\n",
      " 1.12163957e-06 0.00000000e+00 0.00000000e+00 0.00000000e+00\n",
      " 0.00000000e+00 2.91626288e-06 3.29201213e-03 2.86062955e-03\n",
      " 0.00000000e+00 0.00000000e+00 0.00000000e+00 0.00000000e+00\n",
      " 2.68901870e-03 1.36929758e-03 0.00000000e+00 0.00000000e+00\n",
      " 0.00000000e+00 0.00000000e+00 0.00000000e+00 0.00000000e+00\n",
      " 0.00000000e+00 0.00000000e+00 0.00000000e+00 0.00000000e+00\n",
      " 0.00000000e+00 0.00000000e+00 0.00000000e+00 0.00000000e+00\n",
      " 0.00000000e+00 0.00000000e+00 0.00000000e+00 0.00000000e+00\n",
      " 0.00000000e+00 0.00000000e+00 0.00000000e+00 0.00000000e+00\n",
      " 0.00000000e+00 0.00000000e+00 0.00000000e+00 0.00000000e+00\n",
      " 0.00000000e+00 0.00000000e+00 0.00000000e+00]\n"
     ]
    },
    {
     "name": "stderr",
     "output_type": "stream",
     "text": [
      "progress-bar: 100%|████████████████████████████████████████████████████████████████████████████████████████████████████████████████████████████████████████████| 1/1 [00:00<00:00,  2.82it/s]\n",
      "192.168.1.112 - - [04/Oct/2020 16:46:00] \"\u001b[37mPOST /hazard/predict HTTP/1.1\u001b[0m\" 200 -\n"
     ]
    },
    {
     "name": "stdout",
     "output_type": "stream",
     "text": [
      "  index                                               path is_hurricane  \\\n",
      "0   123  img/modis_hazard_60c28b750e09493aa7bf6194406f4...        False   \n",
      "\n",
      "                                      color_features data_split  \n",
      "0  [0.48270252324037183, 0.0, 0.0, 0.0, 0.0, 0.0,...    predict  \n",
      "Probability of hurricane:\n",
      "[0.04]\n",
      "Response:  {'latitude': 25.24141522710591, 'longitude': 179.57593125000005, 'predicted': [{'hazardType': 'hurricane', 'probability': 0.04}]}\n"
     ]
    },
    {
     "name": "stderr",
     "output_type": "stream",
     "text": [
      "192.168.1.112 - - [04/Oct/2020 16:54:56] \"\u001b[37mOPTIONS /hazard/predict HTTP/1.1\u001b[0m\" 200 -\n"
     ]
    },
    {
     "name": "stdout",
     "output_type": "stream",
     "text": [
      "Request received: \n",
      "{'latitude': 49.09307708680106, 'longitude': -52.67720279645756, 'predict': ['hurricane']}\n",
      "Calculating Square Shape...\n",
      "Shape:  {'lower_latitude': 44.09307708680106, 'left_longitude': -57.67720279645756, 'higher_latitude': 54.09307708680106, 'right_longitude': -47.67720279645756}\n",
      "Retrieve & download the MODIS image based on (X,Y,Z,K) parameters\n",
      "1453 2220\n",
      "Image PATH:  img/modis_hazard_852df1bb07c64380b6f720b90f25ae5d.png  \n",
      "\n",
      "Predict if in the image is an Hurricane\n",
      "img/modis_hazard_852df1bb07c64380b6f720b90f25ae5d.png\n",
      "0    img/modis_hazard_852df1bb07c64380b6f720b90f25a...\n",
      "Name: path, dtype: object\n"
     ]
    },
    {
     "name": "stderr",
     "output_type": "stream",
     "text": [
      "\r",
      "progress-bar:   0%|                                                                                                                                                    | 0/1 [00:00<?, ?it/s]"
     ]
    },
    {
     "name": "stdout",
     "output_type": "stream",
     "text": [
      "[6.66437256e-03 0.00000000e+00 0.00000000e+00 0.00000000e+00\n",
      " 0.00000000e+00 0.00000000e+00 0.00000000e+00 0.00000000e+00\n",
      " 0.00000000e+00 0.00000000e+00 0.00000000e+00 6.51401574e-03\n",
      " 0.00000000e+00 0.00000000e+00 0.00000000e+00 0.00000000e+00\n",
      " 1.33253350e-02 5.67728775e-03 4.65021112e-06 0.00000000e+00\n",
      " 0.00000000e+00 0.00000000e+00 0.00000000e+00 9.30042224e-07\n",
      " 0.00000000e+00 0.00000000e+00 0.00000000e+00 0.00000000e+00\n",
      " 0.00000000e+00 0.00000000e+00 0.00000000e+00 0.00000000e+00\n",
      " 0.00000000e+00 0.00000000e+00 0.00000000e+00 0.00000000e+00\n",
      " 0.00000000e+00 0.00000000e+00 0.00000000e+00 0.00000000e+00\n",
      " 0.00000000e+00 0.00000000e+00 0.00000000e+00 0.00000000e+00\n",
      " 0.00000000e+00 0.00000000e+00 2.05065010e-02 7.02429890e-03\n",
      " 0.00000000e+00 0.00000000e+00 0.00000000e+00 0.00000000e+00\n",
      " 2.09600516e-02 3.54891712e-02 5.54925194e-05 0.00000000e+00\n",
      " 0.00000000e+00 0.00000000e+00 8.37038002e-06 1.29895897e-04\n",
      " 1.65020492e-03 3.10014075e-07 0.00000000e+00 0.00000000e+00\n",
      " 0.00000000e+00 0.00000000e+00 0.00000000e+00 0.00000000e+00\n",
      " 0.00000000e+00 0.00000000e+00 0.00000000e+00 0.00000000e+00\n",
      " 0.00000000e+00 0.00000000e+00 0.00000000e+00 0.00000000e+00\n",
      " 0.00000000e+00 0.00000000e+00 0.00000000e+00 0.00000000e+00\n",
      " 0.00000000e+00 0.00000000e+00 2.01509149e-05 3.41015482e-05\n",
      " 0.00000000e+00 0.00000000e+00 0.00000000e+00 0.00000000e+00\n",
      " 4.51070479e-04 3.60267356e-03 2.02625199e-03 0.00000000e+00\n",
      " 0.00000000e+00 0.00000000e+00 0.00000000e+00 8.27024547e-03\n",
      " 3.30809819e-02 2.45438143e-03 0.00000000e+00 0.00000000e+00\n",
      " 0.00000000e+00 0.00000000e+00 4.15635870e-03 3.00217630e-03\n",
      " 0.00000000e+00 0.00000000e+00 0.00000000e+00 0.00000000e+00\n",
      " 0.00000000e+00 0.00000000e+00 0.00000000e+00 0.00000000e+00\n",
      " 0.00000000e+00 0.00000000e+00 0.00000000e+00 0.00000000e+00\n",
      " 0.00000000e+00 0.00000000e+00 0.00000000e+00 0.00000000e+00\n",
      " 0.00000000e+00 0.00000000e+00 0.00000000e+00 0.00000000e+00\n",
      " 0.00000000e+00 0.00000000e+00 9.30042224e-07 0.00000000e+00\n",
      " 0.00000000e+00 0.00000000e+00 0.00000000e+00 3.16214356e-05\n",
      " 6.99112740e-03 3.19066486e-03 0.00000000e+00 0.00000000e+00\n",
      " 0.00000000e+00 3.10014075e-07 6.68452348e-03 9.01179914e-02\n",
      " 7.13311384e-03 0.00000000e+00 0.00000000e+00 0.00000000e+00\n",
      " 0.00000000e+00 9.39156638e-03 1.32407011e-03 3.10014075e-07\n",
      " 0.00000000e+00 0.00000000e+00 0.00000000e+00 0.00000000e+00\n",
      " 0.00000000e+00 0.00000000e+00 0.00000000e+00 0.00000000e+00\n",
      " 0.00000000e+00 0.00000000e+00 0.00000000e+00 0.00000000e+00\n",
      " 0.00000000e+00 0.00000000e+00 0.00000000e+00 0.00000000e+00\n",
      " 0.00000000e+00 0.00000000e+00 0.00000000e+00 0.00000000e+00\n",
      " 0.00000000e+00 0.00000000e+00 0.00000000e+00 0.00000000e+00\n",
      " 0.00000000e+00 0.00000000e+00 6.20028149e-07 9.96912260e-03\n",
      " 1.01808622e-03 3.10014075e-07 0.00000000e+00 0.00000000e+00\n",
      " 0.00000000e+00 1.33740072e-03 1.95662283e-01 5.50870210e-02\n",
      " 0.00000000e+00 0.00000000e+00 0.00000000e+00 0.00000000e+00\n",
      " 5.77379513e-02 1.07684319e-01 0.00000000e+00 0.00000000e+00\n",
      " 0.00000000e+00 0.00000000e+00 0.00000000e+00 0.00000000e+00\n",
      " 0.00000000e+00 0.00000000e+00 0.00000000e+00 0.00000000e+00\n",
      " 0.00000000e+00 0.00000000e+00 0.00000000e+00 0.00000000e+00\n",
      " 0.00000000e+00 0.00000000e+00 0.00000000e+00 0.00000000e+00\n",
      " 0.00000000e+00 0.00000000e+00 0.00000000e+00 0.00000000e+00\n",
      " 3.10014075e-07 0.00000000e+00 0.00000000e+00 0.00000000e+00\n",
      " 0.00000000e+00 3.10014075e-07 5.51381733e-02 8.93550467e-02\n",
      " 0.00000000e+00 0.00000000e+00 0.00000000e+00 0.00000000e+00\n",
      " 8.09335144e-02 4.61000229e-02 0.00000000e+00 0.00000000e+00\n",
      " 0.00000000e+00 0.00000000e+00 0.00000000e+00 0.00000000e+00\n",
      " 0.00000000e+00 0.00000000e+00 0.00000000e+00 0.00000000e+00\n",
      " 0.00000000e+00 0.00000000e+00 0.00000000e+00 0.00000000e+00\n",
      " 0.00000000e+00 0.00000000e+00 0.00000000e+00 0.00000000e+00\n",
      " 0.00000000e+00 0.00000000e+00 0.00000000e+00 0.00000000e+00\n",
      " 0.00000000e+00 0.00000000e+00 0.00000000e+00 0.00000000e+00\n",
      " 0.00000000e+00 0.00000000e+00 0.00000000e+00]\n"
     ]
    },
    {
     "name": "stderr",
     "output_type": "stream",
     "text": [
      "progress-bar: 100%|████████████████████████████████████████████████████████████████████████████████████████████████████████████████████████████████████████████| 1/1 [00:00<00:00,  3.25it/s]\n",
      "192.168.1.112 - - [04/Oct/2020 16:55:05] \"\u001b[37mPOST /hazard/predict HTTP/1.1\u001b[0m\" 200 -\n"
     ]
    },
    {
     "name": "stdout",
     "output_type": "stream",
     "text": [
      "  index                                               path is_hurricane  \\\n",
      "0   123  img/modis_hazard_852df1bb07c64380b6f720b90f25a...        False   \n",
      "\n",
      "                                      color_features data_split  \n",
      "0  [0.006664372562514338, 0.0, 0.0, 0.0, 0.0, 0.0...    predict  \n",
      "Probability of hurricane:\n",
      "[0.205]\n",
      "Response:  {'latitude': 49.09307708680106, 'longitude': -52.67720279645756, 'predicted': [{'hazardType': 'hurricane', 'probability': 0.205}]}\n"
     ]
    },
    {
     "name": "stderr",
     "output_type": "stream",
     "text": [
      "192.168.1.112 - - [04/Oct/2020 16:55:34] \"\u001b[37mOPTIONS /hazard/predict HTTP/1.1\u001b[0m\" 200 -\n"
     ]
    },
    {
     "name": "stdout",
     "output_type": "stream",
     "text": [
      "Request received: \n",
      "{'latitude': 53.48312588786028, 'longitude': 2.0199475624767205, 'predict': ['hurricane']}\n",
      "Calculating Square Shape...\n",
      "Shape:  {'lower_latitude': 48.48312588786028, 'left_longitude': -2.9800524375232795, 'higher_latitude': 58.48312588786028, 'right_longitude': 7.0199475624767205}\n",
      "Retrieve & download the MODIS image based on (X,Y,Z,K) parameters\n",
      "1321 2220\n",
      "Image PATH:  img/modis_hazard_eef20bc8d3484957ab21cabe0c2533ec.png  \n",
      "\n",
      "Predict if in the image is an Hurricane\n",
      "img/modis_hazard_eef20bc8d3484957ab21cabe0c2533ec.png\n",
      "0    img/modis_hazard_eef20bc8d3484957ab21cabe0c253...\n",
      "Name: path, dtype: object\n"
     ]
    },
    {
     "name": "stderr",
     "output_type": "stream",
     "text": [
      "\r",
      "progress-bar:   0%|                                                                                                                                                    | 0/1 [00:00<?, ?it/s]"
     ]
    },
    {
     "name": "stdout",
     "output_type": "stream",
     "text": [
      "[9.52049703e-04 0.00000000e+00 0.00000000e+00 0.00000000e+00\n",
      " 0.00000000e+00 0.00000000e+00 0.00000000e+00 0.00000000e+00\n",
      " 0.00000000e+00 0.00000000e+00 0.00000000e+00 1.00490347e-03\n",
      " 0.00000000e+00 0.00000000e+00 0.00000000e+00 0.00000000e+00\n",
      " 3.11121114e-03 1.41818579e-03 7.84281632e-06 0.00000000e+00\n",
      " 0.00000000e+00 0.00000000e+00 3.40992014e-07 3.95550736e-05\n",
      " 0.00000000e+00 0.00000000e+00 0.00000000e+00 0.00000000e+00\n",
      " 0.00000000e+00 0.00000000e+00 0.00000000e+00 0.00000000e+00\n",
      " 0.00000000e+00 0.00000000e+00 0.00000000e+00 0.00000000e+00\n",
      " 0.00000000e+00 0.00000000e+00 0.00000000e+00 0.00000000e+00\n",
      " 0.00000000e+00 0.00000000e+00 0.00000000e+00 0.00000000e+00\n",
      " 0.00000000e+00 0.00000000e+00 4.09190417e-03 1.22995819e-03\n",
      " 0.00000000e+00 0.00000000e+00 0.00000000e+00 0.00000000e+00\n",
      " 6.37586868e-03 1.02266915e-02 1.53446406e-05 0.00000000e+00\n",
      " 0.00000000e+00 0.00000000e+00 8.21790754e-05 9.19655462e-04\n",
      " 2.86330994e-03 1.50036486e-05 0.00000000e+00 0.00000000e+00\n",
      " 0.00000000e+00 0.00000000e+00 9.88876841e-06 2.38694410e-06\n",
      " 0.00000000e+00 0.00000000e+00 0.00000000e+00 0.00000000e+00\n",
      " 0.00000000e+00 0.00000000e+00 0.00000000e+00 0.00000000e+00\n",
      " 0.00000000e+00 0.00000000e+00 0.00000000e+00 0.00000000e+00\n",
      " 0.00000000e+00 0.00000000e+00 0.00000000e+00 0.00000000e+00\n",
      " 0.00000000e+00 0.00000000e+00 0.00000000e+00 0.00000000e+00\n",
      " 3.23942413e-05 6.89826844e-04 8.03036193e-04 0.00000000e+00\n",
      " 0.00000000e+00 0.00000000e+00 1.36396806e-06 5.06680034e-03\n",
      " 1.79781220e-02 1.05741624e-03 0.00000000e+00 0.00000000e+00\n",
      " 0.00000000e+00 1.67086087e-05 2.72486718e-03 2.11994735e-03\n",
      " 0.00000000e+00 0.00000000e+00 0.00000000e+00 0.00000000e+00\n",
      " 0.00000000e+00 0.00000000e+00 0.00000000e+00 0.00000000e+00\n",
      " 0.00000000e+00 0.00000000e+00 0.00000000e+00 0.00000000e+00\n",
      " 0.00000000e+00 0.00000000e+00 0.00000000e+00 0.00000000e+00\n",
      " 0.00000000e+00 0.00000000e+00 0.00000000e+00 0.00000000e+00\n",
      " 0.00000000e+00 0.00000000e+00 1.12527365e-05 0.00000000e+00\n",
      " 0.00000000e+00 0.00000000e+00 0.00000000e+00 1.32986885e-04\n",
      " 4.25830827e-03 1.36226310e-03 0.00000000e+00 0.00000000e+00\n",
      " 0.00000000e+00 2.38694410e-06 4.09463210e-03 4.88968908e-02\n",
      " 5.35562057e-03 0.00000000e+00 0.00000000e+00 0.00000000e+00\n",
      " 3.40992014e-07 6.12182963e-03 1.44887507e-03 1.02297604e-06\n",
      " 0.00000000e+00 0.00000000e+00 0.00000000e+00 0.00000000e+00\n",
      " 0.00000000e+00 0.00000000e+00 0.00000000e+00 0.00000000e+00\n",
      " 0.00000000e+00 0.00000000e+00 0.00000000e+00 0.00000000e+00\n",
      " 0.00000000e+00 0.00000000e+00 0.00000000e+00 0.00000000e+00\n",
      " 0.00000000e+00 0.00000000e+00 0.00000000e+00 0.00000000e+00\n",
      " 0.00000000e+00 0.00000000e+00 0.00000000e+00 0.00000000e+00\n",
      " 0.00000000e+00 0.00000000e+00 1.36396806e-06 5.35186966e-03\n",
      " 4.17374225e-04 0.00000000e+00 0.00000000e+00 0.00000000e+00\n",
      " 0.00000000e+00 7.27676958e-04 1.21548990e-01 3.85696067e-02\n",
      " 0.00000000e+00 0.00000000e+00 0.00000000e+00 3.40992014e-07\n",
      " 3.95400700e-02 1.58655059e-01 0.00000000e+00 0.00000000e+00\n",
      " 0.00000000e+00 0.00000000e+00 0.00000000e+00 0.00000000e+00\n",
      " 0.00000000e+00 0.00000000e+00 0.00000000e+00 0.00000000e+00\n",
      " 0.00000000e+00 0.00000000e+00 0.00000000e+00 0.00000000e+00\n",
      " 0.00000000e+00 0.00000000e+00 0.00000000e+00 0.00000000e+00\n",
      " 0.00000000e+00 0.00000000e+00 0.00000000e+00 0.00000000e+00\n",
      " 0.00000000e+00 0.00000000e+00 0.00000000e+00 0.00000000e+00\n",
      " 0.00000000e+00 3.40992014e-07 3.88089831e-02 1.37188248e-01\n",
      " 0.00000000e+00 0.00000000e+00 0.00000000e+00 0.00000000e+00\n",
      " 1.23986742e-01 2.00660161e-01 0.00000000e+00 0.00000000e+00\n",
      " 0.00000000e+00 0.00000000e+00 0.00000000e+00 0.00000000e+00\n",
      " 0.00000000e+00 0.00000000e+00 0.00000000e+00 0.00000000e+00\n",
      " 0.00000000e+00 0.00000000e+00 0.00000000e+00 0.00000000e+00\n",
      " 0.00000000e+00 0.00000000e+00 0.00000000e+00 0.00000000e+00\n",
      " 0.00000000e+00 0.00000000e+00 0.00000000e+00 0.00000000e+00\n",
      " 0.00000000e+00 0.00000000e+00 0.00000000e+00 0.00000000e+00\n",
      " 0.00000000e+00 0.00000000e+00 0.00000000e+00]\n"
     ]
    },
    {
     "name": "stderr",
     "output_type": "stream",
     "text": [
      "progress-bar: 100%|████████████████████████████████████████████████████████████████████████████████████████████████████████████████████████████████████████████| 1/1 [00:00<00:00,  3.00it/s]\n",
      "192.168.1.112 - - [04/Oct/2020 16:55:42] \"\u001b[37mPOST /hazard/predict HTTP/1.1\u001b[0m\" 200 -\n"
     ]
    },
    {
     "name": "stdout",
     "output_type": "stream",
     "text": [
      "  index                                               path is_hurricane  \\\n",
      "0   123  img/modis_hazard_eef20bc8d3484957ab21cabe0c253...        False   \n",
      "\n",
      "                                      color_features data_split  \n",
      "0  [0.0009520497029959559, 0.0, 0.0, 0.0, 0.0, 0....    predict  \n",
      "Probability of hurricane:\n",
      "[0.19]\n",
      "Response:  {'latitude': 53.48312588786028, 'longitude': 2.0199475624767205, 'predicted': [{'hazardType': 'hurricane', 'probability': 0.19}]}\n"
     ]
    },
    {
     "name": "stderr",
     "output_type": "stream",
     "text": [
      "192.168.1.112 - - [04/Oct/2020 16:55:43] \"\u001b[37mOPTIONS /hazard/predict HTTP/1.1\u001b[0m\" 200 -\n"
     ]
    },
    {
     "name": "stdout",
     "output_type": "stream",
     "text": [
      "Request received: \n",
      "{'latitude': 6.219714693009668, 'longitude': 85.51604131247672, 'predict': ['hurricane']}\n",
      "Calculating Square Shape...\n",
      "Shape:  {'lower_latitude': 1.219714693009668, 'left_longitude': 80.51604131247672, 'higher_latitude': 11.219714693009667, 'right_longitude': 90.51604131247672}\n",
      "Retrieve & download the MODIS image based on (X,Y,Z,K) parameters\n",
      "2206 2220\n",
      "Image PATH:  img/modis_hazard_618a77c4ee40404f9437216a7c33b71c.png  \n",
      "\n",
      "Predict if in the image is an Hurricane\n",
      "img/modis_hazard_618a77c4ee40404f9437216a7c33b71c.png\n",
      "0    img/modis_hazard_618a77c4ee40404f9437216a7c33b...\n",
      "Name: path, dtype: object\n"
     ]
    },
    {
     "name": "stderr",
     "output_type": "stream",
     "text": [
      "\r",
      "progress-bar:   0%|                                                                                                                                                    | 0/1 [00:00<?, ?it/s]"
     ]
    },
    {
     "name": "stdout",
     "output_type": "stream",
     "text": [
      "[1.24850530e-01 0.00000000e+00 0.00000000e+00 0.00000000e+00\n",
      " 0.00000000e+00 0.00000000e+00 0.00000000e+00 0.00000000e+00\n",
      " 0.00000000e+00 0.00000000e+00 0.00000000e+00 1.11367033e-03\n",
      " 0.00000000e+00 0.00000000e+00 0.00000000e+00 0.00000000e+00\n",
      " 1.78281182e-03 1.55942434e-03 1.10264390e-05 0.00000000e+00\n",
      " 0.00000000e+00 0.00000000e+00 1.83773983e-06 7.33053997e-05\n",
      " 2.04193314e-07 0.00000000e+00 0.00000000e+00 0.00000000e+00\n",
      " 0.00000000e+00 0.00000000e+00 0.00000000e+00 0.00000000e+00\n",
      " 0.00000000e+00 0.00000000e+00 0.00000000e+00 0.00000000e+00\n",
      " 0.00000000e+00 0.00000000e+00 0.00000000e+00 0.00000000e+00\n",
      " 0.00000000e+00 0.00000000e+00 0.00000000e+00 0.00000000e+00\n",
      " 0.00000000e+00 0.00000000e+00 4.46836229e-03 4.62477437e-03\n",
      " 0.00000000e+00 0.00000000e+00 0.00000000e+00 0.00000000e+00\n",
      " 1.47141702e-02 5.65807421e-02 2.59325509e-05 0.00000000e+00\n",
      " 0.00000000e+00 0.00000000e+00 1.67438517e-05 1.06895200e-03\n",
      " 5.07910449e-03 1.37013714e-04 0.00000000e+00 0.00000000e+00\n",
      " 0.00000000e+00 0.00000000e+00 1.28029208e-04 4.28805959e-05\n",
      " 0.00000000e+00 0.00000000e+00 0.00000000e+00 0.00000000e+00\n",
      " 0.00000000e+00 0.00000000e+00 0.00000000e+00 0.00000000e+00\n",
      " 0.00000000e+00 0.00000000e+00 0.00000000e+00 0.00000000e+00\n",
      " 0.00000000e+00 0.00000000e+00 9.82169840e-05 1.92554295e-04\n",
      " 0.00000000e+00 0.00000000e+00 0.00000000e+00 0.00000000e+00\n",
      " 1.91451651e-03 1.61210621e-02 7.39608602e-03 0.00000000e+00\n",
      " 0.00000000e+00 0.00000000e+00 0.00000000e+00 2.31010022e-02\n",
      " 5.95644148e-02 7.40404956e-03 0.00000000e+00 0.00000000e+00\n",
      " 0.00000000e+00 9.18869913e-06 1.14191027e-02 8.87444562e-03\n",
      " 3.67547965e-06 0.00000000e+00 0.00000000e+00 0.00000000e+00\n",
      " 0.00000000e+00 6.12579942e-07 0.00000000e+00 0.00000000e+00\n",
      " 0.00000000e+00 0.00000000e+00 0.00000000e+00 0.00000000e+00\n",
      " 0.00000000e+00 0.00000000e+00 0.00000000e+00 0.00000000e+00\n",
      " 0.00000000e+00 0.00000000e+00 0.00000000e+00 0.00000000e+00\n",
      " 0.00000000e+00 2.04193314e-07 2.26654578e-05 0.00000000e+00\n",
      " 0.00000000e+00 0.00000000e+00 0.00000000e+00 2.02968154e-04\n",
      " 1.76465904e-02 9.27303096e-03 4.08386628e-07 0.00000000e+00\n",
      " 0.00000000e+00 1.22515988e-06 1.48850800e-02 1.20316214e-01\n",
      " 1.21056006e-02 0.00000000e+00 0.00000000e+00 0.00000000e+00\n",
      " 0.00000000e+00 1.23686016e-02 2.74109105e-03 6.12579942e-07\n",
      " 0.00000000e+00 0.00000000e+00 0.00000000e+00 0.00000000e+00\n",
      " 4.08386628e-07 0.00000000e+00 0.00000000e+00 0.00000000e+00\n",
      " 0.00000000e+00 0.00000000e+00 0.00000000e+00 0.00000000e+00\n",
      " 0.00000000e+00 0.00000000e+00 0.00000000e+00 0.00000000e+00\n",
      " 0.00000000e+00 0.00000000e+00 0.00000000e+00 0.00000000e+00\n",
      " 0.00000000e+00 0.00000000e+00 0.00000000e+00 0.00000000e+00\n",
      " 0.00000000e+00 0.00000000e+00 4.08386628e-07 7.14268212e-03\n",
      " 1.25742243e-03 0.00000000e+00 0.00000000e+00 0.00000000e+00\n",
      " 0.00000000e+00 1.25333856e-03 1.08986548e-01 2.58964086e-02\n",
      " 0.00000000e+00 0.00000000e+00 0.00000000e+00 0.00000000e+00\n",
      " 2.62757998e-02 7.95604535e-02 0.00000000e+00 0.00000000e+00\n",
      " 0.00000000e+00 0.00000000e+00 0.00000000e+00 0.00000000e+00\n",
      " 0.00000000e+00 0.00000000e+00 0.00000000e+00 0.00000000e+00\n",
      " 0.00000000e+00 0.00000000e+00 0.00000000e+00 0.00000000e+00\n",
      " 0.00000000e+00 0.00000000e+00 0.00000000e+00 0.00000000e+00\n",
      " 0.00000000e+00 0.00000000e+00 0.00000000e+00 0.00000000e+00\n",
      " 0.00000000e+00 0.00000000e+00 0.00000000e+00 0.00000000e+00\n",
      " 0.00000000e+00 0.00000000e+00 2.18151969e-02 6.63779373e-02\n",
      " 0.00000000e+00 0.00000000e+00 0.00000000e+00 0.00000000e+00\n",
      " 5.85734647e-02 6.09171955e-02 0.00000000e+00 0.00000000e+00\n",
      " 0.00000000e+00 0.00000000e+00 0.00000000e+00 0.00000000e+00\n",
      " 0.00000000e+00 0.00000000e+00 0.00000000e+00 0.00000000e+00\n",
      " 0.00000000e+00 0.00000000e+00 0.00000000e+00 0.00000000e+00\n",
      " 0.00000000e+00 0.00000000e+00 0.00000000e+00 0.00000000e+00\n",
      " 0.00000000e+00 0.00000000e+00 0.00000000e+00 0.00000000e+00\n",
      " 0.00000000e+00 0.00000000e+00 0.00000000e+00 0.00000000e+00\n",
      " 0.00000000e+00 0.00000000e+00 0.00000000e+00]\n"
     ]
    },
    {
     "name": "stderr",
     "output_type": "stream",
     "text": [
      "progress-bar: 100%|████████████████████████████████████████████████████████████████████████████████████████████████████████████████████████████████████████████| 1/1 [00:00<00:00,  2.39it/s]\n",
      "192.168.1.112 - - [04/Oct/2020 16:55:55] \"\u001b[37mPOST /hazard/predict HTTP/1.1\u001b[0m\" 200 -\n"
     ]
    },
    {
     "name": "stdout",
     "output_type": "stream",
     "text": [
      "  index                                               path is_hurricane  \\\n",
      "0   123  img/modis_hazard_618a77c4ee40404f9437216a7c33b...        False   \n",
      "\n",
      "                                      color_features data_split  \n",
      "0  [0.12485053049422949, 0.0, 0.0, 0.0, 0.0, 0.0,...    predict  \n",
      "Probability of hurricane:\n",
      "[0.295]\n",
      "Response:  {'latitude': 6.219714693009668, 'longitude': 85.51604131247672, 'predicted': [{'hazardType': 'hurricane', 'probability': 0.295}]}\n"
     ]
    },
    {
     "name": "stderr",
     "output_type": "stream",
     "text": [
      "192.168.1.112 - - [04/Oct/2020 16:56:02] \"\u001b[37mOPTIONS /hazard/predict HTTP/1.1\u001b[0m\" 200 -\n"
     ]
    },
    {
     "name": "stdout",
     "output_type": "stream",
     "text": [
      "Request received: \n",
      "{'latitude': 46.73419416467364, 'longitude': -153.72223993752328, 'predict': ['hurricane']}\n",
      "Calculating Square Shape...\n",
      "Shape:  {'lower_latitude': 41.73419416467364, 'left_longitude': -158.72223993752328, 'higher_latitude': 51.73419416467364, 'right_longitude': -148.72223993752328}\n",
      "Retrieve & download the MODIS image based on (X,Y,Z,K) parameters\n",
      "1521 2220\n",
      "Image PATH:  img/modis_hazard_fd3f6f431b604440b26f12ce98d2e72b.png  \n",
      "\n",
      "Predict if in the image is an Hurricane\n",
      "img/modis_hazard_fd3f6f431b604440b26f12ce98d2e72b.png\n",
      "0    img/modis_hazard_fd3f6f431b604440b26f12ce98d2e...\n",
      "Name: path, dtype: object\n"
     ]
    },
    {
     "name": "stderr",
     "output_type": "stream",
     "text": [
      "\r",
      "progress-bar:   0%|                                                                                                                                                    | 0/1 [00:00<?, ?it/s]"
     ]
    },
    {
     "name": "stdout",
     "output_type": "stream",
     "text": [
      "[1.01195870e-03 0.00000000e+00 0.00000000e+00 0.00000000e+00\n",
      " 0.00000000e+00 0.00000000e+00 0.00000000e+00 0.00000000e+00\n",
      " 0.00000000e+00 0.00000000e+00 0.00000000e+00 1.81809028e-03\n",
      " 0.00000000e+00 0.00000000e+00 0.00000000e+00 0.00000000e+00\n",
      " 3.23193016e-03 1.02972795e-03 0.00000000e+00 0.00000000e+00\n",
      " 0.00000000e+00 0.00000000e+00 0.00000000e+00 0.00000000e+00\n",
      " 0.00000000e+00 0.00000000e+00 0.00000000e+00 0.00000000e+00\n",
      " 0.00000000e+00 0.00000000e+00 0.00000000e+00 0.00000000e+00\n",
      " 0.00000000e+00 0.00000000e+00 0.00000000e+00 0.00000000e+00\n",
      " 0.00000000e+00 0.00000000e+00 0.00000000e+00 0.00000000e+00\n",
      " 0.00000000e+00 0.00000000e+00 0.00000000e+00 0.00000000e+00\n",
      " 0.00000000e+00 0.00000000e+00 1.19898005e-02 5.11162050e-03\n",
      " 0.00000000e+00 0.00000000e+00 0.00000000e+00 0.00000000e+00\n",
      " 1.18429080e-02 1.43584413e-02 2.96154142e-07 0.00000000e+00\n",
      " 0.00000000e+00 0.00000000e+00 5.33077456e-06 1.48077071e-06\n",
      " 2.48769480e-05 0.00000000e+00 0.00000000e+00 0.00000000e+00\n",
      " 0.00000000e+00 0.00000000e+00 0.00000000e+00 0.00000000e+00\n",
      " 0.00000000e+00 0.00000000e+00 0.00000000e+00 0.00000000e+00\n",
      " 0.00000000e+00 0.00000000e+00 0.00000000e+00 0.00000000e+00\n",
      " 0.00000000e+00 0.00000000e+00 0.00000000e+00 0.00000000e+00\n",
      " 0.00000000e+00 0.00000000e+00 8.11462350e-05 5.83423660e-05\n",
      " 0.00000000e+00 0.00000000e+00 0.00000000e+00 0.00000000e+00\n",
      " 4.96946651e-04 3.81772305e-03 1.80239411e-03 0.00000000e+00\n",
      " 0.00000000e+00 0.00000000e+00 8.88462427e-07 5.65684027e-03\n",
      " 1.69965824e-02 8.96754743e-04 0.00000000e+00 0.00000000e+00\n",
      " 0.00000000e+00 2.96154142e-07 1.64987473e-03 8.77208570e-04\n",
      " 0.00000000e+00 0.00000000e+00 0.00000000e+00 0.00000000e+00\n",
      " 0.00000000e+00 0.00000000e+00 0.00000000e+00 0.00000000e+00\n",
      " 0.00000000e+00 0.00000000e+00 0.00000000e+00 0.00000000e+00\n",
      " 0.00000000e+00 0.00000000e+00 0.00000000e+00 0.00000000e+00\n",
      " 0.00000000e+00 0.00000000e+00 0.00000000e+00 0.00000000e+00\n",
      " 0.00000000e+00 5.92308285e-07 5.62692870e-06 0.00000000e+00\n",
      " 0.00000000e+00 0.00000000e+00 0.00000000e+00 6.04154450e-05\n",
      " 6.50384112e-03 2.06478668e-03 0.00000000e+00 0.00000000e+00\n",
      " 0.00000000e+00 0.00000000e+00 4.94103571e-03 8.41222880e-02\n",
      " 6.33059095e-03 0.00000000e+00 0.00000000e+00 0.00000000e+00\n",
      " 0.00000000e+00 1.04595720e-02 1.23466662e-03 0.00000000e+00\n",
      " 0.00000000e+00 0.00000000e+00 0.00000000e+00 0.00000000e+00\n",
      " 2.96154142e-07 0.00000000e+00 0.00000000e+00 0.00000000e+00\n",
      " 0.00000000e+00 0.00000000e+00 0.00000000e+00 0.00000000e+00\n",
      " 0.00000000e+00 0.00000000e+00 0.00000000e+00 0.00000000e+00\n",
      " 0.00000000e+00 0.00000000e+00 0.00000000e+00 0.00000000e+00\n",
      " 0.00000000e+00 0.00000000e+00 0.00000000e+00 0.00000000e+00\n",
      " 0.00000000e+00 0.00000000e+00 5.92308285e-07 1.97694736e-02\n",
      " 1.47070147e-03 0.00000000e+00 0.00000000e+00 0.00000000e+00\n",
      " 0.00000000e+00 1.94987887e-03 3.00142746e-01 5.66510297e-02\n",
      " 0.00000000e+00 0.00000000e+00 0.00000000e+00 0.00000000e+00\n",
      " 6.13092382e-02 9.68740930e-02 0.00000000e+00 0.00000000e+00\n",
      " 0.00000000e+00 0.00000000e+00 0.00000000e+00 0.00000000e+00\n",
      " 0.00000000e+00 0.00000000e+00 0.00000000e+00 0.00000000e+00\n",
      " 0.00000000e+00 0.00000000e+00 0.00000000e+00 0.00000000e+00\n",
      " 0.00000000e+00 0.00000000e+00 0.00000000e+00 0.00000000e+00\n",
      " 0.00000000e+00 0.00000000e+00 0.00000000e+00 0.00000000e+00\n",
      " 1.18461657e-06 0.00000000e+00 0.00000000e+00 0.00000000e+00\n",
      " 0.00000000e+00 0.00000000e+00 6.54719809e-02 8.12356735e-02\n",
      " 0.00000000e+00 0.00000000e+00 0.00000000e+00 0.00000000e+00\n",
      " 7.51535559e-02 4.14846799e-02 0.00000000e+00 0.00000000e+00\n",
      " 0.00000000e+00 0.00000000e+00 0.00000000e+00 0.00000000e+00\n",
      " 0.00000000e+00 0.00000000e+00 0.00000000e+00 0.00000000e+00\n",
      " 0.00000000e+00 0.00000000e+00 0.00000000e+00 0.00000000e+00\n",
      " 0.00000000e+00 0.00000000e+00 0.00000000e+00 0.00000000e+00\n",
      " 0.00000000e+00 0.00000000e+00 0.00000000e+00 0.00000000e+00\n",
      " 0.00000000e+00 0.00000000e+00 0.00000000e+00 0.00000000e+00\n",
      " 0.00000000e+00 0.00000000e+00 0.00000000e+00]\n"
     ]
    },
    {
     "name": "stderr",
     "output_type": "stream",
     "text": [
      "progress-bar: 100%|████████████████████████████████████████████████████████████████████████████████████████████████████████████████████████████████████████████| 1/1 [00:00<00:00,  2.89it/s]\n",
      "192.168.1.112 - - [04/Oct/2020 16:56:10] \"\u001b[37mPOST /hazard/predict HTTP/1.1\u001b[0m\" 200 -\n"
     ]
    },
    {
     "name": "stdout",
     "output_type": "stream",
     "text": [
      "  index                                               path is_hurricane  \\\n",
      "0   123  img/modis_hazard_fd3f6f431b604440b26f12ce98d2e...        False   \n",
      "\n",
      "                                      color_features data_split  \n",
      "0  [0.0010119587042663966, 0.0, 0.0, 0.0, 0.0, 0....    predict  \n",
      "Probability of hurricane:\n",
      "[0.06]\n",
      "Response:  {'latitude': 46.73419416467364, 'longitude': -153.72223993752328, 'predicted': [{'hazardType': 'hurricane', 'probability': 0.06}]}\n"
     ]
    },
    {
     "name": "stderr",
     "output_type": "stream",
     "text": [
      "192.168.1.112 - - [04/Oct/2020 16:56:14] \"\u001b[37mOPTIONS /hazard/predict HTTP/1.1\u001b[0m\" 200 -\n"
     ]
    },
    {
     "name": "stdout",
     "output_type": "stream",
     "text": [
      "Request received: \n",
      "{'latitude': -4.310835700109377, 'longitude': 7.6449475624767205, 'predict': ['hurricane']}\n",
      "Calculating Square Shape...\n",
      "Shape:  {'lower_latitude': -9.310835700109376, 'left_longitude': 2.6449475624767205, 'higher_latitude': 0.6891642998906233, 'right_longitude': 12.64494756247672}\n",
      "Retrieve & download the MODIS image based on (X,Y,Z,K) parameters\n",
      "2213 2220\n",
      "Image PATH:  img/modis_hazard_5ac34d007f1d403b9df1834184571896.png  \n",
      "\n",
      "Predict if in the image is an Hurricane\n",
      "img/modis_hazard_5ac34d007f1d403b9df1834184571896.png\n",
      "0    img/modis_hazard_5ac34d007f1d403b9df1834184571...\n",
      "Name: path, dtype: object\n"
     ]
    },
    {
     "name": "stderr",
     "output_type": "stream",
     "text": [
      "\r",
      "progress-bar:   0%|                                                                                                                                                    | 0/1 [00:00<?, ?it/s]"
     ]
    },
    {
     "name": "stdout",
     "output_type": "stream",
     "text": [
      "[1.72709990e-03 0.00000000e+00 0.00000000e+00 0.00000000e+00\n",
      " 0.00000000e+00 0.00000000e+00 0.00000000e+00 0.00000000e+00\n",
      " 0.00000000e+00 0.00000000e+00 0.00000000e+00 4.05873564e-03\n",
      " 0.00000000e+00 0.00000000e+00 0.00000000e+00 0.00000000e+00\n",
      " 6.80723652e-03 4.77094808e-03 0.00000000e+00 0.00000000e+00\n",
      " 0.00000000e+00 0.00000000e+00 7.53125471e-06 2.42221435e-05\n",
      " 0.00000000e+00 0.00000000e+00 0.00000000e+00 0.00000000e+00\n",
      " 0.00000000e+00 0.00000000e+00 0.00000000e+00 0.00000000e+00\n",
      " 0.00000000e+00 0.00000000e+00 0.00000000e+00 0.00000000e+00\n",
      " 0.00000000e+00 0.00000000e+00 0.00000000e+00 0.00000000e+00\n",
      " 0.00000000e+00 0.00000000e+00 0.00000000e+00 0.00000000e+00\n",
      " 0.00000000e+00 0.00000000e+00 2.51146990e-02 1.97386044e-02\n",
      " 2.03547425e-07 0.00000000e+00 0.00000000e+00 0.00000000e+00\n",
      " 4.39615621e-02 1.17777221e-01 4.92584767e-05 0.00000000e+00\n",
      " 0.00000000e+00 0.00000000e+00 1.99883571e-04 3.01677638e-03\n",
      " 2.71756166e-03 2.64611652e-06 0.00000000e+00 0.00000000e+00\n",
      " 0.00000000e+00 0.00000000e+00 2.23902167e-06 0.00000000e+00\n",
      " 0.00000000e+00 0.00000000e+00 0.00000000e+00 0.00000000e+00\n",
      " 0.00000000e+00 0.00000000e+00 0.00000000e+00 0.00000000e+00\n",
      " 0.00000000e+00 0.00000000e+00 0.00000000e+00 0.00000000e+00\n",
      " 0.00000000e+00 0.00000000e+00 2.48327858e-05 4.07094849e-05\n",
      " 0.00000000e+00 0.00000000e+00 0.00000000e+00 0.00000000e+00\n",
      " 4.84239323e-04 9.19484781e-03 8.38452551e-03 0.00000000e+00\n",
      " 0.00000000e+00 0.00000000e+00 0.00000000e+00 2.55423521e-02\n",
      " 1.27165643e-01 1.08175279e-02 0.00000000e+00 0.00000000e+00\n",
      " 0.00000000e+00 3.86740107e-06 1.48966183e-02 1.20206967e-02\n",
      " 2.23902167e-06 0.00000000e+00 0.00000000e+00 0.00000000e+00\n",
      " 0.00000000e+00 0.00000000e+00 0.00000000e+00 0.00000000e+00\n",
      " 0.00000000e+00 0.00000000e+00 0.00000000e+00 0.00000000e+00\n",
      " 0.00000000e+00 0.00000000e+00 0.00000000e+00 0.00000000e+00\n",
      " 0.00000000e+00 0.00000000e+00 0.00000000e+00 0.00000000e+00\n",
      " 0.00000000e+00 0.00000000e+00 1.62837940e-06 0.00000000e+00\n",
      " 0.00000000e+00 0.00000000e+00 0.00000000e+00 1.62837940e-05\n",
      " 2.46725940e-02 1.38646328e-02 0.00000000e+00 0.00000000e+00\n",
      " 0.00000000e+00 0.00000000e+00 1.99515150e-02 2.00358854e-01\n",
      " 1.33400911e-02 0.00000000e+00 0.00000000e+00 0.00000000e+00\n",
      " 6.10642274e-07 1.36163050e-02 2.48551760e-03 1.01773712e-06\n",
      " 0.00000000e+00 0.00000000e+00 0.00000000e+00 0.00000000e+00\n",
      " 8.14189698e-07 0.00000000e+00 0.00000000e+00 0.00000000e+00\n",
      " 0.00000000e+00 0.00000000e+00 0.00000000e+00 0.00000000e+00\n",
      " 0.00000000e+00 0.00000000e+00 0.00000000e+00 0.00000000e+00\n",
      " 0.00000000e+00 0.00000000e+00 0.00000000e+00 0.00000000e+00\n",
      " 0.00000000e+00 0.00000000e+00 0.00000000e+00 0.00000000e+00\n",
      " 0.00000000e+00 0.00000000e+00 0.00000000e+00 1.38925188e-02\n",
      " 1.37923735e-03 4.07094849e-07 0.00000000e+00 0.00000000e+00\n",
      " 0.00000000e+00 1.52660568e-03 1.56238932e-01 1.57918198e-02\n",
      " 0.00000000e+00 0.00000000e+00 0.00000000e+00 6.10642274e-07\n",
      " 1.45198520e-02 2.22361313e-02 0.00000000e+00 0.00000000e+00\n",
      " 0.00000000e+00 0.00000000e+00 0.00000000e+00 0.00000000e+00\n",
      " 0.00000000e+00 0.00000000e+00 0.00000000e+00 0.00000000e+00\n",
      " 0.00000000e+00 0.00000000e+00 0.00000000e+00 0.00000000e+00\n",
      " 0.00000000e+00 0.00000000e+00 0.00000000e+00 0.00000000e+00\n",
      " 0.00000000e+00 0.00000000e+00 0.00000000e+00 0.00000000e+00\n",
      " 4.07094849e-07 0.00000000e+00 0.00000000e+00 0.00000000e+00\n",
      " 0.00000000e+00 0.00000000e+00 1.09451521e-02 1.48143851e-02\n",
      " 0.00000000e+00 0.00000000e+00 0.00000000e+00 0.00000000e+00\n",
      " 1.22675997e-02 9.52194852e-03 0.00000000e+00 0.00000000e+00\n",
      " 0.00000000e+00 0.00000000e+00 0.00000000e+00 0.00000000e+00\n",
      " 0.00000000e+00 0.00000000e+00 0.00000000e+00 0.00000000e+00\n",
      " 0.00000000e+00 0.00000000e+00 0.00000000e+00 0.00000000e+00\n",
      " 0.00000000e+00 0.00000000e+00 0.00000000e+00 0.00000000e+00\n",
      " 0.00000000e+00 0.00000000e+00 0.00000000e+00 0.00000000e+00\n",
      " 0.00000000e+00 0.00000000e+00 0.00000000e+00 0.00000000e+00\n",
      " 0.00000000e+00 0.00000000e+00 0.00000000e+00]\n"
     ]
    },
    {
     "name": "stderr",
     "output_type": "stream",
     "text": [
      "progress-bar: 100%|████████████████████████████████████████████████████████████████████████████████████████████████████████████████████████████████████████████| 1/1 [00:00<00:00,  2.04it/s]\n",
      "192.168.1.112 - - [04/Oct/2020 16:56:27] \"\u001b[37mPOST /hazard/predict HTTP/1.1\u001b[0m\" 200 -\n"
     ]
    },
    {
     "name": "stdout",
     "output_type": "stream",
     "text": [
      "  index                                               path is_hurricane  \\\n",
      "0   123  img/modis_hazard_5ac34d007f1d403b9df1834184571...        False   \n",
      "\n",
      "                                      color_features data_split  \n",
      "0  [0.0017270998970050032, 0.0, 0.0, 0.0, 0.0, 0....    predict  \n",
      "Probability of hurricane:\n",
      "[0.295]\n",
      "Response:  {'latitude': -4.310835700109377, 'longitude': 7.6449475624767205, 'predicted': [{'hazardType': 'hurricane', 'probability': 0.295}]}\n"
     ]
    },
    {
     "name": "stderr",
     "output_type": "stream",
     "text": [
      "192.168.1.112 - - [04/Oct/2020 16:57:48] \"\u001b[37mOPTIONS /hazard/predict HTTP/1.1\u001b[0m\" 200 -\n"
     ]
    },
    {
     "name": "stdout",
     "output_type": "stream",
     "text": [
      "Request received: \n",
      "{'latitude': 59.57235386635971, 'longitude': -0.3603643377906973, 'predict': ['hurricane']}\n",
      "Calculating Square Shape...\n",
      "Shape:  {'lower_latitude': 54.57235386635971, 'left_longitude': -5.360364337790697, 'higher_latitude': 64.57235386635972, 'right_longitude': 4.639635662209303}\n",
      "Retrieve & download the MODIS image based on (X,Y,Z,K) parameters\n",
      "1124 2220\n",
      "Image PATH:  img/modis_hazard_413c8a31f61b411da5266fee063c3ded.png  \n",
      "\n",
      "Predict if in the image is an Hurricane\n",
      "img/modis_hazard_413c8a31f61b411da5266fee063c3ded.png\n",
      "0    img/modis_hazard_413c8a31f61b411da5266fee063c3...\n",
      "Name: path, dtype: object\n"
     ]
    },
    {
     "name": "stderr",
     "output_type": "stream",
     "text": [
      "\r",
      "progress-bar:   0%|                                                                                                                                                    | 0/1 [00:00<?, ?it/s]"
     ]
    },
    {
     "name": "stdout",
     "output_type": "stream",
     "text": [
      "[1.50283736e-04 0.00000000e+00 0.00000000e+00 0.00000000e+00\n",
      " 0.00000000e+00 0.00000000e+00 0.00000000e+00 0.00000000e+00\n",
      " 0.00000000e+00 0.00000000e+00 0.00000000e+00 8.39985893e-04\n",
      " 0.00000000e+00 0.00000000e+00 0.00000000e+00 0.00000000e+00\n",
      " 1.44472765e-03 1.28522651e-03 0.00000000e+00 0.00000000e+00\n",
      " 0.00000000e+00 0.00000000e+00 0.00000000e+00 0.00000000e+00\n",
      " 0.00000000e+00 0.00000000e+00 0.00000000e+00 0.00000000e+00\n",
      " 0.00000000e+00 0.00000000e+00 0.00000000e+00 0.00000000e+00\n",
      " 0.00000000e+00 0.00000000e+00 0.00000000e+00 0.00000000e+00\n",
      " 0.00000000e+00 0.00000000e+00 0.00000000e+00 0.00000000e+00\n",
      " 0.00000000e+00 0.00000000e+00 0.00000000e+00 0.00000000e+00\n",
      " 0.00000000e+00 0.00000000e+00 3.64648456e-03 4.30612997e-03\n",
      " 0.00000000e+00 0.00000000e+00 0.00000000e+00 0.00000000e+00\n",
      " 1.40529319e-02 4.70376070e-02 2.56484242e-05 0.00000000e+00\n",
      " 0.00000000e+00 0.00000000e+00 1.52287519e-05 7.05331666e-05\n",
      " 6.03138726e-04 0.00000000e+00 0.00000000e+00 0.00000000e+00\n",
      " 0.00000000e+00 0.00000000e+00 0.00000000e+00 0.00000000e+00\n",
      " 0.00000000e+00 0.00000000e+00 0.00000000e+00 0.00000000e+00\n",
      " 0.00000000e+00 0.00000000e+00 0.00000000e+00 0.00000000e+00\n",
      " 0.00000000e+00 0.00000000e+00 0.00000000e+00 0.00000000e+00\n",
      " 0.00000000e+00 0.00000000e+00 2.40453977e-06 9.21740246e-06\n",
      " 0.00000000e+00 0.00000000e+00 0.00000000e+00 0.00000000e+00\n",
      " 4.12779327e-04 3.31265429e-03 2.45743965e-03 0.00000000e+00\n",
      " 0.00000000e+00 0.00000000e+00 0.00000000e+00 9.91431823e-03\n",
      " 1.95933923e-02 6.81687025e-04 0.00000000e+00 0.00000000e+00\n",
      " 0.00000000e+00 1.20226989e-06 1.22912058e-03 7.39796736e-04\n",
      " 0.00000000e+00 0.00000000e+00 0.00000000e+00 0.00000000e+00\n",
      " 0.00000000e+00 0.00000000e+00 0.00000000e+00 0.00000000e+00\n",
      " 0.00000000e+00 0.00000000e+00 0.00000000e+00 0.00000000e+00\n",
      " 0.00000000e+00 0.00000000e+00 0.00000000e+00 0.00000000e+00\n",
      " 0.00000000e+00 0.00000000e+00 0.00000000e+00 0.00000000e+00\n",
      " 0.00000000e+00 0.00000000e+00 1.60302651e-06 0.00000000e+00\n",
      " 0.00000000e+00 0.00000000e+00 0.00000000e+00 4.64877689e-05\n",
      " 3.30223462e-03 1.29925299e-03 0.00000000e+00 0.00000000e+00\n",
      " 0.00000000e+00 1.60302651e-06 2.92712641e-03 4.68007598e-02\n",
      " 4.81829694e-03 0.00000000e+00 0.00000000e+00 0.00000000e+00\n",
      " 0.00000000e+00 5.02107980e-03 8.35978327e-04 0.00000000e+00\n",
      " 0.00000000e+00 0.00000000e+00 0.00000000e+00 0.00000000e+00\n",
      " 0.00000000e+00 0.00000000e+00 0.00000000e+00 0.00000000e+00\n",
      " 0.00000000e+00 0.00000000e+00 0.00000000e+00 0.00000000e+00\n",
      " 0.00000000e+00 0.00000000e+00 0.00000000e+00 0.00000000e+00\n",
      " 0.00000000e+00 0.00000000e+00 0.00000000e+00 0.00000000e+00\n",
      " 0.00000000e+00 0.00000000e+00 0.00000000e+00 0.00000000e+00\n",
      " 0.00000000e+00 0.00000000e+00 4.00756629e-07 6.65616684e-03\n",
      " 5.88711487e-04 0.00000000e+00 0.00000000e+00 0.00000000e+00\n",
      " 0.00000000e+00 7.98307204e-04 1.51739685e-01 4.68336219e-02\n",
      " 0.00000000e+00 0.00000000e+00 0.00000000e+00 0.00000000e+00\n",
      " 4.76603828e-02 1.47191097e-01 0.00000000e+00 0.00000000e+00\n",
      " 0.00000000e+00 0.00000000e+00 0.00000000e+00 0.00000000e+00\n",
      " 0.00000000e+00 0.00000000e+00 0.00000000e+00 0.00000000e+00\n",
      " 0.00000000e+00 0.00000000e+00 0.00000000e+00 0.00000000e+00\n",
      " 0.00000000e+00 0.00000000e+00 0.00000000e+00 0.00000000e+00\n",
      " 0.00000000e+00 0.00000000e+00 0.00000000e+00 0.00000000e+00\n",
      " 0.00000000e+00 0.00000000e+00 0.00000000e+00 0.00000000e+00\n",
      " 0.00000000e+00 0.00000000e+00 4.95006572e-02 1.28125501e-01\n",
      " 0.00000000e+00 0.00000000e+00 0.00000000e+00 0.00000000e+00\n",
      " 1.15336555e-01 1.28682553e-01 0.00000000e+00 0.00000000e+00\n",
      " 0.00000000e+00 0.00000000e+00 0.00000000e+00 0.00000000e+00\n",
      " 0.00000000e+00 0.00000000e+00 0.00000000e+00 0.00000000e+00\n",
      " 0.00000000e+00 0.00000000e+00 0.00000000e+00 0.00000000e+00\n",
      " 0.00000000e+00 0.00000000e+00 0.00000000e+00 0.00000000e+00\n",
      " 0.00000000e+00 0.00000000e+00 0.00000000e+00 0.00000000e+00\n",
      " 0.00000000e+00 0.00000000e+00 0.00000000e+00 0.00000000e+00\n",
      " 0.00000000e+00 0.00000000e+00 0.00000000e+00]\n"
     ]
    },
    {
     "name": "stderr",
     "output_type": "stream",
     "text": [
      "progress-bar: 100%|████████████████████████████████████████████████████████████████████████████████████████████████████████████████████████████████████████████| 1/1 [00:00<00:00,  4.37it/s]\n",
      "192.168.1.112 - - [04/Oct/2020 16:57:55] \"\u001b[37mPOST /hazard/predict HTTP/1.1\u001b[0m\" 200 -\n"
     ]
    },
    {
     "name": "stdout",
     "output_type": "stream",
     "text": [
      "  index                                               path is_hurricane  \\\n",
      "0   123  img/modis_hazard_413c8a31f61b411da5266fee063c3...        False   \n",
      "\n",
      "                                      color_features data_split  \n",
      "0  [0.00015028373569298835, 0.0, 0.0, 0.0, 0.0, 0...    predict  \n",
      "Probability of hurricane:\n",
      "[0.09]\n",
      "Response:  {'latitude': 59.57235386635971, 'longitude': -0.3603643377906973, 'predicted': [{'hazardType': 'hurricane', 'probability': 0.09}]}\n"
     ]
    },
    {
     "name": "stderr",
     "output_type": "stream",
     "text": [
      "192.168.1.112 - - [04/Oct/2020 16:58:00] \"\u001b[37mOPTIONS /hazard/predict HTTP/1.1\u001b[0m\" 200 -\n"
     ]
    },
    {
     "name": "stdout",
     "output_type": "stream",
     "text": [
      "Request received: \n",
      "{'latitude': 56.30942042530327, 'longitude': -11.786145587790697, 'predict': ['hurricane']}\n",
      "Calculating Square Shape...\n",
      "Shape:  {'lower_latitude': 51.30942042530327, 'left_longitude': -16.7861455877907, 'higher_latitude': 61.30942042530327, 'right_longitude': -6.786145587790697}\n",
      "Retrieve & download the MODIS image based on (X,Y,Z,K) parameters\n",
      "1231 2220\n",
      "Image PATH:  img/modis_hazard_70dc81d5dd0343afb9865c23b32a3e34.png  \n",
      "\n",
      "Predict if in the image is an Hurricane\n",
      "img/modis_hazard_70dc81d5dd0343afb9865c23b32a3e34.png\n",
      "0    img/modis_hazard_70dc81d5dd0343afb9865c23b32a3...\n",
      "Name: path, dtype: object\n"
     ]
    },
    {
     "name": "stderr",
     "output_type": "stream",
     "text": [
      "\r",
      "progress-bar:   0%|                                                                                                                                                    | 0/1 [00:00<?, ?it/s]"
     ]
    },
    {
     "name": "stdout",
     "output_type": "stream",
     "text": [
      "[1.37327010e-02 0.00000000e+00 0.00000000e+00 0.00000000e+00\n",
      " 0.00000000e+00 0.00000000e+00 0.00000000e+00 0.00000000e+00\n",
      " 0.00000000e+00 0.00000000e+00 0.00000000e+00 1.33755608e-02\n",
      " 0.00000000e+00 0.00000000e+00 0.00000000e+00 0.00000000e+00\n",
      " 2.53972087e-02 7.87684516e-03 4.75699095e-06 0.00000000e+00\n",
      " 0.00000000e+00 0.00000000e+00 6.58660285e-06 1.11606326e-04\n",
      " 0.00000000e+00 0.00000000e+00 0.00000000e+00 0.00000000e+00\n",
      " 0.00000000e+00 0.00000000e+00 0.00000000e+00 0.00000000e+00\n",
      " 0.00000000e+00 0.00000000e+00 0.00000000e+00 0.00000000e+00\n",
      " 0.00000000e+00 0.00000000e+00 0.00000000e+00 0.00000000e+00\n",
      " 0.00000000e+00 0.00000000e+00 0.00000000e+00 0.00000000e+00\n",
      " 0.00000000e+00 0.00000000e+00 5.65595246e-02 1.97550516e-02\n",
      " 3.65922381e-07 0.00000000e+00 0.00000000e+00 0.00000000e+00\n",
      " 4.46191114e-02 8.21320102e-02 2.08575757e-05 0.00000000e+00\n",
      " 0.00000000e+00 0.00000000e+00 3.43967038e-05 2.07295029e-03\n",
      " 3.17181519e-03 0.00000000e+00 0.00000000e+00 0.00000000e+00\n",
      " 0.00000000e+00 0.00000000e+00 5.12291333e-06 0.00000000e+00\n",
      " 0.00000000e+00 0.00000000e+00 0.00000000e+00 0.00000000e+00\n",
      " 0.00000000e+00 0.00000000e+00 0.00000000e+00 0.00000000e+00\n",
      " 0.00000000e+00 0.00000000e+00 0.00000000e+00 0.00000000e+00\n",
      " 0.00000000e+00 0.00000000e+00 2.89078681e-05 5.45224347e-05\n",
      " 0.00000000e+00 0.00000000e+00 0.00000000e+00 0.00000000e+00\n",
      " 5.08998031e-04 9.29808769e-03 7.04254214e-03 0.00000000e+00\n",
      " 0.00000000e+00 0.00000000e+00 0.00000000e+00 1.97001632e-02\n",
      " 7.32609539e-02 2.29323556e-03 0.00000000e+00 0.00000000e+00\n",
      " 0.00000000e+00 3.65922381e-07 5.21622353e-03 3.23402200e-03\n",
      " 0.00000000e+00 0.00000000e+00 0.00000000e+00 0.00000000e+00\n",
      " 0.00000000e+00 0.00000000e+00 0.00000000e+00 0.00000000e+00\n",
      " 0.00000000e+00 0.00000000e+00 0.00000000e+00 0.00000000e+00\n",
      " 0.00000000e+00 0.00000000e+00 0.00000000e+00 0.00000000e+00\n",
      " 0.00000000e+00 0.00000000e+00 0.00000000e+00 0.00000000e+00\n",
      " 0.00000000e+00 0.00000000e+00 1.82961190e-06 0.00000000e+00\n",
      " 0.00000000e+00 0.00000000e+00 0.00000000e+00 2.67123338e-05\n",
      " 1.63666103e-02 5.27184374e-03 0.00000000e+00 0.00000000e+00\n",
      " 0.00000000e+00 0.00000000e+00 1.15320438e-02 1.59806354e-01\n",
      " 8.31558610e-03 0.00000000e+00 0.00000000e+00 0.00000000e+00\n",
      " 0.00000000e+00 1.12802892e-02 1.44283195e-03 1.09776714e-06\n",
      " 0.00000000e+00 0.00000000e+00 0.00000000e+00 0.00000000e+00\n",
      " 3.65922381e-07 0.00000000e+00 0.00000000e+00 0.00000000e+00\n",
      " 0.00000000e+00 0.00000000e+00 0.00000000e+00 0.00000000e+00\n",
      " 0.00000000e+00 0.00000000e+00 0.00000000e+00 0.00000000e+00\n",
      " 0.00000000e+00 0.00000000e+00 0.00000000e+00 0.00000000e+00\n",
      " 0.00000000e+00 0.00000000e+00 0.00000000e+00 0.00000000e+00\n",
      " 0.00000000e+00 0.00000000e+00 1.46368952e-06 2.15985685e-02\n",
      " 1.41063078e-03 0.00000000e+00 0.00000000e+00 0.00000000e+00\n",
      " 0.00000000e+00 1.93609532e-03 1.95591367e-01 2.32719316e-02\n",
      " 0.00000000e+00 0.00000000e+00 0.00000000e+00 0.00000000e+00\n",
      " 2.39946283e-02 3.18107303e-02 0.00000000e+00 0.00000000e+00\n",
      " 0.00000000e+00 0.00000000e+00 0.00000000e+00 0.00000000e+00\n",
      " 0.00000000e+00 0.00000000e+00 0.00000000e+00 0.00000000e+00\n",
      " 0.00000000e+00 0.00000000e+00 0.00000000e+00 0.00000000e+00\n",
      " 0.00000000e+00 0.00000000e+00 0.00000000e+00 0.00000000e+00\n",
      " 0.00000000e+00 0.00000000e+00 0.00000000e+00 0.00000000e+00\n",
      " 2.56145666e-06 0.00000000e+00 0.00000000e+00 0.00000000e+00\n",
      " 0.00000000e+00 1.09776714e-06 2.75927430e-02 2.73442817e-02\n",
      " 0.00000000e+00 0.00000000e+00 0.00000000e+00 0.00000000e+00\n",
      " 2.47875821e-02 1.70962595e-02 0.00000000e+00 0.00000000e+00\n",
      " 0.00000000e+00 0.00000000e+00 0.00000000e+00 0.00000000e+00\n",
      " 0.00000000e+00 0.00000000e+00 0.00000000e+00 0.00000000e+00\n",
      " 0.00000000e+00 0.00000000e+00 0.00000000e+00 0.00000000e+00\n",
      " 0.00000000e+00 0.00000000e+00 0.00000000e+00 0.00000000e+00\n",
      " 0.00000000e+00 0.00000000e+00 0.00000000e+00 0.00000000e+00\n",
      " 0.00000000e+00 0.00000000e+00 0.00000000e+00 0.00000000e+00\n",
      " 0.00000000e+00 0.00000000e+00 0.00000000e+00]\n"
     ]
    },
    {
     "name": "stderr",
     "output_type": "stream",
     "text": [
      "progress-bar: 100%|████████████████████████████████████████████████████████████████████████████████████████████████████████████████████████████████████████████| 1/1 [00:00<00:00,  3.65it/s]\n",
      "192.168.1.112 - - [04/Oct/2020 16:58:08] \"\u001b[37mPOST /hazard/predict HTTP/1.1\u001b[0m\" 200 -\n"
     ]
    },
    {
     "name": "stdout",
     "output_type": "stream",
     "text": [
      "  index                                               path is_hurricane  \\\n",
      "0   123  img/modis_hazard_70dc81d5dd0343afb9865c23b32a3...        False   \n",
      "\n",
      "                                      color_features data_split  \n",
      "0  [0.013732701019459751, 0.0, 0.0, 0.0, 0.0, 0.0...    predict  \n",
      "Probability of hurricane:\n",
      "[0.155]\n",
      "Response:  {'latitude': 56.30942042530327, 'longitude': -11.786145587790697, 'predicted': [{'hazardType': 'hurricane', 'probability': 0.155}]}\n"
     ]
    },
    {
     "name": "stderr",
     "output_type": "stream",
     "text": [
      "192.168.1.112 - - [04/Oct/2020 17:01:43] \"\u001b[37mOPTIONS /hazard/predict HTTP/1.1\u001b[0m\" 200 -\n"
     ]
    },
    {
     "name": "stdout",
     "output_type": "stream",
     "text": [
      "Request received: \n",
      "{'latitude': 66.40282006337328, 'longitude': 89.4638544122093, 'predict': ['hurricane']}\n",
      "Calculating Square Shape...\n",
      "Shape:  {'lower_latitude': 61.402820063373284, 'left_longitude': 84.4638544122093, 'higher_latitude': 71.40282006337328, 'right_longitude': 94.4638544122093}\n",
      "Retrieve & download the MODIS image based on (X,Y,Z,K) parameters\n",
      "888 2220\n",
      "Image PATH:  img/modis_hazard_ff88c10c53d74cea942be163707dd2fc.png  \n",
      "\n",
      "Predict if in the image is an Hurricane\n",
      "img/modis_hazard_ff88c10c53d74cea942be163707dd2fc.png\n",
      "0    img/modis_hazard_ff88c10c53d74cea942be163707dd...\n",
      "Name: path, dtype: object\n",
      "[2.53632010e-06 0.00000000e+00 0.00000000e+00 0.00000000e+00\n",
      " 0.00000000e+00 0.00000000e+00 0.00000000e+00 0.00000000e+00\n",
      " 0.00000000e+00 0.00000000e+00 0.00000000e+00 3.55084815e-05\n",
      " 0.00000000e+00 0.00000000e+00 0.00000000e+00 0.00000000e+00\n",
      " 8.62348835e-06 1.93774856e-04 2.68849931e-05 0.00000000e+00\n",
      " 0.00000000e+00 0.00000000e+00 0.00000000e+00 5.07264021e-07\n",
      " 0.00000000e+00 0.00000000e+00 0.00000000e+00 0.00000000e+00\n",
      " 0.00000000e+00 0.00000000e+00 0.00000000e+00 0.00000000e+00\n",
      " 0.00000000e+00 0.00000000e+00 0.00000000e+00 0.00000000e+00\n",
      " 0.00000000e+00 0.00000000e+00 0.00000000e+00 0.00000000e+00\n",
      " 0.00000000e+00 0.00000000e+00 0.00000000e+00 0.00000000e+00\n",
      " 0.00000000e+00 0.00000000e+00 7.60896031e-06 2.94213132e-05\n",
      " 0.00000000e+00 0.00000000e+00 0.00000000e+00 0.00000000e+00\n",
      " 3.14503693e-05 2.03767957e-03 1.04800747e-03 0.00000000e+00\n",
      " 0.00000000e+00 0.00000000e+00 0.00000000e+00 3.55084815e-06\n",
      " 2.79857560e-03 6.79733788e-05 0.00000000e+00 0.00000000e+00\n",
      " 0.00000000e+00 0.00000000e+00 5.07264021e-07 0.00000000e+00\n",
      " 0.00000000e+00 0.00000000e+00 0.00000000e+00 0.00000000e+00\n",
      " 0.00000000e+00 0.00000000e+00 0.00000000e+00 0.00000000e+00\n",
      " 0.00000000e+00 0.00000000e+00 0.00000000e+00 0.00000000e+00\n",
      " 0.00000000e+00 0.00000000e+00 0.00000000e+00 0.00000000e+00\n",
      " 0.00000000e+00 0.00000000e+00 0.00000000e+00 0.00000000e+00\n",
      " 1.01452804e-06 4.92046100e-05 7.72563104e-04 9.63801639e-06\n",
      " 0.00000000e+00 0.00000000e+00 0.00000000e+00 2.96242188e-04\n",
      " 8.07361415e-03 2.32428374e-03 0.00000000e+00 0.00000000e+00\n",
      " 0.00000000e+00 0.00000000e+00 1.07692152e-03 1.76071342e-03\n",
      " 1.01452804e-06 0.00000000e+00 0.00000000e+00 0.00000000e+00\n",
      " 0.00000000e+00 0.00000000e+00 0.00000000e+00 0.00000000e+00\n",
      " 0.00000000e+00 0.00000000e+00 0.00000000e+00 0.00000000e+00\n",
      " 0.00000000e+00 0.00000000e+00 0.00000000e+00 0.00000000e+00\n",
      " 0.00000000e+00 0.00000000e+00 0.00000000e+00 0.00000000e+00\n",
      " 0.00000000e+00 0.00000000e+00 0.00000000e+00 0.00000000e+00\n",
      " 0.00000000e+00 0.00000000e+00 0.00000000e+00 0.00000000e+00\n",
      " 1.63643373e-03 1.36301842e-03 0.00000000e+00 0.00000000e+00\n",
      " 0.00000000e+00 0.00000000e+00 1.81701972e-03 4.82271122e-02\n",
      " 5.47490058e-03 0.00000000e+00 0.00000000e+00 0.00000000e+00\n",
      " 0.00000000e+00 5.52714877e-03 8.11622433e-04 5.07264021e-07\n",
      " 0.00000000e+00 0.00000000e+00 0.00000000e+00 0.00000000e+00\n",
      " 0.00000000e+00 0.00000000e+00 0.00000000e+00 0.00000000e+00\n",
      " 0.00000000e+00 0.00000000e+00 0.00000000e+00 0.00000000e+00\n",
      " 0.00000000e+00 0.00000000e+00 0.00000000e+00 0.00000000e+00\n",
      " 0.00000000e+00 0.00000000e+00 0.00000000e+00 0.00000000e+00\n",
      " 0.00000000e+00 2.02905608e-06 0.00000000e+00 0.00000000e+00\n",
      " 0.00000000e+00 0.00000000e+00 1.62324487e-05 1.17918594e-02\n",
      " 7.67997727e-04 0.00000000e+00 0.00000000e+00 0.00000000e+00\n",
      " 0.00000000e+00 1.56846035e-03 1.78304318e-01 5.42305819e-02\n",
      " 0.00000000e+00 0.00000000e+00 0.00000000e+00 0.00000000e+00\n",
      " 5.95538106e-02 1.50292184e-01 0.00000000e+00 0.00000000e+00\n",
      " 0.00000000e+00 0.00000000e+00 0.00000000e+00 0.00000000e+00\n",
      " 0.00000000e+00 0.00000000e+00 0.00000000e+00 0.00000000e+00\n",
      " 0.00000000e+00 0.00000000e+00 0.00000000e+00 0.00000000e+00\n",
      " 0.00000000e+00 0.00000000e+00 0.00000000e+00 0.00000000e+00\n",
      " 0.00000000e+00 0.00000000e+00 0.00000000e+00 0.00000000e+00\n",
      " 1.52179206e-06 0.00000000e+00 0.00000000e+00 0.00000000e+00\n",
      " 0.00000000e+00 1.92760328e-05 7.26112937e-02 1.41654492e-01\n",
      " 0.00000000e+00 0.00000000e+00 0.00000000e+00 0.00000000e+00\n",
      " 1.34314382e-01 1.09355978e-01 0.00000000e+00 0.00000000e+00\n",
      " 0.00000000e+00 0.00000000e+00 0.00000000e+00 0.00000000e+00\n",
      " 0.00000000e+00 0.00000000e+00 0.00000000e+00 0.00000000e+00\n",
      " 0.00000000e+00 0.00000000e+00 0.00000000e+00 0.00000000e+00\n",
      " 0.00000000e+00 0.00000000e+00 0.00000000e+00 0.00000000e+00\n",
      " 0.00000000e+00 0.00000000e+00 0.00000000e+00 0.00000000e+00\n",
      " 0.00000000e+00 0.00000000e+00 0.00000000e+00 0.00000000e+00\n",
      " 0.00000000e+00 0.00000000e+00 0.00000000e+00]"
     ]
    },
    {
     "name": "stderr",
     "output_type": "stream",
     "text": [
      "progress-bar: 100%|████████████████████████████████████████████████████████████████████████████████████████████████████████████████████████████████████████████| 1/1 [00:00<00:00,  6.02it/s]"
     ]
    },
    {
     "name": "stdout",
     "output_type": "stream",
     "text": [
      "\n",
      "  index                                               path is_hurricane  \\\n",
      "0   123  img/modis_hazard_ff88c10c53d74cea942be163707dd...        False   \n",
      "\n",
      "                                      color_features data_split  \n",
      "0  [2.5363201038876714e-06, 0.0, 0.0, 0.0, 0.0, 0...    predict  \n",
      "Probability of hurricane:\n"
     ]
    },
    {
     "name": "stderr",
     "output_type": "stream",
     "text": [
      "\n",
      "192.168.1.112 - - [04/Oct/2020 17:01:49] \"\u001b[37mPOST /hazard/predict HTTP/1.1\u001b[0m\" 200 -\n"
     ]
    },
    {
     "name": "stdout",
     "output_type": "stream",
     "text": [
      "[0.165]\n",
      "Response:  {'latitude': 66.40282006337328, 'longitude': 89.4638544122093, 'predicted': [{'hazardType': 'hurricane', 'probability': 0.165}]}\n"
     ]
    },
    {
     "name": "stderr",
     "output_type": "stream",
     "text": [
      "192.168.1.87 - - [04/Oct/2020 18:13:19] \"\u001b[37mOPTIONS /hazard/predict HTTP/1.1\u001b[0m\" 200 -\n"
     ]
    },
    {
     "name": "stdout",
     "output_type": "stream",
     "text": [
      "Request received: \n",
      "{'latitude': 27.887671753496555, 'longitude': -38.26098281249999, 'predict': ['hurricane']}\n",
      "Calculating Square Shape...\n",
      "Shape:  {'lower_latitude': 22.887671753496555, 'left_longitude': -43.26098281249999, 'higher_latitude': 32.887671753496555, 'right_longitude': -33.26098281249999}\n",
      "Retrieve & download the MODIS image based on (X,Y,Z,K) parameters\n",
      "1962 2220\n",
      "Image PATH:  img/modis_hazard_c6e636d6b8cc4dcc8522c236b345573b.png  \n",
      "\n",
      "Predict if in the image is an Hurricane\n",
      "img/modis_hazard_c6e636d6b8cc4dcc8522c236b345573b.png\n",
      "0    img/modis_hazard_c6e636d6b8cc4dcc8522c236b3455...\n",
      "Name: path, dtype: object\n"
     ]
    },
    {
     "name": "stderr",
     "output_type": "stream",
     "text": [
      "\r",
      "progress-bar:   0%|                                                                                                                                                    | 0/1 [00:00<?, ?it/s]"
     ]
    },
    {
     "name": "stdout",
     "output_type": "stream",
     "text": [
      "[5.78022977e-02 0.00000000e+00 0.00000000e+00 0.00000000e+00\n",
      " 0.00000000e+00 0.00000000e+00 0.00000000e+00 0.00000000e+00\n",
      " 0.00000000e+00 0.00000000e+00 0.00000000e+00 9.94113379e-05\n",
      " 0.00000000e+00 0.00000000e+00 0.00000000e+00 0.00000000e+00\n",
      " 1.48772626e-04 3.65043943e-05 0.00000000e+00 0.00000000e+00\n",
      " 0.00000000e+00 0.00000000e+00 0.00000000e+00 0.00000000e+00\n",
      " 0.00000000e+00 0.00000000e+00 0.00000000e+00 0.00000000e+00\n",
      " 0.00000000e+00 0.00000000e+00 0.00000000e+00 0.00000000e+00\n",
      " 0.00000000e+00 0.00000000e+00 0.00000000e+00 0.00000000e+00\n",
      " 0.00000000e+00 0.00000000e+00 0.00000000e+00 0.00000000e+00\n",
      " 0.00000000e+00 0.00000000e+00 0.00000000e+00 0.00000000e+00\n",
      " 0.00000000e+00 0.00000000e+00 3.88046303e-02 2.69769770e-02\n",
      " 2.29587386e-07 0.00000000e+00 0.00000000e+00 0.00000000e+00\n",
      " 7.96764655e-02 1.15891120e-01 1.60711170e-06 0.00000000e+00\n",
      " 0.00000000e+00 0.00000000e+00 1.79078161e-05 2.98463601e-06\n",
      " 2.93871854e-05 0.00000000e+00 0.00000000e+00 0.00000000e+00\n",
      " 0.00000000e+00 0.00000000e+00 0.00000000e+00 0.00000000e+00\n",
      " 0.00000000e+00 0.00000000e+00 0.00000000e+00 0.00000000e+00\n",
      " 0.00000000e+00 0.00000000e+00 0.00000000e+00 0.00000000e+00\n",
      " 0.00000000e+00 0.00000000e+00 0.00000000e+00 0.00000000e+00\n",
      " 0.00000000e+00 0.00000000e+00 8.85013454e-03 8.60309851e-03\n",
      " 0.00000000e+00 0.00000000e+00 0.00000000e+00 0.00000000e+00\n",
      " 3.73421587e-02 1.23385082e-01 1.56197482e-02 0.00000000e+00\n",
      " 0.00000000e+00 0.00000000e+00 1.74486413e-05 5.31786374e-02\n",
      " 5.98431000e-02 2.10554591e-03 0.00000000e+00 0.00000000e+00\n",
      " 0.00000000e+00 2.06628647e-06 4.05382447e-03 1.86654544e-03\n",
      " 0.00000000e+00 0.00000000e+00 0.00000000e+00 0.00000000e+00\n",
      " 0.00000000e+00 0.00000000e+00 0.00000000e+00 0.00000000e+00\n",
      " 0.00000000e+00 0.00000000e+00 0.00000000e+00 0.00000000e+00\n",
      " 0.00000000e+00 0.00000000e+00 0.00000000e+00 0.00000000e+00\n",
      " 0.00000000e+00 0.00000000e+00 0.00000000e+00 0.00000000e+00\n",
      " 2.06628647e-06 1.54282723e-04 3.93512779e-04 0.00000000e+00\n",
      " 0.00000000e+00 0.00000000e+00 6.88762157e-07 1.89685098e-03\n",
      " 3.58652230e-02 7.08368919e-03 0.00000000e+00 0.00000000e+00\n",
      " 0.00000000e+00 2.29587386e-06 1.75840979e-02 1.08359047e-01\n",
      " 7.48248248e-03 0.00000000e+00 0.00000000e+00 0.00000000e+00\n",
      " 0.00000000e+00 8.28856379e-03 1.36925917e-03 9.18349542e-07\n",
      " 0.00000000e+00 0.00000000e+00 0.00000000e+00 0.00000000e+00\n",
      " 0.00000000e+00 0.00000000e+00 0.00000000e+00 0.00000000e+00\n",
      " 0.00000000e+00 0.00000000e+00 0.00000000e+00 0.00000000e+00\n",
      " 0.00000000e+00 0.00000000e+00 0.00000000e+00 0.00000000e+00\n",
      " 0.00000000e+00 0.00000000e+00 0.00000000e+00 0.00000000e+00\n",
      " 6.88762157e-07 6.88762157e-07 0.00000000e+00 0.00000000e+00\n",
      " 0.00000000e+00 0.00000000e+00 1.46935927e-05 1.34692031e-02\n",
      " 9.99623477e-04 0.00000000e+00 0.00000000e+00 0.00000000e+00\n",
      " 0.00000000e+00 1.73843568e-03 9.84700297e-02 1.12867455e-02\n",
      " 0.00000000e+00 0.00000000e+00 0.00000000e+00 0.00000000e+00\n",
      " 1.08020865e-02 1.16561516e-02 0.00000000e+00 0.00000000e+00\n",
      " 0.00000000e+00 0.00000000e+00 0.00000000e+00 0.00000000e+00\n",
      " 0.00000000e+00 0.00000000e+00 0.00000000e+00 0.00000000e+00\n",
      " 0.00000000e+00 0.00000000e+00 0.00000000e+00 0.00000000e+00\n",
      " 0.00000000e+00 0.00000000e+00 0.00000000e+00 0.00000000e+00\n",
      " 0.00000000e+00 0.00000000e+00 0.00000000e+00 0.00000000e+00\n",
      " 6.88762157e-07 0.00000000e+00 0.00000000e+00 0.00000000e+00\n",
      " 0.00000000e+00 9.18349542e-07 8.88916439e-03 8.61985839e-03\n",
      " 0.00000000e+00 0.00000000e+00 0.00000000e+00 0.00000000e+00\n",
      " 7.44781479e-03 3.76454436e-03 0.00000000e+00 0.00000000e+00\n",
      " 0.00000000e+00 0.00000000e+00 0.00000000e+00 0.00000000e+00\n",
      " 0.00000000e+00 0.00000000e+00 0.00000000e+00 0.00000000e+00\n",
      " 0.00000000e+00 0.00000000e+00 0.00000000e+00 0.00000000e+00\n",
      " 0.00000000e+00 0.00000000e+00 0.00000000e+00 0.00000000e+00\n",
      " 0.00000000e+00 0.00000000e+00 0.00000000e+00 0.00000000e+00\n",
      " 0.00000000e+00 0.00000000e+00 0.00000000e+00 0.00000000e+00\n",
      " 0.00000000e+00 0.00000000e+00 0.00000000e+00]\n"
     ]
    },
    {
     "name": "stderr",
     "output_type": "stream",
     "text": [
      "progress-bar: 100%|████████████████████████████████████████████████████████████████████████████████████████████████████████████████████████████████████████████| 1/1 [00:00<00:00,  2.37it/s]\n",
      "192.168.1.87 - - [04/Oct/2020 18:13:29] \"\u001b[37mPOST /hazard/predict HTTP/1.1\u001b[0m\" 200 -\n"
     ]
    },
    {
     "name": "stdout",
     "output_type": "stream",
     "text": [
      "  index                                               path is_hurricane  \\\n",
      "0   123  img/modis_hazard_c6e636d6b8cc4dcc8522c236b3455...        False   \n",
      "\n",
      "                                      color_features data_split  \n",
      "0  [0.05780229771055459, 0.0, 0.0, 0.0, 0.0, 0.0,...    predict  \n",
      "Probability of hurricane:\n",
      "[0.435]\n",
      "Response:  {'latitude': 27.887671753496555, 'longitude': -38.26098281249999, 'predicted': [{'hazardType': 'hurricane', 'probability': 0.435}]}\n"
     ]
    },
    {
     "name": "stderr",
     "output_type": "stream",
     "text": [
      "192.168.1.87 - - [04/Oct/2020 18:13:37] \"\u001b[37mOPTIONS /hazard/predict HTTP/1.1\u001b[0m\" 200 -\n"
     ]
    },
    {
     "name": "stdout",
     "output_type": "stream",
     "text": [
      "Request received: \n",
      "{'latitude': 15.67596759354309, 'longitude': -126.76684218749999, 'predict': ['hurricane']}\n",
      "Calculating Square Shape...\n",
      "Shape:  {'lower_latitude': 10.67596759354309, 'left_longitude': -131.7668421875, 'higher_latitude': 20.675967593543092, 'right_longitude': -121.76684218749999}\n",
      "Retrieve & download the MODIS image based on (X,Y,Z,K) parameters\n",
      "2137 2220\n",
      "Image PATH:  img/modis_hazard_fec9e96f3616434e853ba9007be3451d.png  \n",
      "\n",
      "Predict if in the image is an Hurricane\n",
      "img/modis_hazard_fec9e96f3616434e853ba9007be3451d.png\n",
      "0    img/modis_hazard_fec9e96f3616434e853ba9007be34...\n",
      "Name: path, dtype: object\n"
     ]
    },
    {
     "name": "stderr",
     "output_type": "stream",
     "text": [
      "\r",
      "progress-bar:   0%|                                                                                                                                                    | 0/1 [00:00<?, ?it/s]"
     ]
    },
    {
     "name": "stdout",
     "output_type": "stream",
     "text": [
      "[1.05332052e-02 0.00000000e+00 0.00000000e+00 0.00000000e+00\n",
      " 0.00000000e+00 0.00000000e+00 0.00000000e+00 0.00000000e+00\n",
      " 0.00000000e+00 0.00000000e+00 0.00000000e+00 7.45340568e-04\n",
      " 0.00000000e+00 0.00000000e+00 0.00000000e+00 0.00000000e+00\n",
      " 1.24216402e-03 5.96525398e-04 0.00000000e+00 0.00000000e+00\n",
      " 0.00000000e+00 0.00000000e+00 0.00000000e+00 0.00000000e+00\n",
      " 0.00000000e+00 0.00000000e+00 0.00000000e+00 0.00000000e+00\n",
      " 0.00000000e+00 0.00000000e+00 0.00000000e+00 0.00000000e+00\n",
      " 0.00000000e+00 0.00000000e+00 0.00000000e+00 0.00000000e+00\n",
      " 0.00000000e+00 0.00000000e+00 0.00000000e+00 0.00000000e+00\n",
      " 0.00000000e+00 0.00000000e+00 0.00000000e+00 0.00000000e+00\n",
      " 0.00000000e+00 0.00000000e+00 1.56877748e-02 1.21046175e-02\n",
      " 0.00000000e+00 0.00000000e+00 0.00000000e+00 0.00000000e+00\n",
      " 2.79599675e-02 7.44046339e-02 9.69617254e-06 0.00000000e+00\n",
      " 0.00000000e+00 0.00000000e+00 5.69123171e-06 2.84561585e-05\n",
      " 1.43334725e-04 0.00000000e+00 0.00000000e+00 0.00000000e+00\n",
      " 0.00000000e+00 0.00000000e+00 0.00000000e+00 0.00000000e+00\n",
      " 0.00000000e+00 0.00000000e+00 0.00000000e+00 0.00000000e+00\n",
      " 0.00000000e+00 0.00000000e+00 0.00000000e+00 0.00000000e+00\n",
      " 0.00000000e+00 0.00000000e+00 0.00000000e+00 0.00000000e+00\n",
      " 0.00000000e+00 0.00000000e+00 9.16077519e-04 1.35114056e-03\n",
      " 0.00000000e+00 0.00000000e+00 0.00000000e+00 0.00000000e+00\n",
      " 5.89822391e-03 4.90929863e-02 2.17845595e-02 0.00000000e+00\n",
      " 0.00000000e+00 0.00000000e+00 4.00494083e-06 4.79595880e-02\n",
      " 1.00769370e-01 3.08696624e-03 0.00000000e+00 0.00000000e+00\n",
      " 0.00000000e+00 1.26471816e-06 6.07170109e-03 2.47104849e-03\n",
      " 0.00000000e+00 0.00000000e+00 0.00000000e+00 0.00000000e+00\n",
      " 0.00000000e+00 0.00000000e+00 0.00000000e+00 0.00000000e+00\n",
      " 0.00000000e+00 0.00000000e+00 0.00000000e+00 0.00000000e+00\n",
      " 0.00000000e+00 0.00000000e+00 0.00000000e+00 0.00000000e+00\n",
      " 0.00000000e+00 0.00000000e+00 0.00000000e+00 0.00000000e+00\n",
      " 4.21572719e-07 3.35150312e-05 3.04375503e-04 0.00000000e+00\n",
      " 0.00000000e+00 0.00000000e+00 0.00000000e+00 1.14709937e-03\n",
      " 3.43862112e-02 7.93610644e-03 0.00000000e+00 0.00000000e+00\n",
      " 0.00000000e+00 8.43145438e-07 1.68905218e-02 1.18425257e-01\n",
      " 5.26059518e-03 0.00000000e+00 0.00000000e+00 0.00000000e+00\n",
      " 0.00000000e+00 8.54548980e-03 8.99846969e-04 0.00000000e+00\n",
      " 0.00000000e+00 0.00000000e+00 0.00000000e+00 0.00000000e+00\n",
      " 0.00000000e+00 0.00000000e+00 0.00000000e+00 0.00000000e+00\n",
      " 0.00000000e+00 0.00000000e+00 0.00000000e+00 0.00000000e+00\n",
      " 0.00000000e+00 0.00000000e+00 0.00000000e+00 0.00000000e+00\n",
      " 0.00000000e+00 0.00000000e+00 0.00000000e+00 0.00000000e+00\n",
      " 0.00000000e+00 6.32359079e-07 0.00000000e+00 0.00000000e+00\n",
      " 0.00000000e+00 0.00000000e+00 8.43145438e-06 2.11235335e-02\n",
      " 1.18504091e-03 0.00000000e+00 0.00000000e+00 0.00000000e+00\n",
      " 0.00000000e+00 2.01532838e-03 1.45788278e-01 2.28338540e-02\n",
      " 0.00000000e+00 0.00000000e+00 0.00000000e+00 0.00000000e+00\n",
      " 2.52302841e-02 4.72477625e-02 0.00000000e+00 0.00000000e+00\n",
      " 0.00000000e+00 0.00000000e+00 0.00000000e+00 0.00000000e+00\n",
      " 0.00000000e+00 0.00000000e+00 0.00000000e+00 0.00000000e+00\n",
      " 0.00000000e+00 0.00000000e+00 0.00000000e+00 0.00000000e+00\n",
      " 0.00000000e+00 0.00000000e+00 0.00000000e+00 0.00000000e+00\n",
      " 0.00000000e+00 0.00000000e+00 0.00000000e+00 0.00000000e+00\n",
      " 4.21572719e-07 0.00000000e+00 0.00000000e+00 0.00000000e+00\n",
      " 0.00000000e+00 2.10786360e-07 2.78722803e-02 4.06071490e-02\n",
      " 0.00000000e+00 0.00000000e+00 0.00000000e+00 0.00000000e+00\n",
      " 3.80713891e-02 5.13167824e-02 0.00000000e+00 0.00000000e+00\n",
      " 0.00000000e+00 0.00000000e+00 0.00000000e+00 0.00000000e+00\n",
      " 0.00000000e+00 0.00000000e+00 0.00000000e+00 0.00000000e+00\n",
      " 0.00000000e+00 0.00000000e+00 0.00000000e+00 0.00000000e+00\n",
      " 0.00000000e+00 0.00000000e+00 0.00000000e+00 0.00000000e+00\n",
      " 0.00000000e+00 0.00000000e+00 0.00000000e+00 0.00000000e+00\n",
      " 0.00000000e+00 0.00000000e+00 0.00000000e+00 0.00000000e+00\n",
      " 0.00000000e+00 0.00000000e+00 0.00000000e+00]\n"
     ]
    },
    {
     "name": "stderr",
     "output_type": "stream",
     "text": [
      "progress-bar: 100%|████████████████████████████████████████████████████████████████████████████████████████████████████████████████████████████████████████████| 1/1 [00:00<00:00,  1.99it/s]\n",
      "192.168.1.87 - - [04/Oct/2020 18:13:49] \"\u001b[37mPOST /hazard/predict HTTP/1.1\u001b[0m\" 200 -\n"
     ]
    },
    {
     "name": "stdout",
     "output_type": "stream",
     "text": [
      "  index                                               path is_hurricane  \\\n",
      "0   123  img/modis_hazard_fec9e96f3616434e853ba9007be34...        False   \n",
      "\n",
      "                                      color_features data_split  \n",
      "0  [0.010533205175226702, 0.0, 0.0, 0.0, 0.0, 0.0...    predict  \n",
      "Probability of hurricane:\n",
      "[0.3]\n",
      "Response:  {'latitude': 15.67596759354309, 'longitude': -126.76684218749999, 'predicted': [{'hazardType': 'hurricane', 'probability': 0.3}]}\n"
     ]
    },
    {
     "name": "stderr",
     "output_type": "stream",
     "text": [
      "192.168.1.87 - - [04/Oct/2020 18:14:12] \"\u001b[37mOPTIONS /hazard/predict HTTP/1.1\u001b[0m\" 200 -\n"
     ]
    },
    {
     "name": "stdout",
     "output_type": "stream",
     "text": [
      "Request received: \n",
      "{'latitude': 23.372547613196723, 'longitude': -70.95629531249999, 'predict': ['hurricane']}\n",
      "Calculating Square Shape...\n",
      "Shape:  {'lower_latitude': 18.372547613196723, 'left_longitude': -75.95629531249999, 'higher_latitude': 28.372547613196723, 'right_longitude': -65.95629531249999}\n",
      "Retrieve & download the MODIS image based on (X,Y,Z,K) parameters\n",
      "2037 2220\n",
      "Image PATH:  img/modis_hazard_e5ae44c7269145a8a4181b961c040047.png  \n",
      "\n",
      "Predict if in the image is an Hurricane\n",
      "img/modis_hazard_e5ae44c7269145a8a4181b961c040047.png\n",
      "0    img/modis_hazard_e5ae44c7269145a8a4181b961c040...\n",
      "Name: path, dtype: object\n"
     ]
    },
    {
     "name": "stderr",
     "output_type": "stream",
     "text": [
      "\r",
      "progress-bar:   0%|                                                                                                                                                    | 0/1 [00:00<?, ?it/s]"
     ]
    },
    {
     "name": "stdout",
     "output_type": "stream",
     "text": [
      "[5.15375464e-03 0.00000000e+00 0.00000000e+00 0.00000000e+00\n",
      " 0.00000000e+00 0.00000000e+00 0.00000000e+00 0.00000000e+00\n",
      " 0.00000000e+00 0.00000000e+00 0.00000000e+00 4.67522014e-03\n",
      " 0.00000000e+00 0.00000000e+00 0.00000000e+00 0.00000000e+00\n",
      " 9.30731910e-03 5.45538174e-03 3.75928211e-05 0.00000000e+00\n",
      " 0.00000000e+00 0.00000000e+00 2.58727063e-05 4.38509201e-04\n",
      " 2.87474514e-06 0.00000000e+00 0.00000000e+00 0.00000000e+00\n",
      " 0.00000000e+00 0.00000000e+00 0.00000000e+00 0.00000000e+00\n",
      " 0.00000000e+00 0.00000000e+00 0.00000000e+00 0.00000000e+00\n",
      " 0.00000000e+00 0.00000000e+00 0.00000000e+00 0.00000000e+00\n",
      " 0.00000000e+00 0.00000000e+00 0.00000000e+00 0.00000000e+00\n",
      " 0.00000000e+00 0.00000000e+00 1.66170884e-01 7.84100006e-02\n",
      " 0.00000000e+00 0.00000000e+00 0.00000000e+00 0.00000000e+00\n",
      " 1.54669692e-01 2.11943460e-01 1.05481033e-04 0.00000000e+00\n",
      " 0.00000000e+00 0.00000000e+00 8.49155488e-05 3.96294675e-03\n",
      " 6.95533531e-03 3.78139553e-05 0.00000000e+00 0.00000000e+00\n",
      " 0.00000000e+00 2.21134242e-07 4.62170565e-05 9.72990664e-06\n",
      " 0.00000000e+00 0.00000000e+00 0.00000000e+00 0.00000000e+00\n",
      " 0.00000000e+00 0.00000000e+00 0.00000000e+00 0.00000000e+00\n",
      " 0.00000000e+00 0.00000000e+00 0.00000000e+00 0.00000000e+00\n",
      " 0.00000000e+00 0.00000000e+00 4.77804756e-03 5.66744948e-03\n",
      " 0.00000000e+00 0.00000000e+00 0.00000000e+00 0.00000000e+00\n",
      " 1.41176523e-02 7.44413043e-02 1.55154418e-02 2.21134242e-07\n",
      " 0.00000000e+00 0.00000000e+00 3.46959625e-04 3.54208406e-02\n",
      " 4.88784071e-02 1.10124852e-03 0.00000000e+00 0.00000000e+00\n",
      " 8.51366831e-05 5.25857227e-04 3.10118661e-03 1.94288545e-03\n",
      " 2.21134242e-07 0.00000000e+00 0.00000000e+00 0.00000000e+00\n",
      " 1.32680545e-06 1.76907393e-06 0.00000000e+00 0.00000000e+00\n",
      " 0.00000000e+00 0.00000000e+00 0.00000000e+00 0.00000000e+00\n",
      " 0.00000000e+00 0.00000000e+00 0.00000000e+00 0.00000000e+00\n",
      " 0.00000000e+00 0.00000000e+00 0.00000000e+00 0.00000000e+00\n",
      " 3.98041635e-06 4.48902511e-05 1.14547537e-04 0.00000000e+00\n",
      " 0.00000000e+00 0.00000000e+00 1.50150150e-04 1.08842274e-03\n",
      " 1.47883524e-02 2.69916455e-03 0.00000000e+00 0.00000000e+00\n",
      " 1.26267652e-04 1.66425630e-03 7.58313542e-03 4.23363717e-02\n",
      " 1.71069449e-03 0.00000000e+00 0.00000000e+00 1.10567121e-05\n",
      " 2.20691973e-04 2.72923881e-03 2.99415763e-04 2.21134242e-07\n",
      " 0.00000000e+00 0.00000000e+00 0.00000000e+00 0.00000000e+00\n",
      " 1.10567121e-06 0.00000000e+00 0.00000000e+00 0.00000000e+00\n",
      " 0.00000000e+00 0.00000000e+00 0.00000000e+00 0.00000000e+00\n",
      " 0.00000000e+00 0.00000000e+00 0.00000000e+00 0.00000000e+00\n",
      " 0.00000000e+00 0.00000000e+00 0.00000000e+00 6.63402725e-07\n",
      " 0.00000000e+00 1.54793969e-06 0.00000000e+00 0.00000000e+00\n",
      " 1.32680545e-06 3.38335390e-05 1.54572835e-04 5.74374080e-03\n",
      " 2.12952275e-04 0.00000000e+00 0.00000000e+00 5.50624262e-05\n",
      " 2.74206460e-05 5.94851110e-04 2.58758022e-02 3.81257546e-03\n",
      " 0.00000000e+00 0.00000000e+00 0.00000000e+00 1.54793969e-06\n",
      " 4.01026947e-03 8.22884740e-03 0.00000000e+00 0.00000000e+00\n",
      " 0.00000000e+00 0.00000000e+00 0.00000000e+00 0.00000000e+00\n",
      " 0.00000000e+00 0.00000000e+00 0.00000000e+00 0.00000000e+00\n",
      " 0.00000000e+00 0.00000000e+00 0.00000000e+00 0.00000000e+00\n",
      " 0.00000000e+00 0.00000000e+00 0.00000000e+00 0.00000000e+00\n",
      " 0.00000000e+00 0.00000000e+00 0.00000000e+00 0.00000000e+00\n",
      " 4.20155059e-06 0.00000000e+00 0.00000000e+00 0.00000000e+00\n",
      " 0.00000000e+00 1.08355778e-05 3.85127395e-03 6.03541686e-03\n",
      " 0.00000000e+00 0.00000000e+00 0.00000000e+00 2.43247666e-06\n",
      " 5.49584931e-03 6.85383469e-03 0.00000000e+00 0.00000000e+00\n",
      " 0.00000000e+00 0.00000000e+00 0.00000000e+00 0.00000000e+00\n",
      " 0.00000000e+00 0.00000000e+00 0.00000000e+00 0.00000000e+00\n",
      " 0.00000000e+00 0.00000000e+00 0.00000000e+00 0.00000000e+00\n",
      " 0.00000000e+00 0.00000000e+00 0.00000000e+00 0.00000000e+00\n",
      " 0.00000000e+00 0.00000000e+00 0.00000000e+00 0.00000000e+00\n",
      " 0.00000000e+00 0.00000000e+00 0.00000000e+00 0.00000000e+00\n",
      " 0.00000000e+00 0.00000000e+00 0.00000000e+00]\n"
     ]
    },
    {
     "name": "stderr",
     "output_type": "stream",
     "text": [
      "progress-bar: 100%|████████████████████████████████████████████████████████████████████████████████████████████████████████████████████████████████████████████| 1/1 [00:00<00:00,  2.28it/s]\n",
      "192.168.1.87 - - [04/Oct/2020 18:14:23] \"\u001b[37mPOST /hazard/predict HTTP/1.1\u001b[0m\" 200 -\n"
     ]
    },
    {
     "name": "stdout",
     "output_type": "stream",
     "text": [
      "  index                                               path is_hurricane  \\\n",
      "0   123  img/modis_hazard_e5ae44c7269145a8a4181b961c040...        False   \n",
      "\n",
      "                                      color_features data_split  \n",
      "0  [0.005153754638290721, 0.0, 0.0, 0.0, 0.0, 0.0...    predict  \n",
      "Probability of hurricane:\n",
      "[0.04]\n",
      "Response:  {'latitude': 23.372547613196723, 'longitude': -70.95629531249999, 'predicted': [{'hazardType': 'hurricane', 'probability': 0.04}]}\n"
     ]
    },
    {
     "name": "stderr",
     "output_type": "stream",
     "text": [
      "192.168.1.87 - - [04/Oct/2020 18:15:34] \"\u001b[37mOPTIONS /hazard/predict HTTP/1.1\u001b[0m\" 200 -\n"
     ]
    },
    {
     "name": "stdout",
     "output_type": "stream",
     "text": [
      "Request received: \n",
      "{'latitude': 14.743046565157094, 'longitude': -124.21801406249999, 'predict': ['hurricane']}\n",
      "Calculating Square Shape...\n",
      "Shape:  {'lower_latitude': 9.743046565157094, 'left_longitude': -129.2180140625, 'higher_latitude': 19.743046565157094, 'right_longitude': -119.21801406249999}\n",
      "Retrieve & download the MODIS image based on (X,Y,Z,K) parameters\n",
      "2146 2220\n",
      "Image PATH:  img/modis_hazard_8a7916f3606c40f0a80b03f3b9ae04f3.png  \n",
      "\n",
      "Predict if in the image is an Hurricane\n",
      "img/modis_hazard_8a7916f3606c40f0a80b03f3b9ae04f3.png\n",
      "0    img/modis_hazard_8a7916f3606c40f0a80b03f3b9ae0...\n",
      "Name: path, dtype: object\n"
     ]
    },
    {
     "name": "stderr",
     "output_type": "stream",
     "text": [
      "\r",
      "progress-bar:   0%|                                                                                                                                                    | 0/1 [00:00<?, ?it/s]"
     ]
    },
    {
     "name": "stdout",
     "output_type": "stream",
     "text": [
      "[2.97809459e-03 0.00000000e+00 0.00000000e+00 0.00000000e+00\n",
      " 0.00000000e+00 0.00000000e+00 0.00000000e+00 0.00000000e+00\n",
      " 0.00000000e+00 0.00000000e+00 0.00000000e+00 4.09645433e-03\n",
      " 0.00000000e+00 0.00000000e+00 0.00000000e+00 0.00000000e+00\n",
      " 6.14069335e-03 1.91388966e-03 0.00000000e+00 0.00000000e+00\n",
      " 0.00000000e+00 0.00000000e+00 0.00000000e+00 0.00000000e+00\n",
      " 0.00000000e+00 0.00000000e+00 0.00000000e+00 0.00000000e+00\n",
      " 0.00000000e+00 0.00000000e+00 0.00000000e+00 0.00000000e+00\n",
      " 0.00000000e+00 0.00000000e+00 0.00000000e+00 0.00000000e+00\n",
      " 0.00000000e+00 0.00000000e+00 0.00000000e+00 0.00000000e+00\n",
      " 0.00000000e+00 0.00000000e+00 0.00000000e+00 0.00000000e+00\n",
      " 0.00000000e+00 0.00000000e+00 3.24729436e-02 1.84995340e-02\n",
      " 2.09902353e-07 0.00000000e+00 0.00000000e+00 0.00000000e+00\n",
      " 3.43851540e-02 9.95296088e-02 1.32238483e-05 0.00000000e+00\n",
      " 0.00000000e+00 0.00000000e+00 8.39609414e-06 3.94616424e-05\n",
      " 2.14310303e-04 0.00000000e+00 0.00000000e+00 0.00000000e+00\n",
      " 0.00000000e+00 0.00000000e+00 0.00000000e+00 0.00000000e+00\n",
      " 0.00000000e+00 0.00000000e+00 0.00000000e+00 0.00000000e+00\n",
      " 0.00000000e+00 0.00000000e+00 0.00000000e+00 0.00000000e+00\n",
      " 0.00000000e+00 0.00000000e+00 0.00000000e+00 0.00000000e+00\n",
      " 0.00000000e+00 0.00000000e+00 3.40461617e-04 7.38646382e-04\n",
      " 0.00000000e+00 0.00000000e+00 0.00000000e+00 0.00000000e+00\n",
      " 2.72138401e-03 3.88709772e-02 2.48251513e-02 0.00000000e+00\n",
      " 0.00000000e+00 0.00000000e+00 0.00000000e+00 4.83088167e-02\n",
      " 1.25599691e-01 4.48246476e-03 0.00000000e+00 0.00000000e+00\n",
      " 0.00000000e+00 6.29707060e-07 7.54452029e-03 3.17435329e-03\n",
      " 0.00000000e+00 0.00000000e+00 0.00000000e+00 0.00000000e+00\n",
      " 0.00000000e+00 0.00000000e+00 0.00000000e+00 0.00000000e+00\n",
      " 0.00000000e+00 0.00000000e+00 0.00000000e+00 0.00000000e+00\n",
      " 0.00000000e+00 0.00000000e+00 0.00000000e+00 0.00000000e+00\n",
      " 0.00000000e+00 0.00000000e+00 0.00000000e+00 0.00000000e+00\n",
      " 0.00000000e+00 3.35843765e-06 2.20607373e-04 0.00000000e+00\n",
      " 0.00000000e+00 0.00000000e+00 0.00000000e+00 7.82515974e-04\n",
      " 3.64466050e-02 8.88810525e-03 0.00000000e+00 0.00000000e+00\n",
      " 0.00000000e+00 1.04951177e-06 1.69781618e-02 1.21556552e-01\n",
      " 4.83552052e-03 0.00000000e+00 0.00000000e+00 0.00000000e+00\n",
      " 0.00000000e+00 7.73574133e-03 8.66476915e-04 0.00000000e+00\n",
      " 0.00000000e+00 0.00000000e+00 0.00000000e+00 0.00000000e+00\n",
      " 0.00000000e+00 0.00000000e+00 0.00000000e+00 0.00000000e+00\n",
      " 0.00000000e+00 0.00000000e+00 0.00000000e+00 0.00000000e+00\n",
      " 0.00000000e+00 0.00000000e+00 0.00000000e+00 0.00000000e+00\n",
      " 0.00000000e+00 0.00000000e+00 0.00000000e+00 0.00000000e+00\n",
      " 4.19804707e-07 6.29707060e-07 0.00000000e+00 0.00000000e+00\n",
      " 0.00000000e+00 0.00000000e+00 6.92677766e-06 1.95389705e-02\n",
      " 1.07847829e-03 0.00000000e+00 0.00000000e+00 0.00000000e+00\n",
      " 0.00000000e+00 1.75583319e-03 1.28523631e-01 1.86393290e-02\n",
      " 0.00000000e+00 0.00000000e+00 0.00000000e+00 0.00000000e+00\n",
      " 2.05202640e-02 3.68773247e-02 0.00000000e+00 0.00000000e+00\n",
      " 0.00000000e+00 0.00000000e+00 0.00000000e+00 0.00000000e+00\n",
      " 0.00000000e+00 0.00000000e+00 0.00000000e+00 0.00000000e+00\n",
      " 0.00000000e+00 0.00000000e+00 0.00000000e+00 0.00000000e+00\n",
      " 0.00000000e+00 0.00000000e+00 0.00000000e+00 0.00000000e+00\n",
      " 0.00000000e+00 0.00000000e+00 0.00000000e+00 0.00000000e+00\n",
      " 6.29707060e-07 0.00000000e+00 0.00000000e+00 0.00000000e+00\n",
      " 0.00000000e+00 6.29707060e-07 2.30218802e-02 3.16568432e-02\n",
      " 0.00000000e+00 0.00000000e+00 0.00000000e+00 0.00000000e+00\n",
      " 3.00630547e-02 3.31013912e-02 0.00000000e+00 0.00000000e+00\n",
      " 0.00000000e+00 0.00000000e+00 0.00000000e+00 0.00000000e+00\n",
      " 0.00000000e+00 0.00000000e+00 0.00000000e+00 0.00000000e+00\n",
      " 0.00000000e+00 0.00000000e+00 0.00000000e+00 0.00000000e+00\n",
      " 0.00000000e+00 0.00000000e+00 0.00000000e+00 0.00000000e+00\n",
      " 0.00000000e+00 0.00000000e+00 0.00000000e+00 0.00000000e+00\n",
      " 0.00000000e+00 0.00000000e+00 0.00000000e+00 0.00000000e+00\n",
      " 0.00000000e+00 0.00000000e+00 0.00000000e+00]\n"
     ]
    },
    {
     "name": "stderr",
     "output_type": "stream",
     "text": [
      "progress-bar: 100%|████████████████████████████████████████████████████████████████████████████████████████████████████████████████████████████████████████████| 1/1 [00:00<00:00,  2.03it/s]\n",
      "192.168.1.87 - - [04/Oct/2020 18:15:47] \"\u001b[37mPOST /hazard/predict HTTP/1.1\u001b[0m\" 200 -\n"
     ]
    },
    {
     "name": "stdout",
     "output_type": "stream",
     "text": [
      "  index                                               path is_hurricane  \\\n",
      "0   123  img/modis_hazard_8a7916f3606c40f0a80b03f3b9ae0...        False   \n",
      "\n",
      "                                      color_features data_split  \n",
      "0  [0.0029780945903965473, 0.0, 0.0, 0.0, 0.0, 0....    predict  \n",
      "Probability of hurricane:\n",
      "[0.735]\n",
      "Response:  {'latitude': 14.743046565157094, 'longitude': -124.21801406249999, 'predicted': [{'hazardType': 'hurricane', 'probability': 0.735}]}\n"
     ]
    },
    {
     "name": "stderr",
     "output_type": "stream",
     "text": [
      "192.168.1.87 - - [04/Oct/2020 18:16:02] \"\u001b[37mOPTIONS /hazard/predict HTTP/1.1\u001b[0m\" 200 -\n"
     ]
    },
    {
     "name": "stdout",
     "output_type": "stream",
     "text": [
      "Request received: \n",
      "{'latitude': 18.823151790781708, 'longitude': -130.54613906249998, 'predict': ['hurricane']}\n",
      "Calculating Square Shape...\n",
      "Shape:  {'lower_latitude': 13.823151790781708, 'left_longitude': -135.54613906249998, 'higher_latitude': 23.823151790781708, 'right_longitude': -125.54613906249998}\n",
      "Retrieve & download the MODIS image based on (X,Y,Z,K) parameters\n",
      "2101 2220\n",
      "Image PATH:  img/modis_hazard_20bbf80b6b1d4aabbe950a3c8713754a.png  \n",
      "\n",
      "Predict if in the image is an Hurricane\n",
      "img/modis_hazard_20bbf80b6b1d4aabbe950a3c8713754a.png\n",
      "0    img/modis_hazard_20bbf80b6b1d4aabbe950a3c87137...\n",
      "Name: path, dtype: object\n"
     ]
    },
    {
     "name": "stderr",
     "output_type": "stream",
     "text": [
      "\r",
      "progress-bar:   0%|                                                                                                                                                    | 0/1 [00:00<?, ?it/s]"
     ]
    },
    {
     "name": "stdout",
     "output_type": "stream",
     "text": [
      "[1.98390942e-01 0.00000000e+00 0.00000000e+00 0.00000000e+00\n",
      " 0.00000000e+00 0.00000000e+00 0.00000000e+00 0.00000000e+00\n",
      " 0.00000000e+00 0.00000000e+00 0.00000000e+00 1.20277345e-04\n",
      " 0.00000000e+00 0.00000000e+00 0.00000000e+00 0.00000000e+00\n",
      " 2.52132189e-04 4.09500410e-05 0.00000000e+00 0.00000000e+00\n",
      " 0.00000000e+00 0.00000000e+00 0.00000000e+00 0.00000000e+00\n",
      " 0.00000000e+00 0.00000000e+00 0.00000000e+00 0.00000000e+00\n",
      " 0.00000000e+00 0.00000000e+00 0.00000000e+00 0.00000000e+00\n",
      " 0.00000000e+00 0.00000000e+00 0.00000000e+00 0.00000000e+00\n",
      " 0.00000000e+00 0.00000000e+00 0.00000000e+00 0.00000000e+00\n",
      " 0.00000000e+00 0.00000000e+00 0.00000000e+00 0.00000000e+00\n",
      " 0.00000000e+00 0.00000000e+00 5.59257496e-03 3.72774012e-03\n",
      " 0.00000000e+00 0.00000000e+00 0.00000000e+00 0.00000000e+00\n",
      " 1.18551441e-02 2.84772159e-02 0.00000000e+00 0.00000000e+00\n",
      " 0.00000000e+00 0.00000000e+00 3.85916616e-06 6.43194360e-07\n",
      " 1.07199060e-06 0.00000000e+00 0.00000000e+00 0.00000000e+00\n",
      " 0.00000000e+00 0.00000000e+00 0.00000000e+00 0.00000000e+00\n",
      " 0.00000000e+00 0.00000000e+00 0.00000000e+00 0.00000000e+00\n",
      " 0.00000000e+00 0.00000000e+00 0.00000000e+00 0.00000000e+00\n",
      " 0.00000000e+00 0.00000000e+00 0.00000000e+00 0.00000000e+00\n",
      " 0.00000000e+00 0.00000000e+00 7.80837954e-04 1.03168375e-03\n",
      " 0.00000000e+00 0.00000000e+00 0.00000000e+00 0.00000000e+00\n",
      " 5.27698093e-03 3.24901055e-02 7.40595426e-03 0.00000000e+00\n",
      " 0.00000000e+00 0.00000000e+00 3.43036992e-06 2.16960178e-02\n",
      " 3.08092243e-02 1.28746071e-03 0.00000000e+00 0.00000000e+00\n",
      " 0.00000000e+00 1.71518496e-06 2.74343835e-03 9.83015381e-04\n",
      " 0.00000000e+00 0.00000000e+00 0.00000000e+00 0.00000000e+00\n",
      " 0.00000000e+00 0.00000000e+00 0.00000000e+00 0.00000000e+00\n",
      " 0.00000000e+00 0.00000000e+00 0.00000000e+00 0.00000000e+00\n",
      " 0.00000000e+00 0.00000000e+00 0.00000000e+00 0.00000000e+00\n",
      " 0.00000000e+00 0.00000000e+00 0.00000000e+00 0.00000000e+00\n",
      " 4.28796240e-07 4.28796240e-05 2.45485848e-04 0.00000000e+00\n",
      " 0.00000000e+00 0.00000000e+00 2.14398120e-07 9.49569274e-04\n",
      " 1.80602544e-02 3.92219921e-03 0.00000000e+00 0.00000000e+00\n",
      " 0.00000000e+00 6.43194360e-07 9.83572816e-03 7.06576877e-02\n",
      " 4.08814336e-03 0.00000000e+00 0.00000000e+00 0.00000000e+00\n",
      " 0.00000000e+00 7.71983311e-03 7.33027173e-04 0.00000000e+00\n",
      " 0.00000000e+00 0.00000000e+00 0.00000000e+00 0.00000000e+00\n",
      " 0.00000000e+00 0.00000000e+00 0.00000000e+00 0.00000000e+00\n",
      " 0.00000000e+00 0.00000000e+00 0.00000000e+00 0.00000000e+00\n",
      " 0.00000000e+00 0.00000000e+00 0.00000000e+00 0.00000000e+00\n",
      " 0.00000000e+00 0.00000000e+00 0.00000000e+00 0.00000000e+00\n",
      " 4.28796240e-07 1.07199060e-06 0.00000000e+00 0.00000000e+00\n",
      " 0.00000000e+00 0.00000000e+00 1.22206928e-05 1.77746762e-02\n",
      " 9.95236074e-04 0.00000000e+00 0.00000000e+00 0.00000000e+00\n",
      " 0.00000000e+00 2.00162085e-03 1.59330392e-01 3.22086008e-02\n",
      " 0.00000000e+00 0.00000000e+00 0.00000000e+00 0.00000000e+00\n",
      " 3.54657370e-02 6.76325302e-02 0.00000000e+00 0.00000000e+00\n",
      " 0.00000000e+00 0.00000000e+00 0.00000000e+00 0.00000000e+00\n",
      " 0.00000000e+00 0.00000000e+00 0.00000000e+00 0.00000000e+00\n",
      " 0.00000000e+00 0.00000000e+00 0.00000000e+00 0.00000000e+00\n",
      " 0.00000000e+00 0.00000000e+00 0.00000000e+00 0.00000000e+00\n",
      " 0.00000000e+00 0.00000000e+00 0.00000000e+00 0.00000000e+00\n",
      " 2.14398120e-07 0.00000000e+00 0.00000000e+00 0.00000000e+00\n",
      " 0.00000000e+00 1.28638872e-06 3.89254795e-02 5.86884838e-02\n",
      " 0.00000000e+00 0.00000000e+00 0.00000000e+00 0.00000000e+00\n",
      " 5.56050101e-02 6.21285017e-02 0.00000000e+00 0.00000000e+00\n",
      " 0.00000000e+00 0.00000000e+00 0.00000000e+00 0.00000000e+00\n",
      " 0.00000000e+00 0.00000000e+00 0.00000000e+00 0.00000000e+00\n",
      " 0.00000000e+00 0.00000000e+00 0.00000000e+00 0.00000000e+00\n",
      " 0.00000000e+00 0.00000000e+00 0.00000000e+00 0.00000000e+00\n",
      " 0.00000000e+00 0.00000000e+00 0.00000000e+00 0.00000000e+00\n",
      " 0.00000000e+00 0.00000000e+00 0.00000000e+00 0.00000000e+00\n",
      " 0.00000000e+00 0.00000000e+00 0.00000000e+00]\n"
     ]
    },
    {
     "name": "stderr",
     "output_type": "stream",
     "text": [
      "progress-bar: 100%|████████████████████████████████████████████████████████████████████████████████████████████████████████████████████████████████████████████| 1/1 [00:00<00:00,  2.36it/s]\n",
      "192.168.1.87 - - [04/Oct/2020 18:16:12] \"\u001b[37mPOST /hazard/predict HTTP/1.1\u001b[0m\" 200 -\n"
     ]
    },
    {
     "name": "stdout",
     "output_type": "stream",
     "text": [
      "  index                                               path is_hurricane  \\\n",
      "0   123  img/modis_hazard_20bbf80b6b1d4aabbe950a3c87137...        False   \n",
      "\n",
      "                                      color_features data_split  \n",
      "0  [0.1983909421082196, 0.0, 0.0, 0.0, 0.0, 0.0, ...    predict  \n",
      "Probability of hurricane:\n",
      "[0.245]\n",
      "Response:  {'latitude': 18.823151790781708, 'longitude': -130.54613906249998, 'predicted': [{'hazardType': 'hurricane', 'probability': 0.245}]}\n"
     ]
    },
    {
     "name": "stderr",
     "output_type": "stream",
     "text": [
      "192.168.1.87 - - [04/Oct/2020 18:16:25] \"\u001b[37mOPTIONS /hazard/predict HTTP/1.1\u001b[0m\" 200 -\n"
     ]
    },
    {
     "name": "stdout",
     "output_type": "stream",
     "text": [
      "Request received: \n",
      "{'latitude': 17.19330990302028, 'longitude': -123.82250624999999, 'predict': ['hurricane']}\n",
      "Calculating Square Shape...\n",
      "Shape:  {'lower_latitude': 12.193309903020278, 'left_longitude': -128.82250625, 'higher_latitude': 22.19330990302028, 'right_longitude': -118.82250624999999}\n",
      "Retrieve & download the MODIS image based on (X,Y,Z,K) parameters\n",
      "2120 2220\n",
      "Image PATH:  img/modis_hazard_5a5e3dc2e5784393b65c69aafdcbc04c.png  \n",
      "\n",
      "Predict if in the image is an Hurricane\n",
      "img/modis_hazard_5a5e3dc2e5784393b65c69aafdcbc04c.png\n",
      "0    img/modis_hazard_5a5e3dc2e5784393b65c69aafdcbc...\n",
      "Name: path, dtype: object\n"
     ]
    },
    {
     "name": "stderr",
     "output_type": "stream",
     "text": [
      "\r",
      "progress-bar:   0%|                                                                                                                                                    | 0/1 [00:00<?, ?it/s]"
     ]
    },
    {
     "name": "stdout",
     "output_type": "stream",
     "text": [
      "[8.35139385e-03 0.00000000e+00 0.00000000e+00 0.00000000e+00\n",
      " 0.00000000e+00 0.00000000e+00 0.00000000e+00 0.00000000e+00\n",
      " 0.00000000e+00 0.00000000e+00 0.00000000e+00 8.60509094e-03\n",
      " 0.00000000e+00 0.00000000e+00 0.00000000e+00 0.00000000e+00\n",
      " 1.36732959e-02 2.82211457e-03 0.00000000e+00 0.00000000e+00\n",
      " 0.00000000e+00 0.00000000e+00 0.00000000e+00 0.00000000e+00\n",
      " 0.00000000e+00 0.00000000e+00 0.00000000e+00 0.00000000e+00\n",
      " 0.00000000e+00 0.00000000e+00 0.00000000e+00 0.00000000e+00\n",
      " 0.00000000e+00 0.00000000e+00 0.00000000e+00 0.00000000e+00\n",
      " 0.00000000e+00 0.00000000e+00 0.00000000e+00 0.00000000e+00\n",
      " 0.00000000e+00 0.00000000e+00 0.00000000e+00 0.00000000e+00\n",
      " 0.00000000e+00 0.00000000e+00 6.29122047e-02 2.18039266e-02\n",
      " 2.12476628e-07 0.00000000e+00 0.00000000e+00 0.00000000e+00\n",
      " 4.09746303e-02 9.16851521e-02 9.77392487e-06 0.00000000e+00\n",
      " 0.00000000e+00 0.00000000e+00 6.58677545e-06 2.91092980e-05\n",
      " 1.83792283e-04 0.00000000e+00 0.00000000e+00 0.00000000e+00\n",
      " 0.00000000e+00 0.00000000e+00 0.00000000e+00 0.00000000e+00\n",
      " 0.00000000e+00 0.00000000e+00 0.00000000e+00 0.00000000e+00\n",
      " 0.00000000e+00 0.00000000e+00 0.00000000e+00 0.00000000e+00\n",
      " 0.00000000e+00 0.00000000e+00 0.00000000e+00 0.00000000e+00\n",
      " 0.00000000e+00 0.00000000e+00 2.42223355e-04 5.41815400e-04\n",
      " 0.00000000e+00 0.00000000e+00 0.00000000e+00 0.00000000e+00\n",
      " 1.94713582e-03 3.18139130e-02 1.99356196e-02 0.00000000e+00\n",
      " 0.00000000e+00 0.00000000e+00 0.00000000e+00 3.82113717e-02\n",
      " 8.42958525e-02 3.24154343e-03 0.00000000e+00 0.00000000e+00\n",
      " 0.00000000e+00 2.12476628e-07 5.53012919e-03 2.76538331e-03\n",
      " 0.00000000e+00 0.00000000e+00 0.00000000e+00 0.00000000e+00\n",
      " 0.00000000e+00 0.00000000e+00 0.00000000e+00 0.00000000e+00\n",
      " 0.00000000e+00 0.00000000e+00 0.00000000e+00 0.00000000e+00\n",
      " 0.00000000e+00 0.00000000e+00 0.00000000e+00 0.00000000e+00\n",
      " 0.00000000e+00 0.00000000e+00 0.00000000e+00 0.00000000e+00\n",
      " 0.00000000e+00 4.03705592e-06 1.89104199e-04 0.00000000e+00\n",
      " 0.00000000e+00 0.00000000e+00 0.00000000e+00 5.70924698e-04\n",
      " 2.63838603e-02 7.60921299e-03 0.00000000e+00 0.00000000e+00\n",
      " 0.00000000e+00 1.27485977e-06 1.36182645e-02 1.07075472e-01\n",
      " 4.41930138e-03 0.00000000e+00 0.00000000e+00 0.00000000e+00\n",
      " 0.00000000e+00 6.30566888e-03 7.53229645e-04 2.12476628e-07\n",
      " 0.00000000e+00 0.00000000e+00 0.00000000e+00 0.00000000e+00\n",
      " 0.00000000e+00 0.00000000e+00 0.00000000e+00 0.00000000e+00\n",
      " 0.00000000e+00 0.00000000e+00 0.00000000e+00 0.00000000e+00\n",
      " 0.00000000e+00 0.00000000e+00 0.00000000e+00 0.00000000e+00\n",
      " 0.00000000e+00 0.00000000e+00 0.00000000e+00 0.00000000e+00\n",
      " 2.12476628e-07 2.12476628e-07 0.00000000e+00 0.00000000e+00\n",
      " 0.00000000e+00 0.00000000e+00 4.88696243e-06 1.55592385e-02\n",
      " 9.13861975e-04 0.00000000e+00 0.00000000e+00 0.00000000e+00\n",
      " 0.00000000e+00 1.27315995e-03 1.12623874e-01 1.81361550e-02\n",
      " 0.00000000e+00 0.00000000e+00 0.00000000e+00 0.00000000e+00\n",
      " 1.94913310e-02 5.25376084e-02 0.00000000e+00 0.00000000e+00\n",
      " 0.00000000e+00 0.00000000e+00 0.00000000e+00 0.00000000e+00\n",
      " 0.00000000e+00 0.00000000e+00 0.00000000e+00 0.00000000e+00\n",
      " 0.00000000e+00 0.00000000e+00 0.00000000e+00 0.00000000e+00\n",
      " 0.00000000e+00 0.00000000e+00 0.00000000e+00 0.00000000e+00\n",
      " 0.00000000e+00 0.00000000e+00 0.00000000e+00 0.00000000e+00\n",
      " 2.12476628e-07 0.00000000e+00 0.00000000e+00 0.00000000e+00\n",
      " 0.00000000e+00 4.24953255e-07 2.21702363e-02 4.50684175e-02\n",
      " 0.00000000e+00 0.00000000e+00 0.00000000e+00 0.00000000e+00\n",
      " 4.22694629e-02 6.34376594e-02 0.00000000e+00 0.00000000e+00\n",
      " 0.00000000e+00 0.00000000e+00 0.00000000e+00 0.00000000e+00\n",
      " 0.00000000e+00 0.00000000e+00 0.00000000e+00 0.00000000e+00\n",
      " 0.00000000e+00 0.00000000e+00 0.00000000e+00 0.00000000e+00\n",
      " 0.00000000e+00 0.00000000e+00 0.00000000e+00 0.00000000e+00\n",
      " 0.00000000e+00 0.00000000e+00 0.00000000e+00 0.00000000e+00\n",
      " 0.00000000e+00 0.00000000e+00 0.00000000e+00 0.00000000e+00\n",
      " 0.00000000e+00 0.00000000e+00 0.00000000e+00]\n"
     ]
    },
    {
     "name": "stderr",
     "output_type": "stream",
     "text": [
      "progress-bar: 100%|████████████████████████████████████████████████████████████████████████████████████████████████████████████████████████████████████████████| 1/1 [00:00<00:00,  2.23it/s]\n",
      "192.168.1.87 - - [04/Oct/2020 18:16:37] \"\u001b[37mPOST /hazard/predict HTTP/1.1\u001b[0m\" 200 -\n"
     ]
    },
    {
     "name": "stdout",
     "output_type": "stream",
     "text": [
      "  index                                               path is_hurricane  \\\n",
      "0   123  img/modis_hazard_5a5e3dc2e5784393b65c69aafdcbc...        False   \n",
      "\n",
      "                                      color_features data_split  \n",
      "0  [0.008351393846676866, 0.0, 0.0, 0.0, 0.0, 0.0...    predict  \n",
      "Probability of hurricane:\n",
      "[0.305]\n",
      "Response:  {'latitude': 17.19330990302028, 'longitude': -123.82250624999999, 'predicted': [{'hazardType': 'hurricane', 'probability': 0.305}]}\n"
     ]
    },
    {
     "name": "stderr",
     "output_type": "stream",
     "text": [
      "192.168.1.87 - - [04/Oct/2020 18:16:57] \"\u001b[37mOPTIONS /hazard/predict HTTP/1.1\u001b[0m\" 200 -\n"
     ]
    },
    {
     "name": "stdout",
     "output_type": "stream",
     "text": [
      "Request received: \n",
      "{'latitude': 15.697121883945526, 'longitude': -124.23998671874999, 'predict': ['hurricane']}\n",
      "Calculating Square Shape...\n",
      "Shape:  {'lower_latitude': 10.697121883945526, 'left_longitude': -129.23998671875, 'higher_latitude': 20.697121883945528, 'right_longitude': -119.23998671874999}\n",
      "Retrieve & download the MODIS image based on (X,Y,Z,K) parameters\n",
      "2137 2220\n",
      "Image PATH:  img/modis_hazard_8b701bd63cc447b78bb244952ea29e58.png  \n",
      "\n",
      "Predict if in the image is an Hurricane\n",
      "img/modis_hazard_8b701bd63cc447b78bb244952ea29e58.png\n",
      "0    img/modis_hazard_8b701bd63cc447b78bb244952ea29...\n",
      "Name: path, dtype: object\n"
     ]
    },
    {
     "name": "stderr",
     "output_type": "stream",
     "text": [
      "\r",
      "progress-bar:   0%|                                                                                                                                                    | 0/1 [00:00<?, ?it/s]"
     ]
    },
    {
     "name": "stdout",
     "output_type": "stream",
     "text": [
      "[4.05363248e-03 0.00000000e+00 0.00000000e+00 0.00000000e+00\n",
      " 0.00000000e+00 0.00000000e+00 0.00000000e+00 0.00000000e+00\n",
      " 0.00000000e+00 0.00000000e+00 0.00000000e+00 5.00111717e-03\n",
      " 0.00000000e+00 0.00000000e+00 0.00000000e+00 0.00000000e+00\n",
      " 7.57650491e-03 2.03999039e-03 0.00000000e+00 0.00000000e+00\n",
      " 0.00000000e+00 0.00000000e+00 0.00000000e+00 0.00000000e+00\n",
      " 0.00000000e+00 0.00000000e+00 0.00000000e+00 0.00000000e+00\n",
      " 0.00000000e+00 0.00000000e+00 0.00000000e+00 0.00000000e+00\n",
      " 0.00000000e+00 0.00000000e+00 0.00000000e+00 0.00000000e+00\n",
      " 0.00000000e+00 0.00000000e+00 0.00000000e+00 0.00000000e+00\n",
      " 0.00000000e+00 0.00000000e+00 0.00000000e+00 0.00000000e+00\n",
      " 0.00000000e+00 0.00000000e+00 3.88557252e-02 1.93251042e-02\n",
      " 2.10786360e-07 0.00000000e+00 0.00000000e+00 0.00000000e+00\n",
      " 3.61783168e-02 9.88042090e-02 1.03285316e-05 0.00000000e+00\n",
      " 0.00000000e+00 0.00000000e+00 8.00988166e-06 3.35150312e-05\n",
      " 2.03198051e-04 0.00000000e+00 0.00000000e+00 0.00000000e+00\n",
      " 0.00000000e+00 0.00000000e+00 0.00000000e+00 0.00000000e+00\n",
      " 0.00000000e+00 0.00000000e+00 0.00000000e+00 0.00000000e+00\n",
      " 0.00000000e+00 0.00000000e+00 0.00000000e+00 0.00000000e+00\n",
      " 0.00000000e+00 0.00000000e+00 0.00000000e+00 0.00000000e+00\n",
      " 0.00000000e+00 0.00000000e+00 3.35571884e-04 7.23840359e-04\n",
      " 0.00000000e+00 0.00000000e+00 0.00000000e+00 0.00000000e+00\n",
      " 2.68900159e-03 3.78176023e-02 2.32282353e-02 0.00000000e+00\n",
      " 0.00000000e+00 0.00000000e+00 2.10786360e-07 4.54343675e-02\n",
      " 1.07729957e-01 3.30576248e-03 0.00000000e+00 0.00000000e+00\n",
      " 0.00000000e+00 6.32359079e-07 6.04914695e-03 2.74528155e-03\n",
      " 0.00000000e+00 0.00000000e+00 0.00000000e+00 0.00000000e+00\n",
      " 0.00000000e+00 0.00000000e+00 0.00000000e+00 0.00000000e+00\n",
      " 0.00000000e+00 0.00000000e+00 0.00000000e+00 0.00000000e+00\n",
      " 0.00000000e+00 0.00000000e+00 0.00000000e+00 0.00000000e+00\n",
      " 0.00000000e+00 0.00000000e+00 0.00000000e+00 0.00000000e+00\n",
      " 0.00000000e+00 4.00494083e-06 2.13737369e-04 0.00000000e+00\n",
      " 0.00000000e+00 0.00000000e+00 0.00000000e+00 7.32693386e-04\n",
      " 3.14533298e-02 7.89458153e-03 0.00000000e+00 0.00000000e+00\n",
      " 0.00000000e+00 2.10786360e-07 1.51532206e-02 1.14691388e-01\n",
      " 4.65901091e-03 0.00000000e+00 0.00000000e+00 0.00000000e+00\n",
      " 0.00000000e+00 7.22596719e-03 8.04571535e-04 0.00000000e+00\n",
      " 0.00000000e+00 0.00000000e+00 0.00000000e+00 0.00000000e+00\n",
      " 0.00000000e+00 0.00000000e+00 0.00000000e+00 0.00000000e+00\n",
      " 0.00000000e+00 0.00000000e+00 0.00000000e+00 0.00000000e+00\n",
      " 0.00000000e+00 0.00000000e+00 0.00000000e+00 0.00000000e+00\n",
      " 0.00000000e+00 0.00000000e+00 0.00000000e+00 0.00000000e+00\n",
      " 0.00000000e+00 0.00000000e+00 0.00000000e+00 0.00000000e+00\n",
      " 0.00000000e+00 0.00000000e+00 5.26965899e-06 1.80409937e-02\n",
      " 1.02716193e-03 0.00000000e+00 0.00000000e+00 0.00000000e+00\n",
      " 0.00000000e+00 1.57499568e-03 1.24221461e-01 1.89199729e-02\n",
      " 0.00000000e+00 0.00000000e+00 0.00000000e+00 0.00000000e+00\n",
      " 2.06210188e-02 4.35031428e-02 0.00000000e+00 0.00000000e+00\n",
      " 0.00000000e+00 0.00000000e+00 0.00000000e+00 0.00000000e+00\n",
      " 0.00000000e+00 0.00000000e+00 0.00000000e+00 0.00000000e+00\n",
      " 0.00000000e+00 0.00000000e+00 0.00000000e+00 0.00000000e+00\n",
      " 0.00000000e+00 0.00000000e+00 0.00000000e+00 0.00000000e+00\n",
      " 0.00000000e+00 0.00000000e+00 0.00000000e+00 0.00000000e+00\n",
      " 6.32359079e-07 0.00000000e+00 0.00000000e+00 0.00000000e+00\n",
      " 0.00000000e+00 6.32359079e-07 2.31527737e-02 3.70279966e-02\n",
      " 0.00000000e+00 0.00000000e+00 0.00000000e+00 0.00000000e+00\n",
      " 3.47867053e-02 5.21350550e-02 0.00000000e+00 0.00000000e+00\n",
      " 0.00000000e+00 0.00000000e+00 0.00000000e+00 0.00000000e+00\n",
      " 0.00000000e+00 0.00000000e+00 0.00000000e+00 0.00000000e+00\n",
      " 0.00000000e+00 0.00000000e+00 0.00000000e+00 0.00000000e+00\n",
      " 0.00000000e+00 0.00000000e+00 0.00000000e+00 0.00000000e+00\n",
      " 0.00000000e+00 0.00000000e+00 0.00000000e+00 0.00000000e+00\n",
      " 0.00000000e+00 0.00000000e+00 0.00000000e+00 0.00000000e+00\n",
      " 0.00000000e+00 0.00000000e+00 0.00000000e+00]\n"
     ]
    },
    {
     "name": "stderr",
     "output_type": "stream",
     "text": [
      "progress-bar: 100%|████████████████████████████████████████████████████████████████████████████████████████████████████████████████████████████████████████████| 1/1 [00:00<00:00,  2.16it/s]\n",
      "192.168.1.87 - - [04/Oct/2020 18:17:08] \"\u001b[37mPOST /hazard/predict HTTP/1.1\u001b[0m\" 200 -\n"
     ]
    },
    {
     "name": "stdout",
     "output_type": "stream",
     "text": [
      "  index                                               path is_hurricane  \\\n",
      "0   123  img/modis_hazard_8b701bd63cc447b78bb244952ea29...        False   \n",
      "\n",
      "                                      color_features data_split  \n",
      "0  [0.0040536324813348675, 0.0, 0.0, 0.0, 0.0, 0....    predict  \n",
      "Probability of hurricane:\n",
      "[0.255]\n",
      "Response:  {'latitude': 15.697121883945526, 'longitude': -124.23998671874999, 'predicted': [{'hazardType': 'hurricane', 'probability': 0.255}]}\n"
     ]
    },
    {
     "name": "stderr",
     "output_type": "stream",
     "text": [
      "192.168.1.87 - - [04/Oct/2020 18:17:17] \"\u001b[37mOPTIONS /hazard/predict HTTP/1.1\u001b[0m\" 200 -\n"
     ]
    },
    {
     "name": "stdout",
     "output_type": "stream",
     "text": [
      "Request received: \n",
      "{'latitude': 13.944765701434935, 'longitude': -124.56957656249999, 'predict': ['hurricane']}\n",
      "Calculating Square Shape...\n",
      "Shape:  {'lower_latitude': 8.944765701434935, 'left_longitude': -129.5695765625, 'higher_latitude': 18.944765701434935, 'right_longitude': -119.56957656249999}\n",
      "Retrieve & download the MODIS image based on (X,Y,Z,K) parameters\n",
      "2154 2220\n",
      "Image PATH:  img/modis_hazard_048c69304cd9432f85dc3628858b9a96.png  \n",
      "\n",
      "Predict if in the image is an Hurricane\n",
      "img/modis_hazard_048c69304cd9432f85dc3628858b9a96.png\n",
      "0    img/modis_hazard_048c69304cd9432f85dc3628858b9...\n",
      "Name: path, dtype: object\n"
     ]
    },
    {
     "name": "stderr",
     "output_type": "stream",
     "text": [
      "\r",
      "progress-bar:   0%|                                                                                                                                                    | 0/1 [00:00<?, ?it/s]"
     ]
    },
    {
     "name": "stdout",
     "output_type": "stream",
     "text": [
      "[1.88105933e-03 0.00000000e+00 0.00000000e+00 0.00000000e+00\n",
      " 0.00000000e+00 0.00000000e+00 0.00000000e+00 0.00000000e+00\n",
      " 0.00000000e+00 0.00000000e+00 0.00000000e+00 3.10003597e-03\n",
      " 0.00000000e+00 0.00000000e+00 0.00000000e+00 0.00000000e+00\n",
      " 4.51056906e-03 1.64433235e-03 0.00000000e+00 0.00000000e+00\n",
      " 0.00000000e+00 0.00000000e+00 0.00000000e+00 0.00000000e+00\n",
      " 0.00000000e+00 0.00000000e+00 0.00000000e+00 0.00000000e+00\n",
      " 0.00000000e+00 0.00000000e+00 0.00000000e+00 0.00000000e+00\n",
      " 0.00000000e+00 0.00000000e+00 0.00000000e+00 0.00000000e+00\n",
      " 0.00000000e+00 0.00000000e+00 0.00000000e+00 0.00000000e+00\n",
      " 0.00000000e+00 0.00000000e+00 0.00000000e+00 0.00000000e+00\n",
      " 0.00000000e+00 0.00000000e+00 2.56965880e-02 1.72745866e-02\n",
      " 0.00000000e+00 0.00000000e+00 0.00000000e+00 0.00000000e+00\n",
      " 3.23579847e-02 1.00856985e-01 1.79845584e-05 0.00000000e+00\n",
      " 0.00000000e+00 0.00000000e+00 6.69192870e-06 3.68056078e-05\n",
      " 2.06195053e-04 0.00000000e+00 0.00000000e+00 0.00000000e+00\n",
      " 0.00000000e+00 0.00000000e+00 0.00000000e+00 0.00000000e+00\n",
      " 0.00000000e+00 0.00000000e+00 0.00000000e+00 0.00000000e+00\n",
      " 0.00000000e+00 0.00000000e+00 0.00000000e+00 0.00000000e+00\n",
      " 0.00000000e+00 0.00000000e+00 0.00000000e+00 0.00000000e+00\n",
      " 0.00000000e+00 0.00000000e+00 4.28701682e-04 8.35654596e-04\n",
      " 0.00000000e+00 0.00000000e+00 0.00000000e+00 0.00000000e+00\n",
      " 3.15315315e-03 4.20453880e-02 2.61675324e-02 0.00000000e+00\n",
      " 0.00000000e+00 0.00000000e+00 2.09122772e-07 5.11077233e-02\n",
      " 1.36611124e-01 5.55890152e-03 0.00000000e+00 0.00000000e+00\n",
      " 0.00000000e+00 1.88210495e-06 8.77290940e-03 3.48712222e-03\n",
      " 0.00000000e+00 0.00000000e+00 0.00000000e+00 0.00000000e+00\n",
      " 0.00000000e+00 0.00000000e+00 0.00000000e+00 0.00000000e+00\n",
      " 0.00000000e+00 0.00000000e+00 0.00000000e+00 0.00000000e+00\n",
      " 0.00000000e+00 0.00000000e+00 0.00000000e+00 0.00000000e+00\n",
      " 0.00000000e+00 0.00000000e+00 0.00000000e+00 0.00000000e+00\n",
      " 0.00000000e+00 7.11017424e-06 2.51156449e-04 0.00000000e+00\n",
      " 0.00000000e+00 0.00000000e+00 0.00000000e+00 8.51338804e-04\n",
      " 4.03692690e-02 9.54519980e-03 0.00000000e+00 0.00000000e+00\n",
      " 0.00000000e+00 4.18245544e-07 1.81321991e-02 1.22619346e-01\n",
      " 5.01957389e-03 0.00000000e+00 0.00000000e+00 0.00000000e+00\n",
      " 0.00000000e+00 8.21078739e-03 9.06965461e-04 0.00000000e+00\n",
      " 0.00000000e+00 0.00000000e+00 0.00000000e+00 0.00000000e+00\n",
      " 0.00000000e+00 0.00000000e+00 0.00000000e+00 0.00000000e+00\n",
      " 0.00000000e+00 0.00000000e+00 0.00000000e+00 0.00000000e+00\n",
      " 0.00000000e+00 0.00000000e+00 0.00000000e+00 0.00000000e+00\n",
      " 0.00000000e+00 0.00000000e+00 0.00000000e+00 0.00000000e+00\n",
      " 2.09122772e-07 8.36491087e-07 0.00000000e+00 0.00000000e+00\n",
      " 0.00000000e+00 0.00000000e+00 8.99227919e-06 2.09062126e-02\n",
      " 1.13009946e-03 0.00000000e+00 0.00000000e+00 0.00000000e+00\n",
      " 0.00000000e+00 1.95571616e-03 1.33269342e-01 1.94900332e-02\n",
      " 0.00000000e+00 0.00000000e+00 0.00000000e+00 0.00000000e+00\n",
      " 2.18207065e-02 3.33400253e-02 0.00000000e+00 0.00000000e+00\n",
      " 0.00000000e+00 0.00000000e+00 0.00000000e+00 0.00000000e+00\n",
      " 0.00000000e+00 0.00000000e+00 0.00000000e+00 0.00000000e+00\n",
      " 0.00000000e+00 0.00000000e+00 0.00000000e+00 0.00000000e+00\n",
      " 0.00000000e+00 0.00000000e+00 0.00000000e+00 0.00000000e+00\n",
      " 0.00000000e+00 0.00000000e+00 0.00000000e+00 0.00000000e+00\n",
      " 6.27368315e-07 0.00000000e+00 0.00000000e+00 0.00000000e+00\n",
      " 0.00000000e+00 4.18245544e-07 2.45706709e-02 2.88551783e-02\n",
      " 0.00000000e+00 0.00000000e+00 0.00000000e+00 0.00000000e+00\n",
      " 2.75975139e-02 1.53799343e-02 0.00000000e+00 0.00000000e+00\n",
      " 0.00000000e+00 0.00000000e+00 0.00000000e+00 0.00000000e+00\n",
      " 0.00000000e+00 0.00000000e+00 0.00000000e+00 0.00000000e+00\n",
      " 0.00000000e+00 0.00000000e+00 0.00000000e+00 0.00000000e+00\n",
      " 0.00000000e+00 0.00000000e+00 0.00000000e+00 0.00000000e+00\n",
      " 0.00000000e+00 0.00000000e+00 0.00000000e+00 0.00000000e+00\n",
      " 0.00000000e+00 0.00000000e+00 0.00000000e+00 0.00000000e+00\n",
      " 0.00000000e+00 0.00000000e+00 0.00000000e+00]\n"
     ]
    },
    {
     "name": "stderr",
     "output_type": "stream",
     "text": [
      "progress-bar: 100%|████████████████████████████████████████████████████████████████████████████████████████████████████████████████████████████████████████████| 1/1 [00:00<00:00,  2.22it/s]\n",
      "192.168.1.87 - - [04/Oct/2020 18:17:29] \"\u001b[37mPOST /hazard/predict HTTP/1.1\u001b[0m\" 200 -\n"
     ]
    },
    {
     "name": "stdout",
     "output_type": "stream",
     "text": [
      "  index                                               path is_hurricane  \\\n",
      "0   123  img/modis_hazard_048c69304cd9432f85dc3628858b9...        False   \n",
      "\n",
      "                                      color_features data_split  \n",
      "0  [0.0018810593323128142, 0.0, 0.0, 0.0, 0.0, 0....    predict  \n",
      "Probability of hurricane:\n",
      "[0.735]\n",
      "Response:  {'latitude': 13.944765701434935, 'longitude': -124.56957656249999, 'predicted': [{'hazardType': 'hurricane', 'probability': 0.735}]}\n"
     ]
    },
    {
     "name": "stderr",
     "output_type": "stream",
     "text": [
      "192.168.1.87 - - [04/Oct/2020 18:17:34] \"\u001b[37mOPTIONS /hazard/predict HTTP/1.1\u001b[0m\" 200 -\n"
     ]
    },
    {
     "name": "stdout",
     "output_type": "stream",
     "text": [
      "Request received: \n",
      "{'latitude': 14.349583500131489, 'longitude': -124.55859023437499, 'predict': ['hurricane']}\n",
      "Calculating Square Shape...\n",
      "Shape:  {'lower_latitude': 9.349583500131489, 'left_longitude': -129.558590234375, 'higher_latitude': 19.349583500131487, 'right_longitude': -119.55859023437499}\n",
      "Retrieve & download the MODIS image based on (X,Y,Z,K) parameters\n",
      "2150 2219\n",
      "Image PATH:  img/modis_hazard_ec3d802b2bbf4603b8bb3b9419f7e21c.png  \n",
      "\n",
      "Predict if in the image is an Hurricane\n",
      "img/modis_hazard_ec3d802b2bbf4603b8bb3b9419f7e21c.png\n",
      "0    img/modis_hazard_ec3d802b2bbf4603b8bb3b9419f7e...\n",
      "Name: path, dtype: object\n"
     ]
    },
    {
     "name": "stderr",
     "output_type": "stream",
     "text": [
      "\r",
      "progress-bar:   0%|                                                                                                                                                    | 0/1 [00:00<?, ?it/s]"
     ]
    },
    {
     "name": "stdout",
     "output_type": "stream",
     "text": [
      "[1.95415911e-03 0.00000000e+00 0.00000000e+00 0.00000000e+00\n",
      " 0.00000000e+00 0.00000000e+00 0.00000000e+00 0.00000000e+00\n",
      " 0.00000000e+00 0.00000000e+00 0.00000000e+00 3.18873995e-03\n",
      " 0.00000000e+00 0.00000000e+00 0.00000000e+00 0.00000000e+00\n",
      " 4.65409728e-03 1.68879759e-03 0.00000000e+00 0.00000000e+00\n",
      " 0.00000000e+00 0.00000000e+00 0.00000000e+00 0.00000000e+00\n",
      " 0.00000000e+00 0.00000000e+00 0.00000000e+00 0.00000000e+00\n",
      " 0.00000000e+00 0.00000000e+00 0.00000000e+00 0.00000000e+00\n",
      " 0.00000000e+00 0.00000000e+00 0.00000000e+00 0.00000000e+00\n",
      " 0.00000000e+00 0.00000000e+00 0.00000000e+00 0.00000000e+00\n",
      " 0.00000000e+00 0.00000000e+00 0.00000000e+00 0.00000000e+00\n",
      " 0.00000000e+00 0.00000000e+00 2.67298280e-02 1.76848989e-02\n",
      " 0.00000000e+00 0.00000000e+00 0.00000000e+00 0.00000000e+00\n",
      " 3.30119371e-02 9.96375908e-02 1.15283440e-05 0.00000000e+00\n",
      " 0.00000000e+00 0.00000000e+00 7.54582517e-06 3.52138508e-05\n",
      " 2.05623736e-04 0.00000000e+00 0.00000000e+00 0.00000000e+00\n",
      " 0.00000000e+00 0.00000000e+00 0.00000000e+00 0.00000000e+00\n",
      " 0.00000000e+00 0.00000000e+00 0.00000000e+00 0.00000000e+00\n",
      " 0.00000000e+00 0.00000000e+00 0.00000000e+00 0.00000000e+00\n",
      " 0.00000000e+00 0.00000000e+00 0.00000000e+00 0.00000000e+00\n",
      " 0.00000000e+00 0.00000000e+00 3.94059759e-04 8.44084387e-04\n",
      " 0.00000000e+00 0.00000000e+00 0.00000000e+00 0.00000000e+00\n",
      " 3.09253068e-03 4.06587925e-02 2.54332037e-02 0.00000000e+00\n",
      " 0.00000000e+00 0.00000000e+00 4.19212509e-07 4.96615907e-02\n",
      " 1.30458933e-01 4.98590398e-03 0.00000000e+00 0.00000000e+00\n",
      " 0.00000000e+00 6.28818764e-07 8.20168314e-03 3.29878324e-03\n",
      " 0.00000000e+00 0.00000000e+00 0.00000000e+00 0.00000000e+00\n",
      " 0.00000000e+00 0.00000000e+00 0.00000000e+00 0.00000000e+00\n",
      " 0.00000000e+00 0.00000000e+00 0.00000000e+00 0.00000000e+00\n",
      " 0.00000000e+00 0.00000000e+00 0.00000000e+00 0.00000000e+00\n",
      " 0.00000000e+00 0.00000000e+00 0.00000000e+00 0.00000000e+00\n",
      " 0.00000000e+00 3.56330633e-06 2.52365931e-04 0.00000000e+00\n",
      " 0.00000000e+00 0.00000000e+00 0.00000000e+00 8.23752581e-04\n",
      " 3.84616997e-02 9.05729587e-03 0.00000000e+00 0.00000000e+00\n",
      " 0.00000000e+00 6.28818764e-07 1.73384198e-02 1.21972604e-01\n",
      " 4.98275989e-03 0.00000000e+00 0.00000000e+00 0.00000000e+00\n",
      " 0.00000000e+00 8.16060031e-03 9.06966264e-04 0.00000000e+00\n",
      " 0.00000000e+00 0.00000000e+00 0.00000000e+00 0.00000000e+00\n",
      " 0.00000000e+00 0.00000000e+00 0.00000000e+00 0.00000000e+00\n",
      " 0.00000000e+00 0.00000000e+00 0.00000000e+00 0.00000000e+00\n",
      " 0.00000000e+00 0.00000000e+00 0.00000000e+00 0.00000000e+00\n",
      " 0.00000000e+00 0.00000000e+00 0.00000000e+00 0.00000000e+00\n",
      " 4.19212509e-07 4.19212509e-07 0.00000000e+00 0.00000000e+00\n",
      " 0.00000000e+00 0.00000000e+00 7.75543142e-06 2.06141463e-02\n",
      " 1.16079944e-03 0.00000000e+00 0.00000000e+00 0.00000000e+00\n",
      " 0.00000000e+00 1.87807204e-03 1.33795236e-01 1.94413993e-02\n",
      " 0.00000000e+00 0.00000000e+00 0.00000000e+00 0.00000000e+00\n",
      " 2.15391387e-02 3.55957534e-02 0.00000000e+00 0.00000000e+00\n",
      " 0.00000000e+00 0.00000000e+00 0.00000000e+00 0.00000000e+00\n",
      " 0.00000000e+00 0.00000000e+00 0.00000000e+00 0.00000000e+00\n",
      " 0.00000000e+00 0.00000000e+00 0.00000000e+00 0.00000000e+00\n",
      " 0.00000000e+00 0.00000000e+00 0.00000000e+00 0.00000000e+00\n",
      " 0.00000000e+00 0.00000000e+00 0.00000000e+00 0.00000000e+00\n",
      " 0.00000000e+00 0.00000000e+00 0.00000000e+00 0.00000000e+00\n",
      " 0.00000000e+00 4.19212509e-07 2.43051029e-02 3.07758576e-02\n",
      " 0.00000000e+00 0.00000000e+00 0.00000000e+00 0.00000000e+00\n",
      " 2.95549011e-02 2.35293501e-02 0.00000000e+00 0.00000000e+00\n",
      " 0.00000000e+00 0.00000000e+00 0.00000000e+00 0.00000000e+00\n",
      " 0.00000000e+00 0.00000000e+00 0.00000000e+00 0.00000000e+00\n",
      " 0.00000000e+00 0.00000000e+00 0.00000000e+00 0.00000000e+00\n",
      " 0.00000000e+00 0.00000000e+00 0.00000000e+00 0.00000000e+00\n",
      " 0.00000000e+00 0.00000000e+00 0.00000000e+00 0.00000000e+00\n",
      " 0.00000000e+00 0.00000000e+00 0.00000000e+00 0.00000000e+00\n",
      " 0.00000000e+00 0.00000000e+00 0.00000000e+00]\n"
     ]
    },
    {
     "name": "stderr",
     "output_type": "stream",
     "text": [
      "progress-bar: 100%|████████████████████████████████████████████████████████████████████████████████████████████████████████████████████████████████████████████| 1/1 [00:00<00:00,  2.22it/s]\n",
      "192.168.1.87 - - [04/Oct/2020 18:17:45] \"\u001b[37mPOST /hazard/predict HTTP/1.1\u001b[0m\" 200 -\n"
     ]
    },
    {
     "name": "stdout",
     "output_type": "stream",
     "text": [
      "  index                                               path is_hurricane  \\\n",
      "0   123  img/modis_hazard_ec3d802b2bbf4603b8bb3b9419f7e...        False   \n",
      "\n",
      "                                      color_features data_split  \n",
      "0  [0.0019541591121079054, 0.0, 0.0, 0.0, 0.0, 0....    predict  \n",
      "Probability of hurricane:\n",
      "[0.755]\n",
      "Response:  {'latitude': 14.349583500131489, 'longitude': -124.55859023437499, 'predicted': [{'hazardType': 'hurricane', 'probability': 0.755}]}\n"
     ]
    },
    {
     "name": "stderr",
     "output_type": "stream",
     "text": [
      "192.168.1.87 - - [04/Oct/2020 18:17:51] \"\u001b[37mOPTIONS /hazard/predict HTTP/1.1\u001b[0m\" 200 -\n"
     ]
    },
    {
     "name": "stdout",
     "output_type": "stream",
     "text": [
      "Request received: \n",
      "{'latitude': 14.703263858462666, 'longitude': -124.63532193701262, 'predict': ['hurricane']}\n",
      "Calculating Square Shape...\n",
      "Shape:  {'lower_latitude': 9.703263858462666, 'left_longitude': -129.63532193701263, 'higher_latitude': 19.703263858462666, 'right_longitude': -119.63532193701262}\n",
      "Retrieve & download the MODIS image based on (X,Y,Z,K) parameters\n",
      "2147 2220\n",
      "Image PATH:  img/modis_hazard_9cbaa678a0d241ee81d857b48266e294.png  \n",
      "\n",
      "Predict if in the image is an Hurricane\n",
      "img/modis_hazard_9cbaa678a0d241ee81d857b48266e294.png\n",
      "0    img/modis_hazard_9cbaa678a0d241ee81d857b48266e...\n",
      "Name: path, dtype: object\n"
     ]
    },
    {
     "name": "stderr",
     "output_type": "stream",
     "text": [
      "\r",
      "progress-bar:   0%|                                                                                                                                                    | 0/1 [00:00<?, ?it/s]"
     ]
    },
    {
     "name": "stdout",
     "output_type": "stream",
     "text": [
      "[1.95852583e-03 0.00000000e+00 0.00000000e+00 0.00000000e+00\n",
      " 0.00000000e+00 0.00000000e+00 0.00000000e+00 0.00000000e+00\n",
      " 0.00000000e+00 0.00000000e+00 0.00000000e+00 3.21945140e-03\n",
      " 0.00000000e+00 0.00000000e+00 0.00000000e+00 0.00000000e+00\n",
      " 4.67696388e-03 1.70214462e-03 0.00000000e+00 0.00000000e+00\n",
      " 0.00000000e+00 0.00000000e+00 0.00000000e+00 0.00000000e+00\n",
      " 0.00000000e+00 0.00000000e+00 0.00000000e+00 0.00000000e+00\n",
      " 0.00000000e+00 0.00000000e+00 0.00000000e+00 0.00000000e+00\n",
      " 0.00000000e+00 0.00000000e+00 0.00000000e+00 0.00000000e+00\n",
      " 0.00000000e+00 0.00000000e+00 0.00000000e+00 0.00000000e+00\n",
      " 0.00000000e+00 0.00000000e+00 0.00000000e+00 0.00000000e+00\n",
      " 0.00000000e+00 0.00000000e+00 2.76610565e-02 1.81904774e-02\n",
      " 0.00000000e+00 0.00000000e+00 0.00000000e+00 0.00000000e+00\n",
      " 3.40712161e-02 1.00081824e-01 1.51059303e-05 0.00000000e+00\n",
      " 0.00000000e+00 0.00000000e+00 8.81179270e-06 3.98628717e-05\n",
      " 2.10014393e-04 0.00000000e+00 0.00000000e+00 0.00000000e+00\n",
      " 0.00000000e+00 0.00000000e+00 0.00000000e+00 0.00000000e+00\n",
      " 0.00000000e+00 0.00000000e+00 0.00000000e+00 0.00000000e+00\n",
      " 0.00000000e+00 0.00000000e+00 0.00000000e+00 0.00000000e+00\n",
      " 0.00000000e+00 0.00000000e+00 0.00000000e+00 0.00000000e+00\n",
      " 0.00000000e+00 0.00000000e+00 4.39121003e-04 8.71108649e-04\n",
      " 0.00000000e+00 0.00000000e+00 0.00000000e+00 0.00000000e+00\n",
      " 3.15692964e-03 4.06051604e-02 2.48186239e-02 0.00000000e+00\n",
      " 0.00000000e+00 0.00000000e+00 4.19609176e-07 4.86379486e-02\n",
      " 1.24400903e-01 4.39100022e-03 0.00000000e+00 0.00000000e+00\n",
      " 0.00000000e+00 8.39218352e-07 7.53408276e-03 3.08328823e-03\n",
      " 0.00000000e+00 0.00000000e+00 0.00000000e+00 0.00000000e+00\n",
      " 0.00000000e+00 0.00000000e+00 0.00000000e+00 0.00000000e+00\n",
      " 0.00000000e+00 0.00000000e+00 0.00000000e+00 0.00000000e+00\n",
      " 0.00000000e+00 0.00000000e+00 0.00000000e+00 0.00000000e+00\n",
      " 0.00000000e+00 0.00000000e+00 0.00000000e+00 0.00000000e+00\n",
      " 0.00000000e+00 4.82550552e-06 2.29945828e-04 0.00000000e+00\n",
      " 0.00000000e+00 0.00000000e+00 0.00000000e+00 8.14671215e-04\n",
      " 3.66396438e-02 8.69535115e-03 0.00000000e+00 0.00000000e+00\n",
      " 0.00000000e+00 4.19609176e-07 1.68166769e-02 1.19243696e-01\n",
      " 4.86473898e-03 0.00000000e+00 0.00000000e+00 0.00000000e+00\n",
      " 0.00000000e+00 7.92893499e-03 8.58520374e-04 0.00000000e+00\n",
      " 0.00000000e+00 0.00000000e+00 0.00000000e+00 0.00000000e+00\n",
      " 0.00000000e+00 0.00000000e+00 0.00000000e+00 0.00000000e+00\n",
      " 0.00000000e+00 0.00000000e+00 0.00000000e+00 0.00000000e+00\n",
      " 0.00000000e+00 0.00000000e+00 0.00000000e+00 0.00000000e+00\n",
      " 0.00000000e+00 0.00000000e+00 0.00000000e+00 0.00000000e+00\n",
      " 6.29413764e-07 4.19609176e-07 0.00000000e+00 0.00000000e+00\n",
      " 0.00000000e+00 0.00000000e+00 5.87452846e-06 2.01013776e-02\n",
      " 1.08972503e-03 0.00000000e+00 0.00000000e+00 0.00000000e+00\n",
      " 0.00000000e+00 1.82299207e-03 1.32093598e-01 1.96471506e-02\n",
      " 0.00000000e+00 0.00000000e+00 0.00000000e+00 0.00000000e+00\n",
      " 2.15649744e-02 3.78970027e-02 0.00000000e+00 0.00000000e+00\n",
      " 0.00000000e+00 0.00000000e+00 0.00000000e+00 0.00000000e+00\n",
      " 0.00000000e+00 0.00000000e+00 0.00000000e+00 0.00000000e+00\n",
      " 0.00000000e+00 0.00000000e+00 0.00000000e+00 0.00000000e+00\n",
      " 0.00000000e+00 0.00000000e+00 0.00000000e+00 0.00000000e+00\n",
      " 0.00000000e+00 0.00000000e+00 0.00000000e+00 0.00000000e+00\n",
      " 4.19609176e-07 0.00000000e+00 0.00000000e+00 0.00000000e+00\n",
      " 0.00000000e+00 0.00000000e+00 2.44034207e-02 3.25679662e-02\n",
      " 0.00000000e+00 0.00000000e+00 0.00000000e+00 0.00000000e+00\n",
      " 3.12547993e-02 3.16773457e-02 0.00000000e+00 0.00000000e+00\n",
      " 0.00000000e+00 0.00000000e+00 0.00000000e+00 0.00000000e+00\n",
      " 0.00000000e+00 0.00000000e+00 0.00000000e+00 0.00000000e+00\n",
      " 0.00000000e+00 0.00000000e+00 0.00000000e+00 0.00000000e+00\n",
      " 0.00000000e+00 0.00000000e+00 0.00000000e+00 0.00000000e+00\n",
      " 0.00000000e+00 0.00000000e+00 0.00000000e+00 0.00000000e+00\n",
      " 0.00000000e+00 0.00000000e+00 0.00000000e+00 0.00000000e+00\n",
      " 0.00000000e+00 0.00000000e+00 0.00000000e+00]\n"
     ]
    },
    {
     "name": "stderr",
     "output_type": "stream",
     "text": [
      "progress-bar: 100%|████████████████████████████████████████████████████████████████████████████████████████████████████████████████████████████████████████████| 1/1 [00:00<00:00,  2.27it/s]\n",
      "192.168.1.87 - - [04/Oct/2020 18:18:02] \"\u001b[37mPOST /hazard/predict HTTP/1.1\u001b[0m\" 200 -\n"
     ]
    },
    {
     "name": "stdout",
     "output_type": "stream",
     "text": [
      "  index                                               path is_hurricane  \\\n",
      "0   123  img/modis_hazard_9cbaa678a0d241ee81d857b48266e...        False   \n",
      "\n",
      "                                      color_features data_split  \n",
      "0  [0.0019585258290428296, 0.0, 0.0, 0.0, 0.0, 0....    predict  \n",
      "Probability of hurricane:\n",
      "[0.685]\n",
      "Response:  {'latitude': 14.703263858462666, 'longitude': -124.63532193701262, 'predicted': [{'hazardType': 'hurricane', 'probability': 0.685}]}\n"
     ]
    },
    {
     "name": "stderr",
     "output_type": "stream",
     "text": [
      "192.168.1.87 - - [04/Oct/2020 18:19:15] \"\u001b[37mOPTIONS /hazard/predict HTTP/1.1\u001b[0m\" 200 -\n"
     ]
    },
    {
     "name": "stdout",
     "output_type": "stream",
     "text": [
      "Request received: \n",
      "{'latitude': 14.378914776903558, 'longitude': -124.69025357763762, 'predict': ['hurricane']}\n",
      "Calculating Square Shape...\n",
      "Shape:  {'lower_latitude': 9.378914776903558, 'left_longitude': -129.69025357763763, 'higher_latitude': 19.378914776903557, 'right_longitude': -119.69025357763762}\n",
      "Retrieve & download the MODIS image based on (X,Y,Z,K) parameters\n",
      "2150 2219\n",
      "Image PATH:  img/modis_hazard_952ea3a1ac514210ab40735ac7ed7407.png  \n",
      "\n",
      "Predict if in the image is an Hurricane\n",
      "img/modis_hazard_952ea3a1ac514210ab40735ac7ed7407.png\n",
      "0    img/modis_hazard_952ea3a1ac514210ab40735ac7ed7...\n",
      "Name: path, dtype: object\n"
     ]
    },
    {
     "name": "stderr",
     "output_type": "stream",
     "text": [
      "\r",
      "progress-bar:   0%|                                                                                                                                                    | 0/1 [00:00<?, ?it/s]"
     ]
    },
    {
     "name": "stdout",
     "output_type": "stream",
     "text": [
      "[1.75691963e-03 0.00000000e+00 0.00000000e+00 0.00000000e+00\n",
      " 0.00000000e+00 0.00000000e+00 0.00000000e+00 0.00000000e+00\n",
      " 0.00000000e+00 0.00000000e+00 0.00000000e+00 3.05459195e-03\n",
      " 0.00000000e+00 0.00000000e+00 0.00000000e+00 0.00000000e+00\n",
      " 4.33696301e-03 1.60432627e-03 0.00000000e+00 0.00000000e+00\n",
      " 0.00000000e+00 0.00000000e+00 0.00000000e+00 0.00000000e+00\n",
      " 0.00000000e+00 0.00000000e+00 0.00000000e+00 0.00000000e+00\n",
      " 0.00000000e+00 0.00000000e+00 0.00000000e+00 0.00000000e+00\n",
      " 0.00000000e+00 0.00000000e+00 0.00000000e+00 0.00000000e+00\n",
      " 0.00000000e+00 0.00000000e+00 0.00000000e+00 0.00000000e+00\n",
      " 0.00000000e+00 0.00000000e+00 0.00000000e+00 0.00000000e+00\n",
      " 0.00000000e+00 0.00000000e+00 2.59972542e-02 1.77720951e-02\n",
      " 2.09606255e-07 0.00000000e+00 0.00000000e+00 0.00000000e+00\n",
      " 3.33301194e-02 1.00035004e-01 1.59300754e-05 0.00000000e+00\n",
      " 0.00000000e+00 0.00000000e+00 7.54582517e-06 3.41658195e-05\n",
      " 2.09187042e-04 0.00000000e+00 0.00000000e+00 0.00000000e+00\n",
      " 0.00000000e+00 0.00000000e+00 0.00000000e+00 0.00000000e+00\n",
      " 0.00000000e+00 0.00000000e+00 0.00000000e+00 0.00000000e+00\n",
      " 0.00000000e+00 0.00000000e+00 0.00000000e+00 0.00000000e+00\n",
      " 0.00000000e+00 0.00000000e+00 0.00000000e+00 0.00000000e+00\n",
      " 0.00000000e+00 0.00000000e+00 4.45203685e-04 8.69446744e-04\n",
      " 0.00000000e+00 0.00000000e+00 0.00000000e+00 0.00000000e+00\n",
      " 3.21829443e-03 4.12203276e-02 2.53344792e-02 0.00000000e+00\n",
      " 0.00000000e+00 0.00000000e+00 2.09606255e-07 4.96892587e-02\n",
      " 1.29441504e-01 4.87984321e-03 0.00000000e+00 0.00000000e+00\n",
      " 0.00000000e+00 8.38425019e-07 8.09205907e-03 3.21640798e-03\n",
      " 0.00000000e+00 0.00000000e+00 0.00000000e+00 0.00000000e+00\n",
      " 0.00000000e+00 0.00000000e+00 0.00000000e+00 0.00000000e+00\n",
      " 0.00000000e+00 0.00000000e+00 0.00000000e+00 0.00000000e+00\n",
      " 0.00000000e+00 0.00000000e+00 0.00000000e+00 0.00000000e+00\n",
      " 0.00000000e+00 0.00000000e+00 0.00000000e+00 0.00000000e+00\n",
      " 0.00000000e+00 7.12661266e-06 2.44820105e-04 0.00000000e+00\n",
      " 0.00000000e+00 0.00000000e+00 0.00000000e+00 8.66721863e-04\n",
      " 3.81663645e-02 9.05666705e-03 0.00000000e+00 0.00000000e+00\n",
      " 0.00000000e+00 4.19212509e-07 1.73004810e-02 1.20493832e-01\n",
      " 4.93329281e-03 0.00000000e+00 0.00000000e+00 0.00000000e+00\n",
      " 0.00000000e+00 8.14047811e-03 8.74896507e-04 0.00000000e+00\n",
      " 0.00000000e+00 0.00000000e+00 0.00000000e+00 0.00000000e+00\n",
      " 2.09606255e-07 0.00000000e+00 0.00000000e+00 0.00000000e+00\n",
      " 0.00000000e+00 0.00000000e+00 0.00000000e+00 0.00000000e+00\n",
      " 0.00000000e+00 0.00000000e+00 0.00000000e+00 0.00000000e+00\n",
      " 0.00000000e+00 0.00000000e+00 0.00000000e+00 0.00000000e+00\n",
      " 0.00000000e+00 4.19212509e-07 0.00000000e+00 0.00000000e+00\n",
      " 0.00000000e+00 0.00000000e+00 7.12661266e-06 2.05986355e-02\n",
      " 1.15681692e-03 0.00000000e+00 0.00000000e+00 0.00000000e+00\n",
      " 0.00000000e+00 1.88456984e-03 1.34148841e-01 1.98029701e-02\n",
      " 0.00000000e+00 0.00000000e+00 0.00000000e+00 0.00000000e+00\n",
      " 2.18315395e-02 3.59998742e-02 0.00000000e+00 0.00000000e+00\n",
      " 0.00000000e+00 0.00000000e+00 0.00000000e+00 0.00000000e+00\n",
      " 0.00000000e+00 0.00000000e+00 0.00000000e+00 0.00000000e+00\n",
      " 0.00000000e+00 0.00000000e+00 0.00000000e+00 0.00000000e+00\n",
      " 0.00000000e+00 0.00000000e+00 0.00000000e+00 0.00000000e+00\n",
      " 0.00000000e+00 0.00000000e+00 0.00000000e+00 0.00000000e+00\n",
      " 4.19212509e-07 0.00000000e+00 0.00000000e+00 0.00000000e+00\n",
      " 0.00000000e+00 2.09606255e-07 2.46853286e-02 3.10873324e-02\n",
      " 0.00000000e+00 0.00000000e+00 0.00000000e+00 0.00000000e+00\n",
      " 3.00057642e-02 2.41426580e-02 0.00000000e+00 0.00000000e+00\n",
      " 0.00000000e+00 0.00000000e+00 0.00000000e+00 0.00000000e+00\n",
      " 0.00000000e+00 0.00000000e+00 0.00000000e+00 0.00000000e+00\n",
      " 0.00000000e+00 0.00000000e+00 0.00000000e+00 0.00000000e+00\n",
      " 0.00000000e+00 0.00000000e+00 0.00000000e+00 0.00000000e+00\n",
      " 0.00000000e+00 0.00000000e+00 0.00000000e+00 0.00000000e+00\n",
      " 0.00000000e+00 0.00000000e+00 0.00000000e+00 0.00000000e+00\n",
      " 0.00000000e+00 0.00000000e+00 0.00000000e+00]\n"
     ]
    },
    {
     "name": "stderr",
     "output_type": "stream",
     "text": [
      "progress-bar: 100%|████████████████████████████████████████████████████████████████████████████████████████████████████████████████████████████████████████████| 1/1 [00:00<00:00,  2.04it/s]\n",
      "192.168.1.87 - - [04/Oct/2020 18:19:26] \"\u001b[37mPOST /hazard/predict HTTP/1.1\u001b[0m\" 200 -\n"
     ]
    },
    {
     "name": "stdout",
     "output_type": "stream",
     "text": [
      "  index                                               path is_hurricane  \\\n",
      "0   123  img/modis_hazard_952ea3a1ac514210ab40735ac7ed7...        False   \n",
      "\n",
      "                                      color_features data_split  \n",
      "0  [0.0017569196264816541, 0.0, 0.0, 0.0, 0.0, 0....    predict  \n",
      "Probability of hurricane:\n",
      "[0.73]\n",
      "Response:  {'latitude': 14.378914776903558, 'longitude': -124.69025357763762, 'predicted': [{'hazardType': 'hurricane', 'probability': 0.73}]}\n"
     ]
    },
    {
     "name": "stderr",
     "output_type": "stream",
     "text": [
      "192.168.1.87 - - [04/Oct/2020 18:19:35] \"\u001b[37mOPTIONS /hazard/predict HTTP/1.1\u001b[0m\" 200 -\n"
     ]
    },
    {
     "name": "stdout",
     "output_type": "stream",
     "text": [
      "Request received: \n",
      "{'latitude': 14.721859549890677, 'longitude': -124.76166471045012, 'predict': ['hurricane']}\n",
      "Calculating Square Shape...\n",
      "Shape:  {'lower_latitude': 9.721859549890677, 'left_longitude': -129.76166471045013, 'higher_latitude': 19.721859549890677, 'right_longitude': -119.76166471045012}\n",
      "Retrieve & download the MODIS image based on (X,Y,Z,K) parameters\n",
      "2147 2220\n",
      "Image PATH:  img/modis_hazard_d46b491dc75a4018a9538ae105b6b164.png  \n",
      "\n",
      "Predict if in the image is an Hurricane\n",
      "img/modis_hazard_d46b491dc75a4018a9538ae105b6b164.png\n",
      "0    img/modis_hazard_d46b491dc75a4018a9538ae105b6b...\n",
      "Name: path, dtype: object\n"
     ]
    },
    {
     "name": "stderr",
     "output_type": "stream",
     "text": [
      "\r",
      "progress-bar:   0%|                                                                                                                                                    | 0/1 [00:00<?, ?it/s]"
     ]
    },
    {
     "name": "stdout",
     "output_type": "stream",
     "text": [
      "[1.84795881e-03 0.00000000e+00 0.00000000e+00 0.00000000e+00\n",
      " 0.00000000e+00 0.00000000e+00 0.00000000e+00 0.00000000e+00\n",
      " 0.00000000e+00 0.00000000e+00 0.00000000e+00 3.04006848e-03\n",
      " 0.00000000e+00 0.00000000e+00 0.00000000e+00 0.00000000e+00\n",
      " 4.40002182e-03 1.65682683e-03 0.00000000e+00 0.00000000e+00\n",
      " 0.00000000e+00 0.00000000e+00 0.00000000e+00 0.00000000e+00\n",
      " 0.00000000e+00 0.00000000e+00 0.00000000e+00 0.00000000e+00\n",
      " 0.00000000e+00 0.00000000e+00 0.00000000e+00 0.00000000e+00\n",
      " 0.00000000e+00 0.00000000e+00 0.00000000e+00 0.00000000e+00\n",
      " 0.00000000e+00 0.00000000e+00 0.00000000e+00 0.00000000e+00\n",
      " 0.00000000e+00 0.00000000e+00 0.00000000e+00 0.00000000e+00\n",
      " 0.00000000e+00 0.00000000e+00 2.70941645e-02 1.80933379e-02\n",
      " 0.00000000e+00 0.00000000e+00 0.00000000e+00 0.00000000e+00\n",
      " 3.40817063e-02 1.00283446e-01 1.38471028e-05 0.00000000e+00\n",
      " 0.00000000e+00 0.00000000e+00 6.71374682e-06 3.33589295e-05\n",
      " 2.02881037e-04 0.00000000e+00 0.00000000e+00 0.00000000e+00\n",
      " 0.00000000e+00 0.00000000e+00 0.00000000e+00 0.00000000e+00\n",
      " 0.00000000e+00 0.00000000e+00 0.00000000e+00 0.00000000e+00\n",
      " 0.00000000e+00 0.00000000e+00 0.00000000e+00 0.00000000e+00\n",
      " 0.00000000e+00 0.00000000e+00 0.00000000e+00 0.00000000e+00\n",
      " 0.00000000e+00 0.00000000e+00 4.48772014e-04 8.95655786e-04\n",
      " 0.00000000e+00 0.00000000e+00 0.00000000e+00 0.00000000e+00\n",
      " 3.28281239e-03 4.09966557e-02 2.47388982e-02 0.00000000e+00\n",
      " 0.00000000e+00 0.00000000e+00 6.29413764e-07 4.86541036e-02\n",
      " 1.23289778e-01 4.31987647e-03 0.00000000e+00 0.00000000e+00\n",
      " 0.00000000e+00 4.19609176e-07 7.45016092e-03 2.99160362e-03\n",
      " 0.00000000e+00 0.00000000e+00 0.00000000e+00 0.00000000e+00\n",
      " 0.00000000e+00 0.00000000e+00 0.00000000e+00 0.00000000e+00\n",
      " 0.00000000e+00 0.00000000e+00 0.00000000e+00 0.00000000e+00\n",
      " 0.00000000e+00 0.00000000e+00 0.00000000e+00 0.00000000e+00\n",
      " 0.00000000e+00 0.00000000e+00 0.00000000e+00 0.00000000e+00\n",
      " 0.00000000e+00 7.34316058e-06 2.37708598e-04 0.00000000e+00\n",
      " 0.00000000e+00 0.00000000e+00 0.00000000e+00 8.51177214e-04\n",
      " 3.64101176e-02 8.63450782e-03 0.00000000e+00 0.00000000e+00\n",
      " 0.00000000e+00 4.19609176e-07 1.67008648e-02 1.18273350e-01\n",
      " 4.74682880e-03 0.00000000e+00 0.00000000e+00 0.00000000e+00\n",
      " 0.00000000e+00 7.90774473e-03 8.53694869e-04 0.00000000e+00\n",
      " 0.00000000e+00 0.00000000e+00 0.00000000e+00 0.00000000e+00\n",
      " 0.00000000e+00 0.00000000e+00 0.00000000e+00 0.00000000e+00\n",
      " 0.00000000e+00 0.00000000e+00 0.00000000e+00 0.00000000e+00\n",
      " 0.00000000e+00 0.00000000e+00 0.00000000e+00 0.00000000e+00\n",
      " 0.00000000e+00 0.00000000e+00 0.00000000e+00 0.00000000e+00\n",
      " 2.09804588e-07 2.09804588e-07 0.00000000e+00 0.00000000e+00\n",
      " 0.00000000e+00 0.00000000e+00 8.81179270e-06 2.01427091e-02\n",
      " 1.09580936e-03 0.00000000e+00 0.00000000e+00 0.00000000e+00\n",
      " 0.00000000e+00 1.85740002e-03 1.32964077e-01 1.99117142e-02\n",
      " 0.00000000e+00 0.00000000e+00 0.00000000e+00 0.00000000e+00\n",
      " 2.20047248e-02 3.82956314e-02 0.00000000e+00 0.00000000e+00\n",
      " 0.00000000e+00 0.00000000e+00 0.00000000e+00 0.00000000e+00\n",
      " 0.00000000e+00 0.00000000e+00 0.00000000e+00 0.00000000e+00\n",
      " 0.00000000e+00 0.00000000e+00 0.00000000e+00 0.00000000e+00\n",
      " 0.00000000e+00 0.00000000e+00 0.00000000e+00 0.00000000e+00\n",
      " 0.00000000e+00 0.00000000e+00 0.00000000e+00 0.00000000e+00\n",
      " 4.19609176e-07 0.00000000e+00 0.00000000e+00 0.00000000e+00\n",
      " 0.00000000e+00 8.39218352e-07 2.49415694e-02 3.28763789e-02\n",
      " 0.00000000e+00 0.00000000e+00 0.00000000e+00 0.00000000e+00\n",
      " 3.13871860e-02 3.20648548e-02 0.00000000e+00 0.00000000e+00\n",
      " 0.00000000e+00 0.00000000e+00 0.00000000e+00 0.00000000e+00\n",
      " 0.00000000e+00 0.00000000e+00 0.00000000e+00 0.00000000e+00\n",
      " 0.00000000e+00 0.00000000e+00 0.00000000e+00 0.00000000e+00\n",
      " 0.00000000e+00 0.00000000e+00 0.00000000e+00 0.00000000e+00\n",
      " 0.00000000e+00 0.00000000e+00 0.00000000e+00 0.00000000e+00\n",
      " 0.00000000e+00 0.00000000e+00 0.00000000e+00 0.00000000e+00\n",
      " 0.00000000e+00 0.00000000e+00 0.00000000e+00]\n"
     ]
    },
    {
     "name": "stderr",
     "output_type": "stream",
     "text": [
      "progress-bar: 100%|████████████████████████████████████████████████████████████████████████████████████████████████████████████████████████████████████████████| 1/1 [00:00<00:00,  2.11it/s]\n",
      "192.168.1.87 - - [04/Oct/2020 18:19:46] \"\u001b[37mPOST /hazard/predict HTTP/1.1\u001b[0m\" 200 -\n"
     ]
    },
    {
     "name": "stdout",
     "output_type": "stream",
     "text": [
      "  index                                               path is_hurricane  \\\n",
      "0   123  img/modis_hazard_d46b491dc75a4018a9538ae105b6b...        False   \n",
      "\n",
      "                                      color_features data_split  \n",
      "0  [0.0018479588111632826, 0.0, 0.0, 0.0, 0.0, 0....    predict  \n",
      "Probability of hurricane:\n",
      "[0.585]\n",
      "Response:  {'latitude': 14.721859549890677, 'longitude': -124.76166471045012, 'predicted': [{'hazardType': 'hurricane', 'probability': 0.585}]}\n"
     ]
    },
    {
     "name": "stderr",
     "output_type": "stream",
     "text": [
      "192.168.1.87 - - [04/Oct/2020 18:19:53] \"\u001b[37mOPTIONS /hazard/predict HTTP/1.1\u001b[0m\" 200 -\n"
     ]
    },
    {
     "name": "stdout",
     "output_type": "stream",
     "text": [
      "Request received: \n",
      "{'latitude': 14.968765408862021, 'longitude': -124.54193814795012, 'predict': ['hurricane']}\n",
      "Calculating Square Shape...\n",
      "Shape:  {'lower_latitude': 9.968765408862021, 'left_longitude': -129.54193814795013, 'higher_latitude': 19.96876540886202, 'right_longitude': -119.54193814795012}\n",
      "Retrieve & download the MODIS image based on (X,Y,Z,K) parameters\n",
      "2144 2219\n",
      "Image PATH:  img/modis_hazard_c20d2de08bc847728f9529a19b589aa7.png  \n",
      "\n",
      "Predict if in the image is an Hurricane\n",
      "img/modis_hazard_c20d2de08bc847728f9529a19b589aa7.png\n",
      "0    img/modis_hazard_c20d2de08bc847728f9529a19b589...\n",
      "Name: path, dtype: object\n"
     ]
    },
    {
     "name": "stderr",
     "output_type": "stream",
     "text": [
      "\r",
      "progress-bar:   0%|                                                                                                                                                    | 0/1 [00:00<?, ?it/s]"
     ]
    },
    {
     "name": "stdout",
     "output_type": "stream",
     "text": [
      "[2.33650360e-03 0.00000000e+00 0.00000000e+00 0.00000000e+00\n",
      " 0.00000000e+00 0.00000000e+00 0.00000000e+00 0.00000000e+00\n",
      " 0.00000000e+00 0.00000000e+00 0.00000000e+00 3.46565953e-03\n",
      " 0.00000000e+00 0.00000000e+00 0.00000000e+00 0.00000000e+00\n",
      " 5.20794798e-03 1.78033335e-03 0.00000000e+00 0.00000000e+00\n",
      " 0.00000000e+00 0.00000000e+00 0.00000000e+00 0.00000000e+00\n",
      " 0.00000000e+00 0.00000000e+00 0.00000000e+00 0.00000000e+00\n",
      " 0.00000000e+00 0.00000000e+00 0.00000000e+00 0.00000000e+00\n",
      " 0.00000000e+00 0.00000000e+00 0.00000000e+00 0.00000000e+00\n",
      " 0.00000000e+00 0.00000000e+00 0.00000000e+00 0.00000000e+00\n",
      " 0.00000000e+00 0.00000000e+00 0.00000000e+00 0.00000000e+00\n",
      " 0.00000000e+00 0.00000000e+00 2.98232110e-02 1.85461550e-02\n",
      " 4.20385679e-07 0.00000000e+00 0.00000000e+00 0.00000000e+00\n",
      " 3.45475053e-02 9.98645097e-02 1.45033059e-05 0.00000000e+00\n",
      " 0.00000000e+00 0.00000000e+00 6.30578518e-06 3.82550968e-05\n",
      " 2.13976310e-04 0.00000000e+00 0.00000000e+00 0.00000000e+00\n",
      " 0.00000000e+00 0.00000000e+00 0.00000000e+00 0.00000000e+00\n",
      " 0.00000000e+00 0.00000000e+00 0.00000000e+00 0.00000000e+00\n",
      " 0.00000000e+00 0.00000000e+00 0.00000000e+00 0.00000000e+00\n",
      " 0.00000000e+00 0.00000000e+00 0.00000000e+00 0.00000000e+00\n",
      " 0.00000000e+00 0.00000000e+00 3.97684852e-04 8.40981550e-04\n",
      " 0.00000000e+00 0.00000000e+00 0.00000000e+00 0.00000000e+00\n",
      " 3.08668185e-03 3.98527725e-02 2.42089603e-02 0.00000000e+00\n",
      " 0.00000000e+00 0.00000000e+00 4.20385679e-07 4.75653784e-02\n",
      " 1.20028729e-01 4.04579177e-03 0.00000000e+00 0.00000000e+00\n",
      " 0.00000000e+00 2.10192839e-07 7.10872183e-03 2.97443887e-03\n",
      " 0.00000000e+00 0.00000000e+00 0.00000000e+00 0.00000000e+00\n",
      " 0.00000000e+00 0.00000000e+00 0.00000000e+00 0.00000000e+00\n",
      " 0.00000000e+00 0.00000000e+00 0.00000000e+00 0.00000000e+00\n",
      " 0.00000000e+00 0.00000000e+00 0.00000000e+00 0.00000000e+00\n",
      " 0.00000000e+00 0.00000000e+00 0.00000000e+00 0.00000000e+00\n",
      " 0.00000000e+00 4.41404963e-06 2.34365016e-04 0.00000000e+00\n",
      " 0.00000000e+00 0.00000000e+00 0.00000000e+00 7.80446012e-04\n",
      " 3.52636323e-02 8.54665104e-03 0.00000000e+00 0.00000000e+00\n",
      " 0.00000000e+00 4.20385679e-07 1.65545778e-02 1.19195525e-01\n",
      " 4.75372125e-03 0.00000000e+00 0.00000000e+00 0.00000000e+00\n",
      " 0.00000000e+00 7.69915351e-03 8.23325352e-04 0.00000000e+00\n",
      " 0.00000000e+00 0.00000000e+00 0.00000000e+00 0.00000000e+00\n",
      " 0.00000000e+00 0.00000000e+00 0.00000000e+00 0.00000000e+00\n",
      " 0.00000000e+00 0.00000000e+00 0.00000000e+00 0.00000000e+00\n",
      " 0.00000000e+00 0.00000000e+00 0.00000000e+00 0.00000000e+00\n",
      " 0.00000000e+00 0.00000000e+00 0.00000000e+00 0.00000000e+00\n",
      " 4.20385679e-07 1.05096420e-06 0.00000000e+00 0.00000000e+00\n",
      " 0.00000000e+00 0.00000000e+00 7.35674938e-06 1.95737878e-02\n",
      " 1.06693885e-03 0.00000000e+00 0.00000000e+00 0.00000000e+00\n",
      " 0.00000000e+00 1.76351792e-03 1.30771475e-01 1.93631746e-02\n",
      " 0.00000000e+00 0.00000000e+00 0.00000000e+00 0.00000000e+00\n",
      " 2.14098222e-02 3.89811028e-02 0.00000000e+00 0.00000000e+00\n",
      " 0.00000000e+00 0.00000000e+00 0.00000000e+00 0.00000000e+00\n",
      " 0.00000000e+00 0.00000000e+00 0.00000000e+00 0.00000000e+00\n",
      " 0.00000000e+00 0.00000000e+00 0.00000000e+00 0.00000000e+00\n",
      " 0.00000000e+00 0.00000000e+00 0.00000000e+00 0.00000000e+00\n",
      " 0.00000000e+00 0.00000000e+00 0.00000000e+00 0.00000000e+00\n",
      " 2.10192839e-07 0.00000000e+00 0.00000000e+00 0.00000000e+00\n",
      " 0.00000000e+00 2.10192839e-07 2.40712840e-02 3.34702670e-02\n",
      " 0.00000000e+00 0.00000000e+00 0.00000000e+00 0.00000000e+00\n",
      " 3.17002331e-02 3.80068590e-02 0.00000000e+00 0.00000000e+00\n",
      " 0.00000000e+00 0.00000000e+00 0.00000000e+00 0.00000000e+00\n",
      " 0.00000000e+00 0.00000000e+00 0.00000000e+00 0.00000000e+00\n",
      " 0.00000000e+00 0.00000000e+00 0.00000000e+00 0.00000000e+00\n",
      " 0.00000000e+00 0.00000000e+00 0.00000000e+00 0.00000000e+00\n",
      " 0.00000000e+00 0.00000000e+00 0.00000000e+00 0.00000000e+00\n",
      " 0.00000000e+00 0.00000000e+00 0.00000000e+00 0.00000000e+00\n",
      " 0.00000000e+00 0.00000000e+00 0.00000000e+00]\n"
     ]
    },
    {
     "name": "stderr",
     "output_type": "stream",
     "text": [
      "progress-bar: 100%|████████████████████████████████████████████████████████████████████████████████████████████████████████████████████████████████████████████| 1/1 [00:00<00:00,  2.09it/s]\n",
      "192.168.1.87 - - [04/Oct/2020 18:20:05] \"\u001b[37mPOST /hazard/predict HTTP/1.1\u001b[0m\" 200 -\n"
     ]
    },
    {
     "name": "stdout",
     "output_type": "stream",
     "text": [
      "  index                                               path is_hurricane  \\\n",
      "0   123  img/modis_hazard_c20d2de08bc847728f9529a19b589...        False   \n",
      "\n",
      "                                      color_features data_split  \n",
      "0  [0.0023365036018644946, 0.0, 0.0, 0.0, 0.0, 0....    predict  \n",
      "Probability of hurricane:\n",
      "[0.68]\n",
      "Response:  {'latitude': 14.968765408862021, 'longitude': -124.54193814795012, 'predicted': [{'hazardType': 'hurricane', 'probability': 0.68}]}\n"
     ]
    },
    {
     "name": "stderr",
     "output_type": "stream",
     "text": [
      "192.168.1.87 - - [04/Oct/2020 18:20:16] \"\u001b[37mOPTIONS /hazard/predict HTTP/1.1\u001b[0m\" 200 -\n"
     ]
    },
    {
     "name": "stdout",
     "output_type": "stream",
     "text": [
      "Request received: \n",
      "{'latitude': 16.8627379078035, 'longitude': -125.36298547508468, 'predict': ['hurricane']}\n",
      "Calculating Square Shape...\n",
      "Shape:  {'lower_latitude': 11.8627379078035, 'left_longitude': -130.36298547508468, 'higher_latitude': 21.8627379078035, 'right_longitude': -120.36298547508468}\n",
      "Retrieve & download the MODIS image based on (X,Y,Z,K) parameters\n",
      "2124 2220\n",
      "Image PATH:  img/modis_hazard_2beb0842260b4eaaa88a60e82015cac6.png  \n",
      "\n",
      "Predict if in the image is an Hurricane\n",
      "img/modis_hazard_2beb0842260b4eaaa88a60e82015cac6.png\n",
      "0    img/modis_hazard_2beb0842260b4eaaa88a60e82015c...\n",
      "Name: path, dtype: object\n"
     ]
    },
    {
     "name": "stderr",
     "output_type": "stream",
     "text": [
      "\r",
      "progress-bar:   0%|                                                                                                                                                    | 0/1 [00:00<?, ?it/s]"
     ]
    },
    {
     "name": "stdout",
     "output_type": "stream",
     "text": [
      "[2.96779831e-03 0.00000000e+00 0.00000000e+00 0.00000000e+00\n",
      " 0.00000000e+00 0.00000000e+00 0.00000000e+00 0.00000000e+00\n",
      " 0.00000000e+00 0.00000000e+00 0.00000000e+00 3.84727948e-03\n",
      " 0.00000000e+00 0.00000000e+00 0.00000000e+00 0.00000000e+00\n",
      " 5.79562613e-03 1.57212297e-03 0.00000000e+00 0.00000000e+00\n",
      " 0.00000000e+00 0.00000000e+00 0.00000000e+00 0.00000000e+00\n",
      " 0.00000000e+00 0.00000000e+00 0.00000000e+00 0.00000000e+00\n",
      " 0.00000000e+00 0.00000000e+00 0.00000000e+00 0.00000000e+00\n",
      " 0.00000000e+00 0.00000000e+00 0.00000000e+00 0.00000000e+00\n",
      " 0.00000000e+00 0.00000000e+00 0.00000000e+00 0.00000000e+00\n",
      " 0.00000000e+00 0.00000000e+00 0.00000000e+00 0.00000000e+00\n",
      " 0.00000000e+00 0.00000000e+00 3.12838262e-02 1.70248638e-02\n",
      " 0.00000000e+00 0.00000000e+00 0.00000000e+00 0.00000000e+00\n",
      " 3.23762322e-02 8.97590387e-02 1.29366655e-05 0.00000000e+00\n",
      " 0.00000000e+00 0.00000000e+00 8.27098285e-06 3.62650786e-05\n",
      " 1.63935122e-04 0.00000000e+00 0.00000000e+00 0.00000000e+00\n",
      " 0.00000000e+00 0.00000000e+00 0.00000000e+00 0.00000000e+00\n",
      " 0.00000000e+00 0.00000000e+00 0.00000000e+00 0.00000000e+00\n",
      " 0.00000000e+00 0.00000000e+00 0.00000000e+00 0.00000000e+00\n",
      " 0.00000000e+00 0.00000000e+00 0.00000000e+00 0.00000000e+00\n",
      " 0.00000000e+00 0.00000000e+00 5.09831866e-04 9.31015762e-04\n",
      " 0.00000000e+00 0.00000000e+00 0.00000000e+00 0.00000000e+00\n",
      " 3.42545936e-03 3.91804941e-02 2.01790774e-02 0.00000000e+00\n",
      " 0.00000000e+00 0.00000000e+00 4.24152967e-07 4.04979132e-02\n",
      " 8.17128569e-02 2.76208412e-03 0.00000000e+00 0.00000000e+00\n",
      " 0.00000000e+00 4.24152967e-07 5.03787686e-03 2.31905634e-03\n",
      " 0.00000000e+00 0.00000000e+00 0.00000000e+00 0.00000000e+00\n",
      " 0.00000000e+00 0.00000000e+00 0.00000000e+00 0.00000000e+00\n",
      " 0.00000000e+00 0.00000000e+00 0.00000000e+00 0.00000000e+00\n",
      " 0.00000000e+00 0.00000000e+00 0.00000000e+00 0.00000000e+00\n",
      " 0.00000000e+00 0.00000000e+00 0.00000000e+00 0.00000000e+00\n",
      " 0.00000000e+00 6.78644746e-06 2.23952766e-04 0.00000000e+00\n",
      " 0.00000000e+00 0.00000000e+00 0.00000000e+00 7.61778728e-04\n",
      " 2.64062792e-02 6.99237373e-03 0.00000000e+00 0.00000000e+00\n",
      " 0.00000000e+00 6.36229450e-07 1.34388626e-02 1.02649472e-01\n",
      " 4.45360615e-03 0.00000000e+00 0.00000000e+00 0.00000000e+00\n",
      " 0.00000000e+00 6.89990838e-03 8.10344243e-04 2.12076483e-07\n",
      " 0.00000000e+00 0.00000000e+00 0.00000000e+00 0.00000000e+00\n",
      " 0.00000000e+00 0.00000000e+00 0.00000000e+00 0.00000000e+00\n",
      " 0.00000000e+00 0.00000000e+00 0.00000000e+00 0.00000000e+00\n",
      " 0.00000000e+00 0.00000000e+00 0.00000000e+00 0.00000000e+00\n",
      " 0.00000000e+00 0.00000000e+00 0.00000000e+00 0.00000000e+00\n",
      " 4.24152967e-07 6.36229450e-07 0.00000000e+00 0.00000000e+00\n",
      " 0.00000000e+00 0.00000000e+00 7.84682988e-06 1.74638622e-02\n",
      " 1.00248554e-03 0.00000000e+00 0.00000000e+00 0.00000000e+00\n",
      " 0.00000000e+00 1.54349265e-03 1.30558949e-01 2.34319065e-02\n",
      " 0.00000000e+00 0.00000000e+00 0.00000000e+00 0.00000000e+00\n",
      " 2.55499143e-02 6.05887667e-02 0.00000000e+00 0.00000000e+00\n",
      " 0.00000000e+00 0.00000000e+00 0.00000000e+00 0.00000000e+00\n",
      " 0.00000000e+00 0.00000000e+00 0.00000000e+00 0.00000000e+00\n",
      " 0.00000000e+00 0.00000000e+00 0.00000000e+00 0.00000000e+00\n",
      " 0.00000000e+00 0.00000000e+00 0.00000000e+00 0.00000000e+00\n",
      " 0.00000000e+00 0.00000000e+00 0.00000000e+00 0.00000000e+00\n",
      " 2.12076483e-07 0.00000000e+00 0.00000000e+00 0.00000000e+00\n",
      " 0.00000000e+00 4.24152967e-07 2.86192973e-02 5.26267793e-02\n",
      " 0.00000000e+00 0.00000000e+00 0.00000000e+00 0.00000000e+00\n",
      " 4.94435113e-02 6.51125702e-02 0.00000000e+00 0.00000000e+00\n",
      " 0.00000000e+00 0.00000000e+00 0.00000000e+00 0.00000000e+00\n",
      " 0.00000000e+00 0.00000000e+00 0.00000000e+00 0.00000000e+00\n",
      " 0.00000000e+00 0.00000000e+00 0.00000000e+00 0.00000000e+00\n",
      " 0.00000000e+00 0.00000000e+00 0.00000000e+00 0.00000000e+00\n",
      " 0.00000000e+00 0.00000000e+00 0.00000000e+00 0.00000000e+00\n",
      " 0.00000000e+00 0.00000000e+00 0.00000000e+00 0.00000000e+00\n",
      " 0.00000000e+00 0.00000000e+00 0.00000000e+00]\n"
     ]
    },
    {
     "name": "stderr",
     "output_type": "stream",
     "text": [
      "progress-bar: 100%|████████████████████████████████████████████████████████████████████████████████████████████████████████████████████████████████████████████| 1/1 [00:00<00:00,  2.29it/s]\n",
      "192.168.1.87 - - [04/Oct/2020 18:20:27] \"\u001b[37mPOST /hazard/predict HTTP/1.1\u001b[0m\" 200 -\n"
     ]
    },
    {
     "name": "stdout",
     "output_type": "stream",
     "text": [
      "  index                                               path is_hurricane  \\\n",
      "0   123  img/modis_hazard_2beb0842260b4eaaa88a60e82015c...        False   \n",
      "\n",
      "                                      color_features data_split  \n",
      "0  [0.0029677983067813575, 0.0, 0.0, 0.0, 0.0, 0....    predict  \n",
      "Probability of hurricane:\n",
      "[0.355]\n",
      "Response:  {'latitude': 16.8627379078035, 'longitude': -125.36298547508468, 'predicted': [{'hazardType': 'hurricane', 'probability': 0.355}]}\n"
     ]
    }
   ],
   "source": [
    "app.run(host='0.0.0.0', port=8777)"
   ]
  },
  {
   "cell_type": "code",
   "execution_count": null,
   "metadata": {},
   "outputs": [],
   "source": []
  },
  {
   "cell_type": "markdown",
   "metadata": {},
   "source": [
    "### curl example to test endpoint\n",
    "\n",
    "\n",
    "<code>curl -d '{\"latitude\":-26.055, \"longitude\":43.273, \"predict\": [ \"hurricane\" ]}' -H \"Content-Type: application/json\" -X POST http://localhost:8777/hazard/predict\n",
    "</code>\n"
   ]
  },
  {
   "cell_type": "markdown",
   "metadata": {},
   "source": [
    "#### Process Request"
   ]
  },
  {
   "cell_type": "code",
   "execution_count": null,
   "metadata": {},
   "outputs": [],
   "source": []
  },
  {
   "cell_type": "code",
   "execution_count": 12,
   "metadata": {},
   "outputs": [],
   "source": [
    "def process_request(requestJson):\n",
    "    print(\"Request received: \")\n",
    "    print(requestJson)\n",
    "    \n",
    "    # Calculate square shape from the X,Y of the click\n",
    "    print(\"Calculating Square Shape...\")\n",
    "    squareShape = calculate_square_shape(requestJson['latitude'],requestJson['longitude'])\n",
    "    print(\"Shape: \", squareShape)\n",
    "    \n",
    "    # Retrieve & download the MODIS image based on (X,Y,Z,K) parameters\n",
    "    print(\"Retrieve & download the MODIS image based on (X,Y,Z,K) parameters\")\n",
    "    imagePath = retrieve_modis_image(squareShape['lower_latitude'], squareShape['left_longitude'],\n",
    "        squareShape['higher_latitude'], squareShape['right_longitude'])\n",
    "    print(\"Image PATH: \",imagePath,\" \\n\")\n",
    "    \n",
    "    # Predict if in the image is an Hurricane    \n",
    "    print(\"Predict if in the image is an Hurricane\")\n",
    "    response = predict_is_hurricane(requestJson['latitude'], requestJson['longitude'], imagePath)\n",
    "    \n",
    "    # Response\n",
    "    print(\"Response: \",response)\n",
    "    return response\n",
    "    "
   ]
  },
  {
   "cell_type": "markdown",
   "metadata": {},
   "source": [
    "#### Calculate Square shape from point lattitudeX, longitudeY\n",
    "\n",
    "Result Dimensions: [lower_latitude, left_longitude, higher_latitude, right_longitude]\n"
   ]
  },
  {
   "cell_type": "code",
   "execution_count": 5,
   "metadata": {},
   "outputs": [],
   "source": [
    "\n",
    "def calculate_square_shape(lattX,longY):\n",
    "    clickDistanceToEdge = 5; # measured in coordinate degrees\n",
    "    \n",
    "    lower_latitude = lattX - clickDistanceToEdge\n",
    "    left_longitude = longY - clickDistanceToEdge\n",
    "    higher_latitude = lattX + clickDistanceToEdge\n",
    "    right_longitude = longY + clickDistanceToEdge\n",
    "    \n",
    "    result = {\"lower_latitude\":lower_latitude, \"left_longitude\":left_longitude, \n",
    "              \"higher_latitude\":higher_latitude, \"right_longitude\":right_longitude}\n",
    "    \n",
    "    return result\n",
    "    "
   ]
  },
  {
   "cell_type": "markdown",
   "metadata": {},
   "source": [
    "### Retrieve MODIS image"
   ]
  },
  {
   "cell_type": "code",
   "execution_count": 6,
   "metadata": {},
   "outputs": [
    {
     "name": "stdout",
     "output_type": "stream",
     "text": [
      "1302cae4-39d3-4656-82ad-d8a7306869fc\n",
      "f2f8d99800c040f4a5b71bb3df970894\n"
     ]
    },
    {
     "data": {
      "text/plain": [
       "'modis_hazard_c6449644896245c980c1c23147844287.png'"
      ]
     },
     "execution_count": 6,
     "metadata": {},
     "output_type": "execute_result"
    }
   ],
   "source": [
    "la=51.46162974683544\n",
    "lo=-22.94768591772153\n",
    "\n",
    "import uuid\n",
    "uuid.uuid4()\n",
    "\n",
    "print( str(uuid.uuid4()))\n",
    "\n",
    "print( uuid.uuid4().hex)\n",
    "\n",
    "imageTest = \"modis_hazard_%s.png\" % (uuid.uuid4().hex)\n",
    "\n",
    "imageTest"
   ]
  },
  {
   "cell_type": "code",
   "execution_count": 7,
   "metadata": {},
   "outputs": [],
   "source": [
    "import numpy as np\n",
    "import requests\n",
    "import uuid\n",
    "\n",
    "from io import BytesIO\n",
    "from matplotlib.pyplot import imshow\n",
    "from PIL import Image\n",
    "\n",
    "URL = \"https://gibs.earthdata.nasa.gov/wms/epsg4326/best/wms.cgi?SERVICE=WMS&REQUEST=GetMap&layers=MODIS_Aqua_CorrectedReflectance_TrueColor&version=1.3.0&crs=EPSG:4326&transparent=false&width={}&height={}&bbox={}&format=image/tiff&time={}\"\n",
    "KM_PER_DEG_AT_EQ = 111.\n",
    "\n",
    "\n",
    "# Note: Be careful with the resolution and extent. higher resolution with bigger extent images will be huge\n",
    "# and probably not load. For the dataset we have 0.25 might be more than enough.\n",
    "def calculate_width_height(extent, resolution):\n",
    "    \"\"\"\n",
    "    extent: [lower_latitude, left_longitude, higher_latitude, right_longitude],\n",
    "        EG: [51.46162974683544,-22.94768591772153,53.03698575949367,-20.952234968354432]\n",
    "    resolution: represents the pixel resolution,\n",
    "        i.e. km/pixel. Should be a value from this list: [0.03, 0.06, 0.125, 0.25, 0.5, 1, 5, 10]\n",
    "    \"\"\"\n",
    "    lats = extent[::2]\n",
    "    lons = extent[1::2]\n",
    "    km_per_deg_at_lat = KM_PER_DEG_AT_EQ * np.cos(np.pi * np.mean(lats) / 180.)\n",
    "    width = int((lons[1] - lons[0]) * km_per_deg_at_lat / resolution)\n",
    "    height = int((lats[1] - lats[0]) * KM_PER_DEG_AT_EQ / resolution)\n",
    "    print(width, height)\n",
    "    return width, height\n",
    "\n",
    "\n",
    "def modis_url(time, extent, resolution):\n",
    "    \"\"\"\n",
    "    time: utc time in iso format EG: 2020-02-19T00:00:00Z\n",
    "    extent: [lower_latitude, left_longitude, higher_latitude, right_longitude],\n",
    "        EG: [51.46162974683544,-22.94768591772153,53.03698575949367,-20.952234968354432]\n",
    "    resolution: represents the pixel resolution,\n",
    "        i.e. km/pixel. Should be a value from this list: [0.03, 0.06, 0.125, 0.25, 0.5, 1, 5, 10]\n",
    "    \"\"\"\n",
    "    width, height = calculate_width_height(extent, resolution)\n",
    "    extent = ','.join(map(lambda x: str(x), extent))\n",
    "    return width, height, URL.format(width, height, extent, time)\n",
    "\n",
    "\n",
    "\n",
    "\n",
    "def retrieve_modis_image(x,y,z,k):\n",
    "    width, height, url = modis_url('2020-10-03T00:00:00Z',\n",
    "                               [x,y,z,k],\n",
    "                               0.5)\n",
    "    \n",
    "    response = requests.get(url)\n",
    "    img = Image.open(BytesIO(response.content))\n",
    "    \n",
    "    #Unique ID generated\n",
    "    id = uuid.uuid4().hex\n",
    "\n",
    "    imagePath = \"img/modis_hazard_%s.png\" % (id)\n",
    "    \n",
    "    img.save(imagePath)\n",
    "    \n",
    "    return imagePath\n",
    "    "
   ]
  },
  {
   "cell_type": "code",
   "execution_count": 8,
   "metadata": {},
   "outputs": [
    {
     "name": "stdout",
     "output_type": "stream",
     "text": [
      "3100 2673\n"
     ]
    },
    {
     "data": {
      "text/plain": [
       "'img/modis_hazard_9634b8ef7a2d4d18bcda3b036d5eae0d.png'"
      ]
     },
     "execution_count": 8,
     "metadata": {},
     "output_type": "execute_result"
    }
   ],
   "source": [
    "#Test MODIS\n",
    "# {'lower_latitude': -56.055, 'left_longitude': 13.273000000000003, 'higher_latitude': 3.9450000000000003, 'right_longitude': 73.273}\n",
    "\n",
    "retrieve_modis_image(-26.0553, 28.4103, -14.0135, 43.2748)\n",
    "\n"
   ]
  },
  {
   "cell_type": "code",
   "execution_count": 9,
   "metadata": {},
   "outputs": [
    {
     "name": "stdout",
     "output_type": "stream",
     "text": [
      "Calculating Square Shape...\n",
      "Shape:  {'lower_latitude': -23.123, 'left_longitude': 30.122999999999998, 'higher_latitude': -13.123000000000001, 'right_longitude': 40.123}\n",
      "Retrieve & download the MODIS image based on (X,Y,Z,K) parameters\n",
      "2109 2220\n",
      "Image PATH:  img/modis_hazard_d2f8cfded4c54c45b995fe190f7e2ff5.png  \n",
      "\n"
     ]
    }
   ],
   "source": [
    " # Calculate square shape from the X,Y of the click\n",
    "print(\"Calculating Square Shape...\")\n",
    "squareShape = calculate_square_shape(-18.123,35.123)\n",
    "print(\"Shape: \", squareShape)\n",
    "\n",
    "# Retrieve & download the MODIS image based on (X,Y,Z,K) parameters\n",
    "print(\"Retrieve & download the MODIS image based on (X,Y,Z,K) parameters\")\n",
    "imagePath = retrieve_modis_image(squareShape['lower_latitude'], squareShape['left_longitude'],\n",
    "    squareShape['higher_latitude'], squareShape['right_longitude'])\n",
    "print(\"Image PATH: \",imagePath,\" \\n\")"
   ]
  },
  {
   "cell_type": "markdown",
   "metadata": {},
   "source": [
    "#### Predict if hurricane \n",
    "- Use existing model on the image downloaded\n",
    "- Decompose the image so that it fits the model input"
   ]
  },
  {
   "cell_type": "code",
   "execution_count": null,
   "metadata": {},
   "outputs": [],
   "source": [
    "train_df.head()"
   ]
  },
  {
   "cell_type": "code",
   "execution_count": null,
   "metadata": {},
   "outputs": [],
   "source": [
    "len(train_df)"
   ]
  },
  {
   "cell_type": "code",
   "execution_count": null,
   "metadata": {},
   "outputs": [],
   "source": [
    "%%time\n",
    "newId = len(train_df)+1\n",
    "\n",
    "train_df= train_df.append({'index': newId, 'path':'img/modis_hazard_3e8429697ddd434bb0ad2ddd3063a9d9.png', 'is_hurricane': False, 'data_split':'predict' }, ignore_index=True)\n",
    "\n",
    "train_df.iloc[-1]\n"
   ]
  },
  {
   "cell_type": "code",
   "execution_count": null,
   "metadata": {},
   "outputs": [],
   "source": [
    "raw_image = Image.open(train_df.iloc[-1]['path'])\n",
    "raw_image"
   ]
  },
  {
   "cell_type": "code",
   "execution_count": null,
   "metadata": {},
   "outputs": [],
   "source": [
    "train_df[train_df['index'] == newId]['path']"
   ]
  },
  {
   "cell_type": "code",
   "execution_count": null,
   "metadata": {},
   "outputs": [],
   "source": [
    "newDF = train_df[train_df['index'] == newId]\n",
    "newDF\n",
    "newDF['color_features'] = newDF['path'].progress_map(color_count_feature)"
   ]
  },
  {
   "cell_type": "code",
   "execution_count": 22,
   "metadata": {},
   "outputs": [
    {
     "name": "stderr",
     "output_type": "stream",
     "text": [
      "C:\\ProgramData\\Anaconda3\\lib\\site-packages\\tqdm\\std.py:668: FutureWarning: The Panel class is removed from pandas. Accessing it from the top-level namespace will also be removed in the next version\n",
      "  from pandas import Panel\n"
     ]
    }
   ],
   "source": [
    "from tqdm import tqdm\n",
    "tqdm.pandas(desc=\"progress-bar\")\n",
    "\n",
    "def decompose_img(imagePath):\n",
    "    mock_df = pd.DataFrame( columns=['index', 'path', 'is_hurricane','color_features','data_split'])\n",
    "\n",
    "    newId = 123\n",
    "    raw_image = Image.open(imagePath)\n",
    "    \n",
    "    mock_df= mock_df.append({'index': newId, 'path':str(imagePath), 'is_hurricane': False, 'data_split':'predict' }, ignore_index=True)\n",
    "\n",
    "    mock_df.iloc[-1]\n",
    "    \n",
    "    newDF = mock_df[mock_df['index'] == newId]\n",
    "    \n",
    "    print(np.array(color_count_feature(imagePath)))\n",
    "#     newDF['color_features'] = np.array(color_count_feature(imagePath))\n",
    "    newDF['color_features'] = newDF['path'].progress_map(color_count_feature)\n",
    "    \n",
    "    return newDF"
   ]
  },
  {
   "cell_type": "code",
   "execution_count": 23,
   "metadata": {},
   "outputs": [],
   "source": [
    "import pickle\n",
    "\n",
    "def predict_is_hurricane(latitudeX, longitudeY, imagePath):\n",
    "    #Load model from saved file\n",
    "    model_filename = \"knn_hurricane.model\"\n",
    "        \n",
    "    loaded_classifiers = pickle.load(open(model_filename, 'rb'))\n",
    "\n",
    "    #Decompose image colour features - RGB\n",
    "    newDF = decompose_img(imagePath)\n",
    "    print(newDF)\n",
    "    predict_x_vec = np.stack(newDF['color_features'], 0)\n",
    "    predicted_probability = loaded_classifiers['rf_pipe'].predict(predict_x_vec)\n",
    "    \n",
    "    #Pass the image as input to the model- get probabilty\n",
    "    print(\"Probability of hurricane:\");\n",
    "    predicted_probability = loaded_classifiers['rf_pipe'].predict(predict_x_vec)\n",
    "    print(predicted_probability);\n",
    "    \n",
    "    #Format Response\n",
    "    response = { \"latitude\": latitudeX, \"longitude\": longitudeY, \"predicted\": [ { \"hazardType\": \"hurricane\", \"probability\": predicted_probability[0] }]}\n",
    "    \n",
    "    return response"
   ]
  },
  {
   "cell_type": "code",
   "execution_count": 24,
   "metadata": {},
   "outputs": [
    {
     "name": "stderr",
     "output_type": "stream",
     "text": [
      "progress-bar: 100%|████████████████████████████████████████████████████████████████████████████████████████████████████████████████████████████████████████████| 1/1 [00:00<00:00, 21.50it/s]"
     ]
    },
    {
     "name": "stdout",
     "output_type": "stream",
     "text": [
      "[13:54:46] WARNING: C:/Users/Administrator/workspace/xgboost-win64_release_1.2.0/src/objective/regression_obj.cu:174: reg:linear is now deprecated in favor of reg:squarederror.\n",
      "img/modis_hazard_3e8429697ddd434bb0ad2ddd3063a9d9.png\n",
      "0    img/modis_hazard_3e8429697ddd434bb0ad2ddd3063a...\n",
      "Name: path, dtype: object\n",
      "[6.57238332e-04 0.00000000e+00 0.00000000e+00 0.00000000e+00\n",
      " 0.00000000e+00 0.00000000e+00 0.00000000e+00 0.00000000e+00\n",
      " 0.00000000e+00 0.00000000e+00 0.00000000e+00 1.45964979e-03\n",
      " 0.00000000e+00 0.00000000e+00 0.00000000e+00 0.00000000e+00\n",
      " 2.21191053e-03 1.03468846e-03 0.00000000e+00 0.00000000e+00\n",
      " 0.00000000e+00 0.00000000e+00 0.00000000e+00 0.00000000e+00\n",
      " 0.00000000e+00 0.00000000e+00 0.00000000e+00 0.00000000e+00\n",
      " 0.00000000e+00 0.00000000e+00 0.00000000e+00 0.00000000e+00\n",
      " 0.00000000e+00 0.00000000e+00 0.00000000e+00 0.00000000e+00\n",
      " 0.00000000e+00 0.00000000e+00 0.00000000e+00 0.00000000e+00\n",
      " 0.00000000e+00 0.00000000e+00 0.00000000e+00 0.00000000e+00\n",
      " 0.00000000e+00 0.00000000e+00 3.92363366e-02 3.69980309e-02\n",
      " 0.00000000e+00 0.00000000e+00 0.00000000e+00 0.00000000e+00\n",
      " 8.08139197e-02 1.52384271e-01 0.00000000e+00 0.00000000e+00\n",
      " 0.00000000e+00 0.00000000e+00 2.63951137e-06 2.63951137e-06\n",
      " 5.80692502e-05 0.00000000e+00 0.00000000e+00 0.00000000e+00\n",
      " 0.00000000e+00 0.00000000e+00 0.00000000e+00 0.00000000e+00\n",
      " 0.00000000e+00 0.00000000e+00 0.00000000e+00 0.00000000e+00\n",
      " 0.00000000e+00 0.00000000e+00 0.00000000e+00 0.00000000e+00\n",
      " 0.00000000e+00 0.00000000e+00 0.00000000e+00 0.00000000e+00\n",
      " 0.00000000e+00 0.00000000e+00 1.36198787e-03 2.13800421e-03\n",
      " 0.00000000e+00 0.00000000e+00 0.00000000e+00 0.00000000e+00\n",
      " 8.66023682e-03 5.89059753e-02 1.79565959e-02 0.00000000e+00\n",
      " 0.00000000e+00 0.00000000e+00 0.00000000e+00 4.05481737e-02\n",
      " 8.59794435e-02 3.58445645e-03 0.00000000e+00 0.00000000e+00\n",
      " 0.00000000e+00 0.00000000e+00 5.22623252e-03 2.73981281e-03\n",
      " 0.00000000e+00 0.00000000e+00 0.00000000e+00 0.00000000e+00\n",
      " 0.00000000e+00 0.00000000e+00 0.00000000e+00 0.00000000e+00\n",
      " 0.00000000e+00 0.00000000e+00 0.00000000e+00 0.00000000e+00\n",
      " 0.00000000e+00 0.00000000e+00 0.00000000e+00 0.00000000e+00\n",
      " 0.00000000e+00 0.00000000e+00 0.00000000e+00 0.00000000e+00\n",
      " 0.00000000e+00 2.63951137e-06 8.71038753e-05 0.00000000e+00\n",
      " 0.00000000e+00 0.00000000e+00 0.00000000e+00 3.88008172e-04\n",
      " 3.46567843e-02 1.03627217e-02 0.00000000e+00 0.00000000e+00\n",
      " 0.00000000e+00 0.00000000e+00 1.68796752e-02 1.35918999e-01\n",
      " 7.61499031e-03 0.00000000e+00 0.00000000e+00 0.00000000e+00\n",
      " 0.00000000e+00 6.54334870e-03 7.68097810e-04 0.00000000e+00\n",
      " 0.00000000e+00 0.00000000e+00 0.00000000e+00 0.00000000e+00\n",
      " 0.00000000e+00 0.00000000e+00 0.00000000e+00 0.00000000e+00\n",
      " 0.00000000e+00 0.00000000e+00 0.00000000e+00 0.00000000e+00\n",
      " 0.00000000e+00 0.00000000e+00 0.00000000e+00 0.00000000e+00\n",
      " 0.00000000e+00 0.00000000e+00 0.00000000e+00 0.00000000e+00\n",
      " 0.00000000e+00 0.00000000e+00 0.00000000e+00 0.00000000e+00\n",
      " 0.00000000e+00 0.00000000e+00 2.37556024e-05 2.03506327e-02\n",
      " 1.22473328e-03 0.00000000e+00 0.00000000e+00 0.00000000e+00\n",
      " 0.00000000e+00 2.33068854e-03 1.01375713e-01 1.25324000e-02\n",
      " 0.00000000e+00 0.00000000e+00 0.00000000e+00 0.00000000e+00\n",
      " 1.13393409e-02 2.26364495e-02 0.00000000e+00 0.00000000e+00\n",
      " 0.00000000e+00 0.00000000e+00 0.00000000e+00 0.00000000e+00\n",
      " 0.00000000e+00 0.00000000e+00 0.00000000e+00 0.00000000e+00\n",
      " 0.00000000e+00 0.00000000e+00 0.00000000e+00 0.00000000e+00\n",
      " 0.00000000e+00 0.00000000e+00 0.00000000e+00 0.00000000e+00\n",
      " 0.00000000e+00 0.00000000e+00 0.00000000e+00 0.00000000e+00\n",
      " 0.00000000e+00 0.00000000e+00 0.00000000e+00 0.00000000e+00\n",
      " 0.00000000e+00 5.27902275e-06 1.33876017e-02 1.89279361e-02\n",
      " 0.00000000e+00 0.00000000e+00 0.00000000e+00 0.00000000e+00\n",
      " 1.53698747e-02 2.53129141e-02 0.00000000e+00 0.00000000e+00\n",
      " 0.00000000e+00 0.00000000e+00 0.00000000e+00 0.00000000e+00\n",
      " 0.00000000e+00 0.00000000e+00 0.00000000e+00 0.00000000e+00\n",
      " 0.00000000e+00 0.00000000e+00 0.00000000e+00 0.00000000e+00\n",
      " 0.00000000e+00 0.00000000e+00 0.00000000e+00 0.00000000e+00\n",
      " 0.00000000e+00 0.00000000e+00 0.00000000e+00 0.00000000e+00\n",
      " 0.00000000e+00 0.00000000e+00 0.00000000e+00 0.00000000e+00\n",
      " 0.00000000e+00 0.00000000e+00 0.00000000e+00]\n",
      "  index                                               path is_hurricane  \\\n",
      "0   123  img/modis_hazard_3e8429697ddd434bb0ad2ddd3063a...        False   \n",
      "\n",
      "                                      color_features data_split  \n",
      "0  [0.0006572383320399728, 0.0, 0.0, 0.0, 0.0, 0....    predict  \n",
      "Probability of hurricane:\n",
      "[0.195]\n"
     ]
    },
    {
     "name": "stderr",
     "output_type": "stream",
     "text": [
      "\n"
     ]
    }
   ],
   "source": [
    "# Test predict function\n",
    "response = predict_is_hurricane(12.32,123.33,'img/modis_hazard_3e8429697ddd434bb0ad2ddd3063a9d9.png')"
   ]
  },
  {
   "cell_type": "code",
   "execution_count": null,
   "metadata": {},
   "outputs": [],
   "source": [
    "response"
   ]
  },
  {
   "cell_type": "code",
   "execution_count": null,
   "metadata": {},
   "outputs": [],
   "source": []
  }
 ],
 "metadata": {
  "kernelspec": {
   "display_name": "Python 3",
   "language": "python",
   "name": "python3"
  },
  "language_info": {
   "codemirror_mode": {
    "name": "ipython",
    "version": 3
   },
   "file_extension": ".py",
   "mimetype": "text/x-python",
   "name": "python",
   "nbconvert_exporter": "python",
   "pygments_lexer": "ipython3",
   "version": "3.8.3"
  }
 },
 "nbformat": 4,
 "nbformat_minor": 2
}
